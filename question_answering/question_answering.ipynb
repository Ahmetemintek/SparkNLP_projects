{
  "nbformat": 4,
  "nbformat_minor": 0,
  "metadata": {
    "colab": {
      "name": "question_answering.ipynb",
      "provenance": [],
      "collapsed_sections": []
    },
    "kernelspec": {
      "name": "python3",
      "display_name": "Python 3"
    },
    "language_info": {
      "name": "python"
    }
  },
  "cells": [
    {
      "cell_type": "markdown",
      "metadata": {
        "id": "Yji8p_q6xy16"
      },
      "source": [
        "#Question Answering with T5"
      ]
    },
    {
      "cell_type": "code",
      "metadata": {
        "id": "_7GM1J4z9c0r",
        "colab": {
          "base_uri": "https://localhost:8080/"
        },
        "outputId": "dc5bbbf1-99df-4cc6-f49c-c8e4e69b3774"
      },
      "source": [
        "! pip install -q pyspark==3.1.2 spark-nlp"
      ],
      "execution_count": 1,
      "outputs": [
        {
          "output_type": "stream",
          "name": "stdout",
          "text": [
            "\u001b[K     |████████████████████████████████| 212.4 MB 72 kB/s \n",
            "\u001b[K     |████████████████████████████████| 130 kB 20.1 MB/s \n",
            "\u001b[K     |████████████████████████████████| 198 kB 57.2 MB/s \n",
            "\u001b[?25h  Building wheel for pyspark (setup.py) ... \u001b[?25l\u001b[?25hdone\n"
          ]
        }
      ]
    },
    {
      "cell_type": "code",
      "metadata": {
        "id": "aiQdM6YMxnnZ"
      },
      "source": [
        "import sparknlp\n",
        "spark= sparknlp.start()"
      ],
      "execution_count": 2,
      "outputs": []
    },
    {
      "cell_type": "code",
      "metadata": {
        "id": "Pe5VjwSzyzUw"
      },
      "source": [
        "from sparknlp.base import *\n",
        "from sparknlp.annotator import *\n",
        "from pyspark.ml import Pipeline\n",
        "import pandas as pd\n",
        "from pyspark.sql.functions import col, when, count, isnan\n",
        "from pyspark.sql import functions as F"
      ],
      "execution_count": 3,
      "outputs": []
    },
    {
      "cell_type": "markdown",
      "metadata": {
        "id": "ge9KePAyz83G"
      },
      "source": [
        "### The model that answers closed book questions."
      ]
    },
    {
      "cell_type": "markdown",
      "metadata": {
        "id": "AQdwtyML0JQJ"
      },
      "source": [
        "Firstly, implementing document assembler and uploading pretrained T5 model."
      ]
    },
    {
      "cell_type": "code",
      "metadata": {
        "colab": {
          "base_uri": "https://localhost:8080/"
        },
        "id": "Pek5zAh0zYc-",
        "outputId": "f97ef379-4378-4bf6-82c9-dfab5052c567"
      },
      "source": [
        "documentAssembler = DocumentAssembler() \\\n",
        "    .setInputCol(\"text\") \\\n",
        "    .setOutputCol(\"document\") \n",
        "\n",
        "t5= T5Transformer.pretrained(name=\"t5_base\", lang=\"en\")\\\n",
        "    .setInputCols(\"document\")\\\n",
        "    .setOutputCol(\"answer\")\\\n",
        "    .setTask(\"question\")"
      ],
      "execution_count": 4,
      "outputs": [
        {
          "output_type": "stream",
          "name": "stdout",
          "text": [
            "t5_base download started this may take some time.\n",
            "Approximate size to download 446 MB\n",
            "[OK!]\n"
          ]
        }
      ]
    },
    {
      "cell_type": "markdown",
      "metadata": {
        "id": "FEhsfmNQ1sPb"
      },
      "source": [
        "Creating pipeline and fit, transform with data"
      ]
    },
    {
      "cell_type": "code",
      "metadata": {
        "id": "ldhDs9SSzdM1"
      },
      "source": [
        "nlp_pipeline= Pipeline(stages=[\n",
        "                               documentAssembler,\n",
        "                               t5\n",
        "])\n",
        "\n",
        "text= [[\"Who is the most famous artist in the world?\"],   #sample questions\n",
        "       [\"What is the capital of Ireland?\"]]\n",
        "\n",
        "df= spark.createDataFrame(text).toDF(\"text\")\n",
        "model= nlp_pipeline.fit(df)\n",
        "result= model.transform(df)"
      ],
      "execution_count": 5,
      "outputs": []
    },
    {
      "cell_type": "markdown",
      "metadata": {
        "id": "xCcbjr636w9D"
      },
      "source": [
        "Displaying the result"
      ]
    },
    {
      "cell_type": "code",
      "metadata": {
        "colab": {
          "base_uri": "https://localhost:8080/"
        },
        "id": "PxdSP0QmzdKR",
        "outputId": "71a118fa-19e2-4d72-b72e-bf18dea3433e"
      },
      "source": [
        "result.select(\"text\", \"answer.result\").show(truncate=False)"
      ],
      "execution_count": 6,
      "outputs": [
        {
          "output_type": "stream",
          "name": "stdout",
          "text": [
            "+-------------------------------------------+-------------+\n",
            "|text                                       |result       |\n",
            "+-------------------------------------------+-------------+\n",
            "|Who is the most famous artist in the world?|[John Lennon]|\n",
            "|What is the capital of Ireland?            |[Dublin]     |\n",
            "+-------------------------------------------+-------------+\n",
            "\n"
          ]
        }
      ]
    },
    {
      "cell_type": "markdown",
      "metadata": {
        "id": "boWK89lV6nhE"
      },
      "source": [
        "### The model that answers open book questions."
      ]
    },
    {
      "cell_type": "markdown",
      "metadata": {
        "id": "2CYCwK7r6gvA"
      },
      "source": [
        "Generating the questions and context data\n"
      ]
    },
    {
      "cell_type": "code",
      "metadata": {
        "id": "EiK9-Yy42LiX"
      },
      "source": [
        "context= '''context: Mark Knopfler is a British singer-songwriter, guitarist, and record producer. \n",
        "            He was born in Glasgow, Scotland, and raised in Blyth, near Newcastle in England, from the age of seven. \n",
        "            He became known as the lead guitarist, singer and songwriter of the rock band Dire Straits. He pursued a solo career after leaving the band in 1987. \n",
        "            Dire Straits reunited in early 1991, but dissolved again in 1995. He is now an independent solo artist.\n",
        "        '''\n",
        "\n",
        "question_1= \"question: Who is Mark Knopfler\"\n",
        "question_2= \"question: When was Mark Knopfler born?\"\n",
        "question_3= \"question: What is the name of Mark Knopfler's rock band?\"\n",
        "question_4= \"question: When did Mark Knopfler leave the band?\"\n",
        "\n",
        "data= [[question_1+ context],\n",
        "       [question_2+ context],\n",
        "       [question_3+ context],\n",
        "       [question_4+ context]]\n",
        "\n",
        "df= spark.createDataFrame(data).toDF(\"text\")\n",
        "      "
      ],
      "execution_count": 28,
      "outputs": []
    },
    {
      "cell_type": "markdown",
      "metadata": {
        "id": "kKE7bEUF87BB"
      },
      "source": [
        "We have prepared our context and questions. Now, it's time to build the model.\n"
      ]
    },
    {
      "cell_type": "code",
      "metadata": {
        "colab": {
          "base_uri": "https://localhost:8080/"
        },
        "id": "-Ce4VrYA2LdL",
        "outputId": "61b6b061-ef51-480a-87fa-45e993f363d5"
      },
      "source": [
        "documentAssembler= DocumentAssembler()\\\n",
        "    .setInputCol(\"text\")\\\n",
        "    .setOutputCol(\"document\")\n",
        "\n",
        "t5= T5Transformer.pretrained(name=\"t5_base\", lang=\"en\")\\\n",
        "    .setInputCols(\"document\")\\\n",
        "    .setOutputCol(\"answer\")\n",
        "\n",
        "pipeline= Pipeline(stages=[ \n",
        "                           documentAssembler,\n",
        "                           t5\n",
        "])\n",
        "\n",
        "model= pipeline.fit(df)\n",
        "result= model.transform(df)"
      ],
      "execution_count": 12,
      "outputs": [
        {
          "output_type": "stream",
          "name": "stdout",
          "text": [
            "t5_base download started this may take some time.\n",
            "Approximate size to download 446 MB\n",
            "[OK!]\n"
          ]
        }
      ]
    },
    {
      "cell_type": "code",
      "metadata": {
        "colab": {
          "base_uri": "https://localhost:8080/"
        },
        "id": "44u9QvHi2La4",
        "outputId": "2bf20ad9-7371-4dad-9567-6a449d1a6190"
      },
      "source": [
        "result.columns"
      ],
      "execution_count": 30,
      "outputs": [
        {
          "output_type": "execute_result",
          "data": {
            "text/plain": [
              "['text', 'document', 'answer']"
            ]
          },
          "metadata": {},
          "execution_count": 30
        }
      ]
    },
    {
      "cell_type": "markdown",
      "metadata": {
        "id": "PwRe0BeF_woS"
      },
      "source": [
        "Inspecting the results"
      ]
    },
    {
      "cell_type": "code",
      "metadata": {
        "colab": {
          "base_uri": "https://localhost:8080/"
        },
        "id": "uw_HTsMe2LYi",
        "outputId": "eac3ad91-d790-410e-b5ef-e78c34f9331e"
      },
      "source": [
        "result.select(\"answer.result\").show(truncate=False)"
      ],
      "execution_count": 31,
      "outputs": [
        {
          "output_type": "stream",
          "name": "stdout",
          "text": [
            "+-------------------------------------------------------------+\n",
            "|result                                                       |\n",
            "+-------------------------------------------------------------+\n",
            "|[a British singer-songwriter, guitarist, and record producer]|\n",
            "|[Glasgow, Scotland]                                          |\n",
            "|[Dire Straits]                                               |\n",
            "|[1987]                                                       |\n",
            "+-------------------------------------------------------------+\n",
            "\n"
          ]
        }
      ]
    },
    {
      "cell_type": "code",
      "metadata": {
        "id": "2RFNiy_y75Zx"
      },
      "source": [
        ""
      ],
      "execution_count": null,
      "outputs": []
    }
  ]
}