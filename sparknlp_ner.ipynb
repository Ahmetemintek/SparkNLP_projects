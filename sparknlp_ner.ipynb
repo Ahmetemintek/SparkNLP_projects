{
  "nbformat": 4,
  "nbformat_minor": 0,
  "metadata": {
    "colab": {
      "name": "sparknlp_ner.ipynb",
      "provenance": []
    },
    "kernelspec": {
      "name": "python3",
      "display_name": "Python 3"
    },
    "language_info": {
      "name": "python"
    }
  },
  "cells": [
    {
      "cell_type": "code",
      "metadata": {
        "colab": {
          "base_uri": "https://localhost:8080/"
        },
        "id": "3pSMifbP0Cra",
        "outputId": "df379b53-86b1-4708-f505-db025d0ba216"
      },
      "source": [
        "!wget https://raw.githubusercontent.com/JohnSnowLabs/spark-nlp-workshop/master/colab_setup.sh -O - | bash"
      ],
      "execution_count": 1,
      "outputs": [
        {
          "output_type": "stream",
          "name": "stdout",
          "text": [
            "--2021-10-06 10:34:15--  https://raw.githubusercontent.com/JohnSnowLabs/spark-nlp-workshop/master/colab_setup.sh\n",
            "Resolving raw.githubusercontent.com (raw.githubusercontent.com)... 185.199.108.133, 185.199.109.133, 185.199.110.133, ...\n",
            "Connecting to raw.githubusercontent.com (raw.githubusercontent.com)|185.199.108.133|:443... connected.\n",
            "HTTP request sent, awaiting response... 200 OK\n",
            "Length: 1608 (1.6K) [text/plain]\n",
            "Saving to: ‘STDOUT’\n",
            "\n",
            "\r-                     0%[                    ]       0  --.-KB/s               \r-                   100%[===================>]   1.57K  --.-KB/s    in 0s      \n",
            "\n",
            "2021-10-06 10:34:15 (36.4 MB/s) - written to stdout [1608/1608]\n",
            "\n",
            "setup Colab for PySpark 3.0.2 and Spark NLP 3.1.0\n",
            "Get:1 http://security.ubuntu.com/ubuntu bionic-security InRelease [88.7 kB]\n",
            "Get:2 https://cloud.r-project.org/bin/linux/ubuntu bionic-cran40/ InRelease [3,626 B]\n",
            "Ign:3 https://developer.download.nvidia.com/compute/cuda/repos/ubuntu1804/x86_64  InRelease\n",
            "Get:4 http://ppa.launchpad.net/c2d4u.team/c2d4u4.0+/ubuntu bionic InRelease [15.9 kB]\n",
            "Hit:5 http://archive.ubuntu.com/ubuntu bionic InRelease\n",
            "Ign:6 https://developer.download.nvidia.com/compute/machine-learning/repos/ubuntu1804/x86_64  InRelease\n",
            "Hit:7 https://developer.download.nvidia.com/compute/cuda/repos/ubuntu1804/x86_64  Release\n",
            "Hit:8 https://developer.download.nvidia.com/compute/machine-learning/repos/ubuntu1804/x86_64  Release\n",
            "Get:9 http://archive.ubuntu.com/ubuntu bionic-updates InRelease [88.7 kB]\n",
            "Hit:10 http://ppa.launchpad.net/cran/libgit2/ubuntu bionic InRelease\n",
            "Get:11 http://security.ubuntu.com/ubuntu bionic-security/universe amd64 Packages [1,430 kB]\n",
            "Get:12 http://archive.ubuntu.com/ubuntu bionic-backports InRelease [74.6 kB]\n",
            "Get:13 http://ppa.launchpad.net/deadsnakes/ppa/ubuntu bionic InRelease [15.9 kB]\n",
            "Get:14 http://security.ubuntu.com/ubuntu bionic-security/main amd64 Packages [2,365 kB]\n",
            "Hit:15 http://ppa.launchpad.net/graphics-drivers/ppa/ubuntu bionic InRelease\n",
            "Get:17 http://ppa.launchpad.net/c2d4u.team/c2d4u4.0+/ubuntu bionic/main Sources [1,802 kB]\n",
            "Get:19 http://archive.ubuntu.com/ubuntu bionic-updates/universe amd64 Packages [2,209 kB]\n",
            "Get:20 http://ppa.launchpad.net/c2d4u.team/c2d4u4.0+/ubuntu bionic/main amd64 Packages [922 kB]\n",
            "Get:21 http://archive.ubuntu.com/ubuntu bionic-updates/main amd64 Packages [2,801 kB]\n",
            "Get:22 http://ppa.launchpad.net/deadsnakes/ppa/ubuntu bionic/main amd64 Packages [40.8 kB]\n",
            "Fetched 11.9 MB in 3s (4,053 kB/s)\n",
            "Reading package lists... Done\n",
            "tar: spark-3.0.2-bin-hadoop2.7.tgz: Cannot open: No such file or directory\n",
            "tar: Error is not recoverable: exiting now\n",
            "\u001b[K     |████████████████████████████████| 204.8 MB 47 kB/s \n",
            "\u001b[K     |████████████████████████████████| 44 kB 1.9 MB/s \n",
            "\u001b[K     |████████████████████████████████| 198 kB 64.9 MB/s \n",
            "\u001b[?25h  Building wheel for pyspark (setup.py) ... \u001b[?25l\u001b[?25hdone\n"
          ]
        }
      ]
    },
    {
      "cell_type": "code",
      "metadata": {
        "id": "kLEkZ4k714Vx"
      },
      "source": [
        "import sparknlp\n",
        "spark= sparknlp.start()"
      ],
      "execution_count": 2,
      "outputs": []
    },
    {
      "cell_type": "code",
      "metadata": {
        "id": "JMfCGNQD2ZSc"
      },
      "source": [
        "from sparknlp.base import *\n",
        "from sparknlp.annotator import *\n",
        "from pyspark.sql import functions as F\n",
        "from pyspark.sql.types import StringType\n",
        "import pandas as pd\n",
        "from pyspark.ml import Pipeline\n",
        "from sparknlp.pretrained import *\n",
        "from sklearn.metrics import classification_report"
      ],
      "execution_count": 3,
      "outputs": []
    },
    {
      "cell_type": "code",
      "metadata": {
        "id": "ai-PAcxHEtuM"
      },
      "source": [
        "from sparknlp.training import CoNLL"
      ],
      "execution_count": 4,
      "outputs": []
    },
    {
      "cell_type": "code",
      "metadata": {
        "id": "kYASar7r2hVB"
      },
      "source": [
        "!wget -q https://raw.githubusercontent.com/JohnSnowLabs/spark-nlp/master/src/test/resources/conll2003/eng.train\n",
        "!wget -q https://raw.githubusercontent.com/JohnSnowLabs/spark-nlp/master/src/test/resources/conll2003/eng.testa"
      ],
      "execution_count": 5,
      "outputs": []
    },
    {
      "cell_type": "code",
      "metadata": {
        "colab": {
          "base_uri": "https://localhost:8080/"
        },
        "id": "m7GP_0VwFcyK",
        "outputId": "deb48a31-8105-432f-bbc6-d4fa8f66e997"
      },
      "source": [
        "with open(\"eng.train\") as f:\n",
        "  train_txt= f.read()\n",
        "\n",
        "print(train_txt[:500])"
      ],
      "execution_count": 6,
      "outputs": [
        {
          "output_type": "stream",
          "name": "stdout",
          "text": [
            "-DOCSTART- -X- -X- O\n",
            "\n",
            "EU NNP B-NP B-ORG\n",
            "rejects VBZ B-VP O\n",
            "German JJ B-NP B-MISC\n",
            "call NN I-NP O\n",
            "to TO B-VP O\n",
            "boycott VB I-VP O\n",
            "British JJ B-NP B-MISC\n",
            "lamb NN I-NP O\n",
            ". . O O\n",
            "\n",
            "Peter NNP B-NP B-PER\n",
            "Blackburn NNP I-NP I-PER\n",
            "\n",
            "BRUSSELS NNP B-NP B-LOC\n",
            "1996-08-22 CD I-NP O\n",
            "\n",
            "The DT B-NP O\n",
            "European NNP I-NP B-ORG\n",
            "Commission NNP I-NP I-ORG\n",
            "said VBD B-VP O\n",
            "on IN B-PP O\n",
            "Thursday NNP B-NP O\n",
            "it PRP B-NP O\n",
            "disagreed VBD B-VP O\n",
            "with IN B-PP O\n",
            "German JJ B-NP B-MISC\n",
            "advice NN I-NP O\n",
            "to TO B-PP O\n",
            "consumers NNS B-NP\n"
          ]
        }
      ]
    },
    {
      "cell_type": "code",
      "metadata": {
        "colab": {
          "base_uri": "https://localhost:8080/"
        },
        "id": "9jHF81XPF-AD",
        "outputId": "3a2f50ce-21f1-49b1-cb4c-bf17ead60075"
      },
      "source": [
        "training_data= CoNLL().readDataset(spark, \"eng.train\")\n",
        "training_data.show(5)"
      ],
      "execution_count": 7,
      "outputs": [
        {
          "output_type": "stream",
          "name": "stdout",
          "text": [
            "+--------------------+--------------------+--------------------+--------------------+--------------------+--------------------+\n",
            "|                text|            document|            sentence|               token|                 pos|               label|\n",
            "+--------------------+--------------------+--------------------+--------------------+--------------------+--------------------+\n",
            "|EU rejects German...|[[document, 0, 47...|[[document, 0, 47...|[[token, 0, 1, EU...|[[pos, 0, 1, NNP,...|[[named_entity, 0...|\n",
            "|     Peter Blackburn|[[document, 0, 14...|[[document, 0, 14...|[[token, 0, 4, Pe...|[[pos, 0, 4, NNP,...|[[named_entity, 0...|\n",
            "| BRUSSELS 1996-08-22|[[document, 0, 18...|[[document, 0, 18...|[[token, 0, 7, BR...|[[pos, 0, 7, NNP,...|[[named_entity, 0...|\n",
            "|The European Comm...|[[document, 0, 18...|[[document, 0, 18...|[[token, 0, 2, Th...|[[pos, 0, 2, DT, ...|[[named_entity, 0...|\n",
            "|Germany 's repres...|[[document, 0, 21...|[[document, 0, 21...|[[token, 0, 6, Ge...|[[pos, 0, 6, NNP,...|[[named_entity, 0...|\n",
            "+--------------------+--------------------+--------------------+--------------------+--------------------+--------------------+\n",
            "only showing top 5 rows\n",
            "\n"
          ]
        }
      ]
    },
    {
      "cell_type": "code",
      "metadata": {
        "colab": {
          "base_uri": "https://localhost:8080/"
        },
        "id": "Aty9AYIL3qjA",
        "outputId": "26007850-611b-481b-f190-47a99792ef55"
      },
      "source": [
        "training_data.select(F.explode(F.arrays_zip(\"token.result\", \"pos.result\", \"label.result\")).alias(\"col\"))\\\n",
        "    .select(F.expr(\"col['0']\").alias(\"token\"),\n",
        "            F.expr(\"col['1']\").alias(\"pos\"),\n",
        "            F.expr(\"col['2']\").alias(\"label\")).show(truncate=False)"
      ],
      "execution_count": 9,
      "outputs": [
        {
          "output_type": "stream",
          "name": "stdout",
          "text": [
            "+----------+---+------+\n",
            "|token     |pos|label |\n",
            "+----------+---+------+\n",
            "|EU        |NNP|B-ORG |\n",
            "|rejects   |VBZ|O     |\n",
            "|German    |JJ |B-MISC|\n",
            "|call      |NN |O     |\n",
            "|to        |TO |O     |\n",
            "|boycott   |VB |O     |\n",
            "|British   |JJ |B-MISC|\n",
            "|lamb      |NN |O     |\n",
            "|.         |.  |O     |\n",
            "|Peter     |NNP|B-PER |\n",
            "|Blackburn |NNP|I-PER |\n",
            "|BRUSSELS  |NNP|B-LOC |\n",
            "|1996-08-22|CD |O     |\n",
            "|The       |DT |O     |\n",
            "|European  |NNP|B-ORG |\n",
            "|Commission|NNP|I-ORG |\n",
            "|said      |VBD|O     |\n",
            "|on        |IN |O     |\n",
            "|Thursday  |NNP|O     |\n",
            "|it        |PRP|O     |\n",
            "+----------+---+------+\n",
            "only showing top 20 rows\n",
            "\n"
          ]
        }
      ]
    },
    {
      "cell_type": "code",
      "metadata": {
        "colab": {
          "base_uri": "https://localhost:8080/"
        },
        "id": "NSAty87e3qgM",
        "outputId": "7ecfcc61-b788-468d-a765-ea11b35a3225"
      },
      "source": [
        "training_data.select(F.explode(F.arrays_zip(\"token.result\", \"label.result\")).alias(\"col\"))\\\n",
        "    .select(F.expr(\"col['0']\").alias(\"token\"),\n",
        "            F.expr(\"col['1']\").alias(\"ground_truth\")).groupBy(\"ground_truth\").count().orderBy(\"count\", ascending=False).show()"
      ],
      "execution_count": 10,
      "outputs": [
        {
          "output_type": "stream",
          "name": "stdout",
          "text": [
            "+------------+------+\n",
            "|ground_truth| count|\n",
            "+------------+------+\n",
            "|           O|169578|\n",
            "|       B-LOC|  7140|\n",
            "|       B-PER|  6600|\n",
            "|       B-ORG|  6321|\n",
            "|       I-PER|  4528|\n",
            "|       I-ORG|  3704|\n",
            "|      B-MISC|  3438|\n",
            "|       I-LOC|  1157|\n",
            "|      I-MISC|  1155|\n",
            "+------------+------+\n",
            "\n"
          ]
        }
      ]
    },
    {
      "cell_type": "code",
      "metadata": {
        "colab": {
          "base_uri": "https://localhost:8080/"
        },
        "id": "7vaPLxCvEeFM",
        "outputId": "814d7e3f-f1c5-4c5a-cb3d-f745ab44a5ce"
      },
      "source": [
        "word_embedding= WordEmbeddingsModel.pretrained(\"glove_100d\")\\\n",
        "    .setInputCols([\"document\", \"token\"])\\\n",
        "    .setOutputCol(\"embedding\")"
      ],
      "execution_count": 11,
      "outputs": [
        {
          "output_type": "stream",
          "name": "stdout",
          "text": [
            "glove_100d download started this may take some time.\n",
            "Approximate size to download 145.3 MB\n",
            "[OK!]\n"
          ]
        }
      ]
    },
    {
      "cell_type": "code",
      "metadata": {
        "id": "Qme7aot1EeCM"
      },
      "source": [
        "!mkdir ner_logs"
      ],
      "execution_count": null,
      "outputs": []
    },
    {
      "cell_type": "code",
      "metadata": {
        "id": "TJ74H-XyEd9_"
      },
      "source": [
        "nerTagger= NerDLApproach()\\\n",
        "    .setInputCols([\"sentence\", \"token\", \"embedding\"])\\\n",
        "    .setLabelColumn(\"label\")\\\n",
        "    .setOutputCol(\"ner\")\\\n",
        "    .setMaxEpochs(1)\\\n",
        "    .setLr(0.003)\\\n",
        "    .setBatchSize(32)\\\n",
        "    .setRandomSeed(0)\\\n",
        "    .setVerbose(1)\\\n",
        "    .setValidationSplit(0.2)\\\n",
        "    .setEvaluationLogExtended(True)\\\n",
        "    .setEnableOutputLogs(True)\\\n",
        "    .setIncludeConfidence(True)\\\n",
        "    .setOutputLogsPath(\"ner_logs\")"
      ],
      "execution_count": 12,
      "outputs": []
    },
    {
      "cell_type": "code",
      "metadata": {
        "id": "64mfOL6JJsFp"
      },
      "source": [
        "ner_pipeline= Pipeline(stages= [word_embedding, nerTagger])"
      ],
      "execution_count": 13,
      "outputs": []
    },
    {
      "cell_type": "code",
      "metadata": {
        "colab": {
          "base_uri": "https://localhost:8080/"
        },
        "id": "rho5TZ-pJ3Lx",
        "outputId": "10d6603c-5823-474e-a970-450455003136"
      },
      "source": [
        "%%time\n",
        "ner_model= ner_pipeline.fit(training_data)"
      ],
      "execution_count": 14,
      "outputs": [
        {
          "output_type": "stream",
          "name": "stdout",
          "text": [
            "CPU times: user 871 ms, sys: 92.9 ms, total: 963 ms\n",
            "Wall time: 2min 55s\n"
          ]
        }
      ]
    },
    {
      "cell_type": "code",
      "metadata": {
        "colab": {
          "base_uri": "https://localhost:8080/"
        },
        "id": "2RHeybsEJ3Ib",
        "outputId": "e4c2e378-de95-4329-b4eb-a5db696d6ae7"
      },
      "source": [
        "!cd ner_logs && ls -lt"
      ],
      "execution_count": 15,
      "outputs": [
        {
          "output_type": "stream",
          "name": "stdout",
          "text": [
            "total 4\n",
            "-rw-r--r-- 1 root root 1013 Oct  6 10:53 NerDLApproach_10c69d44b964.log\n"
          ]
        }
      ]
    },
    {
      "cell_type": "code",
      "metadata": {
        "colab": {
          "base_uri": "https://localhost:8080/"
        },
        "id": "brZEkeqhJ3FR",
        "outputId": "827276b7-50b7-405d-ab91-756bc22186ea"
      },
      "source": [
        "!head -n 45 ner_logs/NerDLApproach_10c69d44b964.log"
      ],
      "execution_count": 17,
      "outputs": [
        {
          "output_type": "stream",
          "name": "stdout",
          "text": [
            "Name of the selected graph: ner-dl/blstm_10_100_128_120.pb\n",
            "Training started - total epochs: 1 - lr: 0.003 - batch size: 32 - labels: 9 - chars: 84 - training examples: 11223\n",
            "\n",
            "\n",
            "Epoch 1/1 started, lr: 0.003, dataset size: 11223\n",
            "\n",
            "\n",
            "Epoch 1/1 - 117.64s - loss: 1145.4164 - batches: 353\n",
            "Quality on validation dataset (20.0%), validation examples = 2244\n",
            "time to finish evaluation: 12.69s\n",
            "label\t tp\t fp\t fn\t prec\t rec\t f1\n",
            "B-LOC\t 1358\t 105\t 129\t 0.9282297\t 0.9132481\t 0.9206779\n",
            "I-ORG\t 605\t 106\t 173\t 0.8509142\t 0.777635\t 0.81262594\n",
            "I-MISC\t 133\t 25\t 114\t 0.84177214\t 0.53846157\t 0.65679014\n",
            "I-LOC\t 202\t 52\t 38\t 0.79527557\t 0.84166664\t 0.8178138\n",
            "I-PER\t 890\t 70\t 10\t 0.9270833\t 0.98888886\t 0.9569892\n",
            "B-MISC\t 554\t 96\t 131\t 0.8523077\t 0.80875915\t 0.82996255\n",
            "B-ORG\t 1126\t 215\t 155\t 0.8396719\t 0.8790008\t 0.85888636\n",
            "B-PER\t 1263\t 107\t 63\t 0.9218978\t 0.95248866\t 0.9369436\n",
            "tp: 6131 fp: 776 fn: 813 labels: 8\n",
            "Macro-average\t prec: 0.8696441, rec: 0.8375186, f1: 0.85327905\n",
            "Micro-average\t prec: 0.8876502, rec: 0.8829205, f1: 0.885279\n"
          ]
        }
      ]
    },
    {
      "cell_type": "code",
      "metadata": {
        "colab": {
          "base_uri": "https://localhost:8080/"
        },
        "id": "f0SfcafPL5UA",
        "outputId": "02135f27-32f4-42c2-80c0-c48bd5e88a3c"
      },
      "source": [
        "test_data= CoNLL().readDataset(spark, \"eng.testa\")\n",
        "test_data.show(5)"
      ],
      "execution_count": 18,
      "outputs": [
        {
          "output_type": "stream",
          "name": "stdout",
          "text": [
            "+--------------------+--------------------+--------------------+--------------------+--------------------+--------------------+\n",
            "|                text|            document|            sentence|               token|                 pos|               label|\n",
            "+--------------------+--------------------+--------------------+--------------------+--------------------+--------------------+\n",
            "|CRICKET - LEICEST...|[[document, 0, 64...|[[document, 0, 64...|[[token, 0, 6, CR...|[[pos, 0, 6, NNP,...|[[named_entity, 0...|\n",
            "|   LONDON 1996-08-30|[[document, 0, 16...|[[document, 0, 16...|[[token, 0, 5, LO...|[[pos, 0, 5, NNP,...|[[named_entity, 0...|\n",
            "|West Indian all-r...|[[document, 0, 18...|[[document, 0, 18...|[[token, 0, 3, We...|[[pos, 0, 3, NNP,...|[[named_entity, 0...|\n",
            "|Their stay on top...|[[document, 0, 20...|[[document, 0, 20...|[[token, 0, 4, Th...|[[pos, 0, 4, PRP$...|[[named_entity, 0...|\n",
            "|After bowling Som...|[[document, 0, 21...|[[document, 0, 21...|[[token, 0, 4, Af...|[[pos, 0, 4, IN, ...|[[named_entity, 0...|\n",
            "+--------------------+--------------------+--------------------+--------------------+--------------------+--------------------+\n",
            "only showing top 5 rows\n",
            "\n"
          ]
        }
      ]
    },
    {
      "cell_type": "code",
      "metadata": {
        "colab": {
          "base_uri": "https://localhost:8080/"
        },
        "id": "0ieVtBWeOJ-K",
        "outputId": "d7180a01-095e-4283-d10a-42671667753b"
      },
      "source": [
        "test_data.select(F.explode(F.arrays_zip(\"token.result\", \"label.result\")).alias(\"col\"))\\\n",
        "    .select(F.expr(\"col['0']\").alias(\"token\"),\n",
        "            F.expr(\"col['1']\").alias(\"ground_truth\")).groupBy(\"ground_truth\").count().orderBy(\"count\", ascending=False).show()"
      ],
      "execution_count": 19,
      "outputs": [
        {
          "output_type": "stream",
          "name": "stdout",
          "text": [
            "+------------+-----+\n",
            "|ground_truth|count|\n",
            "+------------+-----+\n",
            "|           O|42759|\n",
            "|       B-PER| 1842|\n",
            "|       B-LOC| 1837|\n",
            "|       B-ORG| 1341|\n",
            "|       I-PER| 1307|\n",
            "|      B-MISC|  922|\n",
            "|       I-ORG|  751|\n",
            "|      I-MISC|  346|\n",
            "|       I-LOC|  257|\n",
            "+------------+-----+\n",
            "\n"
          ]
        }
      ]
    },
    {
      "cell_type": "code",
      "metadata": {
        "colab": {
          "base_uri": "https://localhost:8080/"
        },
        "id": "LIfzUfzKOuNL",
        "outputId": "0ca7ecc9-0625-4428-e617-c0d1e0587d15"
      },
      "source": [
        "predictions= ner_model.transform(test_data)\n",
        "predictions.show(3)"
      ],
      "execution_count": 21,
      "outputs": [
        {
          "output_type": "stream",
          "name": "stdout",
          "text": [
            "+--------------------+--------------------+--------------------+--------------------+--------------------+--------------------+--------------------+--------------------+\n",
            "|                text|            document|            sentence|               token|                 pos|               label|           embedding|                 ner|\n",
            "+--------------------+--------------------+--------------------+--------------------+--------------------+--------------------+--------------------+--------------------+\n",
            "|CRICKET - LEICEST...|[[document, 0, 64...|[[document, 0, 64...|[[token, 0, 6, CR...|[[pos, 0, 6, NNP,...|[[named_entity, 0...|[[word_embeddings...|[[named_entity, 0...|\n",
            "|   LONDON 1996-08-30|[[document, 0, 16...|[[document, 0, 16...|[[token, 0, 5, LO...|[[pos, 0, 5, NNP,...|[[named_entity, 0...|[[word_embeddings...|[[named_entity, 0...|\n",
            "|West Indian all-r...|[[document, 0, 18...|[[document, 0, 18...|[[token, 0, 3, We...|[[pos, 0, 3, NNP,...|[[named_entity, 0...|[[word_embeddings...|[[named_entity, 0...|\n",
            "+--------------------+--------------------+--------------------+--------------------+--------------------+--------------------+--------------------+--------------------+\n",
            "only showing top 3 rows\n",
            "\n"
          ]
        }
      ]
    },
    {
      "cell_type": "code",
      "metadata": {
        "colab": {
          "base_uri": "https://localhost:8080/"
        },
        "id": "C7Lt0XfzO42f",
        "outputId": "086cbb56-2915-41e8-f52c-7318bbb0a7c6"
      },
      "source": [
        "predictions.select(F.explode(F.arrays_zip(\"token.result\", \"label.result\", \"ner.result\")).alias(\"col\"))\\\n",
        "    .select(F.expr(\"col['0']\").alias(\"token\"),\n",
        "            F.expr(\"col['1']\").alias(\"ground_truth\"),\n",
        "            F.expr(\"col['2']\").alias(\"ner_label\")).show(truncate=False)"
      ],
      "execution_count": 22,
      "outputs": [
        {
          "output_type": "stream",
          "name": "stdout",
          "text": [
            "+--------------+------------+---------+\n",
            "|token         |ground_truth|ner_label|\n",
            "+--------------+------------+---------+\n",
            "|CRICKET       |O           |O        |\n",
            "|-             |O           |O        |\n",
            "|LEICESTERSHIRE|B-ORG       |B-ORG    |\n",
            "|TAKE          |O           |O        |\n",
            "|OVER          |O           |O        |\n",
            "|AT            |O           |O        |\n",
            "|TOP           |O           |O        |\n",
            "|AFTER         |O           |O        |\n",
            "|INNINGS       |O           |O        |\n",
            "|VICTORY       |O           |O        |\n",
            "|.             |O           |O        |\n",
            "|LONDON        |B-LOC       |B-LOC    |\n",
            "|1996-08-30    |O           |O        |\n",
            "|West          |B-MISC      |B-MISC   |\n",
            "|Indian        |I-MISC      |I-MISC   |\n",
            "|all-rounder   |O           |O        |\n",
            "|Phil          |B-PER       |B-PER    |\n",
            "|Simmons       |I-PER       |I-PER    |\n",
            "|took          |O           |O        |\n",
            "|four          |O           |O        |\n",
            "+--------------+------------+---------+\n",
            "only showing top 20 rows\n",
            "\n"
          ]
        }
      ]
    },
    {
      "cell_type": "code",
      "metadata": {
        "id": "6pMHd44NO4yI"
      },
      "source": [
        "from sklearn.metrics import classification_report"
      ],
      "execution_count": 23,
      "outputs": []
    },
    {
      "cell_type": "code",
      "metadata": {
        "id": "jJF7YNL3O4uT"
      },
      "source": [
        "pred_df= predictions.select(F.explode(F.arrays_zip(\"token.result\", \"label.result\", \"ner.result\")).alias(\"col\"))\\\n",
        "    .select(F.expr(\"col['0']\").alias(\"token\"),\n",
        "            F.expr(\"col['1']\").alias(\"ground_truth\"),\n",
        "            F.expr(\"col['2']\").alias(\"prediction\")).toPandas()"
      ],
      "execution_count": null,
      "outputs": []
    },
    {
      "cell_type": "code",
      "metadata": {
        "colab": {
          "base_uri": "https://localhost:8080/"
        },
        "id": "15IhEzcyQHXL",
        "outputId": "a9ac8f22-86f7-4bca-95bd-796ae0e0b3ec"
      },
      "source": [
        "print(classification_report(pred_df[\"ground_truth\"], pred_df[\"prediction\"]))"
      ],
      "execution_count": null,
      "outputs": [
        {
          "output_type": "stream",
          "name": "stdout",
          "text": [
            "              precision    recall  f1-score   support\n",
            "\n",
            "       B-LOC       0.91      0.92      0.91      1837\n",
            "      B-MISC       0.93      0.79      0.85       922\n",
            "       B-ORG       0.82      0.87      0.85      1341\n",
            "       B-PER       0.94      0.96      0.95      1842\n",
            "       I-LOC       0.85      0.72      0.78       257\n",
            "      I-MISC       0.82      0.57      0.67       346\n",
            "       I-ORG       0.78      0.77      0.77       751\n",
            "       I-PER       0.97      0.96      0.97      1307\n",
            "           O       0.99      1.00      0.99     42759\n",
            "\n",
            "    accuracy                           0.98     51362\n",
            "   macro avg       0.89      0.84      0.86     51362\n",
            "weighted avg       0.98      0.98      0.98     51362\n",
            "\n"
          ]
        }
      ]
    },
    {
      "cell_type": "code",
      "metadata": {
        "id": "2u5g7u_JQHSl"
      },
      "source": [
        "!wget -q https://raw.githubusercontent.com/JohnSnowLabs/spark-nlp-workshop/master/tutorials/Certification_Trainings/Public/utils/ner_log_parser.py"
      ],
      "execution_count": 24,
      "outputs": []
    },
    {
      "cell_type": "code",
      "metadata": {
        "id": "if5qK7-8QHOI"
      },
      "source": [
        "import ner_log_parser"
      ],
      "execution_count": 25,
      "outputs": []
    },
    {
      "cell_type": "code",
      "metadata": {
        "id": "l68jrhnOTGqj"
      },
      "source": [
        "import matplotlib.pyplot as plt"
      ],
      "execution_count": 26,
      "outputs": []
    },
    {
      "cell_type": "code",
      "metadata": {
        "id": "we1zY1s_QHJz"
      },
      "source": [
        "%matplotlib inline"
      ],
      "execution_count": null,
      "outputs": []
    },
    {
      "cell_type": "code",
      "metadata": {
        "colab": {
          "base_uri": "https://localhost:8080/",
          "height": 1000
        },
        "id": "qsWSnIRaSxCO",
        "outputId": "0d0e8a33-9ad3-4b96-9128-cd4f6167306a"
      },
      "source": [
        "ner_log_parser.get_charts(\"/content/ner_logs/NerDLApproach_c308e0c0f8f0.log\")"
      ],
      "execution_count": null,
      "outputs": [
        {
          "output_type": "display_data",
          "data": {
            "image/png": "[encoded data removed]",
            "text/plain": [
              "<Figure size 1440x1440 with 6 Axes>"
            ]
          },
          "metadata": {
            "needs_background": "light"
          }
        },
        {
          "output_type": "display_data",
          "data": {
            "image/png": "[encoded data removed]",
            "text/plain": [
              "<Figure size 1440x1440 with 6 Axes>"
            ]
          },
          "metadata": {
            "needs_background": "light"
          }
        }
      ]
    },
    {
      "cell_type": "markdown",
      "metadata": {
        "id": "5SiD2sb3Uk7a"
      },
      "source": [
        "## Saving the model"
      ]
    },
    {
      "cell_type": "code",
      "metadata": {
        "colab": {
          "base_uri": "https://localhost:8080/"
        },
        "id": "6p3tPDQ-TCKM",
        "outputId": "45d82104-5d9e-481f-faed-63c375e37bc7"
      },
      "source": [
        "ner_model.stages"
      ],
      "execution_count": 28,
      "outputs": [
        {
          "output_type": "execute_result",
          "data": {
            "text/plain": [
              "[WORD_EMBEDDINGS_MODEL_48cffc8b9a76, NerDLModel_bbfd9ac373b2]"
            ]
          },
          "metadata": {},
          "execution_count": 28
        }
      ]
    },
    {
      "cell_type": "code",
      "metadata": {
        "id": "4JXwz6XBUiEm"
      },
      "source": [
        "ner_model.stages[1].write().overwrite().save(\"Ner_with_glove\")"
      ],
      "execution_count": 29,
      "outputs": []
    },
    {
      "cell_type": "code",
      "metadata": {
        "colab": {
          "base_uri": "https://localhost:8080/"
        },
        "id": "cUrn-t1bUh_U",
        "outputId": "2c1b5672-966a-48c0-fd68-42eda736869e"
      },
      "source": [
        "!ls -lt"
      ],
      "execution_count": 30,
      "outputs": [
        {
          "output_type": "stream",
          "name": "stdout",
          "text": [
            "total 4040\n",
            "drwxr-xr-x 4 root root    4096 Oct  6 11:03 Ner_with_glove\n",
            "drwxr-xr-x 2 root root    4096 Oct  6 11:01 __pycache__\n",
            "-rw-r--r-- 1 root root    3826 Oct  6 11:01 ner_log_parser.py\n",
            "drwxr-xr-x 2 root root    4096 Oct  6 10:51 ner_logs\n",
            "-rw-r--r-- 1 root root  827443 Oct  6 10:38 eng.testa\n",
            "-rw-r--r-- 1 root root 3283420 Oct  6 10:38 eng.train\n",
            "drwxr-xr-x 1 root root    4096 Sep 30 17:12 sample_data\n"
          ]
        }
      ]
    },
    {
      "cell_type": "markdown",
      "metadata": {
        "id": "wdgkdHUKY_VL"
      },
      "source": [
        "## Prediction Pipeline"
      ]
    },
    {
      "cell_type": "code",
      "metadata": {
        "id": "h3xviHAkUh6D",
        "colab": {
          "base_uri": "https://localhost:8080/"
        },
        "outputId": "e8e2d6e5-56a4-4864-b7f6-173c698b0de3"
      },
      "source": [
        "documentAssembler= DocumentAssembler()\\\n",
        "    .setInputCol(\"text\")\\\n",
        "    .setOutputCol(\"document\")\n",
        "\n",
        "sentence= SentenceDetector()\\\n",
        "    .setInputCols([\"document\"])\\\n",
        "    .setOutputCol(\"sentence\")\n",
        "\n",
        "token= Tokenizer()\\\n",
        "    .setInputCols([\"document\"])\\\n",
        "    .setOutputCol(\"token\")\n",
        "\n",
        "word_embedding= WordEmbeddingsModel.pretrained(\"glove_100d\")\\\n",
        "    .setInputCols([\"document\", \"token\"])\\\n",
        "    .setOutputCol(\"embeddings\")\n",
        "\n",
        "loaded_ner_model= NerDLModel.load(\"/content/Ner_with_glove\")\\\n",
        "    .setInputCols([\"sentence\", \"token\", \"embeddings\"])\\\n",
        "    .setOutputCol(\"ner\")\n",
        "\n",
        "ner_converter= NerConverter()\\\n",
        "    .setInputCols([\"document\", \"token\", \"ner\"])\\\n",
        "    .setOutputCol(\"ner_chunk\")\n",
        "\n",
        "pipeline= Pipeline(stages=[ \n",
        "                           documentAssembler,\n",
        "                           sentence,\n",
        "                           token,\n",
        "                           word_embedding,\n",
        "                           loaded_ner_model,\n",
        "                           ner_converter\n",
        "])\n",
        "\n",
        "empty_df= spark.createDataFrame([[\" \"]]).toDF(\"text\")\n",
        "model= pipeline.fit(empty_df)"
      ],
      "execution_count": 40,
      "outputs": [
        {
          "output_type": "stream",
          "name": "stdout",
          "text": [
            "glove_100d download started this may take some time.\n",
            "Approximate size to download 145.3 MB\n",
            "[OK!]\n"
          ]
        }
      ]
    },
    {
      "cell_type": "code",
      "metadata": {
        "id": "Sv1rvegaUhzD",
        "colab": {
          "base_uri": "https://localhost:8080/"
        },
        "outputId": "fbd81aec-e230-4a1e-ef42-ac1e5ed35ee8"
      },
      "source": [
        "text= \"If I would have chance to go to NY, i would go to Pink Floyd concert in Madison Square Garden. \"\n",
        "spark_df= spark.createDataFrame([[text]]).toDF(\"text\")\n",
        "spark_df.show()"
      ],
      "execution_count": 50,
      "outputs": [
        {
          "output_type": "stream",
          "name": "stdout",
          "text": [
            "+--------------------+\n",
            "|                text|\n",
            "+--------------------+\n",
            "|If I would have c...|\n",
            "+--------------------+\n",
            "\n"
          ]
        }
      ]
    },
    {
      "cell_type": "code",
      "metadata": {
        "id": "JQiTBcB2Trwt"
      },
      "source": [
        "predictions= model.transform(spark_df)"
      ],
      "execution_count": 51,
      "outputs": []
    },
    {
      "cell_type": "code",
      "metadata": {
        "colab": {
          "base_uri": "https://localhost:8080/"
        },
        "id": "d-xFstFmTrrX",
        "outputId": "d66835ba-ab04-4a39-c3b6-18b47512128f"
      },
      "source": [
        "predictions.show()"
      ],
      "execution_count": 52,
      "outputs": [
        {
          "output_type": "stream",
          "name": "stdout",
          "text": [
            "+--------------------+--------------------+--------------------+--------------------+--------------------+--------------------+--------------------+\n",
            "|                text|            document|            sentence|               token|          embeddings|                 ner|           ner_chunk|\n",
            "+--------------------+--------------------+--------------------+--------------------+--------------------+--------------------+--------------------+\n",
            "|If I would have c...|[[document, 0, 94...|[[document, 0, 93...|[[token, 0, 1, If...|[[word_embeddings...|[[named_entity, 0...|[[chunk, 32, 33, ...|\n",
            "+--------------------+--------------------+--------------------+--------------------+--------------------+--------------------+--------------------+\n",
            "\n"
          ]
        }
      ]
    },
    {
      "cell_type": "code",
      "metadata": {
        "colab": {
          "base_uri": "https://localhost:8080/",
          "height": 232
        },
        "id": "0EOvdKGHTrmk",
        "outputId": "27f40906-9533-4e54-8318-4a7057b9aa56"
      },
      "source": [
        "predictions.select(F.explode(F.arrays_zip(\"ner_chunk.result\", \"ner_chunk.metadata\")).alias(\"entities\"))\\\n",
        "    .select(F.expr(\"entities['0']\").alias(\"ner_chunk\"),\n",
        "            F.expr(\"entities['1'].entity\").alias(\"ner_label\")).show(truncate=False)"
      ],
      "execution_count": 1,
      "outputs": [
        {
          "output_type": "error",
          "ename": "NameError",
          "evalue": "ignored",
          "traceback": [
            "\u001b[0;31m---------------------------------------------------------------------------\u001b[0m",
            "\u001b[0;31mNameError\u001b[0m                                 Traceback (most recent call last)",
            "\u001b[0;32m<ipython-input-1-818b6042b986>\u001b[0m in \u001b[0;36m<module>\u001b[0;34m()\u001b[0m\n\u001b[0;32m----> 1\u001b[0;31m predictions.select(F.explode(F.arrays_zip(\"ner_chunk.result\", \"ner_chunk.metadata\")).alias(\"entities\"))    .select(F.expr(\"entities['0']\").alias(\"ner_chunk\"),\n\u001b[0m\u001b[1;32m      2\u001b[0m             F.expr(\"entities['1'].entity\").alias(\"ner_label\")).show(truncate=False)\n",
            "\u001b[0;31mNameError\u001b[0m: name 'predictions' is not defined"
          ]
        }
      ]
    },
    {
      "cell_type": "code",
      "metadata": {
        "id": "AWp07M5DVXnV"
      },
      "source": [
        ""
      ],
      "execution_count": null,
      "outputs": []
    },
    {
      "cell_type": "code",
      "metadata": {
        "id": "PqBOo5nhVXh3"
      },
      "source": [
        ""
      ],
      "execution_count": null,
      "outputs": []
    },
    {
      "cell_type": "code",
      "metadata": {
        "id": "cGoEzeFzVXcP"
      },
      "source": [
        ""
      ],
      "execution_count": null,
      "outputs": []
    }
  ]
}