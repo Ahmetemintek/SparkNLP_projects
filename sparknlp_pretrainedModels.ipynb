{
  "nbformat": 4,
  "nbformat_minor": 0,
  "metadata": {
    "colab": {
      "name": "sparknlp_pretrainedModels.ipynb",
      "provenance": [],
      "collapsed_sections": []
    },
    "kernelspec": {
      "name": "python3",
      "display_name": "Python 3"
    },
    "language_info": {
      "name": "python"
    }
  },
  "cells": [
    {
      "cell_type": "code",
      "metadata": {
        "colab": {
          "base_uri": "https://localhost:8080/"
        },
        "id": "nS2Jf899_muF",
        "outputId": "53910634-35a4-47b7-9eb8-1ddc3d872e7a"
      },
      "source": [
        "!wget https://raw.githubusercontent.com/JohnSnowLabs/spark-nlp-workshop/master/colab_setup.sh -O - | bash"
      ],
      "execution_count": null,
      "outputs": [
        {
          "output_type": "stream",
          "name": "stdout",
          "text": [
            "--2021-10-02 15:12:58--  https://raw.githubusercontent.com/JohnSnowLabs/spark-nlp-workshop/master/colab_setup.sh\n",
            "Resolving raw.githubusercontent.com (raw.githubusercontent.com)... 185.199.110.133, 185.199.111.133, 185.199.108.133, ...\n",
            "Connecting to raw.githubusercontent.com (raw.githubusercontent.com)|185.199.110.133|:443... connected.\n",
            "HTTP request sent, awaiting response... 200 OK\n",
            "Length: 1608 (1.6K) [text/plain]\n",
            "Saving to: ‘STDOUT’\n",
            "\n",
            "\r-                     0%[                    ]       0  --.-KB/s               \r-                   100%[===================>]   1.57K  --.-KB/s    in 0s      \n",
            "\n",
            "2021-10-02 15:12:58 (25.7 MB/s) - written to stdout [1608/1608]\n",
            "\n",
            "setup Colab for PySpark 3.0.2 and Spark NLP 3.1.0\n",
            "Ign:1 https://developer.download.nvidia.com/compute/cuda/repos/ubuntu1804/x86_64  InRelease\n",
            "Get:2 https://cloud.r-project.org/bin/linux/ubuntu bionic-cran40/ InRelease [3,626 B]\n",
            "Ign:3 https://developer.download.nvidia.com/compute/machine-learning/repos/ubuntu1804/x86_64  InRelease\n",
            "Hit:4 https://developer.download.nvidia.com/compute/cuda/repos/ubuntu1804/x86_64  Release\n",
            "Hit:5 https://developer.download.nvidia.com/compute/machine-learning/repos/ubuntu1804/x86_64  Release\n",
            "Get:6 http://security.ubuntu.com/ubuntu bionic-security InRelease [88.7 kB]\n",
            "Hit:7 http://archive.ubuntu.com/ubuntu bionic InRelease\n",
            "Hit:8 http://ppa.launchpad.net/c2d4u.team/c2d4u4.0+/ubuntu bionic InRelease\n",
            "Get:9 http://archive.ubuntu.com/ubuntu bionic-updates InRelease [88.7 kB]\n",
            "Hit:10 http://ppa.launchpad.net/cran/libgit2/ubuntu bionic InRelease\n",
            "Hit:12 http://ppa.launchpad.net/deadsnakes/ppa/ubuntu bionic InRelease\n",
            "Get:13 http://archive.ubuntu.com/ubuntu bionic-backports InRelease [74.6 kB]\n",
            "Hit:15 http://ppa.launchpad.net/graphics-drivers/ppa/ubuntu bionic InRelease\n",
            "Get:16 http://security.ubuntu.com/ubuntu bionic-security/universe amd64 Packages [1,430 kB]\n",
            "Get:17 http://archive.ubuntu.com/ubuntu bionic-updates/main amd64 Packages [2,800 kB]\n",
            "Get:18 http://archive.ubuntu.com/ubuntu bionic-updates/universe amd64 Packages [2,208 kB]\n",
            "Fetched 6,695 kB in 4s (1,691 kB/s)\n",
            "Reading package lists... Done\n",
            "tar: spark-3.0.2-bin-hadoop2.7.tgz: Cannot open: No such file or directory\n",
            "tar: Error is not recoverable: exiting now\n",
            "\u001b[K     |████████████████████████████████| 204.8 MB 53 kB/s \n",
            "\u001b[K     |████████████████████████████████| 44 kB 1.6 MB/s \n",
            "\u001b[K     |████████████████████████████████| 198 kB 65.9 MB/s \n",
            "\u001b[?25h  Building wheel for pyspark (setup.py) ... \u001b[?25l\u001b[?25hdone\n"
          ]
        }
      ]
    },
    {
      "cell_type": "code",
      "metadata": {
        "id": "2r9waskm_5ln"
      },
      "source": [
        "import sparknlp\n",
        "spark= sparknlp.start()"
      ],
      "execution_count": null,
      "outputs": []
    },
    {
      "cell_type": "code",
      "metadata": {
        "id": "Wa0Gk9UJAZAJ"
      },
      "source": [
        "from sparknlp.base import *\n",
        "from sparknlp.annotator import *\n",
        "from pyspark.sql import functions as F\n",
        "import pandas as pd\n",
        "from pyspark.ml import Pipeline\n",
        "from pyspark.sql.types import StringType"
      ],
      "execution_count": null,
      "outputs": []
    },
    {
      "cell_type": "code",
      "metadata": {
        "id": "4F5n2mpgAY9q"
      },
      "source": [
        "!wget -q -O news_category_test.csv https://s3.amazonaws.com/auxdata.johnsnowlabs.com/public/resources/en/classifier-dl/news_Category/news_category_test.csv"
      ],
      "execution_count": null,
      "outputs": []
    },
    {
      "cell_type": "code",
      "metadata": {
        "colab": {
          "base_uri": "https://localhost:8080/"
        },
        "id": "cj23Ob90AY63",
        "outputId": "7e01fd0b-1394-4864-b5bb-6042e20801ad"
      },
      "source": [
        "news_df= spark.read\\\n",
        "    .option(\"header\", True)\\\n",
        "    .csv(\"/content/news_category_test.csv\")\\\n",
        "    .withColumnRenamed(\"description\", \"text\")\n",
        "\n",
        "news_df.show(truncate=40)"
      ],
      "execution_count": null,
      "outputs": [
        {
          "output_type": "stream",
          "name": "stdout",
          "text": [
            "+--------+----------------------------------------+\n",
            "|category|                                    text|\n",
            "+--------+----------------------------------------+\n",
            "|Business|Unions representing workers at Turner...|\n",
            "|Sci/Tech| TORONTO, Canada    A second team of ...|\n",
            "|Sci/Tech| A company founded by a chemistry res...|\n",
            "|Sci/Tech| It's barely dawn when Mike Fitzpatri...|\n",
            "|Sci/Tech| Southern California's smog fighting ...|\n",
            "|Sci/Tech|\"The British Department for Education...|\n",
            "|Sci/Tech|\"confessed author of the Netsky and S...|\n",
            "|Sci/Tech|\\\\FOAF/LOAF  and bloom filters have a...|\n",
            "|Sci/Tech|\"Wiltshire Police warns about \"\"phish...|\n",
            "|Sci/Tech|In its first two years, the UK's dedi...|\n",
            "|Sci/Tech| A group of technology companies  inc...|\n",
            "|Sci/Tech| Apple Computer Inc.&lt;AAPL.O&gt; on...|\n",
            "|Sci/Tech| Free Record Shop, a Dutch music  ret...|\n",
            "|Sci/Tech|A giant 100km colony of ants  which h...|\n",
            "|Sci/Tech|            \"Dolphin groups, or \"\"pods\"\"|\n",
            "|Sci/Tech|Tyrannosaurus rex achieved its massiv...|\n",
            "|Sci/Tech|  Scientists have discovered irregula...|\n",
            "|Sci/Tech|  ESAs Mars Express has relayed pictu...|\n",
            "|Sci/Tech|When did life begin? One evidential c...|\n",
            "|Sci/Tech|update Earnings per share rise compar...|\n",
            "+--------+----------------------------------------+\n",
            "only showing top 20 rows\n",
            "\n"
          ]
        }
      ]
    },
    {
      "cell_type": "code",
      "metadata": {
        "colab": {
          "base_uri": "https://localhost:8080/"
        },
        "id": "DUWkUynzBkBh",
        "outputId": "2d7c5d54-33d9-4382-c5ed-27207a197467"
      },
      "source": [
        "lemmatizer= LemmatizerModel.pretrained(\"lemma_antbnc\",\"en\") \\\n",
        "      .setInputCols([\"token\"])\\\n",
        "      .setOutputCol(\"lemma\")"
      ],
      "execution_count": null,
      "outputs": [
        {
          "output_type": "stream",
          "name": "stdout",
          "text": [
            "lemma_antbnc download started this may take some time.\n",
            "Approximate size to download 907.6 KB\n",
            "[OK!]\n"
          ]
        }
      ]
    },
    {
      "cell_type": "code",
      "metadata": {
        "colab": {
          "base_uri": "https://localhost:8080/"
        },
        "id": "nCfNjbeKBzDC",
        "outputId": "4c639bfe-c5f7-481f-a32f-c472fc80cc53"
      },
      "source": [
        "!cd ~/cache_pretrained && ls -1"
      ],
      "execution_count": null,
      "outputs": [
        {
          "output_type": "stream",
          "name": "stdout",
          "text": [
            "lemma_antbnc_en_2.0.2_2.4_1556480454569\n"
          ]
        }
      ]
    },
    {
      "cell_type": "code",
      "metadata": {
        "id": "IvawVwisBzAL"
      },
      "source": [
        "documentAssembler= DocumentAssembler()\\\n",
        "    .setInputCol(\"text\")\\\n",
        "    .setOutputCol(\"document\")\n",
        "\n",
        "tokenizer= Tokenizer()\\\n",
        "    .setInputCols([\"document\"])\\\n",
        "    .setOutputCol(\"token\")\n",
        "\n",
        "stemmer= Stemmer()\\\n",
        "    .setInputCols([\"token\"])\\\n",
        "    .setOutputCol(\"stem\")\n",
        "\n",
        "nlpPipeline= Pipeline(stages=[ \n",
        "                              documentAssembler,\n",
        "                              tokenizer,\n",
        "                              stemmer,\n",
        "                              lemmatizer\n",
        "])\n",
        "\n",
        "empty_df= spark.createDataFrame([[\" \"]]).toDF(\"text\")\n",
        "pipeline_model= nlpPipeline.fit(empty_df)\n",
        "\n",
        "result= pipeline_model.transform(news_df)"
      ],
      "execution_count": null,
      "outputs": []
    },
    {
      "cell_type": "code",
      "metadata": {
        "colab": {
          "base_uri": "https://localhost:8080/"
        },
        "id": "wK7U9PN1By9Z",
        "outputId": "22b874c2-7b59-4693-ff58-35a605de2460"
      },
      "source": [
        "result.show(5, truncate=40)"
      ],
      "execution_count": null,
      "outputs": [
        {
          "output_type": "stream",
          "name": "stdout",
          "text": [
            "+--------+----------------------------------------+----------------------------------------+----------------------------------------+----------------------------------------+----------------------------------------+\n",
            "|category|                                    text|                                document|                                   token|                                    stem|                                   lemma|\n",
            "+--------+----------------------------------------+----------------------------------------+----------------------------------------+----------------------------------------+----------------------------------------+\n",
            "|Business|Unions representing workers at Turner...|[[document, 0, 126, Unions representi...|[[token, 0, 5, Unions, [sentence -> 0...|[[token, 0, 5, union, [sentence -> 0]...|[[token, 0, 5, Unions, [sentence -> 0...|\n",
            "|Sci/Tech| TORONTO, Canada    A second team of ...|[[document, 0, 222,  TORONTO, Canada ...|[[token, 1, 7, TORONTO, [sentence -> ...|[[token, 1, 7, toronto, [sentence -> ...|[[token, 1, 7, TORONTO, [sentence -> ...|\n",
            "|Sci/Tech| A company founded by a chemistry res...|[[document, 0, 209,  A company founde...|[[token, 1, 1, A, [sentence -> 0], []...|[[token, 1, 1, a, [sentence -> 0], []...|[[token, 1, 1, A, [sentence -> 0], []...|\n",
            "|Sci/Tech| It's barely dawn when Mike Fitzpatri...|[[document, 0, 267,  It's barely dawn...|[[token, 1, 4, It's, [sentence -> 0],...|[[token, 1, 4, it', [sentence -> 0], ...|[[token, 1, 4, It's, [sentence -> 0],...|\n",
            "|Sci/Tech| Southern California's smog fighting ...|[[document, 0, 174,  Southern Califor...|[[token, 1, 8, Southern, [sentence ->...|[[token, 1, 8, southern, [sentence ->...|[[token, 1, 8, Southern, [sentence ->...|\n",
            "+--------+----------------------------------------+----------------------------------------+----------------------------------------+----------------------------------------+----------------------------------------+\n",
            "only showing top 5 rows\n",
            "\n"
          ]
        }
      ]
    },
    {
      "cell_type": "code",
      "metadata": {
        "colab": {
          "base_uri": "https://localhost:8080/"
        },
        "id": "dEYtIPOfDtUS",
        "outputId": "9935831e-c81d-4747-cc86-cb22ba12c847"
      },
      "source": [
        "result.select(\"token.result\", \"stem.result\", \"lemma.result\")\\\n",
        "    .toDF(\"token\", \"stem\", \"lemma\").show(10, truncate=70)"
      ],
      "execution_count": null,
      "outputs": [
        {
          "output_type": "stream",
          "name": "stdout",
          "text": [
            "+----------------------------------------------------------------------+----------------------------------------------------------------------+----------------------------------------------------------------------+\n",
            "|                                                                 token|                                                                  stem|                                                                 lemma|\n",
            "+----------------------------------------------------------------------+----------------------------------------------------------------------+----------------------------------------------------------------------+\n",
            "|[Unions, representing, workers, at, Turner, Newall, say, they, are,...|[union, repres, worker, at, turner, newal, sai, thei, ar, ', disapp...|[Unions, represent, worker, at, Turner, Newall, say, they, be, ', d...|\n",
            "|[TORONTO, ,, Canada, A, second, team, of, rocketeers, competing, fo...|[toronto, ,, canada, a, second, team, of, rocket, compet, for, the,...|[TORONTO, ,, Canada, A, second, team, of, rocketeer, compete, for, ...|\n",
            "|[A, company, founded, by, a, chemistry, researcher, at, the, Univer...|[a, compani, found, by, a, chemistri, research, at, the, univers, o...|[A, company, founded, by, a, chemistry, researcher, at, the, Univer...|\n",
            "|[It's, barely, dawn, when, Mike, Fitzpatrick, starts, his, shift, w...|[it', bare, dawn, when, mike, fitzpatrick, start, hi, shift, with, ...|[It's, barely, dawn, when, Mike, Fitzpatrick, start, he, shift, wit...|\n",
            "|[Southern, California's, smog, fighting, agency, went, after, emiss...|[southern, california', smog, fight, agenc, went, after, emiss, of,...|[Southern, California's, smog, fight, agency, go, after, emission, ...|\n",
            "|[\", The, British, Department, for, Education, and, Skills, (, DfES,...|[\", the, british, depart, for, educ, and, skill, (, dfe, ), recent,...|[\", The, British, Department, for, Education, and, Skills, (, DfES,...|\n",
            "|[\", confessed, author, of, the, Netsky, and, Sasser, viruses, ,, is...|[\", confess, author, of, the, netski, and, sasser, virus, ,, i, res...|[\", confess, author, of, the, Netsky, and, Sasser, virus, ,, be, re...|\n",
            "|[\\\\FOAF/LOAF, and, bloom, filters, have, a, lot, of, interesting, p...|[\\\\foaf/loaf, and, bloom, filter, have, a, lot, of, interest, prope...|[\\\\FOAF/LOAF, and, bloom, filter, have, a, lot, of, interest, prope...|\n",
            "|[\", Wiltshire, Police, warns, about, \"\", phishing, \"\", after, its, ...|[\", wiltshir, polic, warn, about, \"\", phish, \"\", after, it, fraud, ...|[\", Wiltshire, Police, warn, about, \"\", phishing, \"\", after, it, fr...|\n",
            "|[In, its, first, two, years, ,, the, UK's, dedicated, card, fraud, ...|[in, it, first, two, year, ,, the, uk', dedic, card, fraud, unit, ,...|[In, it, first, two, year, ,, the, UK's, dedicate, card, fraud, uni...|\n",
            "+----------------------------------------------------------------------+----------------------------------------------------------------------+----------------------------------------------------------------------+\n",
            "only showing top 10 rows\n",
            "\n"
          ]
        }
      ]
    },
    {
      "cell_type": "code",
      "metadata": {
        "colab": {
          "base_uri": "https://localhost:8080/"
        },
        "id": "CmeuMUcMDxMq",
        "outputId": "02e43d33-b331-4c54-f7c5-8da82d8dcdde"
      },
      "source": [
        "result.select(F.explode(F.arrays_zip(\"token.result\", \"stem.result\", \"lemma.result\")).alias(\"col\"))\\\n",
        "    .select(F.expr(\"col['0']\").alias(\"token\"),\n",
        "            F.expr(\"col['1']\").alias(\"stem\"),\n",
        "            F.expr(\"col['2']\").alias(\"lemma\")).show(10, truncate=False)"
      ],
      "execution_count": null,
      "outputs": [
        {
          "output_type": "stream",
          "name": "stdout",
          "text": [
            "+------------+------+---------+\n",
            "|token       |stem  |lemma    |\n",
            "+------------+------+---------+\n",
            "|Unions      |union |Unions   |\n",
            "|representing|repres|represent|\n",
            "|workers     |worker|worker   |\n",
            "|at          |at    |at       |\n",
            "|Turner      |turner|Turner   |\n",
            "|Newall      |newal |Newall   |\n",
            "|say         |sai   |say      |\n",
            "|they        |thei  |they     |\n",
            "|are         |ar    |be       |\n",
            "|'           |'     |'        |\n",
            "+------------+------+---------+\n",
            "only showing top 10 rows\n",
            "\n"
          ]
        }
      ]
    },
    {
      "cell_type": "code",
      "metadata": {
        "colab": {
          "base_uri": "https://localhost:8080/"
        },
        "id": "cxv-5cM8DxJR",
        "outputId": "295a1a4f-9482-4a07-fb03-a27e4a160a02"
      },
      "source": [
        "pos= PerceptronModel.pretrained(\"pos_anc\", \"en\")\\\n",
        "    .setInputCols([\"document\", \"token\"])\\\n",
        "    .setOutputCol(\"pos\")"
      ],
      "execution_count": null,
      "outputs": [
        {
          "output_type": "stream",
          "name": "stdout",
          "text": [
            "pos_anc download started this may take some time.\n",
            "Approximate size to download 3.9 MB\n",
            "[OK!]\n"
          ]
        }
      ]
    },
    {
      "cell_type": "code",
      "metadata": {
        "id": "i5mDvQFKDxGK"
      },
      "source": [
        "nlpPipeline= Pipeline(stages=[ \n",
        "                              documentAssembler, \n",
        "                              tokenizer,\n",
        "                              stemmer,\n",
        "                              lemmatizer,\n",
        "                              pos\n",
        "])\n",
        "\n",
        "empty_df= spark.createDataFrame([[\" \"]]).toDF(\"text\")\n",
        "pipeline_model= nlpPipeline.fit(empty_df)\n",
        "\n",
        "result= pipeline_model.transform(news_df)"
      ],
      "execution_count": null,
      "outputs": []
    },
    {
      "cell_type": "code",
      "metadata": {
        "colab": {
          "base_uri": "https://localhost:8080/"
        },
        "id": "Mz2rJUl4JUOO",
        "outputId": "8abe4977-ffd5-4a26-faeb-7daa8391ea3d"
      },
      "source": [
        "!cd ~/cache_pretrained && ls -1"
      ],
      "execution_count": null,
      "outputs": [
        {
          "output_type": "stream",
          "name": "stdout",
          "text": [
            "lemma_antbnc_en_2.0.2_2.4_1556480454569\n",
            "pos_anc_en_3.0.0_3.0_1614962126490\n"
          ]
        }
      ]
    },
    {
      "cell_type": "code",
      "metadata": {
        "colab": {
          "base_uri": "https://localhost:8080/"
        },
        "id": "mLCKoCfjG-ai",
        "outputId": "a41b0876-e5e0-48a3-f720-205dd4cc7388"
      },
      "source": [
        "result.show(5, truncate=50)"
      ],
      "execution_count": null,
      "outputs": [
        {
          "output_type": "stream",
          "name": "stdout",
          "text": [
            "+--------+--------------------------------------------------+--------------------------------------------------+--------------------------------------------------+--------------------------------------------------+--------------------------------------------------+--------------------------------------------------+\n",
            "|category|                                              text|                                          document|                                             token|                                              stem|                                             lemma|                                               pos|\n",
            "+--------+--------------------------------------------------+--------------------------------------------------+--------------------------------------------------+--------------------------------------------------+--------------------------------------------------+--------------------------------------------------+\n",
            "|Business|Unions representing workers at Turner   Newall ...|[[document, 0, 126, Unions representing workers...|[[token, 0, 5, Unions, [sentence -> 0], []], [t...|[[token, 0, 5, union, [sentence -> 0], []], [to...|[[token, 0, 5, Unions, [sentence -> 0], []], [t...|[[pos, 0, 5, NNP, [word -> Unions], []], [pos, ...|\n",
            "|Sci/Tech| TORONTO, Canada    A second team of rocketeers...|[[document, 0, 222,  TORONTO, Canada    A secon...|[[token, 1, 7, TORONTO, [sentence -> 0], []], [...|[[token, 1, 7, toronto, [sentence -> 0], []], [...|[[token, 1, 7, TORONTO, [sentence -> 0], []], [...|[[pos, 1, 7, NNP, [word -> TORONTO], []], [pos,...|\n",
            "|Sci/Tech| A company founded by a chemistry researcher at...|[[document, 0, 209,  A company founded by a che...|[[token, 1, 1, A, [sentence -> 0], []], [token,...|[[token, 1, 1, a, [sentence -> 0], []], [token,...|[[token, 1, 1, A, [sentence -> 0], []], [token,...|[[pos, 1, 1, DT, [word -> A], []], [pos, 3, 9, ...|\n",
            "|Sci/Tech| It's barely dawn when Mike Fitzpatrick starts ...|[[document, 0, 267,  It's barely dawn when Mike...|[[token, 1, 4, It's, [sentence -> 0], []], [tok...|[[token, 1, 4, it', [sentence -> 0], []], [toke...|[[token, 1, 4, It's, [sentence -> 0], []], [tok...|[[pos, 1, 4, NNP, [word -> It's], []], [pos, 6,...|\n",
            "|Sci/Tech| Southern California's smog fighting agency wen...|[[document, 0, 174,  Southern California's smog...|[[token, 1, 8, Southern, [sentence -> 0], []], ...|[[token, 1, 8, southern, [sentence -> 0], []], ...|[[token, 1, 8, Southern, [sentence -> 0], []], ...|[[pos, 1, 8, NNP, [word -> Southern], []], [pos...|\n",
            "+--------+--------------------------------------------------+--------------------------------------------------+--------------------------------------------------+--------------------------------------------------+--------------------------------------------------+--------------------------------------------------+\n",
            "only showing top 5 rows\n",
            "\n"
          ]
        }
      ]
    },
    {
      "cell_type": "code",
      "metadata": {
        "colab": {
          "base_uri": "https://localhost:8080/",
          "height": 204
        },
        "id": "skf48DY0HDax",
        "outputId": "cfe95fb0-8bcd-4b8d-b629-c9650b634af8"
      },
      "source": [
        "df= result.select(F.explode(F.arrays_zip(\"token.result\", \"token.begin\", \"token.end\", \"stem.result\", \"lemma.result\", \"pos.result\")).alias(\"col\"))\\\n",
        "    .select(F.expr(\"col['0']\").alias(\"token\"),\n",
        "            F.expr(\"col['1']\").alias(\"begin\"),\n",
        "            F.expr(\"col['2']\").alias(\"end\"),\n",
        "            F.expr(\"col['3']\").alias(\"stem\"),\n",
        "            F.expr(\"col['4']\").alias(\"lemma\"),\n",
        "            F.expr(\"col['5']\").alias(\"pos\")).toPandas()\n",
        "df.head()"
      ],
      "execution_count": null,
      "outputs": [
        {
          "output_type": "execute_result",
          "data": {
            "text/html": [
              "<div>\n",
              "<style scoped>\n",
              "    .dataframe tbody tr th:only-of-type {\n",
              "        vertical-align: middle;\n",
              "    }\n",
              "\n",
              "    .dataframe tbody tr th {\n",
              "        vertical-align: top;\n",
              "    }\n",
              "\n",
              "    .dataframe thead th {\n",
              "        text-align: right;\n",
              "    }\n",
              "</style>\n",
              "<table border=\"1\" class=\"dataframe\">\n",
              "  <thead>\n",
              "    <tr style=\"text-align: right;\">\n",
              "      <th></th>\n",
              "      <th>token</th>\n",
              "      <th>begin</th>\n",
              "      <th>end</th>\n",
              "      <th>stem</th>\n",
              "      <th>lemma</th>\n",
              "      <th>pos</th>\n",
              "    </tr>\n",
              "  </thead>\n",
              "  <tbody>\n",
              "    <tr>\n",
              "      <th>0</th>\n",
              "      <td>Unions</td>\n",
              "      <td>0</td>\n",
              "      <td>5</td>\n",
              "      <td>union</td>\n",
              "      <td>Unions</td>\n",
              "      <td>NNP</td>\n",
              "    </tr>\n",
              "    <tr>\n",
              "      <th>1</th>\n",
              "      <td>representing</td>\n",
              "      <td>7</td>\n",
              "      <td>18</td>\n",
              "      <td>repres</td>\n",
              "      <td>represent</td>\n",
              "      <td>VBG</td>\n",
              "    </tr>\n",
              "    <tr>\n",
              "      <th>2</th>\n",
              "      <td>workers</td>\n",
              "      <td>20</td>\n",
              "      <td>26</td>\n",
              "      <td>worker</td>\n",
              "      <td>worker</td>\n",
              "      <td>NNS</td>\n",
              "    </tr>\n",
              "    <tr>\n",
              "      <th>3</th>\n",
              "      <td>at</td>\n",
              "      <td>28</td>\n",
              "      <td>29</td>\n",
              "      <td>at</td>\n",
              "      <td>at</td>\n",
              "      <td>IN</td>\n",
              "    </tr>\n",
              "    <tr>\n",
              "      <th>4</th>\n",
              "      <td>Turner</td>\n",
              "      <td>31</td>\n",
              "      <td>36</td>\n",
              "      <td>turner</td>\n",
              "      <td>Turner</td>\n",
              "      <td>NNP</td>\n",
              "    </tr>\n",
              "  </tbody>\n",
              "</table>\n",
              "</div>"
            ],
            "text/plain": [
              "          token  begin  end    stem      lemma  pos\n",
              "0        Unions      0    5   union     Unions  NNP\n",
              "1  representing      7   18  repres  represent  VBG\n",
              "2       workers     20   26  worker     worker  NNS\n",
              "3            at     28   29      at         at   IN\n",
              "4        Turner     31   36  turner     Turner  NNP"
            ]
          },
          "metadata": {},
          "execution_count": 29
        }
      ]
    },
    {
      "cell_type": "code",
      "metadata": {
        "id": "jjg2tMP4Hp0K"
      },
      "source": [
        "chunker= Chunker()\\\n",
        "    .setInputCols([\"document\", \"pos\"])\\\n",
        "    .setOutputCol(\"chunk\")\\\n",
        "    .setRegexParsers([\"<NNP>+\", \"<DT>?<JJ>*<NN>\"])"
      ],
      "execution_count": null,
      "outputs": []
    },
    {
      "cell_type": "code",
      "metadata": {
        "colab": {
          "base_uri": "https://localhost:8080/"
        },
        "id": "BJEh8Y5dI_v1",
        "outputId": "af35833c-9134-4725-a956-73bfb75569da"
      },
      "source": [
        "chunker.extractParamMap()"
      ],
      "execution_count": null,
      "outputs": [
        {
          "output_type": "execute_result",
          "data": {
            "text/plain": [
              "{Param(parent='Chunker_8e246c808a05', name='inputCols', doc='previous annotations columns, if renamed'): ['document'],\n",
              " Param(parent='Chunker_8e246c808a05', name='lazyAnnotator', doc='Whether this AnnotatorModel acts as lazy in RecursivePipelines'): False,\n",
              " Param(parent='Chunker_8e246c808a05', name='outputCol', doc='output annotation column. can be left default.'): 'chunk',\n",
              " Param(parent='Chunker_8e246c808a05', name='regexParsers', doc='an array of grammar based chunk parsers'): ['<NNP>+',\n",
              "  '<DT>?<JJ>*<NN>']}"
            ]
          },
          "metadata": {},
          "execution_count": 32
        }
      ]
    },
    {
      "cell_type": "code",
      "metadata": {
        "id": "8PCWd4PJJJHC"
      },
      "source": [
        "nlpPipeline= Pipeline(stages=[ \n",
        "                              documentAssembler, \n",
        "                              tokenizer,\n",
        "                              stemmer,\n",
        "                              lemmatizer,\n",
        "                              pos,\n",
        "                              chunker\n",
        "])\n",
        "empty_df= spark.createDataFrame([[\" \"]]).toDF(\"text\")\n",
        "pipeline_model= nlpPipeline.fit(empty_df)\n",
        "\n",
        "result= pipeline_model.transform(news_df.limit(100))"
      ],
      "execution_count": null,
      "outputs": []
    },
    {
      "cell_type": "code",
      "metadata": {
        "colab": {
          "base_uri": "https://localhost:8080/"
        },
        "id": "u3Y2cU0MJc7U",
        "outputId": "5118ea71-ae67-42ae-f130-93f0c788c139"
      },
      "source": [
        "result.show()"
      ],
      "execution_count": null,
      "outputs": [
        {
          "output_type": "stream",
          "name": "stdout",
          "text": [
            "+--------+--------------------+--------------------+--------------------+--------------------+--------------------+--------------------+--------------------+\n",
            "|category|                text|            document|               token|                stem|               lemma|                 pos|               chunk|\n",
            "+--------+--------------------+--------------------+--------------------+--------------------+--------------------+--------------------+--------------------+\n",
            "|Business|Unions representi...|[[document, 0, 12...|[[token, 0, 5, Un...|[[token, 0, 5, un...|[[token, 0, 5, Un...|[[pos, 0, 5, NNP,...|[[chunk, 0, 5, Un...|\n",
            "|Sci/Tech| TORONTO, Canada ...|[[document, 0, 22...|[[token, 1, 7, TO...|[[token, 1, 7, to...|[[token, 1, 7, TO...|[[pos, 1, 7, NNP,...|[[chunk, 1, 7, TO...|\n",
            "|Sci/Tech| A company founde...|[[document, 0, 20...|[[token, 1, 1, A,...|[[token, 1, 1, a,...|[[token, 1, 1, A,...|[[pos, 1, 1, DT, ...|[[chunk, 52, 61, ...|\n",
            "|Sci/Tech| It's barely dawn...|[[document, 0, 26...|[[token, 1, 4, It...|[[token, 1, 4, it...|[[token, 1, 4, It...|[[pos, 1, 4, NNP,...|[[chunk, 1, 4, It...|\n",
            "|Sci/Tech| Southern Califor...|[[document, 0, 17...|[[token, 1, 8, So...|[[token, 1, 8, so...|[[token, 1, 8, So...|[[pos, 1, 8, NNP,...|[[chunk, 1, 21, S...|\n",
            "|Sci/Tech|\"The British Depa...|[[document, 0, 10...|[[token, 0, 0, \",...|[[token, 0, 0, \",...|[[token, 0, 0, \",...|[[pos, 0, 0, '', ...|[[chunk, 5, 22, B...|\n",
            "|Sci/Tech|\"confessed author...|[[document, 0, 34...|[[token, 0, 0, \",...|[[token, 0, 0, \",...|[[token, 0, 0, \",...|[[pos, 0, 0, '', ...|[[chunk, 25, 30, ...|\n",
            "|Sci/Tech|\\\\FOAF/LOAF  and ...|[[document, 0, 70...|[[token, 0, 10, \\...|[[token, 0, 10, \\...|[[token, 0, 10, \\...|[[pos, 0, 10, NN,...|[[chunk, 170, 180...|\n",
            "|Sci/Tech|\"Wiltshire Police...|[[document, 0, 84...|[[token, 0, 0, \",...|[[token, 0, 0, \",...|[[token, 0, 0, \",...|[[pos, 0, 0, '', ...|[[chunk, 1, 16, W...|\n",
            "|Sci/Tech|In its first two ...|[[document, 0, 13...|[[token, 0, 1, In...|[[token, 0, 1, in...|[[token, 0, 1, In...|[[pos, 0, 1, IN, ...|[[chunk, 28, 31, ...|\n",
            "|Sci/Tech| A group of techn...|[[document, 0, 27...|[[token, 1, 1, A,...|[[token, 1, 1, a,...|[[token, 1, 1, A,...|[[pos, 1, 1, DT, ...|[[chunk, 44, 64, ...|\n",
            "|Sci/Tech| Apple Computer I...|[[document, 0, 23...|[[token, 1, 5, Ap...|[[token, 1, 5, ap...|[[token, 1, 5, Ap...|[[pos, 1, 5, NNP,...|[[chunk, 1, 32, A...|\n",
            "|Sci/Tech| Free Record Shop...|[[document, 0, 19...|[[token, 1, 4, Fr...|[[token, 1, 4, fr...|[[token, 1, 4, Fr...|[[pos, 1, 4, NNP,...|[[chunk, 1, 16, F...|\n",
            "|Sci/Tech|A giant 100km col...|[[document, 0, 11...|[[token, 0, 0, A,...|[[token, 0, 0, a,...|[[token, 0, 0, A,...|[[pos, 0, 0, DT, ...|[[chunk, 59, 67, ...|\n",
            "|Sci/Tech|\"Dolphin groups, ...|[[document, 0, 27...|[[token, 0, 0, \",...|[[token, 0, 0, \",...|[[token, 0, 0, \",...|[[pos, 0, 0, '', ...|[[chunk, 1, 7, Do...|\n",
            "|Sci/Tech|Tyrannosaurus rex...|[[document, 0, 10...|[[token, 0, 12, T...|[[token, 0, 12, t...|[[token, 0, 12, T...|[[pos, 0, 12, NNP...|[[chunk, 0, 12, T...|\n",
            "|Sci/Tech|  Scientists have...|[[document, 0, 21...|[[token, 2, 11, S...|[[token, 2, 11, s...|[[token, 2, 11, S...|[[pos, 2, 11, NNP...|[[chunk, 2, 11, S...|\n",
            "|Sci/Tech|  ESAs Mars Expre...|[[document, 0, 27...|[[token, 2, 5, ES...|[[token, 2, 5, es...|[[token, 2, 5, ES...|[[pos, 2, 5, NNP,...|[[chunk, 2, 18, E...|\n",
            "|Sci/Tech|When did life beg...|[[document, 0, 27...|[[token, 0, 3, Wh...|[[token, 0, 3, wh...|[[token, 0, 3, Wh...|[[pos, 0, 3, WRB,...|[[chunk, 82, 90, ...|\n",
            "|Sci/Tech|update Earnings p...|[[document, 0, 11...|[[token, 0, 5, up...|[[token, 0, 5, up...|[[token, 0, 5, up...|[[pos, 0, 5, JJ, ...|[[chunk, 20, 24, ...|\n",
            "+--------+--------------------+--------------------+--------------------+--------------------+--------------------+--------------------+--------------------+\n",
            "only showing top 20 rows\n",
            "\n"
          ]
        }
      ]
    },
    {
      "cell_type": "code",
      "metadata": {
        "colab": {
          "base_uri": "https://localhost:8080/",
          "height": 204
        },
        "id": "VvPhjpUvJc28",
        "outputId": "41f562aa-70d2-43e3-af32-b9a07266fe5f"
      },
      "source": [
        "df= result.select(F.explode(F.arrays_zip(\"chunk.result\", \"chunk.begin\", \"chunk.end\")).alias(\"col\"))\\\n",
        "    .select(F.expr(\"col['0']\").alias(\"chunk\"),\n",
        "            F.expr(\"col['1']\").alias(\"begin\"),\n",
        "            F.expr(\"col['2']\").alias(\"end\")).toPandas()\n",
        "\n",
        "df.head()"
      ],
      "execution_count": null,
      "outputs": [
        {
          "output_type": "execute_result",
          "data": {
            "text/html": [
              "<div>\n",
              "<style scoped>\n",
              "    .dataframe tbody tr th:only-of-type {\n",
              "        vertical-align: middle;\n",
              "    }\n",
              "\n",
              "    .dataframe tbody tr th {\n",
              "        vertical-align: top;\n",
              "    }\n",
              "\n",
              "    .dataframe thead th {\n",
              "        text-align: right;\n",
              "    }\n",
              "</style>\n",
              "<table border=\"1\" class=\"dataframe\">\n",
              "  <thead>\n",
              "    <tr style=\"text-align: right;\">\n",
              "      <th></th>\n",
              "      <th>chunk</th>\n",
              "      <th>begin</th>\n",
              "      <th>end</th>\n",
              "    </tr>\n",
              "  </thead>\n",
              "  <tbody>\n",
              "    <tr>\n",
              "      <th>0</th>\n",
              "      <td>Unions</td>\n",
              "      <td>0</td>\n",
              "      <td>5</td>\n",
              "    </tr>\n",
              "    <tr>\n",
              "      <th>1</th>\n",
              "      <td>Turner   Newall</td>\n",
              "      <td>31</td>\n",
              "      <td>45</td>\n",
              "    </tr>\n",
              "    <tr>\n",
              "      <th>2</th>\n",
              "      <td>Federal Mogul</td>\n",
              "      <td>113</td>\n",
              "      <td>125</td>\n",
              "    </tr>\n",
              "    <tr>\n",
              "      <th>3</th>\n",
              "      <td>stricken</td>\n",
              "      <td>92</td>\n",
              "      <td>99</td>\n",
              "    </tr>\n",
              "    <tr>\n",
              "      <th>4</th>\n",
              "      <td>parent</td>\n",
              "      <td>101</td>\n",
              "      <td>106</td>\n",
              "    </tr>\n",
              "  </tbody>\n",
              "</table>\n",
              "</div>"
            ],
            "text/plain": [
              "             chunk  begin  end\n",
              "0           Unions      0    5\n",
              "1  Turner   Newall     31   45\n",
              "2    Federal Mogul    113  125\n",
              "3         stricken     92   99\n",
              "4           parent    101  106"
            ]
          },
          "metadata": {},
          "execution_count": 39
        }
      ]
    },
    {
      "cell_type": "code",
      "metadata": {
        "colab": {
          "base_uri": "https://localhost:8080/"
        },
        "id": "fDNWHNH_Jcyy",
        "outputId": "0ead5a7c-8ffd-4c94-b9bb-c6db8de96190"
      },
      "source": [
        "stopwords_cleaner= StopWordsCleaner.pretrained(\"stopwords_en\", \"en\")\\\n",
        "    .setInputCols([\"token\"])\\\n",
        "    .setOutputCol(\"cleaned\")\\\n",
        "    .setCaseSensitive(False)\n"
      ],
      "execution_count": null,
      "outputs": [
        {
          "output_type": "stream",
          "name": "stdout",
          "text": [
            "stopwords_en download started this may take some time.\n",
            "Approximate size to download 2.9 KB\n",
            "[OK!]\n"
          ]
        }
      ]
    },
    {
      "cell_type": "code",
      "metadata": {
        "colab": {
          "base_uri": "https://localhost:8080/"
        },
        "id": "tp-q9g3NJcqv",
        "outputId": "37858009-a28f-4648-d87a-0a18a86d1ef8"
      },
      "source": [
        "!cd ~/cache_pretrained && ls -1"
      ],
      "execution_count": null,
      "outputs": [
        {
          "output_type": "stream",
          "name": "stdout",
          "text": [
            "lemma_antbnc_en_2.0.2_2.4_1556480454569\n",
            "pos_anc_en_3.0.0_3.0_1614962126490\n",
            "stopwords_en_en_2.5.4_2.4_1594742439135\n"
          ]
        }
      ]
    },
    {
      "cell_type": "code",
      "metadata": {
        "colab": {
          "base_uri": "https://localhost:8080/"
        },
        "id": "m59ifKZtLMoQ",
        "outputId": "000afebf-f10d-423b-b51e-d7ddde123df8"
      },
      "source": [
        "stopwords_cleaner.getStopWords()[:10]"
      ],
      "execution_count": null,
      "outputs": [
        {
          "output_type": "execute_result",
          "data": {
            "text/plain": [
              "['a',\n",
              " \"a's\",\n",
              " 'able',\n",
              " 'about',\n",
              " 'above',\n",
              " 'according',\n",
              " 'accordingly',\n",
              " 'across',\n",
              " 'actually',\n",
              " 'after']"
            ]
          },
          "metadata": {},
          "execution_count": 45
        }
      ]
    },
    {
      "cell_type": "code",
      "metadata": {
        "id": "-lBSs4J_LTxz"
      },
      "source": [
        "token_assembler= TokenAssembler()\\\n",
        "    .setInputCols([\"document\", \"cleaned\"])\\\n",
        "    .setOutputCol(\"cleaned_tokens\")\n",
        "\n",
        "nlpPipeline= Pipeline(stages=[ \n",
        "                              documentAssembler,\n",
        "                              tokenizer,\n",
        "                              stopwords_cleaner,\n",
        "                              token_assembler\n",
        "])\n",
        "\n",
        "nlp_model= nlpPipeline.fit(empty_df)"
      ],
      "execution_count": null,
      "outputs": []
    },
    {
      "cell_type": "code",
      "metadata": {
        "colab": {
          "base_uri": "https://localhost:8080/"
        },
        "id": "TMfmwB7iLp2s",
        "outputId": "31270c5a-19e1-4f71-f034-b9e254165eae"
      },
      "source": [
        "#lightpipeline version:\n",
        "light_model= LightPipeline(nlp_model)\n",
        "light_result= light_model.annotate(\"Peter Parker is a nice person and a friend of mine.\")\n",
        "light_result[\"cleaned_tokens\"]"
      ],
      "execution_count": null,
      "outputs": [
        {
          "output_type": "execute_result",
          "data": {
            "text/plain": [
              "['Peter Parker nice person friend mine.']"
            ]
          },
          "metadata": {},
          "execution_count": 49
        }
      ]
    },
    {
      "cell_type": "code",
      "metadata": {
        "colab": {
          "base_uri": "https://localhost:8080/"
        },
        "id": "hGm2HLk8Lpxz",
        "outputId": "e55a5fbd-aabe-4407-dd93-7e333112f46a"
      },
      "source": [
        "result= nlp_model.transform(news_df)\n",
        "result.show()"
      ],
      "execution_count": null,
      "outputs": [
        {
          "output_type": "stream",
          "name": "stdout",
          "text": [
            "+--------+--------------------+--------------------+--------------------+--------------------+--------------------+\n",
            "|category|                text|            document|               token|             cleaned|      cleaned_tokens|\n",
            "+--------+--------------------+--------------------+--------------------+--------------------+--------------------+\n",
            "|Business|Unions representi...|[[document, 0, 12...|[[token, 0, 5, Un...|[[token, 0, 5, Un...|[[document, 0, 97...|\n",
            "|Sci/Tech| TORONTO, Canada ...|[[document, 0, 22...|[[token, 1, 7, TO...|[[token, 1, 7, TO...|[[document, 0, 16...|\n",
            "|Sci/Tech| A company founde...|[[document, 0, 20...|[[token, 1, 1, A,...|[[token, 3, 9, co...|[[document, 0, 15...|\n",
            "|Sci/Tech| It's barely dawn...|[[document, 0, 26...|[[token, 1, 4, It...|[[token, 6, 11, b...|[[document, 0, 17...|\n",
            "|Sci/Tech| Southern Califor...|[[document, 0, 17...|[[token, 1, 8, So...|[[token, 1, 8, So...|[[document, 0, 13...|\n",
            "|Sci/Tech|\"The British Depa...|[[document, 0, 10...|[[token, 0, 0, \",...|[[token, 0, 0, \",...|[[document, 0, 90...|\n",
            "|Sci/Tech|\"confessed author...|[[document, 0, 34...|[[token, 0, 0, \",...|[[token, 0, 0, \",...|[[document, 0, 23...|\n",
            "|Sci/Tech|\\\\FOAF/LOAF  and ...|[[document, 0, 70...|[[token, 0, 10, \\...|[[token, 0, 10, \\...|[[document, 0, 50...|\n",
            "|Sci/Tech|\"Wiltshire Police...|[[document, 0, 84...|[[token, 0, 0, \",...|[[token, 0, 0, \",...|[[document, 0, 64...|\n",
            "|Sci/Tech|In its first two ...|[[document, 0, 13...|[[token, 0, 1, In...|[[token, 17, 21, ...|[[document, 0, 10...|\n",
            "|Sci/Tech| A group of techn...|[[document, 0, 27...|[[token, 1, 1, A,...|[[token, 3, 7, gr...|[[document, 0, 21...|\n",
            "|Sci/Tech| Apple Computer I...|[[document, 0, 23...|[[token, 1, 5, Ap...|[[token, 1, 5, Ap...|[[document, 0, 20...|\n",
            "|Sci/Tech| Free Record Shop...|[[document, 0, 19...|[[token, 1, 4, Fr...|[[token, 1, 4, Fr...|[[document, 0, 15...|\n",
            "|Sci/Tech|A giant 100km col...|[[document, 0, 11...|[[token, 0, 0, A,...|[[token, 2, 6, gi...|[[document, 0, 86...|\n",
            "|Sci/Tech|\"Dolphin groups, ...|[[document, 0, 27...|[[token, 0, 0, \",...|[[token, 0, 0, \",...|[[document, 0, 24...|\n",
            "|Sci/Tech|Tyrannosaurus rex...|[[document, 0, 10...|[[token, 0, 12, T...|[[token, 0, 12, T...|[[document, 0, 82...|\n",
            "|Sci/Tech|  Scientists have...|[[document, 0, 21...|[[token, 2, 11, S...|[[token, 2, 11, S...|[[document, 0, 17...|\n",
            "|Sci/Tech|  ESAs Mars Expre...|[[document, 0, 27...|[[token, 2, 5, ES...|[[token, 2, 5, ES...|[[document, 0, 20...|\n",
            "|Sci/Tech|When did life beg...|[[document, 0, 27...|[[token, 0, 3, Wh...|[[token, 9, 12, l...|[[document, 0, 19...|\n",
            "|Sci/Tech|update Earnings p...|[[document, 0, 11...|[[token, 0, 5, up...|[[token, 0, 5, up...|[[document, 0, 93...|\n",
            "+--------+--------------------+--------------------+--------------------+--------------------+--------------------+\n",
            "only showing top 20 rows\n",
            "\n"
          ]
        }
      ]
    },
    {
      "cell_type": "code",
      "metadata": {
        "colab": {
          "base_uri": "https://localhost:8080/"
        },
        "id": "L645oMJcLptC",
        "outputId": "cad2dc26-8133-4737-e877-d569aaf28ef8"
      },
      "source": [
        "spellModel= ContextSpellCheckerModel.pretrained(\"spellcheck_dl\")\\\n",
        "    .setInputCols([\"token\"])\\\n",
        "    .setOutputCol(\"spell_checked\")\n",
        "\n",
        "finisher= Finisher()\\\n",
        "    .setInputCols([\"spell_checked\"])\\\n",
        "  \n",
        "pipeline= Pipeline(stages=[ \n",
        "                           documentAssembler,\n",
        "                           tokenizer,\n",
        "                           spellModel,\n",
        "                           finisher\n",
        "])\n",
        "\n",
        "empty_df= spark.createDataFrame([[\" \"]]).toDF(\"text\")\n",
        "pipeline_model= pipeline.fit(empty_df)\n",
        "\n"
      ],
      "execution_count": null,
      "outputs": [
        {
          "output_type": "stream",
          "name": "stdout",
          "text": [
            "spellcheck_dl download started this may take some time.\n",
            "Approximate size to download 111.4 MB\n",
            "[OK!]\n"
          ]
        }
      ]
    },
    {
      "cell_type": "code",
      "metadata": {
        "id": "SlLD1YhjRNoK"
      },
      "source": [
        "lp= LightPipeline(pipeline_model)"
      ],
      "execution_count": null,
      "outputs": []
    },
    {
      "cell_type": "code",
      "metadata": {
        "colab": {
          "base_uri": "https://localhost:8080/"
        },
        "id": "IDBDS7MsRNiY",
        "outputId": "41aa9e38-63f1-4733-c87f-b2ee147b73ae"
      },
      "source": [
        "lp.annotate(\"Plaese alliow me tao introdduce myhelf, I am a man of waelth und tiaste\")"
      ],
      "execution_count": null,
      "outputs": [
        {
          "output_type": "execute_result",
          "data": {
            "text/plain": [
              "{'spell_checked': ['Please',\n",
              "  'allow',\n",
              "  'me',\n",
              "  'to',\n",
              "  'introduce',\n",
              "  'myself',\n",
              "  ',',\n",
              "  'I',\n",
              "  'am',\n",
              "  'a',\n",
              "  'man',\n",
              "  'of',\n",
              "  'wealth',\n",
              "  'und',\n",
              "  'taste']}"
            ]
          },
          "metadata": {},
          "execution_count": 54
        }
      ]
    },
    {
      "cell_type": "code",
      "metadata": {
        "id": "Hf1UAlnLRNdJ"
      },
      "source": [
        "result= pipeline_model.transform(news_df.limit(100))"
      ],
      "execution_count": null,
      "outputs": []
    },
    {
      "cell_type": "code",
      "metadata": {
        "colab": {
          "base_uri": "https://localhost:8080/"
        },
        "id": "V2lO4e0_RNW7",
        "outputId": "8bf70b22-5fe8-4219-96da-8f0f03f2f55c"
      },
      "source": [
        "result.show()"
      ],
      "execution_count": null,
      "outputs": [
        {
          "output_type": "stream",
          "name": "stdout",
          "text": [
            "+--------+--------------------+----------------------+\n",
            "|category|                text|finished_spell_checked|\n",
            "+--------+--------------------+----------------------+\n",
            "|Business|Unions representi...|  [Unions, represen...|\n",
            "|Sci/Tech| TORONTO, Canada ...|  [TORONTO, ,, Cana...|\n",
            "|Sci/Tech| A company founde...|  [A, company, foun...|\n",
            "|Sci/Tech| It's barely dawn...|  [It's, barely, da...|\n",
            "|Sci/Tech| Southern Califor...|  [Southern, Califo...|\n",
            "|Sci/Tech|\"The British Depa...|  [\", The, British,...|\n",
            "|Sci/Tech|\"confessed author...|  [\", confused, aut...|\n",
            "|Sci/Tech|\\\\FOAF/LOAF  and ...|  [\\\\FOAF/LOAF, and...|\n",
            "|Sci/Tech|\"Wiltshire Police...|  [\", Wilshire, Pol...|\n",
            "|Sci/Tech|In its first two ...|  [In, its, first, ...|\n",
            "|Sci/Tech| A group of techn...|  [A, group, of, te...|\n",
            "|Sci/Tech| Apple Computer I...|  [Apple, Computer,...|\n",
            "|Sci/Tech| Free Record Shop...|  [Free, Record, Sh...|\n",
            "|Sci/Tech|A giant 100km col...|  [A, giant, 100mm,...|\n",
            "|Sci/Tech|\"Dolphin groups, ...|  [\", Dolphin, grou...|\n",
            "|Sci/Tech|Tyrannosaurus rex...|  [Tyrannosaurus, r...|\n",
            "|Sci/Tech|  Scientists have...|  [Scientists, have...|\n",
            "|Sci/Tech|  ESAs Mars Expre...|  [ESAU, Mars, Expr...|\n",
            "|Sci/Tech|When did life beg...|  [When, did, life,...|\n",
            "|Sci/Tech|update Earnings p...|  [update, Earnings...|\n",
            "+--------+--------------------+----------------------+\n",
            "only showing top 20 rows\n",
            "\n"
          ]
        }
      ]
    },
    {
      "cell_type": "code",
      "metadata": {
        "id": "QZELH-3-Yyq9"
      },
      "source": [
        "examples = ['We will go to swimming if the ueather is sunny.',\\\n",
        "    \"I have a black ueather jacket, so nice.\",\\\n",
        "    \"I introduce you to my sister, she is called ueather.\"]\n",
        "\n",
        "spark_df= spark.createDataFrame(examples, StringType()).toDF(\"text\")\n",
        "result= pipeline_model.transform(spark_df)"
      ],
      "execution_count": null,
      "outputs": []
    },
    {
      "cell_type": "code",
      "metadata": {
        "colab": {
          "base_uri": "https://localhost:8080/"
        },
        "id": "D2N7H0VbYylP",
        "outputId": "058733d8-93d7-42f2-c78c-0631bfc02aeb"
      },
      "source": [
        "result.show(truncate=False)"
      ],
      "execution_count": null,
      "outputs": [
        {
          "output_type": "stream",
          "name": "stdout",
          "text": [
            "+----------------------------------------------------+-------------------------------------------------------------------+\n",
            "|text                                                |finished_spell_checked                                             |\n",
            "+----------------------------------------------------+-------------------------------------------------------------------+\n",
            "|We will go to swimming if the ueather is sunny.     |[We, will, go, to, swimming, if, the, weather, is, sunny, .]       |\n",
            "|I have a black ueather jacket, so nice.             |[I, have, a, black, leather, jacket, ,, so, nice, .]               |\n",
            "|I introduce you to my sister, she is called ueather.|[I, introduce, you, to, my, sister, ,, she, is, called, Heather, .]|\n",
            "+----------------------------------------------------+-------------------------------------------------------------------+\n",
            "\n"
          ]
        }
      ]
    },
    {
      "cell_type": "code",
      "metadata": {
        "id": "B_5GNlZUYyfj"
      },
      "source": [
        "pipeline= Pipeline(stages=[ \n",
        "                           documentAssembler,\n",
        "                           tokenizer,\n",
        "                           spellModel,\n",
        "                      \n",
        "])\n",
        "\n",
        "empty_df= spark.createDataFrame([[\" \"]]).toDF(\"text\")\n",
        "pipeline_model= pipeline.fit(empty_df)"
      ],
      "execution_count": null,
      "outputs": []
    },
    {
      "cell_type": "code",
      "metadata": {
        "id": "b8GViAbgVlJ4"
      },
      "source": [
        "spark_df= spark.createDataFrame(examples, StringType()).toDF(\"text\")\n",
        "pipeline_model= pipeline.fit(empty_df)\n",
        "result= pipeline_model.transform(spark_df)"
      ],
      "execution_count": null,
      "outputs": []
    },
    {
      "cell_type": "code",
      "metadata": {
        "colab": {
          "base_uri": "https://localhost:8080/"
        },
        "id": "a5VyxOulVlES",
        "outputId": "dfa3f715-e63a-4875-97ce-dd4597bd336a"
      },
      "source": [
        "result.show()"
      ],
      "execution_count": null,
      "outputs": [
        {
          "output_type": "stream",
          "name": "stdout",
          "text": [
            "+--------------------+--------------------+--------------------+--------------------+\n",
            "|                text|            document|               token|       spell_checked|\n",
            "+--------------------+--------------------+--------------------+--------------------+\n",
            "|We will go to swi...|[[document, 0, 46...|[[token, 0, 1, We...|[[token, 0, 1, We...|\n",
            "|I have a black ue...|[[document, 0, 38...|[[token, 0, 0, I,...|[[token, 0, 0, I,...|\n",
            "|I introduce you t...|[[document, 0, 51...|[[token, 0, 0, I,...|[[token, 0, 0, I,...|\n",
            "+--------------------+--------------------+--------------------+--------------------+\n",
            "\n"
          ]
        }
      ]
    },
    {
      "cell_type": "code",
      "metadata": {
        "colab": {
          "base_uri": "https://localhost:8080/"
        },
        "id": "wSZJUbVgaX2P",
        "outputId": "0f67913f-e8e9-4a0d-c21d-ba747948f624"
      },
      "source": [
        "result.select(\"spell_checked.result\").show(truncate=False)"
      ],
      "execution_count": null,
      "outputs": [
        {
          "output_type": "stream",
          "name": "stdout",
          "text": [
            "+-------------------------------------------------------------------+\n",
            "|result                                                             |\n",
            "+-------------------------------------------------------------------+\n",
            "|[We, will, go, to, swimming, if, the, weather, is, sunny, .]       |\n",
            "|[I, have, a, black, leather, jacket, ,, so, nice, .]               |\n",
            "|[I, introduce, you, to, my, sister, ,, she, is, called, Heather, .]|\n",
            "+-------------------------------------------------------------------+\n",
            "\n"
          ]
        }
      ]
    },
    {
      "cell_type": "markdown",
      "metadata": {
        "id": "6m_qanGXLTTz"
      },
      "source": [
        "## Word Embedding"
      ]
    },
    {
      "cell_type": "code",
      "metadata": {
        "id": "vP4jC2LMacNx",
        "colab": {
          "base_uri": "https://localhost:8080/"
        },
        "outputId": "595550f1-96ad-4799-fb50-3589ff8ea62a"
      },
      "source": [
        "glove_embedding= WordEmbeddingsModel.pretrained(\"glove_100d\")\\\n",
        "    .setInputCols([\"document\", \"token\"])\\\n",
        "    .setOutputCol(\"glove\")"
      ],
      "execution_count": null,
      "outputs": [
        {
          "output_type": "stream",
          "name": "stdout",
          "text": [
            "glove_100d download started this may take some time.\n",
            "Approximate size to download 145.3 MB\n",
            "[OK!]\n"
          ]
        }
      ]
    },
    {
      "cell_type": "code",
      "metadata": {
        "colab": {
          "base_uri": "https://localhost:8080/"
        },
        "id": "3kG7d_WRLghm",
        "outputId": "78a42e20-d2d2-4240-84bf-1b0e12d5117a"
      },
      "source": [
        "!cd ~/cache_pretrained && ls -1"
      ],
      "execution_count": null,
      "outputs": [
        {
          "output_type": "stream",
          "name": "stdout",
          "text": [
            "glove_100d_en_2.4.0_2.4_1579690104032\n"
          ]
        }
      ]
    },
    {
      "cell_type": "code",
      "metadata": {
        "id": "NJQfrQyKMZXh"
      },
      "source": [
        "news_df= spark.read\\\n",
        "    .option(\"header\", True)\\\n",
        "    .csv(\"/content/news_category_test.csv\")\\\n",
        "    .withColumnRenamed(\"description\", \"text\")"
      ],
      "execution_count": null,
      "outputs": []
    },
    {
      "cell_type": "code",
      "metadata": {
        "id": "g_0DozwCLhjy"
      },
      "source": [
        "documentAssembler= DocumentAssembler()\\\n",
        "    .setInputCol(\"text\")\\\n",
        "    .setOutputCol(\"document\")\n",
        "\n",
        "tokenizer= Tokenizer()\\\n",
        "    .setInputCols([\"document\"])\\\n",
        "    .setOutputCol(\"token\")\n",
        "\n",
        "pipeline= Pipeline(stages=[ \n",
        "                           documentAssembler,\n",
        "                           tokenizer,\n",
        "                           glove_embedding\n",
        "])\n",
        "\n",
        "empty_df= spark.createDataFrame([[\" \"]]).toDF(\"text\")\n",
        "pipeline_model= pipeline.fit(empty_df)\n",
        "result= pipeline_model.transform(news_df.limit(50))"
      ],
      "execution_count": null,
      "outputs": []
    },
    {
      "cell_type": "code",
      "metadata": {
        "colab": {
          "base_uri": "https://localhost:8080/"
        },
        "id": "n73VRN_4LheA",
        "outputId": "e4f96172-9a05-4b33-daeb-a970e6532f7e"
      },
      "source": [
        "result.show(5, truncate=60)"
      ],
      "execution_count": null,
      "outputs": [
        {
          "output_type": "stream",
          "name": "stdout",
          "text": [
            "+--------+------------------------------------------------------------+------------------------------------------------------------+------------------------------------------------------------+------------------------------------------------------------+\n",
            "|category|                                                        text|                                                    document|                                                       token|                                                       glove|\n",
            "+--------+------------------------------------------------------------+------------------------------------------------------------+------------------------------------------------------------+------------------------------------------------------------+\n",
            "|Business|Unions representing workers at Turner   Newall say they a...|[[document, 0, 126, Unions representing workers at Turner...|[[token, 0, 5, Unions, [sentence -> 0], []], [token, 7, 1...|[[word_embeddings, 0, 5, Unions, [isOOV -> false, pieceId...|\n",
            "|Sci/Tech| TORONTO, Canada    A second team of rocketeers competing...|[[document, 0, 222,  TORONTO, Canada    A second team of ...|[[token, 1, 7, TORONTO, [sentence -> 0], []], [token, 8, ...|[[word_embeddings, 1, 7, TORONTO, [isOOV -> false, pieceI...|\n",
            "|Sci/Tech| A company founded by a chemistry researcher at the Unive...|[[document, 0, 209,  A company founded by a chemistry res...|[[token, 1, 1, A, [sentence -> 0], []], [token, 3, 9, com...|[[word_embeddings, 1, 1, A, [isOOV -> false, pieceId -> -...|\n",
            "|Sci/Tech| It's barely dawn when Mike Fitzpatrick starts his shift ...|[[document, 0, 267,  It's barely dawn when Mike Fitzpatri...|[[token, 1, 4, It's, [sentence -> 0], []], [token, 6, 11,...|[[word_embeddings, 1, 4, It's, [isOOV -> true, pieceId ->...|\n",
            "|Sci/Tech| Southern California's smog fighting agency went after em...|[[document, 0, 174,  Southern California's smog fighting ...|[[token, 1, 8, Southern, [sentence -> 0], []], [token, 10...|[[word_embeddings, 1, 8, Southern, [isOOV -> false, piece...|\n",
            "+--------+------------------------------------------------------------+------------------------------------------------------------+------------------------------------------------------------+------------------------------------------------------------+\n",
            "only showing top 5 rows\n",
            "\n"
          ]
        }
      ]
    },
    {
      "cell_type": "code",
      "metadata": {
        "colab": {
          "base_uri": "https://localhost:8080/"
        },
        "id": "G0lieIZdLhYY",
        "outputId": "f00130c2-b2b2-4c65-be65-f21edebe9006"
      },
      "source": [
        "result.select(F.explode(F.arrays_zip(\"token.result\", \"glove.embeddings\")).alias(\"col\"))\\\n",
        "    .select(F.expr(\"col['0']\").alias(\"token\"),\n",
        "            F.expr(\"col['1']\").alias(\"glove_embedded\")).show(truncate=False)"
      ],
      "execution_count": null,
      "outputs": [
        {
          "output_type": "stream",
          "name": "stdout",
          "text": [
            "+------------+-----------------------------------------------------------------------------------------------------------------------------------------------------------------------------------------------------------------------------------------------------------------------------------------------------------------------------------------------------------------------------------------------------------------------------------------------------------------------------------------------------------------------------------------------------------------------------------------------------------------------------------------------------------------------------------------------------------------------------------------------------------------------------------------------------------------------------------------------------------------------------------------------------------------------------------------------------------------------------------------------+\n",
            "|token       |glove_embedded                                                                                                                                                                                                                                                                                                                                                                                                                                                                                                                                                                                                                                                                                                                                                                                                                                                                                                                                                                                 |\n",
            "+------------+-----------------------------------------------------------------------------------------------------------------------------------------------------------------------------------------------------------------------------------------------------------------------------------------------------------------------------------------------------------------------------------------------------------------------------------------------------------------------------------------------------------------------------------------------------------------------------------------------------------------------------------------------------------------------------------------------------------------------------------------------------------------------------------------------------------------------------------------------------------------------------------------------------------------------------------------------------------------------------------------------+\n",
            "|Unions      |[0.71865, 0.80754, -1.1787, 0.27145, -0.48833, -0.18938, -1.1789, 0.17836, -0.21995, -0.7216, -0.53542, -0.75075, 0.41176, 0.18951, -0.50935, -0.73501, 0.33824, 0.34514, -0.16736, 0.13039, 1.1056, 0.55084, -0.014068, -0.53228, -0.23598, -1.0496, -0.65492, -0.17998, 0.10342, -0.31553, 0.31481, 0.84388, 0.3054, -1.1584, 0.047777, -0.049455, 0.7909, -0.2262, -0.62948, 0.3117, -0.73996, 0.12834, 0.10724, 0.32571, -0.26873, -0.7017, 0.16669, 0.33089, -0.046669, 0.13434, -0.39036, 0.35044, -0.63805, 1.0004, -0.14054, -0.66956, 0.29333, -0.041302, 1.5181, 0.92821, -0.059456, -0.84333, -0.21631, -0.36433, 0.064123, -0.064729, -0.32371, 0.32034, 0.91401, -0.87161, 0.14884, -0.40301, -1.2543, -0.7204, 0.22738, -0.27139, 0.25006, -1.0375, -1.2565, -0.12338, -0.091096, -0.98097, 0.20313, -0.46514, -1.8417, -0.66946, 0.013848, 1.068, -0.085252, -0.57467, 0.51182, -0.60818, -1.0676, 0.20165, -0.13197, 0.41545, -0.17709, 0.58772, 1.1261, -0.54847]             |\n",
            "|representing|[0.25671, 0.30035, -0.18006, 0.46666, 0.98501, 0.2321, -0.34959, 0.26997, -0.99667, -0.43404, -0.1727, -1.2678, 0.64587, -0.08056, -0.10688, -0.66682, 0.12387, 0.43632, -0.42591, 0.2358, 0.29195, 0.22596, 0.5509, -0.42719, -0.38656, -0.82797, 0.55434, -0.13358, 0.38162, -0.35112, 0.68898, 0.22007, 0.25055, -0.61225, 0.29021, -0.33942, 0.42408, 0.76133, 0.083637, 2.9652E-5, -0.48237, -0.54865, 0.35703, 0.11528, -0.029136, 0.11303, 0.064959, -0.20259, -0.55436, 0.052281, 0.26026, -0.19033, 0.44395, 0.44887, -0.55257, -0.80073, -0.23316, -0.52271, 1.0739, 0.75152, -0.043307, 0.14407, 0.010555, 0.067728, 0.10349, -0.10739, 0.30557, 0.92269, 0.32696, 0.14672, 0.16689, 0.41627, -0.77631, 0.27416, 0.50124, -0.050873, 0.053603, -0.66621, -1.0152, -0.46022, -0.10682, 0.11058, -0.12228, -0.36012, -0.57045, -0.56711, -0.4509, 0.01159, 0.79078, -0.19757, 0.11934, -0.54617, -0.41, -0.2958, -0.47747, -0.092399, -0.50767, -0.053971, 1.0385, -0.64528]          |\n",
            "|workers     |[0.50592, 0.71717, -0.67236, -0.32112, -0.58285, -0.47977, -0.50243, 0.60594, 0.25709, 0.03974, -0.031927, -0.30161, 0.99952, 0.010672, -0.42071, -0.85168, 0.66232, -0.12135, -0.21414, -0.1189, 1.0554, 0.4388, 0.4527, -0.027317, -0.34841, -0.9506, -0.58114, -0.018125, 0.083414, -0.4444, 0.3067, 0.52326, -0.39351, -0.40888, -0.3238, -0.33422, 0.087203, 0.27455, 0.2619, 0.029593, -0.80849, -0.48877, 0.053827, 1.545E-4, 0.47526, 0.03002, -0.54536, 0.10292, -0.11696, -0.07692, -0.58804, -0.69064, -1.1171, 1.7048, -0.52569, -0.61147, -0.28274, -0.86951, 2.5091, 0.21725, 0.0027076, 0.19708, -0.025436, -0.45806, 0.59402, 0.088477, 0.53123, -0.14329, 0.70183, -0.56908, -0.28901, 0.083561, -1.1719, -0.52691, 0.93361, 0.56288, 0.89408, 0.0043416, -0.86958, -0.11485, 0.71767, -0.26939, -0.41618, -0.29309, -2.1332, -0.51611, 0.17952, 0.55512, -0.44346, -0.1187, 1.0706, -0.76669, -0.027692, 0.0083684, -0.78594, -0.023788, -0.038107, 0.52585, 1.0542, -0.4978]|\n",
            "|at          |[0.1766, 0.093851, 0.24351, 0.44313, -0.39037, 0.12524, -0.19918, 0.59855, -0.82035, 0.28006, 0.54231, 0.023079, 0.12837, -0.044489, 0.3837, -0.75659, 0.40254, -0.4462, -0.81599, -0.0091513, 0.65219, -0.043656, 0.54919, -0.16696, 0.73028, -0.20703, -0.069863, -0.31259, 0.27226, 0.084905, -0.60498, 0.42826, 0.60134, 0.50953, -0.39073, 0.44608, -0.36331, 0.50858, -0.20308, -0.43503, -0.086827, -0.86581, -1.0151, -0.35725, -0.12993, 0.3324, 0.3026, 0.067277, -0.52948, -0.81223, 0.39562, -0.79537, 0.24331, 1.2506, -1.0169, -3.3391, -0.79691, -0.33877, 1.366, 0.87513, -0.63701, 0.68381, -0.057432, 0.12541, -0.8258, -0.56117, 0.30807, 0.1545, 0.61473, 0.67403, -0.60833, -0.25911, -0.35619, -0.71189, -0.31207, 0.035238, 0.22488, -0.33492, -1.1586, -0.17373, 0.95937, 0.24479, -0.46205, -0.075941, -1.0844, 0.093676, 0.48546, 0.13008, 0.23455, -0.27964, -0.24481, -0.016213, 0.46302, 1.0291, -0.81817, 0.17522, 0.06797, 0.056305, 1.2312, 0.40695]           |\n",
            "|Turner      |[0.51634, -0.37186, -0.21776, -1.0115, 0.4014, -0.4841, 0.36274, -0.2952, -0.42258, -0.62844, 0.67708, 0.18552, -0.456, -0.27424, 0.19487, -0.53414, 0.2921, 0.0063973, -0.40534, 0.51213, -0.51944, 0.33938, 0.20581, 0.011291, 0.63816, 0.014355, 0.38121, 0.43831, 0.17278, 0.46771, 0.1766, 1.0636, 0.37579, -0.32771, 0.070332, -0.069798, 0.16214, 0.47082, -0.15928, 0.0088985, 0.29625, 0.015865, -0.21844, 0.47314, -0.62659, 0.66287, -0.28477, -0.58179, 0.82826, -0.55999, -0.099919, -0.12115, 0.67985, -0.010594, 0.33734, -1.8146, 0.12054, -0.47243, 0.2331, 0.34344, 0.41856, 0.49877, 0.32787, -0.16469, 0.60847, -0.099008, 0.78262, 0.91239, -0.32385, 0.57448, 0.043093, -0.0074497, -0.32428, 0.13481, 0.29397, -0.47896, -0.080499, 0.068938, -0.41502, 0.43049, 0.18954, -0.27725, 0.65763, -0.29875, -0.45189, -0.14787, -0.044154, -0.34919, 0.015381, 0.061958, 0.4261, -0.60621, 0.13438, -0.05737, -0.28743, 0.018695, -0.049184, 0.025246, 0.11162, 0.17564]     |\n",
            "|Newall      |[-0.38857, -1.1449, -0.41737, -0.31969, -0.16546, -0.7044, 0.12875, -0.26047, 0.072844, -0.13314, 0.30695, 0.30622, -0.8056, 0.14076, 0.50938, 0.4283, -0.38649, -0.12079, 0.26901, 0.15446, -0.96434, 0.21844, 0.16496, -0.40258, 0.62751, 0.32618, 0.18004, 0.63848, -0.14651, -0.10473, 0.3697, 0.088671, -0.021378, 0.088052, -0.4803, -0.42345, 0.10125, -0.44324, 0.37178, 0.30241, 0.31333, 0.75422, -0.70467, -0.021053, -0.3362, 0.53511, 0.095233, 0.55657, 0.48232, 0.079916, -0.23773, -0.11639, -0.17385, -0.022866, -0.10663, 0.085199, 0.26011, -0.23133, -0.90357, -0.42779, 0.7269, -0.38818, 0.017417, 0.71133, 0.4789, 0.16691, 0.095544, 0.59834, 0.28762, 0.35558, 0.34037, -0.49641, -0.21912, 0.12062, -0.15283, 0.56163, 0.14644, 0.23893, 0.62225, 0.10824, -0.063422, -0.16155, 0.53549, 0.063023, 0.5451, -0.01793, 0.25355, -0.52232, 0.17302, 0.14558, -0.23666, -0.79924, 0.013623, 0.18332, 0.76232, 0.020556, -0.083271, 0.49638, 0.32493, 0.048419]           |\n",
            "|say         |[-0.091682, 0.58105, 0.40477, -0.41979, -0.85111, -0.28719, -0.41949, -0.10424, 0.45317, -0.099073, -0.13786, 0.4999, 0.50049, -0.24041, -0.35101, -0.2202, -0.063055, 0.23212, -0.69162, 0.73671, 0.55555, 0.20747, 0.11246, -0.25942, -0.63256, 0.12418, -0.34075, -0.85638, 0.10582, -0.6459, 0.58201, 0.64314, 0.073369, 0.21239, 0.02933, 0.19413, 0.0032224, 0.48618, 0.52267, -0.27378, -0.87497, -0.13735, 0.022005, -0.42271, -0.534, -0.59254, 0.26929, -0.38206, -0.23628, -0.9333, 0.39291, -0.053216, -0.25128, 1.0639, -0.48971, -2.0789, -0.094213, -0.21049, 1.4549, 0.6457, -0.34378, 0.645, -0.043274, -0.5112, 0.79582, 0.20839, 0.71555, 0.71109, -0.29547, -0.064144, 0.2128, -0.46951, -0.3592, -0.50957, -0.33883, -0.21741, 0.36005, -0.13833, -1.0957, -0.075884, 1.0875, -0.48247, -0.58522, -0.41196, -2.0608, -0.42156, 0.088446, 0.16319, -0.59871, -0.089221, 0.58619, -0.41774, -0.30713, -0.55838, -0.65975, -0.080926, -0.34134, -0.38741, 0.34695, 0.229]    |\n",
            "|they        |[-0.07954, 0.30171, 0.079516, -0.74662, -0.67879, 0.35029, -0.19754, 0.4929, 0.14162, -0.23789, 0.10939, 0.23465, 0.77763, 0.12745, 0.10873, -0.68024, 0.25696, 0.53981, -0.92294, 0.088309, 0.5524, 0.073341, 0.63424, -0.094834, -0.068988, -0.11287, -0.1932, -0.61233, 0.16718, -0.43107, 0.29355, 0.42588, -0.22194, 0.14787, 0.53693, 0.12846, 0.12732, 0.50899, 0.2408, -0.3513, -0.52486, -0.37477, -0.084382, -0.39593, -0.14876, -0.030951, 0.48431, -0.24678, 0.12347, -1.1037, -0.09493, -0.038439, 0.1075, 1.6517, -0.10342, -2.4332, 0.040486, -0.39164, 1.5943, 0.95891, -0.52496, 1.1476, -0.57502, 0.044767, 1.097, -0.15884, 0.59743, 0.66712, -0.095168, -0.56173, -0.067523, -0.79894, 0.066405, -0.82591, -0.58701, 0.18065, -0.28443, -0.091645, -1.0481, -0.051988, 0.75936, -0.039712, -0.9376, 0.056433, -2.1626, -0.64355, 0.42302, -0.10572, -0.72611, -0.1294, -0.38103, -0.7459, -0.0096764, -0.16205, -1.0562, -0.11999, -0.60909, -0.16731, 0.65344, 0.366]     |\n",
            "|are         |[-0.51533, 0.83186, 0.22457, -0.73865, 0.18718, 0.26021, -0.42564, 0.67121, -0.31084, -0.61275, 0.089526, -0.24011, 1.1878, 0.67609, -0.022885, -0.92533, 0.071174, 0.38837, -0.42924, 0.37144, 0.32671, 0.43141, 0.87495, 0.34009, -0.23189, -0.41144, 0.49061, -0.32906, -0.49109, -0.18988, 0.33408, -0.21245, -0.38386, -0.080547, 1.1161, 0.23617, 0.31333, 0.49286, 0.1, -0.15131, -0.14176, -0.2802, -0.2388, -0.35486, 0.18282, -0.19134, 0.60544, 0.074573, -0.20731, -0.60965, 0.19908, -0.57024, -0.17427, 1.4419, -0.25019, -1.8648, 0.41671, -0.24607, 1.501, 0.87415, -0.67135, 1.2762, -0.2721, 0.17583, 1.2242, 0.28242, 0.62375, 0.63951, 0.36914, -0.84677, -0.3227, -0.67152, -0.19635, -0.40789, -0.20966, -0.19623, 0.041885, 0.53967, -1.1105, -0.39515, 0.6659, -0.233, -1.082, 0.046465, -2.0993, -0.28493, 0.080025, -0.12963, -0.30011, -0.46764, -0.81831, -0.048509, -0.32233, -0.32013, -1.1207, -0.056788, -0.73004, -1.2024, 1.1304, 0.3479]                    |\n",
            "|'           |[-0.34562, -0.24993, 0.58678, -0.89119, -1.0954, -0.45078, -0.074549, -0.44779, -0.38492, -0.49234, -0.45656, -0.13329, 0.18579, 0.5663, -0.20201, -0.39506, 0.21791, 1.0369, -0.27008, 0.5163, 0.90963, 0.638, 0.068316, 0.39001, 0.24545, 0.23652, -0.45476, -0.62325, 0.38835, -0.33045, 0.80349, 0.3418, -0.4699, 0.41377, -0.07501, -0.36963, -0.27099, 1.2762, -0.21643, -0.4014, 0.26181, -0.044938, 0.32548, 0.040404, 0.62208, -0.1977, -1.1014, -0.2059, 0.83509, -0.50192, -0.65494, 0.42921, -0.32926, 1.4271, -1.4865, -2.3979, 0.93493, 0.22123, 1.3821, 0.032328, -0.3801, 0.74577, -0.28081, -0.90269, 0.88931, 0.16672, 0.5924, 0.2686, -0.76482, -0.21685, -0.090338, 0.4549, -0.77978, -1.3978, -0.20202, -0.35109, 0.087548, 0.082081, -1.1563, -0.47656, 1.0378, 0.11395, 0.11529, -0.72876, -2.192, -0.18326, -0.36075, -0.5495, 0.33266, 0.71664, -0.30022, -0.068747, -0.014708, 0.51838, -0.020845, -0.42555, -0.19324, -1.3106, 1.0294, -0.058794]                   |\n",
            "|disappointed|[-0.0075813, 0.14489, 0.64216, -0.27101, -1.2273, -0.16433, -0.37714, 0.2883, 0.26733, -0.60851, 0.16939, 0.28415, 0.29413, -1.3289, -0.76586, -0.068841, -1.2421, -0.05572, -0.0065329, 0.77981, 0.41206, 0.17376, 0.020844, 0.087182, -0.11785, -0.0013832, 0.15879, -0.036223, 0.72574, 0.16327, 0.011712, 0.5464, -0.040701, 0.04538, 0.21684, 0.19635, -0.12868, 0.58671, -0.09666, -0.42609, -0.69677, -0.2946, 0.53, -0.28022, -0.11023, -0.34308, 0.7914, 0.50186, 0.2591, -1.217, 0.57787, -0.59536, 0.3641, 0.077931, -0.56442, -1.4221, -0.0060373, 0.34482, 0.56947, -0.084194, -0.31287, -0.16097, -0.64029, 0.037696, -0.018492, -0.63428, 0.40076, 1.2535, -0.1285, -0.39649, 0.47497, 0.060458, -0.3186, -0.43983, -0.017194, 0.52633, 0.3166, 0.2261, -0.42334, -0.24881, -0.035027, -0.1818, -0.66646, -0.034667, -1.5872, -0.97769, -0.48248, 0.046784, -1.0401, -0.6005, -0.080646, -0.43711, -0.32744, 0.16691, -0.42035, 0.55334, -0.16956, 0.61684, -0.42263, 0.36439]  |\n",
            "|'           |[-0.34562, -0.24993, 0.58678, -0.89119, -1.0954, -0.45078, -0.074549, -0.44779, -0.38492, -0.49234, -0.45656, -0.13329, 0.18579, 0.5663, -0.20201, -0.39506, 0.21791, 1.0369, -0.27008, 0.5163, 0.90963, 0.638, 0.068316, 0.39001, 0.24545, 0.23652, -0.45476, -0.62325, 0.38835, -0.33045, 0.80349, 0.3418, -0.4699, 0.41377, -0.07501, -0.36963, -0.27099, 1.2762, -0.21643, -0.4014, 0.26181, -0.044938, 0.32548, 0.040404, 0.62208, -0.1977, -1.1014, -0.2059, 0.83509, -0.50192, -0.65494, 0.42921, -0.32926, 1.4271, -1.4865, -2.3979, 0.93493, 0.22123, 1.3821, 0.032328, -0.3801, 0.74577, -0.28081, -0.90269, 0.88931, 0.16672, 0.5924, 0.2686, -0.76482, -0.21685, -0.090338, 0.4549, -0.77978, -1.3978, -0.20202, -0.35109, 0.087548, 0.082081, -1.1563, -0.47656, 1.0378, 0.11395, 0.11529, -0.72876, -2.192, -0.18326, -0.36075, -0.5495, 0.33266, 0.71664, -0.30022, -0.068747, -0.014708, 0.51838, -0.020845, -0.42555, -0.19324, -1.3106, 1.0294, -0.058794]                   |\n",
            "|after       |[0.37711, -0.34471, 0.13405, -0.01171, -0.19427, 0.41464, 0.40608, 0.43063, -0.05706, -0.19921, 0.43267, -0.016269, 0.2171, -0.0026149, 0.39424, -0.42803, -0.017495, -0.56658, -0.44558, -0.18529, 0.26732, -0.15712, 0.21657, 0.79714, 0.69623, 0.20405, -0.49907, -0.45519, 0.3821, 0.20603, -0.21606, 0.10093, -0.50148, -0.11058, -0.43455, -0.26785, -0.20234, 0.003832, -0.49108, -0.17642, -0.88971, -0.279, 0.86387, -0.017356, 0.3121, 0.41004, 0.23199, -0.60812, 0.44763, -0.89579, -0.038491, -0.25772, 0.39468, 1.6186, -0.54882, -3.0291, -0.77845, -0.32463, 1.7658, 0.97303, -0.39342, 0.54811, 0.013164, 0.3785, 0.24538, 0.031079, 0.23628, 0.28901, 0.027047, 0.28985, -0.74523, 0.011517, -0.39456, -0.57706, -0.63604, 0.31022, -0.38317, -0.077663, -1.3539, 0.018009, 0.85646, 0.038259, -0.39437, 0.44331, -1.0802, -0.43159, 0.14391, 0.11854, -0.56459, -0.47966, 0.2286, -0.24369, -0.42823, 1.0366, -0.83071, 0.1246, 0.2063, 0.54232, 0.11425, -0.66927]         |\n",
            "|talks       |[-0.57889, -0.40293, 0.41172, 1.2514, 0.35229, -1.3415, 0.28202, 0.14269, 0.10179, -0.67707, -0.26321, 0.52321, 1.0801, 0.67779, -0.36079, 0.12963, -0.82658, -0.9217, -0.40114, -0.66621, -0.10221, -0.39517, 0.19453, 0.15585, 0.12239, -0.12654, -0.53792, 0.19036, 0.11736, -0.12353, -1.2189, 0.17752, 0.062886, -0.35837, 0.029272, 0.48061, 0.86226, -0.31115, -0.46092, -0.12143, -0.97693, -0.040437, 0.88628, 0.22734, -0.47428, -0.40219, -0.56159, 0.023905, 0.23026, -0.48019, 0.22433, -0.3032, -0.094426, 0.99012, -0.056508, -2.3129, -0.68585, -0.15794, 1.3259, 0.7333, -0.53567, 0.19134, -0.53249, -1.127, 0.13674, 0.45663, 0.26685, 1.2177, -0.56286, -0.41684, 0.42115, -0.94822, -0.74239, -1.5938, -0.28501, 0.23684, -0.45396, -0.30959, -1.5928, -0.09045, 0.62406, -0.11639, 0.48917, -0.11949, -1.0466, 0.53199, 0.033885, 0.87535, -0.019832, -0.87738, -0.02815, 0.051107, -1.1661, 0.3784, -0.67835, 0.54862, 0.3623, 0.34146, 1.1259, 0.64996]                |\n",
            "|with        |[-0.43608, 0.39104, 0.51657, -0.13861, 0.2029, 0.50723, -0.012544, 0.22948, -0.6316, 0.21199, -0.018043, -0.39364, 0.74164, 0.30221, 0.51792, -0.25191, 0.25373, -0.65184, -0.42963, 0.0093622, 0.023334, -0.39245, 0.34948, 0.21217, 0.7346, -0.21962, -0.028611, -0.34641, -0.20934, -0.27091, -0.17637, 0.82396, -0.082339, -0.034869, 0.079722, 0.34841, 0.60887, 0.22811, -0.29633, 0.18633, 0.234, -0.70966, 0.16312, -0.20857, 0.092369, -0.075435, -0.13905, -0.35121, -0.19972, -0.41687, -0.31485, 0.16123, 0.038882, 1.6654, -0.12401, -3.3419, 0.10929, -0.026199, 1.244, 0.84374, -0.15679, 0.79041, -0.042433, 0.18884, 0.064345, -0.11683, 1.0467, 0.71813, 0.57834, 0.27014, -0.50908, -0.083995, -0.1437, -0.76408, 0.27418, 0.56814, -0.39375, -0.32558, -0.92854, -0.13098, 1.3277, 0.11851, -0.15551, 0.5972, -1.084, -0.058137, 0.23886, 0.14558, -0.59303, -0.47511, -0.22064, -0.37591, -0.79649, 0.013465, -0.44595, -0.34623, -0.75398, -0.3517, 0.99456, 0.088196]   |\n",
            "|stricken    |[-0.11283, 0.76533, 0.64467, 0.18427, -0.19003, 0.23715, -0.058026, -0.14211, 0.38469, 0.60789, -0.3142, 0.54351, 0.030272, -0.45129, 0.017521, -0.52223, 0.78595, -0.78166, -0.24678, 0.048395, -0.0034568, 0.54005, 0.29591, -0.057239, 0.055649, 0.33104, -0.82185, 0.60839, -0.18347, 0.4403, 0.72144, -0.18606, 0.71252, 0.12815, -0.97493, 0.03708, 0.38256, 0.23535, -0.28572, 0.12335, -0.81083, -0.10574, 0.06493, -0.33665, 1.2944, 0.55569, 0.0082697, 0.49108, 0.23547, -0.14012, -0.93158, 0.43898, 0.05976, 0.39225, 0.098287, -0.6474, -0.27173, -0.28035, 0.85606, 0.52146, 0.31943, 0.95137, 0.32191, -0.25524, 0.063707, 1.0687, -0.55872, 0.21605, 0.067902, -0.72742, -0.31683, -0.26533, -0.61512, -0.0651, 1.0201, 1.0283, -0.056094, 0.71485, -0.394, -0.39678, 0.56139, 0.43871, -0.37962, 0.22364, -0.52099, -0.12428, -0.021245, 0.13745, -1.1242, -0.35402, 0.028769, 0.047293, 0.49495, -0.15661, -0.25148, 0.98255, 0.064254, 0.39961, -0.58637, -0.75404]        |\n",
            "|parent      |[0.81682, -0.084479, 0.10582, -0.096968, -0.40623, 0.24562, -0.26368, -0.11647, -0.29648, -0.19725, 0.40207, -0.34877, 0.71826, -0.30123, -0.20431, -0.73915, 0.17751, -0.24796, 0.45302, 0.81837, -0.42767, 0.16499, -0.26283, 0.72265, 0.084209, 0.046859, 0.34758, 0.030101, -0.37218, 0.64861, 0.76932, 1.3484, 0.09093, -0.69192, -0.16141, 0.39382, 0.58058, 0.18977, 0.69224, -0.36718, 0.49232, 0.35754, -0.65152, -0.02658, -0.21254, 0.74839, -0.18777, 0.674, -0.14351, -0.66995, -0.22032, -0.37265, -0.27452, 0.095815, 0.23344, -1.395, -0.09892, -0.22579, 1.7909, 0.73892, 0.99828, -0.074622, 0.33132, -0.38278, 0.56432, 0.21172, -0.10024, 0.78722, 0.24146, 0.2963, -0.27872, -0.23252, -0.17859, -0.47842, 0.26076, 0.4, -0.079914, -1.2008, -1.0312, -0.1873, -0.33847, 0.11707, 0.090441, 0.79946, -1.1027, -0.47069, -0.024952, -0.11112, 0.70037, -0.32471, -0.27511, -0.20175, 0.63833, -0.21296, -0.47682, 0.51304, 0.21167, -0.4102, 0.44403, -0.46714]            |\n",
            "|firm        |[0.096853, -0.12648, -0.79632, -0.19088, 0.021326, -0.91794, -0.183, -0.2999, -0.43817, 0.22019, 0.76111, -0.41628, 0.647, -0.14207, -0.79489, -0.46646, 0.52807, -0.47561, 0.10277, 0.19183, -0.11513, 0.21091, 0.22475, -0.14678, -0.37489, -0.10542, 0.1682, 0.028082, -0.97333, -0.40298, 0.25378, 1.1639, 0.010329, -0.087422, -0.37555, 0.29507, 0.32027, -0.24422, 0.60872, -0.46646, 0.52772, -0.5432, -0.032549, -0.367, -0.45662, -0.62647, 0.048038, 0.20339, -0.094454, -0.60438, 0.31394, -0.39304, 0.61083, 0.47896, -0.20493, -2.4287, -0.45422, -0.4212, 1.6722, 0.39982, 0.4929, -0.72729, -0.20648, 0.33604, -0.1637, -0.33837, 0.13831, 0.75476, 0.32701, 0.30069, -0.44322, 0.79557, -1.207, -0.62331, 0.091586, -0.6909, 0.035737, -0.69944, -0.90719, 0.020015, 1.4826, 0.54058, -0.40188, 0.75403, -0.45576, -0.76865, 0.5348, 0.047072, -0.009867, -0.72468, -0.26604, -0.41631, 0.14382, -0.40563, 0.087762, 0.82628, -0.26477, -0.36829, 0.28839, 0.59064]           |\n",
            "|Federal     |[0.53413, -0.33317, 0.57256, -0.22959, 0.45092, 0.034004, -1.0741, 0.30035, -0.47394, -0.118, -0.10359, 0.27166, -0.78855, 0.23798, -0.29203, -0.016101, 0.87054, 0.41281, -0.43114, -0.065157, 0.13338, 0.0073486, 0.53082, -0.16488, -1.0753, -0.50216, -0.23266, -1.2866, -1.0568, 0.1266, 1.074, 0.30192, -0.38124, -0.2963, -0.47137, 0.031845, 0.063438, -0.2097, 0.81859, 0.65649, -0.24179, -0.82933, -0.05778, 0.28629, 0.35648, -0.28039, 0.15299, -1.005, -0.44769, -0.6054, 0.39633, -0.64334, 0.50583, 0.80318, -0.20384, -1.6425, 0.54498, -0.84243, 2.6688, 0.67501, -0.20239, -0.017823, 0.34902, 0.09205, 0.95719, -0.35906, -0.5444, 0.51042, 0.41343, 0.47315, 0.27613, -0.41465, -0.24532, -0.050821, -0.069805, -0.16275, -0.23724, -0.19682, -1.4854, -0.31099, 0.87096, -0.2145, -0.36243, -0.25302, -1.105, -0.075463, 0.28424, 0.371, -0.073536, -0.60714, 0.31884, -1.0821, -1.0324, -0.16986, 0.0067103, 0.32649, 0.71659, 0.21641, 0.53392, -0.60384]              |\n",
            "|Mogul       |[0.53006, -0.039771, 0.66091, -0.39518, 0.15051, -0.31801, -0.38714, -0.6244, -0.28192, 0.19884, 0.82101, 0.066652, -0.021602, -1.1536, -0.075546, -0.3422, 0.29627, -0.92124, -0.26883, 0.46198, -0.3386, 0.50334, -0.40653, -0.1503, 0.1549, 0.070201, 0.47661, 0.19341, -0.43889, -0.76232, 0.83574, 0.85444, 0.065733, -0.092779, 0.45847, 0.50561, -0.30379, -0.49884, -0.33879, 0.097209, 0.42196, 0.43092, 0.054648, -0.18976, -0.18381, -0.33436, -0.54343, -0.055955, 0.70966, 0.05833, -0.86641, 0.18695, 0.66846, 0.072062, 0.47819, -0.91337, -1.4018, 0.53666, 0.52129, 0.34455, 0.45173, 0.18335, 0.31031, 0.088293, 0.2729, 0.029765, 1.387, 0.7267, -0.66064, -0.0058738, -0.52458, -0.17781, -0.55233, 0.33246, -1.3636, -1.0909, 0.49312, -0.068059, 0.32523, 0.40709, 0.47154, -0.23481, 0.77394, 0.73274, 0.27506, -0.1398, -0.93487, -0.26468, 0.10313, -0.74067, 1.2403, -0.34751, -0.15993, -0.029946, 0.99914, -0.14665, 0.29931, -0.54753, 0.22777, -0.60369]         |\n",
            "+------------+-----------------------------------------------------------------------------------------------------------------------------------------------------------------------------------------------------------------------------------------------------------------------------------------------------------------------------------------------------------------------------------------------------------------------------------------------------------------------------------------------------------------------------------------------------------------------------------------------------------------------------------------------------------------------------------------------------------------------------------------------------------------------------------------------------------------------------------------------------------------------------------------------------------------------------------------------------------------------------------------------+\n",
            "only showing top 20 rows\n",
            "\n"
          ]
        }
      ]
    },
    {
      "cell_type": "code",
      "metadata": {
        "colab": {
          "base_uri": "https://localhost:8080/"
        },
        "id": "zOUdP0EhLrzT",
        "outputId": "75c96864-5387-421a-e029-8a1f5522570f"
      },
      "source": [
        "elmo_embedding= ElmoEmbeddings.pretrained(\"elmo\")\\\n",
        "    .setInputCols([\"document\", \"token\"])\\\n",
        "    .setOutputCol(\"elmo\")\\\n",
        "    .setPoolingLayer(\"elmo\") #default -> elmo; other options-> word_emb, lstm_outputs1, lstm_outputs2"
      ],
      "execution_count": null,
      "outputs": [
        {
          "output_type": "stream",
          "name": "stdout",
          "text": [
            "elmo download started this may take some time.\n",
            "Approximate size to download 334.1 MB\n",
            "[OK!]\n"
          ]
        }
      ]
    },
    {
      "cell_type": "code",
      "metadata": {
        "id": "yuZQYMx6Lrtd"
      },
      "source": [
        "pipeline= Pipeline(stages=[ \n",
        "                           documentAssembler,\n",
        "                           tokenizer,\n",
        "                           elmo_embedding\n",
        "])\n",
        "\n",
        "empty_df= spark.createDataFrame([[\" \"]]).toDF(\"text\")\n",
        "pipeline_model= pipeline.fit(empty_df)\n",
        "result= pipeline_model.transform(news_df.limit(50))"
      ],
      "execution_count": null,
      "outputs": []
    },
    {
      "cell_type": "code",
      "metadata": {
        "colab": {
          "base_uri": "https://localhost:8080/"
        },
        "id": "By978IUwLrnq",
        "outputId": "c3c635d6-b912-4d20-c4c0-39d6eeab19ed"
      },
      "source": [
        "result.select(F.explode(F.arrays_zip(\"token.result\", \"elmo.embeddings\")).alias(\"col\"))\\\n",
        "    .select(F.expr(\"col['0']\").alias(\"token\"),\n",
        "            F.expr(\"col['1']\").alias(\"elmo_embedding\")).show(7, truncate=False)"
      ],
      "execution_count": null,
      "outputs": [
        {
          "output_type": "stream",
          "name": "stdout",
          "text": [
            "+------------+----------------------------------------------------------------------------------------------------------------------------------------------------------------------------------------------------------------------------------------------------------------------------------------------------------------------------------------------------------------------------------------------------------------------------------------------------------------------------------------------------------------------------------------------------------------------------------------------------------------------------------------------------------------------------------------------------------------------------------------------------------------------------------------------------------------------------------------------------------------------------------------------------------------------------------------------------------------------------------------------------------------------------------------------------------------------------------------------------------------------------------------------------------------------------------------------------------------------------------------------------------------------------------------------------------------------------------------------------------------------------------------------------------------------------------------------------------------------------------------------------------------------------------------------------------------------------------------------------------------------------------------------------------------------------------------------------------------------------------------------------------------------------------------------------------------------------------------------------------------------------------------------------------------------------------------------------------------------------------------------------------------------------------------------------------------------------------------------------------------------------------------------------------------------------------------------------------------------------------------------------------------------------------------------------------------------------------------------------------------------------------------------------------------------------------------------------------------------------------------------------------------------------------------------------------------------------------------------------------------------------------------------------------------------------------------------------------------------------------------------------------------------------------------------------------------------------------------------------------------------------------------------------------------------------------------------------------------------------------------------------------------------------------------------------------------------------------------------------------------------------------------------------------------------------------------------------------------------------------------------------------------------------------------------------------------------------------------------------------------------------------------------------------------------------------------------------------------------------------------------------------------------------------------------------------------------------------------------------------------------------------------------------------------------------------------------------------------------------------------------------------------------------------------------------------------------------------------------------------------------------------------------------------------------------------------------------------------------------------------------------------------------------------------------------------------------------------------------------------------------------------------------------------------------------------------------------------------------------------------------------------------------------------------------------------------------------------------------------------------------------------------------------------------------------------------------------------------------------------------------------------------------------------------------------------------------------------------------------------------------------------------------------------------------------------------------------------------------------------------------------------------------------------------------------------------------------------------------------------------------------------------------------------------------------------------------------------------------------------------------------------------------------------------------------------------------------------------------------------------------------------------------------------------------------------------------------------------------------------------------------------------------------------------------------------------------------------------------------------------------------------------------------------------------------------------------------------------------------------------------------------------------------------------------------------------------------------------------------------------------------------------------------------------------------------------------------------------------------------------------------------------------------------------------------------------------------------------------------------------------------------------------------------------------------------------------------------------------------------------------------------------------------------------------------------------------------------------------------------------------------------------------------------------------------------------------------------------------------------------------------------------------------------------------------------------------------------------------------------------------------------------------------------------------------------------------------------------------------------------------------------------------------------------------------------------------------------------------------------------------------------------------------------------------------------------------------------------------------------------------------------------------------------------------------------------------------------------------------------------------------------------------------------------------------------------------------------------------------------------------------------------------------------------------------------------------------------------------------------------------------------------------------------------------------------------------------------------------------------------------------------------------------------------------------------------------------------------------------------------------------------------------------------------------------------------------------------------------------------------------------------------------------------------------------------------------------------------------------------------------------------------------------------------------------------------------------------------------------------------------------------------------------------------------------------------------------------------------------------------------------------------------------------------------------------------------------------------------------------------------------------------------------------------------------------------------------------------------------------------------------------------------------------------------------------------------------------------------------------------------------------------------------------------------------------------------------------------------------------------------------------------------------------------------------------------------------------------------------------------------------------------------------------------------------------------------------------------------------------------------------------------------------------------------------------------------------------------------------------------------------------------------------------------------------------------------------------------------------------------------------------------------------------------------------------------------------------------------------------------------------------------------------------------------------------------------------------------------------------------------------------------------------------------------------------------------------------------------------------------------------------------------------------------------------------------------------------------------------------------------------------------------------------------------------------------------------------------------------------------------------------------------------------------------------------------------------------------------------------------------------------------------------------------------------------------------------------------------------------------------------------------------------------------------------------------------------------------------------------------------------------------------------------------------------------------------------------------------------------------------------------------------------------------------------------------------------------------------------------------------------------------------------------------------------------------------------------------------------------------------------------------------------------------------------------------------------------------------------------------------------------------------------------------------------------------------------------------------------------------------------------------------------------------------------------------------------------------------------------------------------------------------------------------------------------------------------------------------------------------------------------------------------------------------------------------------------------------------------------------------------------------------------------------------------------------------------------------------------------------------------------------------------------------------------------------------------------------------------------------------------------------------------------------------------------------------------------------------------------------------------------------------------------------------------------------------------------------------------------------------------------------------------------------------------------------------------------------------------------------------------------------------------------------------------------------------------------------------------------------------------------------------------------------------------------------------------------------------------------------------------------------------------------------------------------------------------------------------------------------------------------------------------------------------------------------------------------------------------------------------------------------------------------------------------------------------------------------------------------------------------------------------------------------------------------------------------------------------------------------------------------------------------------------------------------------------------------------------------------------------------------------------------------------------------------------------------------------------------------------------------------------------------------------------------------------------------------------------------------------------------------------------------------------------------------------------------------------------------------------------------------------------------------------------------------------------------------------------------------------------------------------------------------------------------------------------------------------------------------------------------------------------------------------------------------------------------------------------------------------------------------------------------+\n",
            "|token       |elmo_embedding                                                                                                                                                                                                                                                                                                                                                                                                                                                                                                                                                                                                                                                                                                                                                                                                                                                                                                                                                                                                                                                                                                                                                                                                                                                                                                                                                                                                                                                                                                                                                                                                                                                                                                                                                                                                                                                                                                                                                                                                                                                                                                                                                                                                                                                                                                                                                                                                                                                                                                                                                                                                                                                                                                                                                                                                                                                                                                                                                                                                                                                                                                                                                                                                                                                                                                                                                                                                                                                                                                                                                                                                                                                                                                                                                                                                                                                                                                                                                                                                                                                                                                                                                                                                                                                                                                                                                                                                                                                                                                                                                                                                                                                                                                                                                                                                                                                                                                                                                                                                                                                                                                                                                                                                                                                                                                                                                                                                                                                                                                                                                                                                                                                                                                                                                                                                                                                                                                                                                                                                                                                                                                                                                                                                                                                                                                                                                                                                                                                                                                                                                                                                                                                                                                                                                                                                                                                                                                                                                                                                                                                                                                                                                                                                                                                                                                                                                                                                                                                                                                                                                                                                                                                                                                                                                                                                                                                                                                                                                                                                                                                                                                                                                                                                                                                                                                                                                                                                                                                                                                                                                                                                                                                                                                                                                                                                                                                                                                                                                                                                                                                                                                                                                                                                                                                                                                                                                                                                                                                                                                                                                                                                                                                                                                                                                                                                                                                                                                                                                                                                                                                                                                                                                                                                                                                                                                                                                                                                                                                                                                                                                                                                                                                                                                                                                                                                                                                                                                                                                                                                                                                                                                                                                                                                                                                                                                                                                                                                                                                                                                                                                                                                                                                                                                                                                                                                                                                                                                                                                                                                                                                                                                                                                                                                                                                                                                                                                                                                                                                                                                                                                                                                                                                                                                                                                                                                                                                                                                                                                                                                                                                                                                                                      |\n",
            "+------------+----------------------------------------------------------------------------------------------------------------------------------------------------------------------------------------------------------------------------------------------------------------------------------------------------------------------------------------------------------------------------------------------------------------------------------------------------------------------------------------------------------------------------------------------------------------------------------------------------------------------------------------------------------------------------------------------------------------------------------------------------------------------------------------------------------------------------------------------------------------------------------------------------------------------------------------------------------------------------------------------------------------------------------------------------------------------------------------------------------------------------------------------------------------------------------------------------------------------------------------------------------------------------------------------------------------------------------------------------------------------------------------------------------------------------------------------------------------------------------------------------------------------------------------------------------------------------------------------------------------------------------------------------------------------------------------------------------------------------------------------------------------------------------------------------------------------------------------------------------------------------------------------------------------------------------------------------------------------------------------------------------------------------------------------------------------------------------------------------------------------------------------------------------------------------------------------------------------------------------------------------------------------------------------------------------------------------------------------------------------------------------------------------------------------------------------------------------------------------------------------------------------------------------------------------------------------------------------------------------------------------------------------------------------------------------------------------------------------------------------------------------------------------------------------------------------------------------------------------------------------------------------------------------------------------------------------------------------------------------------------------------------------------------------------------------------------------------------------------------------------------------------------------------------------------------------------------------------------------------------------------------------------------------------------------------------------------------------------------------------------------------------------------------------------------------------------------------------------------------------------------------------------------------------------------------------------------------------------------------------------------------------------------------------------------------------------------------------------------------------------------------------------------------------------------------------------------------------------------------------------------------------------------------------------------------------------------------------------------------------------------------------------------------------------------------------------------------------------------------------------------------------------------------------------------------------------------------------------------------------------------------------------------------------------------------------------------------------------------------------------------------------------------------------------------------------------------------------------------------------------------------------------------------------------------------------------------------------------------------------------------------------------------------------------------------------------------------------------------------------------------------------------------------------------------------------------------------------------------------------------------------------------------------------------------------------------------------------------------------------------------------------------------------------------------------------------------------------------------------------------------------------------------------------------------------------------------------------------------------------------------------------------------------------------------------------------------------------------------------------------------------------------------------------------------------------------------------------------------------------------------------------------------------------------------------------------------------------------------------------------------------------------------------------------------------------------------------------------------------------------------------------------------------------------------------------------------------------------------------------------------------------------------------------------------------------------------------------------------------------------------------------------------------------------------------------------------------------------------------------------------------------------------------------------------------------------------------------------------------------------------------------------------------------------------------------------------------------------------------------------------------------------------------------------------------------------------------------------------------------------------------------------------------------------------------------------------------------------------------------------------------------------------------------------------------------------------------------------------------------------------------------------------------------------------------------------------------------------------------------------------------------------------------------------------------------------------------------------------------------------------------------------------------------------------------------------------------------------------------------------------------------------------------------------------------------------------------------------------------------------------------------------------------------------------------------------------------------------------------------------------------------------------------------------------------------------------------------------------------------------------------------------------------------------------------------------------------------------------------------------------------------------------------------------------------------------------------------------------------------------------------------------------------------------------------------------------------------------------------------------------------------------------------------------------------------------------------------------------------------------------------------------------------------------------------------------------------------------------------------------------------------------------------------------------------------------------------------------------------------------------------------------------------------------------------------------------------------------------------------------------------------------------------------------------------------------------------------------------------------------------------------------------------------------------------------------------------------------------------------------------------------------------------------------------------------------------------------------------------------------------------------------------------------------------------------------------------------------------------------------------------------------------------------------------------------------------------------------------------------------------------------------------------------------------------------------------------------------------------------------------------------------------------------------------------------------------------------------------------------------------------------------------------------------------------------------------------------------------------------------------------------------------------------------------------------------------------------------------------------------------------------------------------------------------------------------------------------------------------------------------------------------------------------------------------------------------------------------------------------------------------------------------------------------------------------------------------------------------------------------------------------------------------------------------------------------------------------------------------------------------------------------------------------------------------------------------------------------------------------------------------------------------------------------------------------------------------------------------------------------------------------------------------------------------------------------------------------------------------------------------------------------------------------------------------------------------------------------------------------------------------------------------------------------------------------------------------------------------------------------------------------------------------------------------------------------------------------------------------------------------------------------------------------------------------------------------------------------------------------------------------------------------------------------------------------------------------------------------------------------------------------------------------------------------------------------------------------------------------------------------------------------------------------------------------------------------------------------------------------------------------------------------------------------------------------------------------------------------------------------------------------------------------------------------------------------------------------------------------------------------------------------------------------------------------------------------------------------------------------------------------------------------------------------------------------------------------------------------------------------------------------------------------------------------------------------------------------------------------------------------------------------------------------------------------------------------------------------------------------------------------------------------------------------------------------------------------------------------------------------------------------------------------------------------------------------------------------------------------------------------------------------------------------------------------------------------------------------------------------------------------------------------------------------------------------------------------------------------------------------------------------------------------------------------------------------------------------------------------------------------------------------------------------------------------------------------------------------------------------------------------------------------------------------------------------------------------------------------------------------------------------------------------------------------------------------------------------------------------------------------------------------------------------------------------------------------------------------------------------------------------------------------+\n",
            "|Unions      |[-0.90887415, -0.30120426, 0.43796417, -0.57044435, 0.47783935, -0.119429074, 0.0076734107, 0.38356984, 0.71734476, 0.29944333, 0.15231487, 0.5072288, 0.11636119, 0.33366048, 0.18122901, 0.07053816, -0.8638873, 0.31475434, -0.2938677, 1.0296726, -0.08612427, -0.6760522, -0.8065603, 0.7450476, -0.028391331, 0.23269597, -0.27947992, -0.5459593, -0.123619646, -0.69016486, 0.022917584, -0.79629344, -0.030190777, 0.0015734285, -0.2594573, -0.4525816, -0.12359892, -0.20985757, -0.3652862, 0.605961, -0.26338255, -0.26125336, 0.072698355, -0.038474172, 0.12210245, -0.61870193, 0.5778748, 0.39749938, -1.50326, 0.0594889, -0.17563024, -0.20595418, 0.08986963, -0.27372193, -0.25171676, -0.15561906, 0.08786625, 0.57731783, -0.43160856, -0.19680238, -0.47173584, -0.14368178, 0.38133508, -0.108709656, 0.36592788, 0.262532, 0.8156203, 0.08851499, -0.57303655, 0.672825, -0.33197656, -0.6701093, -0.24514778, 0.5191675, 0.4259027, -0.6548604, 0.4989339, 0.3893383, 0.16818917, 0.12966204, 0.18979415, 0.2888686, -0.6081276, -0.057786554, 0.2466867, -0.00620164, 0.18130384, -0.12162179, -0.121652484, 0.17308223, -2.0662029, -0.27832747, -0.13416801, -0.14809038, 0.073289275, 0.21604817, -0.18093058, -0.7971235, 0.67135155, -0.039854333, -0.03729047, 0.16805169, 0.15659039, 0.9666256, -0.7618995, -0.41629165, 0.119873464, 0.86835784, -0.09637219, 0.075761944, 1.2036624, -0.28629118, -0.56198746, -0.503652, 0.09810635, 0.3208339, 0.7454612, -0.08323307, -0.19744472, 0.15104994, 0.115614, 0.2245959, 0.3174867, -0.3543866, -0.24146222, -0.7458793, 0.5420621, 0.003819093, -0.14213046, 0.08845578, -0.2553342, -0.27818993, 0.23937622, 0.14054213, -0.27868408, -0.5734285, 0.055229682, 0.9408909, 0.26619372, -0.58887154, 0.104202285, -0.19500962, -0.2481262, -0.57250816, -0.21183474, -0.17150721, -0.4166627, -0.04225564, 0.8902777, -0.16685265, 0.5240027, 0.960443, 0.15951014, 0.5780442, 0.9586557, 0.43856877, 0.5472035, 0.95049644, -0.16338092, -0.24042957, 0.14302966, -0.29131812, 1.0280149, -0.5009918, -1.2229958, -0.13134432, -0.08846615, -0.29614368, -0.030418709, -0.3109268, -0.7599063, 0.58705187, -0.49990258, -0.012474984, -0.5490425, -0.16132534, -0.47028548, 0.42195484, 0.056791093, -1.3706634, -0.13870464, -1.6011205, 0.20029405, 0.08408629, 0.35090896, -0.39780578, -0.9034132, -0.059296355, -0.31308967, -0.3174795, -0.01272811, 0.3022351, -0.13354446, 0.4104396, -0.53889096, -0.26871842, -0.008158553, -0.1434209, -0.23871253, -0.31538218, -1.1285838, 0.4329375, 0.30024883, -0.14630222, -0.9305608, 0.098049775, -0.4424991, -0.10235969, 0.1593489, 0.04659427, 2.3563826, 1.0378633, 0.367674, 0.5163552, 0.015050486, -0.7782954, -0.18469936, 0.4455893, -1.0336101, 0.54758894, 0.033677436, -0.746621, 0.3017543, -0.42789507, -0.71070987, -0.06794299, 0.19420452, 0.8080435, 0.25254783, -0.13839105, -2.2335043, -0.15922114, 0.39897466, 0.5231524, -0.15486333, 0.47169986, -0.031313546, 0.099098444, -0.3821547, -0.11163284, 0.46142423, -0.30142862, -0.68478477, -0.045455005, -0.06175171, 0.28675205, 0.30550954, -0.8680767, -0.65700054, -0.25284594, -0.87841153, 0.06439379, 0.07893642, -0.32215726, 0.024758294, 0.1079793, -0.39045206, 0.40670627, 0.15182574, 0.24566779, -0.70491934, -0.12762862, 0.1908712, -0.19548681, -2.3621697, -0.10416214, 0.03481269, 0.4496511, -0.39198294, 0.45236686, -0.16155058, -0.29619712, -0.076406576, -0.42815116, -0.037039135, 0.08080378, 0.04364519, -0.44469422, -0.12381751, 0.40983275, -0.21624401, -0.15065019, 0.70025194, 0.570295, -0.30818197, -0.73201644, 0.25942522, -0.30627772, 0.1543777, -0.44030046, -0.8549291, -0.14029428, 0.16842596, -0.01544667, -0.8879785, 0.2402577, 0.0246015, -0.4320752, -0.19203945, 0.21043842, -1.2335402, 0.07170686, -0.88882583, 0.81479114, -0.29867405, -0.7640897, 0.16322441, 1.0401101, 0.20414314, -0.077288635, 0.47304273, -0.23997281, -0.032546505, -0.13750173, 1.1346334, -0.11558228, -0.011315227, -1.1591414, 0.86132526, 0.26545417, 0.08604451, -0.5363862, 0.04610102, -0.13935259, 0.4787698, 0.025694098, -0.039714947, 0.14360206, -0.010289818, 0.120576024, 0.44035906, -0.08443287, 0.4447451, -0.04636392, 0.25263596, 0.076651365, -0.418171, -0.21249193, -0.4107905, 0.6021956, -0.28737015, -0.5742888, 0.07946272, -0.23529913, 0.06421335, -0.03160949, 0.01997175, 0.46070728, 1.1244924, -0.5980281, -0.35082713, -0.5674227, -0.0505383, -0.2933769, -0.08312926, -0.32439387, 0.15194839, -0.8468169, -0.4522034, -0.21845692, -0.04756582, -0.86123824, 0.09707585, 0.35445666, -0.42118284, -0.5825108, -0.78348565, -0.06047544, 0.040283464, -0.26842698, -0.24989682, 0.1395071, -0.82249963, -0.55771375, 0.13619727, 0.23057535, -0.60745746, 0.40881813, -0.31006002, 0.13365059, 0.4212361, 0.6008168, 1.1608593, -0.19138497, -0.60938853, -0.54489577, 0.2846808, -0.1525332, -0.29726407, -0.23253015, 0.22979732, 0.17964965, 0.47427714, 0.43662986, 0.16457239, -0.11863252, 0.15048048, -0.24457158, -0.2565743, -0.031308368, 0.42447606, -0.7882566, -0.19892532, 0.15413892, 0.2363163, 0.8367995, 0.6862003, -0.22821839, -0.0058750063, 0.3008203, -0.46886533, -0.22964016, -0.3190355, -0.93877405, -0.54936785, -0.42273495, 0.49697793, -0.4195985, -0.03934051, -0.3650279, -0.40832347, -0.24886626, -0.3547282, 0.46732724, 0.31862736, -0.10259937, 0.19416407, -0.52259225, 0.40084225, -0.0830491, -0.15818213, -0.19651268, -0.33230746, -0.11478439, -0.13255903, 0.019822067, 0.2953573, -0.13525626, 0.15851295, 0.27669322, -0.28555724, 0.14148049, -0.6122538, -0.22971886, -0.02469933, 0.6548637, -0.51897055, 0.3637287, -0.5211792, -0.06261331, -0.0645912, 0.5706076, -0.15161002, 0.47304225, -0.016696237, 0.09934728, 0.20007583, -0.41558027, -0.4443787, -0.09524742, -0.04882039, 1.1577442, -0.01333015, -0.60011345, -0.41906872, 0.057839766, 0.10401218, -0.04265006, 0.4010526, -0.7855849, -0.3043471, -0.9371194, -0.32879162, 0.13092172, -0.047172397, 1.0379608, 0.7315341, -0.080555156, 0.04682438, -0.044659555, -0.1577741, 0.23692782, 0.27439716, -0.25500676, -0.08428098, -0.243747, -0.55345744, 0.12656577, 0.7056769, 0.31789204, -0.46849895, -0.6620041, 0.2405133, -0.2866086, 0.7125385, -0.08669069, -0.172645, -0.14685963, -1.510109, 0.03741919, 0.50579673, -0.10362802, -0.3466647, 0.5726372, 0.68477917, -0.99439067, -0.077193744, 0.56338114, 1.3733375, 0.24194235, -0.73930734, -0.384426, 0.2039478, 0.43218154, 1.1287339, -1.5201972, -0.5281754, -0.31488818, 0.5367034, -0.08341132, 0.69009256, -0.92066336, -1.0090672, 0.23367205, -0.47887594, 0.076102234, 0.034534357, 0.044478394, -0.41108087, 1.3083003, 0.020414665, -0.40086657, -0.19400308, -0.30902103, -0.8206616, 0.96039176, 0.5170951, 0.14445761, 0.5405866, -0.14075437, -1.3136271, -0.27329195, -0.5235882, 0.04796669, -0.087616324, 0.5919939, 0.4421591, 1.3443171, -0.53983533, -0.22211848, -0.7044576, 0.8685533, -0.10799821, 0.14683369, 0.8137886, 0.8588394, 0.60378623, -0.3101539, 0.07966151, 0.76245344, -0.7239243, 1.0464662, 0.0785769, -0.84430474, 0.12527631, -0.20102602, -0.110445246, -0.8152066, 0.43250844, -0.78797853, -1.2322742, -0.71572495, 0.71644014, -0.21876702, 0.6869806, -0.31189188, 1.0201656, 0.5084627, 0.49587357, -0.43749523, -1.2745292, -0.22042778, -1.3009757, -1.2269626, 0.5672812, -1.1566305, 0.6075996, -1.0603766, 1.5353197, 0.927885, 0.21763325, 0.16170532, 0.27931762, 0.556697, -0.7549671, -0.072038054, 0.3032135, -0.6012484, -0.056349993, -0.79656994, -0.008995399, 0.68111604, -0.5479577, 0.23716566, -0.04220225, -0.718035, -0.08552252, -0.006189972, -0.30624723, -0.72681236, 0.3150303, 0.5002527, -1.6212308, 0.6123579, -0.60511756, 0.1974692, -0.45104128, -0.8490126, 1.2024915, 0.29154927, 0.19285828, 0.7588469, -0.42628378, 0.5796625, 0.10763615, 0.40308034, -0.46491903, 1.1962566, 0.48387378, 0.79453295, 0.59699774, 0.2035071, 0.41551796, -0.4529143, 0.42505255, 0.7318244, -0.27693647, -1.2008867, 0.9741948, -5.8616325E-4, -0.26673958, -0.09131106, 0.13451424, -0.5740662, 0.14975476, -0.19168717, -0.4233871, 0.83772147, -0.7737927, 0.5378577, -0.49858057, 0.16490515, -0.066247694, -0.6343647, -0.105174266, -0.54893106, -0.079215884, 1.7061737, -0.04325916, 0.37052318, 0.630965, 1.3440692, 0.9027039, 1.3194038, 0.22216158, -0.49299026, 0.8713788, -0.13860637, 0.44016206, 0.14345533, 0.30223158, 1.1445557, 0.008235335, 0.27208158, -0.5421078, 0.38114947, -0.34336293, -0.17239422, -0.17223775, 0.2665674, -1.4336815, 0.3445742, -2.0547435, 0.24972323, -1.2465625, -0.42461404, -0.7652138, -1.188137, 0.6025592, -0.3298567, 1.1212788, 0.8617743, -0.26687205, 0.63541067, 2.0640616, 1.1961753, 0.05333984, -0.9532062, -0.8561213, 1.206081, -0.105822176, 0.13679287, 0.7454177, -1.1957672, -0.543027, 0.08650905, 0.52056265, 0.96567976, 0.48626167, 0.5479231, 0.31355384, 0.845539, -0.69286114, 0.8917647, 0.24423538, 0.62255454, 0.6516055, 0.53799284, 0.7648965, 0.48008132, -0.6836734, 1.1737981, 0.8793037, 0.18260977, 0.0011567771, -0.40872172, 0.5977671, 0.17387672, -0.12281549, 0.8916943, -0.022352472, 0.7699436, 0.27491716, -1.5729103, 0.21975052, -0.42313042, -1.1807585, -0.79794395, 1.2753761, 1.0168939, -0.46911496, 0.3332487, -0.4173773, -0.79351443, -0.40725386, 0.155897, -1.5014671, 0.5391989, -0.12572458, -0.12877303, 0.18870312, -0.17628112, 0.35974145, -0.37339854, -0.57047987, -0.30347514, 1.0323731, 0.4065575, 0.16374265, -0.05904059, 0.5692873, -0.047394007, 0.31278974, 0.012640584, -0.02955626, -0.43042096, -1.0237983, 0.66185117, -0.49111223, 0.16682844, -0.043443933, 0.2827044, 0.13579705, -0.64713037, 0.3464654, -0.15502334, 0.3056136, 0.6733113, -1.2251362, 0.47698814, -0.6610499, 0.051312625, 0.78017, 1.375737, 0.2084474, 0.1118398, 0.38773808, 0.23543791, -0.36934727, -0.28867143, 0.6744065, 0.3104102, 0.91699445, 0.009407006, -0.037117556, -0.19612671, 0.5069911, -0.8619064, 1.353894, -0.27399996, -0.12416327, -0.031337567, 0.43756977, -0.33037406, -0.43070447, -0.3154635, -1.3356519, -0.089964524, -0.5358684, -0.2775005, -0.4699821, 0.061747275, -1.2095933, -0.007949844, -2.0247571, -0.03768555, 0.18429399, -0.6064535, -0.13464358, -0.050152317, -0.82322586, -0.3741326, -0.09473363, 1.3070741, -0.68834406, -0.62415445, 0.7320323, -0.8552587, -0.20432918, -0.6878029, 1.261338, -1.3336716, 0.03805226, -0.99006414, 0.5475966, -0.41158438, 0.2785801, -0.23980755, 0.33709097, -0.32920694, 0.11028834, -0.30521852, 0.7548464, -0.41323212, -0.32794678, -0.40022105, -0.5731708, 0.24505694, 0.6201402, 0.17511868, -0.07767436, -0.21824688, -0.17811528, 0.06473145, -0.64095086, -0.20344356, 0.7886315, 0.79502237, 0.019517627, -0.20794423, 0.35507184, 0.07851109, 0.013709098, 0.26918885, 1.15621, 0.05053381, -1.1102307, -0.24993627, -0.5727058, -0.9647167, 0.10436782, -0.6597716, 0.5921381, -2.1889558, 1.485939, 0.27502757, -0.6690105, -0.43228924, -0.005325388, -0.26916343, -0.4044932, -0.588958, -0.0044059604, -0.055058524, 0.6511917, -0.26738667, -1.8565505, 0.6662698, 1.4102058, 0.94253105, -0.6141236, -0.24111474, -0.40897036, -0.874032, 0.21867514, -0.07213716, -0.88177127, -1.2744384, 1.1165501, -0.7490932, 0.8730775, -0.6928866, -0.22813727, -1.3404094, -0.057122365, 0.44137675, -0.8107278, 0.5289072, -0.06791515, 0.121281296, -1.2627354, -0.009357829, 1.0129882, -0.34375414, -0.26405907, -1.3840308, -0.13524929, 0.7879193, 0.8577236, 0.078319326, -0.1461136, -0.4427954, -0.4858547, -0.31676453, -0.68831074, -0.38605344, -0.1683709, -0.0015845895, 0.4928149, -1.3901403, -0.09257112, -0.70624924, -1.2471128, -1.4276311, -1.5465794, 0.9919555, -0.03808987, 0.5230061, -0.86165535, -0.4291445, -0.6056515, 0.025671108, 0.40896565, -1.5921423, -0.059705168, -0.6311747, 1.1126, -0.51555383, 0.72702074, -0.6563035, 0.9008281, 0.38841403, 0.3751832, 1.1786046, 0.57098985, 0.30863446, -0.2809927, 0.41570193, 0.43499082, 0.08204858, -0.24182703, -0.5153307, 0.176471, -0.34370336, 0.8718759, 1.1540608, 0.5641427, -0.00584507, -0.025361836, -0.53927934, 0.035094902, -0.49553964, -0.49809998, 0.14457463, -0.69224906, -3.072098E-4, 0.0067997873, 0.90372, -0.23037413, -0.32107776, 0.41460106, 0.09059653, 0.50964993, 0.7572807, 0.7606716, 1.1025577, 0.9072269, -0.86582464, -0.8990939, -0.26118013, 0.071713656, -0.3280576, -1.1743891, 0.82581717, -0.25011536, -0.34489834, -0.76661396, -0.5957634, -0.825282, -0.6218492, 0.057755798, -0.034453273, -1.625608, -0.08725649, 1.1076751, 0.026542187, -0.19476922, 0.14724298, -1.4502507, -0.81976366, -0.6276631, 0.33627954, -0.35858393, -0.6902049, -0.10786075, 0.21111608, 0.4750027, -0.6082156, -0.42637396, 1.4611986, 1.4522153, -0.48156452, -0.5349929, -1.3723443]                                                                                                        |\n",
            "|representing|[0.13965544, 0.22222666, -0.039318062, 0.016958922, 0.7448401, 0.3416085, -0.3798288, -0.24866202, 0.49331594, 0.19907823, -0.021228798, 0.007479012, -0.13502274, 0.27964514, 0.13368863, -0.4915049, -0.559138, -0.66260505, -0.2489337, -0.29702175, 0.1897523, -0.7459427, -0.37607995, 0.49414933, -0.34123296, -0.40259272, -0.35271743, 0.75271505, -0.09024899, -0.0910963, -0.68316394, 7.227808E-4, 0.31760448, 0.483317, 0.639933, -0.53704476, -0.87669045, -0.4660599, -0.59199786, 0.625105, -0.44337112, 0.30718312, -0.2985615, -0.73080033, 0.5886408, 0.55221623, -0.53241324, -0.014206082, -0.77299404, -0.22666813, -0.46235457, -0.5287247, 0.7092328, -0.54509807, -0.5931883, -0.43127522, -0.24702942, 0.43717933, -1.0600092, -0.97309977, -0.04317414, 0.5445103, -0.37559107, -0.32504258, -0.51924396, -0.10893774, -0.1930216, 0.504684, 0.49763334, 0.017238587, 0.15890549, -0.2479853, 0.8196031, -0.056318313, 0.14372319, -1.2361668, -0.16111273, -0.11099616, 0.9569823, -0.5469095, 0.28444147, 0.20184089, 0.045318976, 0.54832476, -0.08444336, 0.058867544, -0.21441051, -0.2557397, -0.15165001, -0.24366859, 0.6791202, 0.6274731, -0.239262, 0.11898125, -0.10029331, 0.16235507, 0.019230217, -1.1047707, 0.15451546, 0.84835917, -0.6601588, 0.546981, -0.15582328, 0.2786487, -0.9165777, -0.45822734, 0.008715421, -0.011755139, 0.18808328, 0.065502636, -0.3718367, -0.4167267, 0.050523482, -0.32101122, -0.16781457, -0.32183516, -0.37181517, 0.49819282, -0.015462317, -0.13662541, -0.14675987, 0.09653081, 0.27118653, 0.5068084, 0.7808779, -1.0315177, 0.31434447, -0.4814638, 0.019280255, 0.8740377, 0.34098974, -0.63421005, -0.37866098, -0.23050973, 0.55353606, -0.066355154, 0.47375625, 0.9975331, -0.3931868, 0.31684995, 0.119351186, -0.17373033, -0.44106138, -0.25990722, -0.0048956573, 0.6295514, -0.03430494, 0.059178796, 0.372427, -0.5492324, 0.5813643, -0.89189756, 0.21407434, 0.096164785, 1.5178878, 0.8188518, 0.41510913, 0.7859649, -0.04186231, 0.5195033, -0.49463665, 0.6291059, -0.33504736, -0.031134907, 0.17524403, 0.8573864, -0.15552498, 0.6479889, -0.31326866, 0.48115546, -0.13295175, 0.34236485, -1.1065047, 0.15410888, -1.3354707, -0.63075984, -0.36502343, 0.11583748, -0.08762975, 0.29023963, -0.109863035, -1.5137241, 0.80371094, 0.21488899, 0.44559652, -0.43073547, -0.50661623, -0.17267175, -0.30421484, 0.83954704, 0.8214643, 0.21605536, 0.16239443, 9.403303E-4, -0.26748264, -0.5284828, 0.7328477, -0.22654726, -0.019758388, 0.959574, 0.10841565, 0.070318036, -0.61536247, -0.05647586, -0.0054228306, -0.12983036, -0.26666996, 0.04696347, -0.2628203, 0.02987619, 1.1957805, 1.1575497, 0.60491204, 0.61682713, 0.007089779, 0.28865618, 0.082381964, 0.5799266, -0.3317399, 0.29985943, 0.2283906, -0.046097383, -0.4895049, 0.28877714, -1.1634581, -0.2371385, 0.46668857, 0.5153101, -0.50412023, -0.26642203, 0.2976223, -0.38553438, -0.6028923, -0.40357998, -0.0054666996, 0.13271257, -0.008076777, 0.5332001, 8.457601E-4, 0.23823488, -0.11885196, 1.3743881, -0.06999113, -0.30243826, -0.19594538, 0.44928288, 0.15673962, 0.8665136, -0.21924366, -0.50831974, -0.75313306, -0.07695593, -0.24385476, -0.24207622, -0.11986512, -0.29976457, 1.2213963, 0.44974828, 0.41979608, 0.24702926, 0.22813828, 0.1605237, -0.80190986, 0.64873374, -1.2671975, -0.47117174, 0.10502386, 0.48617637, 0.34143987, 0.033420444, 0.19480924, 0.6895555, -1.0560131, -0.96170175, 1.0219593, 0.521407, 0.01139126, -0.28933224, 0.03863369, 0.3790754, 0.075926065, -0.30554992, -0.72668445, 0.16203219, -0.22626778, -0.17945391, -0.11010395, 0.09147377, 0.39720076, -0.5266794, -0.1175568, 0.75829417, -0.0053430498, 0.4659441, -0.05690232, 0.5509764, -0.15690686, -0.42498425, -0.35123825, -0.10388742, -0.07559524, 0.38112587, -1.3431716, 0.022694215, 0.53768605, 0.11165117, 0.071007416, 0.23055823, -0.3605019, 0.0839892, 0.6928715, -0.8442867, 0.108598664, -0.030765325, 0.7013185, -0.97565806, -0.1888298, -0.58171797, 1.0152955, -0.44864726, -0.78906345, -0.5317065, -0.09874588, 0.66932684, 0.20772119, 0.6892657, -0.09941763, 0.20944366, -0.7872405, 0.08654696, 0.45626438, -0.3963203, -0.37297612, 0.49769932, -0.90406185, 0.012163073, -0.13186164, -0.3626316, -1.6383, -0.41831708, -0.12577257, -0.26884058, 0.31404036, 0.07469232, -0.4432819, -0.113455564, -1.153445, 0.2141674, 0.9899147, -0.6449252, 0.27603674, -0.75252634, -0.18128869, 0.32258207, 0.03479886, -0.6430931, -0.2849699, -1.0317922, 0.22229211, -0.3398932, 0.06556676, -0.29821905, -0.35598785, -0.1635822, 0.25294188, 0.40287745, 0.06422885, -0.45748216, 0.15339786, -0.08606073, 0.8280645, 0.54673046, 0.46417537, -0.78199494, -6.7313015E-4, 2.5118887E-4, 0.4206143, 0.30161864, 0.37131095, -0.20307223, 1.036633, 0.043441765, 0.66390073, -0.6598894, -0.2355182, -0.15194929, 0.39779523, 0.77472556, -0.23045824, -0.31420118, -0.7187245, -0.08434783, 0.20317507, 1.2054552, 0.23116286, 0.39127848, -0.099913776, 0.31930092, 0.46209508, 0.035536557, 0.024773467, -0.12822795, -1.045248, -0.6246399, 0.053590268, -0.42859387, -0.1679366, -0.22905861, 0.34263027, -0.15809423, 0.42389673, 0.32943887, 0.31185758, -0.25759155, -0.7948743, 0.2809179, 0.7531775, 0.53081775, 0.60543835, -0.6865584, -0.19807972, -0.8044341, -0.13966963, -0.6778873, 0.56937563, -0.47061688, -0.5437925, -0.2557594, 0.047690853, 0.5914312, -0.28324497, -0.15545943, 0.10314721, 0.38230854, 0.31236893, 0.18332471, 0.29946432, -0.12019473, 0.5325595, -0.19600591, -0.6326546, 0.18911994, -0.98361915, -0.17330672, 0.18766859, 0.816478, 0.34974205, -0.86426425, -0.6725025, -0.16664355, -0.3947055, -0.22983009, -0.97122514, 0.58030206, -0.8704149, 0.109767824, -0.26340702, 0.22106025, -0.23280548, 0.23043583, 0.2836833, 0.6243259, 0.2587277, -0.37201306, -0.3550642, -0.274297, 0.23624994, 0.027942553, 0.8872895, -0.7238215, -0.41486463, 0.23665264, -1.5648412, 0.585895, -0.010383099, 0.84206337, 0.14162262, -1.8817289, 0.11049442, 0.46547335, 1.4700629, -0.42620003, -0.23797707, -0.5007143, 0.48365608, -0.26270604, -0.6570787, -0.40828776, -0.06567653, -0.5098378, -0.5262233, 0.31932998, -0.48213017, 0.6909853, 0.26895708, -0.328504, 0.6876744, -0.32848155, 0.13788503, 0.51199037, 0.40124202, -0.6384266, -0.20058143, 0.9749481, 0.99515975, 0.09200244, 0.7216581, 0.5529164, 0.06185682, -0.16350186, -0.45825967, -0.10959807, 0.6320355, 0.1088309, -0.061221924, 0.36731905, -0.044805616, 0.14273655, -0.13656536, -0.2350072, 0.5877845, -0.19348423, -0.3353977, 0.43996656, -0.17307281, -0.5469697, 0.8438154, -1.1617038, -0.45791537, 0.48674506, -0.3636042, -0.115635365, 0.17215693, -0.34118384, -0.5843646, 0.89741707, -0.58354735, 0.77454656, 0.07974838, 0.18557352, -1.3285716, -0.24579102, -0.22619216, -0.2266649, -0.14940713, -0.25991178, 0.3069991, -1.1995636, -0.53838587, -0.587573, -0.65062773, 1.3372483, 0.08887198, 0.45421568, 0.10011098, -0.47412735, 0.10596212, 0.31340152, 0.86832935, 0.14217567, 0.39420792, 0.1001285, -0.1204752, -0.4771352, 0.3722741, 0.03189665, 0.24409361, 0.15487507, 0.44220284, -0.20199831, -0.5867218, 0.16374427, 0.19749653, 0.20401727, -0.2721653, -0.13202523, -0.30994558, 0.18580057, 0.28115553, 0.40405652, -0.3750879, 0.9000958, 0.22444318, -0.40438408, 0.8216634, 0.120357126, 0.23144576, -0.91979766, -0.32568875, -0.13003273, 0.04697731, -0.2815293, -0.5702002, 0.14900088, 0.61234933, -0.081020094, -0.7209929, 0.23177224, 0.5832666, -1.2643683, 0.060897082, 0.29239833, 0.18567103, 0.60779107, -0.32677308, 1.1559546, 0.3787915, 0.04353088, -0.10308376, -0.06821598, 0.64378065, 0.7673278, -1.102443, 0.55625784, -0.47026438, -0.44048518, -0.25168127, -0.9623988, -0.38921148, -0.5994813, -0.24137664, -0.0077104457, -0.43955517, -0.03244579, 0.12776354, 0.6054971, 0.51763153, -0.2713543, 1.0459561, 0.9558904, -0.029502198, 1.029083, -0.30377418, 0.790822, 0.4414822, 0.5772602, -0.11003662, -0.6909137, -0.7911202, -0.35488883, 0.10986252, -0.14255042, -0.14968054, -0.29573616, -0.28968012, 0.28034514, 0.6280722, -1.7022306, -0.31547448, 0.23346916, 0.42339075, -0.28995404, 0.404869, -0.068651795, 0.30995196, -1.3031112, -0.2553252, 0.5052667, 0.50703764, -0.33348292, 0.84068656, 0.100134805, 0.8004708, -0.41499573, 0.09374278, 0.21458817, 0.4991101, 0.49882644, 0.14333683, -0.19610645, -0.40714973, 0.11764312, 0.34412575, 0.45931804, -0.48945573, 0.6101416, -0.14563337, -0.23792793, 0.31219083, -0.26324546, -0.61848235, 0.44322753, -0.19503379, 0.63345647, -0.6260857, 0.28039104, -0.89571846, -0.26209748, 0.3287086, 0.22258633, 0.20498335, -0.42414543, -0.23364699, 0.44579497, -0.1791538, 0.060534537, -0.3301527, -0.83947766, -1.2657608, 1.0253448, 0.3897852, -0.09674659, 0.4457459, 0.05364974, 0.33802152, 0.7850319, 0.70515645, 0.31471902, 0.44320962, -0.890079, 0.61811626, -0.50860316, -0.6404339, 0.17887387, -0.7719238, 0.6190957, 1.1453707, -0.30879113, -0.4702542, 0.5824888, -0.8350867, 0.23368545, 0.63379943, 0.3044717, 0.31261295, 0.70400447, -0.51070595, -0.32114288, 0.062673494, 0.06467453, -0.17094825, 0.45240292, 0.55767244, 0.113988735, 0.034833156, 0.33122596, 0.015888777, 0.048581466, 0.29443222, 0.60700333, -0.55698514, -0.008753821, 0.22802551, 0.18252784, 0.28679425, 0.041186184, 0.071480185, 0.040586635, 0.27175212, -0.17910925, -0.14712933, 0.1109916, 0.03936091, -0.28192157, 0.06877823, -1.1781474, 0.8995061, 0.5197582, 0.4666222, 0.0017784536, 0.25392193, -1.0543655, 0.101524994, -0.1586645, 0.31592458, 0.58324945, 0.42635715, 0.48599154, 0.5256618, 0.83181345, 0.85066867, 0.27674618, -0.60891104, -0.14433476, 0.17664652, -0.025441982, -1.5277944, -0.35021693, -0.44979322, 0.79962265, 0.27315593, -0.41398445, 0.3107359, -0.18661028, -1.2600765, -0.26227996, -0.25102347, -0.10650392, -0.36896682, 0.96757257, 0.020698989, 0.30718398, -0.3934552, -0.19575241, -0.760339, -0.33015355, 0.0058819205, -0.826936, 0.26265132, -0.4227485, -0.61591196, -0.97740597, -0.7559968, 0.53229415, -0.3628373, -0.49817246, 0.2675427, -0.3292129, -0.6709734, 0.060955763, -0.21559404, -0.46619385, -0.28219795, 0.23317234, -0.3443907, 1.0783389, -0.113364555, -0.3521899, -0.33501056, -0.1740827, 0.82685715, -0.024989456, 0.24302945, 0.13227338, 0.060472876, -0.8464594, 0.43591055, -1.4100506, 0.09431419, -0.34566456, 1.0881588, -0.38038898, 0.374355, -0.6464497, -0.19279507, -0.4969772, 0.5702601, 0.07103638, -0.53366584, -0.86553776, -0.78401184, -0.016614854, -0.12007377, 0.04060053, 0.4142772, -0.7785276, -1.238582, -0.72770375, 0.22795543, 0.19705036, 0.059006512, -0.5363745, 0.3091194, -0.32013345, 0.27572265, 0.56409544, 0.7221976, -0.027432412, -0.30890203, 0.15376176, -0.01231281, -0.8046702, 0.78958833, -0.76240337, -0.05625373, 0.2356494, -1.2440807, -1.2201769, -0.73709697, -0.42735392, 0.017908752, 0.6131954, -0.18971065, 0.04588002, 0.06557199, 0.25473326, -0.48749557, -0.04227134, -0.22753443, -0.027383938, -0.33450404, 0.45305336, -0.11776353, 0.24725018, 0.3886467, -0.1765508, -1.4387872, -0.5095234, 1.1947082, 0.23721218, 0.25621086, -0.25679433, -0.14633977, 0.15664357, 0.28946185, -0.77143705, -0.26180845, -0.7458832, 1.1725518, 0.5442251, -0.35142136, -0.81025493, -0.6373093, 0.050565764, -0.1582626, 0.124700375, 0.38202977, 0.3363377, 0.15252101, -0.33832842, -0.34353322, -0.47520792, -0.09582472, -0.37125847, -0.95258904, 0.29043648, 0.04927951, 0.25665003, 0.09410582, 0.7512753, 0.47229916, -0.17925704, -0.585438, 0.031152785, -1.4196006, -0.25949624, -0.22013868, 0.20408633, 0.4464089, 0.12752315, 0.09770127, -0.99584866, 0.24771376, -0.5375864, 0.024262458, -0.6115611, 0.4847874, -0.4505471, 0.07705273, -0.36244795, 0.0743615, -0.3672697, -0.42068443, -0.44315967, -0.4818732, 0.59253395, 0.06838454, 0.2072219, 0.41309392, 0.60380584, 0.9424693, 0.47226423, -0.4959776, 0.78004485, 0.23333384, -0.2451415, 0.73751646, 0.20422, 0.7029967, -1.6481965, -0.18629529, -0.47202533, -0.043409273, 0.5730196, 0.05033803, -0.3896389, -0.24474318, -0.36871582, -0.18332839, -0.49088466, 0.3773784, 0.4910226, -0.18740842, -0.0045791864, 0.40096903, 0.3000308, 0.19385052, 0.73016465, 0.021395601, 0.5400365, 0.46019232, 0.331529, -0.12716532, -0.1888582, -0.2602982, -0.11366469, -0.09592196, 0.3637545, 0.60181034, -1.4755646, 0.13457023, -0.53655815, 1.0525117, 0.08480355, 0.6112237, -0.23923652, 0.044814795, -0.30949968, -1.2018497, -0.08333117, -0.04449514, 0.604034, -0.28469944, -0.53605175, 0.45794332, -0.39613986, -0.54223454, -0.117603675, -0.2057688, -0.045485094, -0.50726247, 0.1697158, -0.58870304, -0.89703375, 0.117423005, -0.84350425, 0.8156889, -0.3696289, -0.3758215, 0.45731166, 0.24583581, 0.46684664, 0.21236941, -0.30126572]                                                                            |\n",
            "|workers     |[-0.46730578, -0.30479333, -0.026425809, -0.32429358, 0.75354207, -0.18502708, -0.12659112, -0.4641213, 0.40173358, 0.3166715, -0.08165012, 0.06063181, 0.04218498, 0.04594822, -0.030670486, 0.23013255, -0.8369821, 0.17316663, -0.20514175, 0.18041468, -0.33526123, -0.6411321, -0.09143804, 0.595277, -0.19295092, 0.28138587, 0.002530992, -0.32208735, -0.30492848, -0.13696097, 0.20448603, -0.24713404, 0.08699334, 0.24651308, 0.06704189, -0.27150995, -0.31094563, 0.26503587, -0.30301756, 0.94646025, -0.5332398, -0.1681229, 0.20530055, 0.093400784, -0.14307092, -0.8132163, 0.7233852, 0.18865868, -1.1120657, 0.08542724, 0.13312264, 0.22787227, 0.7466374, 0.11236787, -0.43522584, -0.41182604, 0.47383016, 0.34525168, -0.6768373, -0.41692647, -0.2948647, 0.05687333, 0.49889252, 0.009413015, 0.039965317, -0.50016856, 0.51269364, 0.6443988, 0.61449784, 0.30239296, 0.01890622, -0.49354595, 0.038518727, -0.70205915, 0.10362924, -0.8149667, 0.39926177, 0.5405431, -0.027987555, -0.011891037, 0.07607129, -0.121339455, 0.21830052, -0.88730407, 0.27258298, 0.6017542, -0.5291457, -0.49106345, -0.054334894, -0.23865238, -1.7634752, -0.15471481, -0.2042498, 0.48775223, 0.0015513971, 0.18371159, 0.31805518, -0.18890312, 0.49238038, 0.20186844, 0.02397234, 0.10857407, -0.10305386, 0.71207035, -0.46135163, -0.3712807, -0.5088948, 0.48303634, 0.4079485, -0.8457235, 0.8745483, 0.029332869, 0.34659332, -0.8230963, -0.16322897, 0.22842549, -0.23391853, -0.18632914, 0.17944372, 0.5372786, -0.05735635, 0.06525968, 0.35241064, -0.16965821, -0.23042378, -0.83644485, 0.07993971, -0.487974, -0.90519047, -0.7538204, 0.15519744, -0.008956522, 0.019949377, 0.24022779, 0.48572856, -0.37432408, 0.076855816, 0.8377277, 0.7452023, -0.4256083, 0.14440846, -0.46650305, -0.08433206, -0.81971455, 0.10984488, -0.28782722, -0.27637833, -0.11635828, 0.918157, -0.5642313, -0.1939075, 0.65585417, 0.25639182, 0.280981, 0.7754101, 0.2969882, 0.057218865, 0.839337, -0.031591915, -0.4020454, 0.46728158, 0.9544416, 0.1581146, -0.24224123, -0.42645174, 0.39561528, -0.42220813, -0.36178085, -0.3973983, 0.012102522, -0.85693496, 0.27370393, -0.40063146, -0.4265586, -1.18452, -0.48934647, -0.9015462, 0.5742822, -0.09075649, -0.82780033, -0.3115998, -1.1190197, 0.07993013, 0.30104625, 0.07962111, -0.041839063, -1.0862156, -0.21283427, 0.1374774, -0.07207545, -0.35516262, 0.40247947, -0.051834054, 0.11993679, -0.26761067, 0.08265786, -0.7468344, -0.5238663, 0.056023747, -0.051142305, -0.22428055, 0.10823172, 0.038478337, 0.033652566, -0.47546512, -0.56360495, -0.053449664, 0.77843964, 0.28312683, -0.23733452, 2.2518892, 0.52307403, 0.29749897, 0.07657319, 0.011624299, -0.5968572, 0.15294684, 0.90947104, -0.49284303, 0.3188687, -0.05565165, -0.59081924, 0.14810348, 0.31086406, -0.70873386, 0.050141923, 0.21201205, 0.70380926, -0.37899518, -1.1984906, -1.2478477, -0.37218618, 0.5403056, 0.31665698, -0.6870997, 0.025879145, -0.20764679, 0.2433555, -0.38120496, 0.0017174464, 0.24812865, 0.26641428, -0.8270355, -0.13566287, 0.55869675, 0.13930427, -0.04192218, 0.001563929, -0.6615156, -0.20995592, -0.5087902, -0.3500293, -0.15378904, -0.044496477, -0.49649245, -0.46498287, -0.13212714, 0.18651342, 0.26505238, -0.027400114, -0.29709628, 0.37735137, 0.51726043, -0.14861228, -2.3938928, -0.017117754, 0.18172245, -0.30956683, 0.08807306, -0.25295678, 0.14822948, 0.2882371, 0.06595543, 0.040608153, 0.22463557, 0.05487081, -0.09676341, -0.27361685, 0.061208293, 0.59740907, 0.09561372, -0.8937504, -0.3665492, 0.25526404, 0.18110333, -0.47649056, 0.2052294, 0.0739367, 0.09311855, -0.053334147, -0.34619218, 0.063094705, 0.43940446, 0.28542364, -0.8976931, 0.5670698, -0.45328486, 0.45121762, 0.1263516, 0.40204048, -0.74601436, -0.26850328, -1.0392313, 0.5570429, -0.076760545, 0.08647676, -0.07920128, 0.48744908, -0.9121562, -0.33275664, 0.4310469, -0.26185298, 0.21351524, 0.22566462, 1.3973386, -0.3243173, -0.19362943, -0.77412426, 0.08656712, 0.27197605, 0.19588664, -0.65614456, -0.09046452, 0.41558924, -0.21026024, 0.5861563, 0.07610711, -0.24040115, -0.30798304, -0.19474816, 0.34745324, 0.08963612, 0.49452507, 0.1209194, -0.19338693, 0.44111413, -0.36373687, -0.0066864938, -0.25441137, -0.14214662, -0.27545235, -0.41913164, -0.0548677, 0.23332535, -0.7619313, 0.26668984, 0.2557327, 0.47502437, 0.568608, -0.25254357, 0.045340195, -1.3196182, -0.44293293, -0.15534456, -0.16667229, -0.86027825, 0.13550515, -1.0579343, -0.5402988, -0.19882639, -0.0023646057, -0.6978799, -0.65158176, 0.0064742593, -0.23894143, -0.41755337, -0.29592627, -0.41354662, 0.11725469, 0.28575557, -0.94002014, 0.49445498, -0.7780906, -0.40057245, -0.0316421, 0.107747704, -0.123821944, 1.0481467, -0.7100206, -0.4345449, 0.7440839, -0.12614825, 0.19574286, -0.14466275, -0.13056734, -0.15502445, 0.399652, 0.2509065, -0.3907372, 0.34611207, -0.04081537, 0.1553522, -0.19264129, 0.6310752, 0.64096355, -0.0979141, 0.15048894, 0.3721721, -0.37033695, 0.043855354, 0.33534452, -0.4992311, 0.17579916, -0.08117397, 0.34109536, 0.003638588, -0.019879743, 0.017453074, 0.71368897, 0.15177938, -0.3230628, 0.1823586, -0.34792733, -0.5717529, -0.7163068, -0.7276111, 1.1234809, 0.45763218, 0.1683167, -0.21750264, -0.7868812, 0.25139624, -0.43361032, 0.27136496, 0.5982031, -0.2347282, 0.05963935, -0.35634267, -0.66745687, -0.20888358, 0.2392497, 0.124668, -0.8679831, 0.118334234, -0.13915324, -0.2046834, 0.52285326, -0.28382072, 0.10612193, 0.32382983, -0.39984304, 0.2827073, -1.0515878, -0.2822456, 0.6479219, 0.39479327, 0.089779764, 0.07195817, -0.92003804, 0.099374235, -0.1210698, 0.4449926, -0.44384214, 0.5523489, -0.39570463, 0.46499163, 0.32679915, 0.07528957, 0.6438713, 0.0581573, -0.053338706, 0.7485703, 0.30822083, -0.8274982, -0.16636609, 0.20658669, 0.03073889, -0.013536394, 0.03951665, -0.6401766, 0.056101948, -0.11454931, -0.22603102, 0.32864916, -0.23059675, 1.0016165, 0.60458666, -0.86443293, 0.07750854, -0.20694485, 0.22498204, -0.4311852, 0.5212277, -0.8304189, 0.20488212, 0.32717806, -0.09608988, 0.16555256, 0.30985034, 0.44223174, -0.4414599, -0.075703815, -0.37680238, -0.06986183, 0.106975324, -0.19711488, 0.22783524, -0.017450795, -1.7418492, 0.27372038, 0.44950172, -0.14901273, -0.22332235, 1.0196878, 0.38377744, -1.0561175, 0.031403538, 0.14192255, 1.1100483, 0.37135133, -0.63556135, -0.6068994, -0.08600784, 0.07916245, -0.005057901, -0.39873534, -0.54884815, -0.18037364, 0.46844506, -0.5358196, 0.2813808, 0.21959898, -0.36627617, 0.77994967, -0.19084165, -0.2536242, -0.06782986, -0.15445907, -0.75735724, -0.34069553, -0.115186006, -0.65874195, -0.13461947, -0.4709989, 0.08706036, 0.1802231, 0.26415122, 0.28526187, -0.26999864, -0.0629663, -0.75769806, -0.16217023, -0.43415412, -0.00975316, -0.2514272, 0.6085484, 1.1422102, 0.38483518, -0.44901606, -0.21871953, 0.2778955, 0.49416572, -0.17064738, 0.28655726, 0.54962975, 0.15217102, 0.7817788, -0.5636705, 0.08049521, 0.7550323, -0.47480997, 0.016898282, 0.118415065, 1.0232911, 0.067665555, 0.7938131, 0.16684797, -0.5011841, 0.516557, 0.16568357, -0.303531, -0.017943673, 0.27467832, -0.13286299, 0.65698355, -0.37508714, 0.12652603, 0.09218858, -0.31154007, 0.072848484, 0.8958373, 0.43853652, -0.46173483, -0.5087917, 0.1005985, -0.5161222, 0.48318344, -0.48385262, 0.49336296, -0.091401055, 0.23311569, -0.0906848, 0.31370947, 0.5118717, 0.30101618, -0.053598493, 0.4923191, 0.553697, -0.39821714, -0.09552126, 1.1086905, -0.9443925, -0.07412114, 0.17838304, 0.17812428, 0.030649623, -0.121411815, -0.03238505, -0.08234632, 0.2647315, 0.1363405, 0.9004948, -0.06921254, 0.5984371, -0.120955944, 0.4461587, -0.48014456, 0.34746635, 0.132117, -0.4273166, 0.65283555, -0.30141896, -0.513215, 0.16615371, 0.48794147, 0.18959, -0.36518312, 0.25087526, -0.5943837, 0.55443174, 0.1619226, 0.36694092, 0.51220095, -0.21259007, 0.28904888, 0.073036544, -0.04236047, -0.4080354, -0.15857537, -0.20196965, -0.34737676, -0.44422564, -0.27255213, 0.405747, -0.9181028, 0.6492064, 0.98583364, -0.3525641, -0.75382555, 0.48198408, 0.5615248, 0.52967024, -0.19588988, -1.0533471, -0.79173887, -1.8061895, 0.1902597, 0.4572899, 0.033545285, -0.23506333, 0.5973729, 0.037836827, 0.28745443, -0.07399899, 0.4858706, -0.25941008, 0.2629044, 0.4524737, -0.6624325, 0.49107736, -0.53827304, 0.57328594, 0.52823937, 0.114937715, 0.48876306, -0.46566874, -0.393003, 0.7658234, 0.035850197, -8.7952614E-4, -0.8540057, 0.65926796, -3.9055943E-5, 0.88244796, -0.94824684, -0.09438561, -1.7593143, -0.1010011, 0.1066863, -0.17828803, 0.68369186, 0.18286145, -0.20164567, 0.39599404, 0.51705426, 0.06326934, 0.107041165, 0.023408175, -0.45873177, 0.541754, -0.58739954, 0.17662585, -1.3740023, -0.8273585, 0.6829423, 0.13170691, -0.43962002, 0.124081984, 0.017700821, -0.15481101, -0.65351737, -0.16971162, -0.329901, -0.103866935, -0.60455334, 0.6888361, 0.55131173, -0.53478295, 0.4192255, 0.42540672, -0.27051538, -0.20054494, 0.7404833, 0.29146203, 0.45427233, -0.46511734, 0.31624883, -0.122430116, -0.3010321, 0.4508583, 0.27577564, 0.933992, 0.5033331, -0.66153586, -0.334105, 0.05977635, -0.5165659, -0.5592601, -0.0372511, 0.44034106, -0.72425276, -0.5232465, 0.4370973, -0.23836845, 0.20638886, -0.047356643, -0.555647, 0.2927339, -0.63128835, 0.33881673, -0.2111325, 0.24966565, 0.29238105, -0.1086317, -0.59466183, -0.28996852, 1.1558454, 0.4134294, -0.32603595, -0.2760181, 0.73311365, -0.8002088, -0.118449345, -0.5061785, -0.48072016, 0.060017023, -0.5032383, 0.108569905, -0.14692728, 0.14404821, 0.29667383, 0.37204427, -0.23019123, -0.0033620298, 0.32657984, 0.61497706, -0.7633189, 0.3625846, -0.017615676, 0.0462202, 0.09369661, 0.17673029, -0.19851902, 0.1800074, -0.42813838, 0.020305682, 0.17545669, 0.81755656, 0.050829865, 0.5423581, 0.42647493, 0.3587857, -0.09730792, -0.5475982, -1.2046452, -0.250718, 0.12197113, -0.5526233, 0.53164726, 0.18095689, 0.076934054, -0.74050117, 0.13217948, -0.112716, -0.11727853, 0.5541107, -0.2681933, -0.40636134, -0.73514175, 0.24502774, -0.28570348, -0.26181912, 0.059303507, 0.11078824, -2.5793507, 0.7502985, -0.7188821, 0.71873, -0.5059155, -0.24241365, -0.25960824, -0.38188326, 0.44350988, 0.5289536, -0.09422985, -0.9687929, -0.12721089, -0.79774284, -0.08037914, -0.44227552, 0.009342484, -0.43907684, 0.014626712, -0.10898608, -0.8254876, 0.27741674, 0.111119755, 0.49389327, -0.38648683, -1.2765206, 0.024895046, -0.59256613, 0.21673855, 0.6237184, 0.5800353, -0.16762686, 0.42582837, 0.08196918, 0.44262084, -0.26485774, -0.5541562, -0.39201653, 0.22597153, -0.07618113, -0.23411289, -0.05838099, -0.23277344, 0.5585863, -0.2448239, -1.3574101, 0.53502756, -0.70458096, 1.1657009, -0.6071037, -0.43882063, 0.0023496822, -0.47416067, -0.76976955, -0.64030576, -0.41936755, 0.28611052, -0.16583875, 0.023960069, -1.3360549, -0.0375264, 0.5813608, -0.4301086, -0.04089646, -0.68686426, 0.8470477, 0.15906332, 0.042678118, -0.4604302, -0.04018116, -0.35485178, -0.19267727, -0.4690838, -0.4885494, 1.0846438, 0.21045277, 0.27562118, -0.082003064, 0.86454415, -0.54430073, -0.46017268, -0.74536264, -0.060753018, -0.36003023, -0.06157974, 0.7691553, -0.16354015, -0.74768674, 0.37396872, -0.2548908, 0.7878909, 0.53593373, -0.56207573, 0.319689, 0.6552748, -8.7182224E-4, -0.52008784, 0.18323803, 0.45241776, 0.24762225, -0.3325758, 0.03909622, 0.036609028, -0.63165426, -0.14591675, -0.062035628, 0.22507349, 0.32391244, -0.066042244, -0.8449914, 0.10268082, -0.5550016, -1.4557302, -0.4116478, 0.40096772, -0.37834358, 0.13242999, -0.42367578, -0.25423703, 0.28986323, -0.51832527, -0.43674964, 0.47968298, -0.0033299327, -0.048437454, 0.35884476, -0.053693928, 0.33441865, 0.083453566, -0.6188854, -0.16776875, -0.21615367, 0.45951694, -0.24690892, 0.22859329, -0.24476646, 0.6329435, -0.26607737, -0.22922866, 0.95343995, 0.3071246, 0.3886693, 0.40609288, -0.15486662, 0.7831553, -0.18456656, -0.72726536, 0.122745454, -0.07350001, 0.8739338, 0.818259, 0.034211278, -0.20245041, -0.33984995, 0.24415886, -0.5151744, -0.5001377, -0.18919273, 0.053648725, 0.48999688, -0.073687635, 0.47223833, -0.13151316, 0.3958245, -0.30380896, -0.69170904, 0.30970016, 0.052229762, 0.10502207, 0.58826715, -0.28945264, 0.64111745, -0.028749652, 0.80941725, -0.4025033, -0.96674734, -0.14144105, -0.97526026, 0.52359134, -0.013986006, 0.19703533, -0.5614835, -0.37266314, 0.036929756, -0.053652614, -0.28066736, -0.25218117, 0.6753409, -0.6136478, 0.6353904, 0.21385759, -0.3806239, 0.13568254, -0.34604597, -0.6046068, -0.3715191, 0.1635961, 0.816423, -0.34585807, -1.0859205, 0.5560503, -0.32535654, -0.2126545, 0.4103288, 0.5018579, 1.1493232, 1.2193327, -0.2476273, -0.7166106, -0.62615573]                      |\n",
            "|at          |[-0.25518382, -0.22426175, -0.3707175, -0.60111916, 0.06384361, -0.48253918, 0.43195224, 0.5064739, 0.6245258, -0.16306752, 0.18948886, 0.040540162, -0.3252954, -0.23444885, -0.027067393, -0.15074824, 0.30540675, 0.3899601, 0.009507475, -0.67733955, -0.6213606, -1.0213542, -0.108737774, 0.25176096, -0.4030345, 0.015693437, -0.37121147, 1.003675, -0.4694897, -1.2051477, 0.21364486, -0.5288256, 0.71466357, 0.43117523, 0.89627194, -0.5801734, -0.06599358, -0.05947695, -0.85955703, 0.4513999, -0.30069023, 0.47686157, 0.15894286, -0.33008444, -0.14558306, -0.035746235, 0.40036064, 0.13990068, -0.61981195, -0.08186041, -0.62859344, -0.1662455, 0.32418096, 0.32006833, -0.4666389, -0.23031808, 0.44451618, 0.4804809, -0.5754518, -0.6412852, -0.13647813, -0.007053785, -0.4926636, 0.11182943, -0.03721238, -0.6572221, -0.04303144, 0.45016503, 0.35090396, -0.36747193, -0.012469988, -0.03308618, 0.50274056, 0.25024056, 0.00819698, -0.5856086, -0.50903416, 0.7399097, 0.31152594, -0.42042962, 0.19544062, 0.3058294, -0.30509153, 0.13836133, 0.5975272, 0.21778516, -0.3266241, 0.42239177, -0.15196392, -0.5616443, 0.21619412, -0.299091, 0.10943062, 0.29476935, 0.45604104, 0.18607035, -0.38975233, -0.5478353, -0.71987927, 0.4563976, -0.2676425, 0.2898084, 0.36614823, 0.3416387, -0.14196149, 0.089662895, -0.01086992, -0.27461034, 0.2324485, -0.36593157, 0.18305671, -0.9174108, -0.1328947, -0.2665211, 0.03577114, 0.01870896, -0.18895575, 0.51188076, -1.4312373, -0.32134882, -0.15300266, 0.32680216, -0.6719364, -0.4654836, 0.7578778, -0.6909718, 0.028570533, -0.49836102, -1.00442, 0.33311784, -0.2405087, -0.4838594, -0.052806303, 0.17710164, -0.054419, -0.23837063, -5.831942E-4, 0.17017919, -0.18100499, 0.10943858, 0.022220135, -0.8403175, -0.12918758, -0.24629745, 0.42362428, 0.38895947, 0.542706, 0.114432275, -0.010528676, -0.75045294, 0.1421507, -0.12332064, 0.23501034, -0.072478265, 0.5581766, 0.39189726, 0.05888631, 0.1660016, -0.17309797, -0.09899157, -0.28816175, 0.2601149, 0.12054671, -0.61166215, -0.054437898, 0.6379233, 0.11486223, 0.6985166, -0.5136765, -0.25588247, 0.15263554, 0.20198365, -0.9322076, -0.03512062, -0.8085904, -0.0395322, -0.07204389, 0.27958128, 0.1691426, -0.082541965, -0.73107207, -0.90773743, 0.18753986, 0.5782609, -0.3430897, -0.26387668, -0.40287238, -0.78084016, -0.004807256, -0.041991223, 0.09372549, 0.1978243, -0.43250856, 0.1219307, -0.46046212, -0.19194277, -0.013158798, 0.0878761, 0.30044544, 0.08835638, 0.21982583, 0.116825946, -0.07422336, 0.30798092, -0.22826281, -0.6352848, 0.41598332, -0.33548826, -0.060541764, -0.28689942, 1.427664, 0.54516673, -0.38975862, 0.378047, 0.13109408, 0.24448383, -0.40886194, 0.35097158, -0.28616095, -0.53698355, -0.12201335, -0.10439876, -0.82032704, 0.8050564, -1.0080005, -0.5132992, 0.6881691, 0.3003024, -0.14579745, 0.05552319, 0.16101062, -0.5339889, 0.21277736, 0.7561506, -0.17383385, 0.056053415, -0.27912718, 0.41601092, -0.46926013, 0.2683621, -0.6249152, 0.558738, -0.42890123, -0.4707897, 0.35507274, -0.281123, -0.67695236, 0.68950367, -0.26273674, 0.1598032, -0.37859857, -0.45874804, -0.044977754, 0.24006046, -0.27958784, -0.09752931, 0.7514466, 0.35837576, -0.16304776, -0.2500652, 0.067898795, 0.08599239, -0.99028945, 0.19142787, -1.9357878, -0.27831703, -0.3211863, 0.074548356, 0.3774644, 0.13825196, 0.1465929, 0.42481068, -0.91266966, -0.5999242, 0.026061751, 0.77117574, -1.1834686, -0.43715584, -0.12359202, 0.3049279, -0.23385045, -0.4858006, -0.7517154, 0.643143, 0.17429577, 0.18888095, 0.12932186, 0.5556851, 0.62005734, -0.6348133, -0.56304735, -0.6449847, 0.65198916, 0.41402158, -0.1831329, -0.30158225, 0.09139836, 0.36601174, -0.47610104, -0.18568546, -0.6343957, 0.06450212, -1.1197461, -0.0053223073, -0.17314824, -0.547079, -0.22349781, -0.5051791, -0.5393292, -0.47775874, 0.1774219, -0.04997699, -0.29038504, -0.42914373, 0.34530243, -0.3397919, -0.57602936, 0.11724438, 0.7216097, -0.42875394, -0.75216436, -0.34001386, -0.019585885, 0.46672392, 0.19836383, 0.33838978, -0.11934318, 0.36048216, 0.16335973, -0.7203922, 0.9905485, -0.4181079, 0.52190965, 0.40919822, -0.20526998, 0.44407794, 0.31734508, -0.5012598, -1.3482392, -0.41060227, -0.42983678, 0.3350957, 0.4285964, 0.6541765, -0.06611943, 0.8849284, -0.35840508, -0.44878864, -0.30867437, 0.16755696, -0.07778393, -0.6032526, 0.076818675, 0.45865682, 0.42806628, -0.2801385, -0.5328985, -0.4449511, -0.62129474, 0.5722328, -0.20601612, -1.171212, -0.9756322, -0.053115588, 0.28971028, 0.6735287, 0.21970403, -0.09127008, 0.36991876, -0.34684098, 0.7983341, 0.29029077, -0.0897868, -0.004868418, -0.023366338, 0.7464753, 0.37693223, 0.62036955, -0.19143121, -0.38471216, 0.20211348, -0.5191616, -0.020153943, -1.0228541, -0.3351348, -0.25112647, 0.54323304, 0.3547416, -0.12766173, -0.38371074, 0.08524378, -0.2901479, -0.29885533, 0.28875723, -0.26802132, -0.29692584, -0.046253845, -0.3606875, 0.45162416, -0.22721767, 0.4446018, -0.50063646, 0.150624, -0.7795859, 0.21852896, -0.48617303, -1.18646, 0.12945855, -0.42351896, 0.42391187, 0.22549587, -0.12563705, 0.031888917, -0.20443952, -1.1378855, 0.21280673, 0.6949393, 0.34201524, 0.24595399, 0.098102435, 0.09626975, -1.1568516, -0.8382735, -0.41302305, 0.5093113, -0.04249967, -0.3878187, -0.6725369, 0.04421218, 0.6262409, -0.52338225, -0.3329082, 0.4518189, -0.21250732, -0.15958333, 0.36766678, 0.4974699, 0.13102253, 0.8154994, -0.036311366, -0.06954375, 0.20300011, -0.22800002, 0.09267668, 0.4985187, 0.037589535, -0.15254684, -0.31093836, -0.32313395, 0.15708175, 0.4814934, 0.3014922, 0.59362495, 0.3553346, 0.4495263, 0.40494996, -0.9049149, 0.15718302, 0.22579198, -0.41991985, 0.013964653, 0.78356546, -0.15093173, -0.04066158, -0.42054364, -0.6100146, 0.3663186, 0.42538705, 0.47131395, -0.7014986, -0.4955734, 0.46663684, -1.1652677, 0.57912815, -0.19304596, 1.1941843, 0.4745373, -1.209355, 0.2594869, -0.22522423, 0.72628814, -0.563864, -0.258961, -0.5713629, -0.10868092, 0.21314818, -0.37070554, -0.7077044, 0.20887391, -0.24387, -0.38563192, 0.9149544, -0.06481445, 0.09832572, -0.32620326, 0.41270474, 0.450953, -0.12451584, 0.2801976, -0.22399035, 0.070284456, -0.048805043, -0.4841463, 0.9278709, 0.5287382, -0.17339574, -0.15856934, 0.14782977, 0.8337587, -0.3393853, -0.079026386, -0.29899624, 0.2435488, -0.3481602, 0.41387397, -0.20915955, -0.57284987, 0.13823095, 0.3196069, 0.55885434, 0.3689835, -0.009043679, -0.905601, -0.55862975, 0.49570176, -0.38298547, 0.8559612, -0.33831462, -0.46360928, 0.2530502, -0.41074896, -1.1527482, 0.2117477, -0.53716123, 0.16979997, 0.5215678, -0.6092017, -0.35142875, 0.0112921, 0.36128044, -0.61610764, -0.6943399, -0.6060966, -0.2466303, 0.016774658, 0.2642989, -0.30693865, -0.6557316, -0.56159985, -0.56137216, -0.44435862, 1.5215505, 0.04791549, 0.3319412, -0.11095138, 0.572644, 0.51533365, -0.10716696, 0.5798697, 0.49644914, 0.2726763, 0.06800741, 0.12472965, 0.31470034, 0.31446987, 0.6958128, -0.57481635, 0.24084479, 0.056271035, 0.25291842, -0.7234759, 0.34698275, 0.056440167, -0.3040345, -0.28671098, -0.115879714, -0.43856144, 0.47151083, -0.37689802, 0.1295701, -0.11369878, 0.6543081, -0.030986685, 0.06629698, 0.5816262, 0.14608616, 0.16813865, -0.08977592, 0.072327554, 0.20824182, -0.5071374, 0.355387, -0.38560116, 0.2842616, 0.21157354, -0.16066292, -0.010083906, -0.37783742, 0.050302476, -0.13242437, 0.05979199, 0.11677739, -0.12912327, 0.675125, 0.19247368, 0.78359705, 0.43252906, 0.22495867, -0.15808208, -0.16229251, -0.33381522, 0.6384629, -0.12743345, 0.2957529, -0.07849398, -0.12629288, -0.37563646, 0.08111113, 0.10126226, -0.47272837, -0.45451474, 0.34800923, -0.60006297, -0.54509646, -0.014169668, 0.27646527, -0.123114064, -0.16595279, 0.008915529, -0.3378611, 0.5365184, 0.27951485, -0.56959057, 0.56036645, 0.21304324, 0.1920586, -0.76326513, -0.11299831, -0.06586976, 0.1714834, 0.1942759, 0.1863673, -0.17099145, -0.19107583, -0.41004884, -0.014712825, 0.6252305, 0.5721946, -0.29667798, 0.45501783, 0.16956279, -0.10506187, 0.42973575, -0.19439074, 0.035397336, -0.4927609, -0.28594294, 0.06162417, 0.08463417, -0.46449614, 0.44058555, 0.12855768, 0.3286793, 0.070847794, -0.18746172, -0.3367696, -0.077126294, 0.47886732, 0.30684027, 0.11511739, -0.73968273, -0.063940294, 0.24172421, -0.17309725, 0.03517659, -0.13043633, -0.45274454, -0.36304843, 0.2035071, -0.09321469, -0.23191623, 0.52083015, 0.69215566, 0.73484504, -0.99300206, -0.085746825, -0.5179854, -0.3233282, 0.39339197, -0.4096789, -0.24973668, 0.0504312, 0.99384916, 0.8472923, 0.17939125, 0.40261367, -0.078834265, -0.09713404, -0.24529704, -0.061988797, 0.5512869, -0.16275547, 0.3381076, -0.4982516, 0.31899905, 1.1676762, 0.32255632, 0.23814423, -0.1135708, -0.81687814, 0.19042389, -0.32672173, -0.630932, -0.11211006, -0.15065289, 0.45084703, 0.8675262, -0.98508215, 0.17612156, 0.092780024, -0.6460972, 0.30109307, 0.45799574, 0.61500406, 0.010942519, -0.16556105, 0.08929936, -0.49380112, 0.5411004, 0.37019202, -0.70184714, 0.058599833, 0.13683799, -0.12784651, -0.27691144, -0.22463632, -0.24426612, -0.07090684, -0.5918143, 0.58223456, 0.11303896, -0.22878721, -0.28537983, 0.05516394, -0.22634755, 0.92524344, -0.05129445, -0.55429935, -0.21845983, 0.70094424, -0.037659585, 0.071360216, 0.013684556, -0.19250198, -0.084401004, -0.2952024, 0.3579406, 0.4001029, 0.13868588, 0.059185907, 0.023916997, -0.15771054, 0.29353207, -0.31916803, 0.35355365, -0.14494857, -0.4220928, 0.143451, 0.122564405, 1.2466973, 0.22395796, 0.01019872, -0.68612456, -0.51320744, -0.023613423, 0.40896314, -1.8492398, -0.23940831, -0.04247941, 0.03216804, -0.04793094, 0.22123164, -0.051052533, 0.2733646, -0.22081362, 0.42137218, -0.5628249, 0.26549658, 0.21037385, 0.18510625, -0.2061167, 0.15636536, 0.099081434, 0.04248806, -0.26017937, -0.53184116, 0.18129015, -0.0018704683, 0.16491114, 0.34166992, -0.22173986, -0.659947, -0.9134124, 0.6629861, -0.396513, 0.011421561, 0.20284836, 0.07827529, 0.0063620135, 0.43771794, -0.45616722, -0.5001101, -0.3717852, 0.5147331, -1.1249876, 1.3840022, -0.109665096, -0.36009753, -0.898636, -0.71696454, 0.9595171, 0.016455062, 0.33533955, 0.74841356, -0.030979142, -0.9180695, -0.15633205, -0.48335826, -0.53010124, -0.4970421, 0.43493482, 0.35776195, -0.42073917, 0.25471774, -0.9389164, -0.44508836, 0.67185384, 0.33609855, 0.16271703, -0.9526313, -0.21851984, -0.36048177, 0.027568663, -0.92438596, -0.21409094, -0.3997717, -0.1195649, -0.17345591, -0.21012428, 0.18431318, -0.15165082, -0.6172745, -0.4251476, -0.110464364, 0.1439265, 0.2620098, -0.8060809, 0.56534046, 0.330636, -0.10473802, -1.0975747, -0.08684441, 0.768306, -0.77755463, 0.43727332, -0.395926, -0.34351343, -0.97388005, -0.08563818, 0.38553864, -0.40330938, 0.15421239, 0.39006424, -0.03549315, 0.0084800795, -0.015292488, -0.6319657, 0.14351442, -0.15810028, 0.19488841, -0.4960501, 0.42210093, 0.06057249, -0.058071747, 0.8397998, 0.45386925, -0.16215108, -0.32338363, -0.20529233, -0.25598797, -0.21425696, -0.012556583, 0.4835234, 0.08840938, -0.5530793, -0.88198245, -0.19499816, -0.23548572, 0.31523123, 0.50836396, -0.61544216, -0.07483119, 0.26538622, 0.17759486, 0.5028461, 0.08926636, 0.1058745, -0.55630106, 0.37735802, 0.15395246, 0.39998254, -0.044377394, 0.4169755, -0.4206661, -0.01738128, -0.2778839, 0.1249172, -0.69370884, -0.47701013, 0.82488745, -0.029717546, 0.22670135, 0.1303243, -0.21685739, -0.16077237, -0.122505575, 0.34162402, -0.1683357, -0.2836479, 0.46211395, -0.24942547, -0.19242953, -0.24029647, -0.119864665, -0.31509766, -0.44141424, -0.059132576, -1.6664248, -0.1523974, 0.01887706, 0.33448082, 0.18853445, -0.2608198, -0.3024166, -0.5917425, -0.57455647, -0.8174659, -0.2893506, -0.1663265, 0.2959991, 0.06497899, -0.39598635, -0.46612364, 0.8206283, 0.4549202, 0.4892554, 0.06849697, -0.5363618, 0.3638794, 0.23775078, -0.42302316, -0.40451992, -0.69107664, 0.6717666, 0.8658515, 0.6687568, -0.16196457, -0.62299, 0.020963028, -0.25872803, 0.26012915, -0.391908, 0.06702228, -0.067453355, -0.26330134, 0.15956648, 1.2662272, 0.20799704, 0.23279245, 0.2521395, 0.30558074, -0.3665976, -0.16517313, -0.15451482, 0.09580013, -0.046035297, 0.04160578, 0.2919384, 0.28624517, -0.6106828, 0.20224935, 0.1667392, 0.89346206, 0.5347241, -0.21080503, 0.037731983, -0.22238068, 0.07879125, -0.7533876, -0.3556889, 1.0316575, 0.25749975, -0.4722852, -0.06647225, 0.6658529, 0.031618055, -0.740966, 0.4966203, -0.08928192, -0.28752634, -0.053882327, 0.2856999, -0.39402622, -0.69248414, 0.58202183, -0.6235772, 0.07546063, -0.008992601, -0.15267126, 0.59802794, 0.17255278, -0.5491341, -0.3131505, -0.31425393]                                                   |\n",
            "|Turner      |[-1.28543, -0.08228641, -0.191375, -0.42979646, -0.22902456, 0.11305181, 0.28118223, -0.6329747, 0.07014674, 0.37537557, 0.23164566, -0.30685103, -0.2921783, -0.08718335, -0.34685335, -0.080692366, -0.4262205, -0.22640719, 0.01906231, 0.32840824, 0.015851498, 1.7611444, -1.0643466, 1.0521741, -0.010281481, 0.113627985, -0.40055168, 0.6257039, -0.21339303, -0.32023388, -0.7039137, 0.15214892, 0.18792447, 0.35361663, 0.11332215, -0.22779033, -0.16101477, 0.84350383, -0.9742152, -0.15426429, -0.058372207, -0.45151177, -0.16557035, -0.60981876, -0.78219306, -0.598031, 0.8701258, -0.3146963, -0.027178511, -0.12799528, -0.529827, 0.02759701, 0.16594806, -0.7420543, 0.22170998, 0.56325006, 0.840987, 0.78463537, -0.111679226, -0.051432274, 0.37211573, 0.3172147, -0.6102276, -0.60729134, -0.41472793, -0.097132, 0.5121216, 0.13378292, 0.50424004, 0.26401657, 0.45782733, -0.95161116, 0.58089894, 0.37618965, 0.39248323, -0.7930891, -0.24165173, 0.20650215, -0.052113354, 0.5232241, -0.33079204, 1.0506644, -0.34753004, 0.3026008, 1.3918762, -0.26169848, -0.047284618, -0.50188863, -0.72690403, -0.14184171, 0.15582007, -0.03183469, 0.6262468, -0.34972125, 0.19316119, 0.111321546, -0.559266, -0.2259934, -0.4543962, -0.21100304, 0.10672909, -0.10696751, 0.5606726, 0.5012531, -0.11420818, 0.31516927, 0.7988609, 1.2873838, 0.9924721, 0.14519298, 0.07728325, -0.7438044, 0.008917183, -0.5795727, -0.0171641, -0.30278867, 0.41470212, 0.4407014, -0.044918388, 0.00534679, 0.5454503, 0.9780511, 0.22092533, -0.38745618, 0.04432221, -0.26501986, -0.5714309, -0.3763179, -1.1255811, 0.21350347, 0.27537265, 0.013640214, -0.096371844, 0.4792725, 0.122290015, -0.5076463, 0.7829051, 0.622433, -0.06069231, -0.48712212, -0.42859662, -0.9502432, 0.12617426, -0.5587976, 1.1231503, -0.4151473, 0.3907972, -0.119448766, 0.45076284, -0.113060616, 0.34555006, 0.17254066, -0.5523696, 0.79548407, -0.33911735, -0.19424596, 0.022318542, -0.11506444, 0.12986192, 0.1195201, 0.24538112, -0.37179437, 0.6300429, 0.22574657, 0.044133306, -0.44660845, -0.43030545, 0.80762875, -1.2678304, 0.88323337, 0.3729347, -0.25302714, -0.859307, 0.28426647, -0.84979093, 0.27744278, 0.30362147, 0.12927213, 0.9710607, -0.11601445, -0.5093793, -1.0675265, -0.53447276, 1.1294001, 0.25223374, -0.33863765, -1.1315411, -0.5871978, 0.9214277, -0.58695704, -0.82663125, 0.58541965, 0.35781103, -0.20822257, -0.3616846, -0.609417, -0.74888176, -1.4634607, 0.3645889, -0.21881449, -0.2523018, 0.34209058, 7.994566E-4, 0.07258342, -0.4463958, 0.37447372, -0.4212123, 0.7357751, -0.05588831, -0.4656646, 1.5143197, 0.29658556, 0.043656558, 0.08591911, 0.45255375, 0.86619496, 0.028595135, -0.02886406, 0.46309438, -0.06892453, -0.7174805, -0.50678587, -0.39522037, -0.30355394, 0.17267239, 0.1962268, 0.069004565, 1.4484152, -0.29925758, -0.04333678, -0.3786978, -0.770628, 1.2042291, 0.8620744, -1.3237144, 0.6266167, -0.9814503, 0.12826237, 0.43114936, -0.24036908, -0.28627607, 0.5128027, -0.8923528, -0.6593466, 0.50679344, 0.54053485, 0.27775118, 0.35702592, -1.0669839, -0.5130987, -0.65179706, -0.11891924, -0.33237696, -0.67747515, -0.17171784, -0.021691162, 0.73840326, -0.24056686, 0.57076156, 0.6198623, -0.2432969, -0.5536829, 0.16396786, 0.45473206, -1.8754795, 0.104378715, -0.48368275, 3.1337142E-5, 0.086281, -0.4636466, -0.35390323, -0.41942012, 0.32836804, -0.4383956, 0.33103895, 1.0793935, -0.070372075, 0.5888591, -0.6523603, -0.7394766, 1.1734319, 0.08585927, -0.5219721, -0.7175221, -0.006737098, -0.44470593, 0.48616746, -0.4680405, 0.45764363, 0.10803048, 0.12264554, 0.35342073, -0.0734182, -0.28593746, 0.06600563, 0.062482387, 0.09069404, -0.87019724, 0.4927669, -0.13609126, -0.16532585, -0.34776652, -0.15697832, 1.5137997, -1.2483325, 0.04168345, -0.62105155, -0.48421964, -0.66463447, -0.80765843, 1.014966, -0.3536008, -0.389885, 0.41814092, -0.58220416, -0.51033604, -0.63944614, 0.37270913, 0.24374805, -0.5908217, -0.94402367, -0.82392013, -0.18475804, -0.396906, 0.4210434, 0.16695389, -0.077800326, -0.38032806, -0.1734892, 0.066725105, -0.029719383, -0.70478463, 0.36556482, -0.41804254, 0.43225682, -0.47297326, 0.57877696, 0.3623609, -0.8820243, -2.4640956, -0.9313932, -0.58744586, -0.12204114, -0.17962927, -0.8601304, 1.4844532, -0.19137816, 0.15128364, 0.24821602, -0.5642375, 0.8036971, -1.0966883, 0.04583607, 0.39933914, 0.38855362, -0.38263655, 0.40320748, -0.010985851, -0.8117023, -0.05691415, -0.07294524, -1.0919472, 0.5249964, -0.33414373, -0.12265992, 0.5480679, -0.96478647, 0.60315526, 0.18128338, 0.41147715, 0.7555603, 0.4228357, 0.5873202, 0.047959592, -0.5705848, 0.57300556, 0.97988284, 2.4333491, 0.49212164, -0.13758624, 0.45501995, -0.182509, -0.33838505, 0.8660588, -0.102436356, -0.48517978, 1.5446941, -0.47651914, 0.48083726, -1.5004764, 0.37958315, 0.48036575, -0.28893566, 0.13606137, -0.23709893, 0.4898942, -0.20462687, -0.2895211, 0.23295236, -0.4677739, 0.07408721, 0.19783191, 0.42829716, -0.61324716, 0.24128437, 0.9739279, -0.15075889, 0.1965734, -0.3993449, 0.16382751, -0.28658974, -0.090091154, 0.032083616, 0.095165394, -0.036137015, -0.85177135, 0.5416079, -0.4155392, 0.27354842, -0.14047031, -1.3473684, 0.27120888, -0.4321878, 0.03506018, 0.44077107, -0.15041485, 0.48561093, -0.2632209, -0.28119087, 0.13995215, -0.36732805, 0.22721142, -1.1960695, 0.4961099, -0.57766944, -0.4511388, -0.025061473, 0.519245, 1.2062813, 0.02992408, -0.5631453, 0.6399659, -0.34699425, 0.6946667, -0.94694644, -0.31974915, -0.81297135, -0.0089377165, -0.82927746, -0.23796292, 0.11943794, 1.43033, 0.76704407, 0.7850912, -0.2519655, -1.4828889, -1.3406403, 0.07812535, 0.39940894, 0.5931541, 0.10935012, 1.1493493, -0.18707015, 0.4527985, -0.5395348, -1.21066, 0.21791455, 0.08961681, 0.50240797, -0.43843967, 0.0019693263, -0.43857005, 0.83947414, -1.0298817, -0.018297954, 1.884489, 0.9646284, -0.3531785, 0.529603, 0.5399637, 0.15780611, -0.0871858, -0.21103667, 0.11608225, -0.4667763, -0.10855499, -0.029818028, -0.33054692, -0.52708673, -0.13799581, -0.67452705, 0.7986908, -0.38380122, 0.52590144, 0.11392101, -0.84957695, 0.033499256, 0.45682725, 0.360355, -0.09218206, 0.020810217, -0.071900874, 0.18525347, 0.63373214, -0.124252, -0.87056184, 0.95023197, 0.641652, 0.7186915, 0.35260543, -0.8050574, 0.43436125, 0.672593, 0.045525625, 0.4844169, 0.07646972, -0.5933294, -0.25912827, -0.42694685, 0.5547427, 0.21281102, -0.64653367, 0.38472003, 0.31315807, -0.5641005, -0.22464366, -0.22317566, 1.0416834, -0.5230561, 0.51664793, -0.2988659, -0.09864658, 0.014462769, -0.4995777, 0.19689795, 0.040095568, -0.5918338, -0.3681373, 0.35916513, 0.84527504, -0.7106991, -4.5879185E-4, -0.40955082, -0.3793208, -0.23291007, -0.7000178, -0.046917558, 0.39147902, -0.20789093, 0.21102947, -0.8291141, 0.71152973, 0.08567579, 0.18676919, 1.0739932, 0.16752137, 0.052193254, -0.787102, 0.15026456, 0.5998149, 0.14983958, -0.07920413, 0.11973852, -0.3443751, 0.18048197, -0.53467745, -0.51355755, 0.6730664, 0.28963837, -0.031672448, -0.64958256, -0.42008156, -0.50648177, -0.34630555, 1.0808295, 0.4009511, -0.25373888, -0.4164772, 0.23871207, -0.73655534, -0.62845325, 0.6320523, 0.020136282, -1.2869319, 0.06400463, -0.7166044, -0.21618456, 0.50748503, 1.016654, -0.19839911, -0.48520827, 0.39869475, 0.7718899, -0.24766192, 0.20428911, 0.17202374, -0.545142, -0.52836376, -0.06498501, 0.022246867, -0.08719006, -0.115399435, 0.1526553, 0.26909578, 0.29420882, 0.6506605, 0.16829962, 0.14521824, -0.31767136, -0.19936791, -0.2833648, 0.40897346, -0.6965603, -0.21401948, -0.32455614, -0.6137521, -0.35950556, -0.32774517, 0.2574799, -0.52166593, -0.27926573, 0.0793114, -0.07032227, -0.010044452, 0.74655133, 0.7535911, 0.3587019, -0.045123234, 0.3754642, 0.66910183, 0.29410693, -0.088638246, -1.6501831, 0.7417851, -0.6010208, 0.3120921, -0.10066764, -0.16816649, 0.044041738, -0.18589318, 0.02973301, -0.5476955, 0.32591653, 0.06347357, -0.007761322, -0.11897011, 0.076655254, 0.42679477, -0.046087116, 0.346691, 0.32111448, 0.27421615, -0.7813146, -0.0026062876, 0.49821094, -0.811681, -0.71637815, -0.3260389, -0.042359352, -0.7269385, 0.5830206, 0.8984782, 0.57853377, -0.27580613, -0.31003085, 0.74821264, 0.05419819, -0.03751281, 0.45741436, 0.18985201, -0.56665957, -0.5637424, 0.88930833, 0.15827695, -0.18377236, -0.20759138, -0.62280166, 0.353342, -0.27639157, -0.7902027, -0.20063621, 0.5446263, -0.27413297, 0.3827257, -0.58516055, 1.084373, 0.04872323, 0.51500386, 0.35386527, 0.060313173, -0.043448962, -0.30487937, 0.27962995, 0.023960605, -0.29095954, 0.44475046, -0.44192737, 0.18521783, -0.61904764, 0.19819483, 0.31116965, 0.03270718, -0.6085006, 0.09991795, 0.04736369, -0.11023541, 0.47547224, 0.034688234, -0.12939548, -0.15230426, 0.09162785, 0.10582654, -0.30954176, 0.48815095, 0.04457346, -0.029220693, -0.16146529, -0.014449269, 0.053870663, 0.9060405, -0.501732, 1.0172174, 0.37899998, 0.70094347, -0.07526303, 0.4219783, 0.2402661, 0.10952834, 0.1522411, -0.2736767, -0.46933985, 0.61420006, -0.22216697, 0.1574902, -0.049333423, -0.06315145, 0.033163764, -0.032114893, 0.07362901, 0.4607498, -0.0314224, -0.023849092, -0.7886902, 1.0382649, 0.16152513, -0.12631346, -0.3957932, -0.2728039, 0.10420716, -0.1560198, 0.1564398, 0.71433514, 0.11003114, 0.098609254, -0.100938514, -0.38171792, 0.6907755, -0.635977, -0.13210085, 0.07885799, 1.1309553, -0.28584257, -0.6150152, 0.011658415, 0.020708784, 0.030065708, -0.36607814, -0.02576335, -0.28897607, 0.0055727735, 0.47617114, -0.84245217, -0.8973941, -0.40655303, 0.081690595, -0.2939363, -0.94460183, -0.4174807, -0.31947863, 0.9139004, -0.40173367, -0.50215316, 0.061591726, 0.0109681245, -0.51872677, -0.14312468, 0.3502801, 0.70338696, -0.033517435, 0.035166856, -0.18617535, 0.010422116, 0.8882511, -1.2370352, -0.0042006522, -1.1545358, -0.8857039, -0.34982187, 0.31088313, 0.86087453, -0.2654812, -0.0870825, -0.3665587, -0.07283351, -0.6339274, 0.39194083, 0.46472436, -0.08605102, -0.2629425, -0.1947854, -0.3384744, 0.5572708, 0.22734058, -0.09597708, -1.992411, 2.07072, 0.27702057, -0.25525326, 0.18414277, 0.36101532, -0.40484595, -0.254711, 0.9681973, -0.095051035, -0.039640285, -0.10695931, -0.33870322, -0.21750218, -0.53745747, -0.016276646, 0.49573857, 0.27781948, 0.54700005, 0.22947384, -0.08888167, -0.38387638, 0.23664968, 0.016846836, 0.31295836, -0.41112345, 0.25658098, -0.1575371, 0.13038164, 0.28096712, -0.21243268, -0.057343498, 0.066257544, -0.8402265, -0.33559343, 0.3426492, -0.25950274, -1.0180697, -0.1137985, -0.005868828, 0.37958997, 1.2975566, 0.10638068, 0.4470333, 0.40308067, -0.76191175, -0.1620833, -0.5685404, 0.058662713, -0.53548056, 0.15153381, 0.6997584, 0.1202657, 0.19457966, -0.0035372525, -0.6130898, -0.1533778, -0.6597302, -0.3239518, -0.6958041, 0.06380597, 0.18593751, -0.3433256, -0.09608972, 0.05982408, 0.66352797, -0.7673693, 0.9035686, -0.33356124, -0.3476566, 0.9542727, -0.5355458, 0.11333805, -0.30649516, 0.37574843, 0.49544743, 0.3003993, -0.25476852, 0.3803013, -0.10730487, -0.6252252, -0.03206494, -0.12030957, -0.5173357, 1.318677, -0.2494477, 0.11680138, -0.77834076, -0.9642033, 0.012305111, 0.029948413, -0.033946633, 0.33645946, -0.5119009, -0.44390535, 0.15469445, 0.5214828, 0.054677933, 0.061843738, 0.23013619, -0.14045273, -0.017877666, -0.5301137, 1.5169449, 0.043644994, 0.50112987, -0.9451988, -0.08786985, 0.018840507, 0.0020098686, -0.7247875, 0.08764182, 0.67320466, 0.008646909, -0.025337331, -0.7229739, -0.64868164, -0.33142886, 0.07767257, -0.098236084, 0.08567728, -0.17726247, -0.07471159, 0.24013363, 0.23866297, -0.5156273, 0.26526985, 0.3550461, 0.2916448, -0.47594595, -0.52768445, -0.6342844, -0.13599694, 0.56426615, -0.490344, 0.2687985, -0.053257525, 0.68892395, 0.32896602, 1.7272005, 0.24969046, 0.15869546, -0.0021385746, 0.17639866, 0.4469468, -0.29154527, -0.1752739, -0.6585084, 0.24419875, 1.237834, 0.32474113, 0.19153166, -0.6990241, -0.22733307, -0.4058044, -0.36542445, 0.4895354, 0.048340604, 0.0058534816, 0.071689084, 0.33654505, -0.35620606, 0.17962486, 1.2007546, -0.36204565, -0.0067864284, 0.11357039, 0.21082087, -0.100693315, -0.39758945, -0.0436925, -0.16361159, 0.012102071, 0.9845892, 0.35313958, 0.1917679, 0.40973496, 0.8978455, 0.8707335, 1.4077094, -0.056057587, 0.059438024, -0.39909106, 0.17225064, 0.5234738, -0.065097034, 0.9085262, -1.0301092, -1.0126637, -0.024224326, 0.5591996, 0.41387385, -0.32180032, -0.8816403, -0.38081348, -0.60780764, 0.13224632, 0.6529459, -0.098592386, -0.33236524, -0.054539204, 0.0879377, -0.048856296, 0.6242588, 0.4202687, -0.29833758, 0.5300428, -0.09997426, -0.10797972, -0.121842645]                                                                 |\n",
            "|Newall      |[-0.15922381, -0.4069708, -0.26923794, -0.4310938, 0.02952183, -0.34705558, -0.17874795, 0.08862895, 0.6611066, 1.1289186, -0.06140293, -0.06574241, -0.43855184, 0.20060654, -0.7830085, -0.41072893, -0.17938155, 0.29405874, -0.17774953, -0.09162918, -0.13851532, 0.49707103, -0.82441175, 0.5817265, -0.08036832, -0.09966034, 0.0067521334, -0.30576843, -0.100598216, -0.88800097, -0.7795545, -0.29914436, 0.29762548, 0.1913056, -0.08963759, -0.15713401, -0.04045466, 0.4032968, -1.1676617, 1.2260451, 0.28753155, 0.4892134, 0.18150365, -0.8413982, -0.7934016, -0.8672062, 1.0603465, 0.17203625, -0.29903334, -0.5833076, -0.5728866, -0.34257257, 0.923282, -0.09819158, 0.09642906, 0.038121715, 0.89535034, 0.954546, -0.41000304, 0.26820308, 0.0075854138, 0.2878064, -0.07665857, -0.26161098, -0.14850579, -0.2001089, 0.31548533, 0.6164629, 0.03750913, 0.054294318, -0.07474468, -0.41276902, 0.36594456, 0.18423474, 0.20389755, -0.20600681, 0.3461851, -0.39085495, -0.20698747, 0.25152427, -0.16923165, 0.93427, -0.12662472, -0.7304591, 0.513612, -0.057830196, -0.74420965, 0.07346077, -0.7480511, 0.33104008, -0.60570127, -0.2314251, 0.55495965, -0.16409673, 0.58363134, 0.10033609, -0.2608873, -0.18928571, -0.28714323, -0.00622496, 0.12929623, 0.34563708, 0.0709345, 0.72916603, 0.14439435, 0.22198106, 0.39098153, 0.94530696, 0.67317045, -0.34081206, 0.38784373, -0.2855472, 0.8472952, -0.543044, 0.43323344, 0.43342942, 0.23639673, -0.59290147, -0.08379029, 0.5386877, -0.25135028, 0.7460962, -0.31404412, -0.47428662, -0.02305282, -0.11746162, 0.020131126, -0.36274582, -0.43069997, -0.45053524, -0.46686268, 0.1827377, 0.16339064, 0.14630285, 0.43225777, -0.03581406, 0.581687, 0.15937224, 0.39766794, 0.021258116, -0.1429992, -0.27399242, -0.3710293, 0.31578737, 0.21740037, -0.018186435, 0.25310016, -0.004463196, 1.2061049, -1.0011842, 0.3962851, 0.2009787, 0.20950767, 0.50135565, -0.23918532, -0.0048237406, -0.42361298, 0.16324314, -0.4491686, -0.26305187, -0.28286403, -0.33405063, 0.88720477, -0.009410832, 0.026815757, -0.26100254, 0.04368514, 0.11563207, -0.45017374, -0.17075238, -0.04348575, -0.45819792, -1.2397416, 0.2510509, -1.4313726, -0.6722229, 0.35512072, 0.97081345, -0.36864376, -0.38696003, -0.2508286, -1.0233907, 0.3337681, 0.89559793, 0.5145014, -0.4329626, -0.4678508, -0.38426495, 0.060678095, -0.34386212, -0.84236574, 0.53777874, 0.19334173, 0.1711133, 0.018964037, -0.06555526, -0.89539427, -0.7247082, -0.21279939, 0.2099649, -0.5924501, 0.83619833, 0.25785545, 0.7330266, -0.033048097, 0.026077053, -0.31983668, 0.056751445, 0.2599671, 0.14583112, 1.9555132, 0.8270754, 0.31723997, 0.41520894, 0.568383, -0.15938275, -0.78123707, -0.1071467, -0.011387318, 0.22154886, -0.5105485, 0.059010983, -0.15373284, -0.26442325, -0.49524492, -0.06063545, 0.21408603, 0.77120906, 8.545816E-5, -0.5699114, -0.2395617, -0.43705162, 0.9171421, 0.27640814, -0.45698404, 0.46508914, -0.99406284, 0.107830614, -0.5884565, 0.028249532, 0.10558519, -0.31942046, -0.5688106, -0.2208035, 0.50183874, 0.11685311, 0.12986153, 0.8343361, -0.33466634, -0.32736358, -0.4572731, -0.17702067, 0.2176578, -0.40609515, -0.5232338, -0.42245236, 0.07565594, 0.20720154, 0.14527756, 0.86242974, -0.4551913, 0.22723025, 0.020907901, 0.2114758, -2.2088623, 0.17495003, -0.4306645, 0.36365432, 0.26906195, -0.19526634, 0.36630976, 0.015103817, 0.15372401, -0.266976, -0.4226806, 0.94203657, -0.605049, -0.26219213, -0.33070338, -0.49205723, -0.33784398, -0.611482, -0.5696415, -0.25972855, -0.004363984, -0.48212734, 0.4083334, -0.34453657, 0.39179382, 0.35777798, -0.65157855, -0.61850435, 0.47975862, 0.04335673, -0.62278974, 0.21772909, -0.1605114, -0.26853448, 0.4130114, 0.5331883, -0.42423713, 0.055128008, -0.6044607, 0.5923704, -0.5274266, -0.61974764, -0.31474394, 0.053628862, -0.4795707, -0.6312014, 0.591493, 0.094467744, 0.09160226, -0.40368778, 0.32921538, -0.5330174, 0.21766777, -0.09290998, 0.18817596, 0.41613364, -0.32599375, -0.2968095, 0.3771151, 0.36843118, -0.13046695, -0.15456606, 0.59814024, 0.6326483, 0.050721757, -0.8162422, 0.21752037, 0.098378465, 0.7161983, -0.20357215, 0.8844975, 0.22804509, 0.2984765, 0.019775942, -1.4033558, -1.5289965, -0.41451168, 0.2601691, 0.35193247, -0.058236282, -0.09287128, 1.5609217, -0.7869242, -0.2609174, -0.0903039, -0.93560934, 0.26832783, -1.2374516, 0.20419005, -0.25428343, 0.023982994, -0.77489233, 0.06169167, -0.0892428, -0.73413837, 0.55044645, 0.2765702, -1.5515342, 0.2422412, 0.749094, 0.06978357, -0.047765255, -0.53641295, 0.19953124, 0.5805819, -0.0022953302, -0.027781159, 0.19516386, -0.21951166, -0.2023048, -0.32280028, 0.77260506, 0.98270416, 1.1069362, -0.44522375, -1.2099222, 0.5806651, -0.40050206, -0.45553336, -0.004945129, -0.6261387, 0.12395216, 0.7116447, -0.029144734, 0.19945589, -0.434451, 0.0878772, -0.051815204, -0.034025073, 0.25236684, 0.16299784, 0.3783165, -0.28554565, -0.083242305, -0.60127056, -0.22970723, 0.20746794, -0.4211285, -0.04203898, -0.06205107, 0.37100908, 1.1057588, 0.027796179, 0.7199644, -0.6158782, 0.4519058, -0.5170282, 0.088729754, -0.11629947, -0.73431456, -0.79753304, -0.7336199, 0.26525363, -0.05397887, 0.058241956, -0.05618823, -0.6583899, 0.23496355, -0.061680883, 0.19756049, -0.3245952, -0.0061020106, -0.18114811, -0.4262823, 7.328335E-4, 0.19035998, -0.15190437, -0.38184953, -1.124588, 0.50297284, -0.23320359, 0.120723724, 0.32614875, -0.67701936, 0.1530649, -0.063641205, -0.42281592, 0.7209594, -0.43730462, 0.58119106, -0.39397103, -0.6285253, -0.069345966, 0.3562803, -0.61825776, 0.012469582, -0.29363582, 0.79256254, 1.0673008, 0.25377297, -0.17003942, -0.62382185, -0.9279127, -0.25739998, -0.56553304, 0.16929069, -0.04189509, 0.8234851, -0.4252689, -0.41775477, -0.0553606, -0.86647606, 0.01632249, 0.12658843, 0.38335937, -0.31751236, -0.32625464, 0.25179514, 0.9496332, -0.10109693, 0.14707975, 1.1568854, 0.48363826, -0.34874773, -0.12878656, -0.5611514, -0.07217178, 0.19668238, 0.41489708, 0.15687785, -0.9403956, -0.15055813, 0.24075407, -0.10549784, -0.6765882, 0.3127789, -0.42951244, -0.041075513, -0.42137584, 1.0259509, -0.054277997, -0.18519342, -0.27184376, 0.13901956, 0.5048391, 0.10891037, 0.29067978, 0.27066907, 0.1466351, 0.22784922, -0.15164787, -0.8429789, 0.46178705, 0.5969966, 0.675351, 0.63848186, -0.28321898, -0.2280522, 0.107737005, 0.19882749, 0.873238, -0.28793746, -0.06367352, -0.4460296, -1.1267893, -0.42391074, 8.6831674E-4, -1.051157, -0.0092901215, 0.07882714, -0.58489907, -0.098705575, -0.35047752, 0.43533236, -0.2314058, 1.1599283, 0.016352192, -0.30620646, -0.36467502, -0.6659343, -0.10249082, 0.29346663, -0.3175988, -0.3969259, 0.07045971, 0.17312753, -0.5827549, -0.40825528, -1.4354067, -0.4933927, 0.07028695, -0.94021845, -0.2290374, -0.37212378, -0.1384783, -0.36116353, -0.7421367, -0.13919039, 0.88469446, 1.1642363, 0.88396215, -0.014316559, 0.5366229, -0.9143536, 1.2586749, 0.0948355, -0.07747612, -0.50024253, 0.72984964, 0.17371453, 0.32817572, -0.09826635, -0.24840449, 0.60344887, 0.5684562, -0.15935531, -0.4353237, -0.52013975, -0.31068158, -0.7887862, 1.04831, 0.5746298, -0.10067673, 0.10449436, -0.124803126, 0.021192523, -0.22559391, -0.089182094, -0.1664705, -1.1022278, -0.22101428, -0.70152104, -0.3423048, 0.7281517, 1.0899776, -0.23083341, -0.048473563, 0.35944635, 0.60047555, -0.08219065, -0.31010032, 0.24412581, 0.23024346, -0.8819022, 0.10381412, -0.28033832, -0.5718365, 0.17534056, -0.06496462, -0.5910215, -0.06461078, -0.75420785, 0.682798, 0.8073182, -1.1229367, -0.4954777, -0.65776515, 0.6625725, -0.6445348, 0.06848049, 0.33196282, -0.031315386, -0.55191386, 0.63688064, 0.46005926, 0.2166566, 0.00911919, -0.071510464, -0.9049027, -0.275958, 1.5408393, 0.17108813, 0.0031506345, 0.03643019, -0.038651645, -0.62314343, 0.08294302, -0.3097947, -1.0339489, 0.79022753, -0.042397123, 0.20582834, 0.32117748, 0.6717638, -0.05040458, -0.3630544, -0.5016727, -0.5417475, 0.47819266, -0.4694966, -0.031126231, 0.0859009, -0.09921715, 0.6405312, 0.47652876, -0.015301749, -0.054648742, 0.5602693, -0.7616409, 0.26400143, 0.18279293, -1.0305009, -0.6558653, 0.65754473, 0.5631927, -0.51408935, 1.2737783, 1.5766817, 0.33350185, 0.3371502, -0.18885657, 0.008390345, 0.20526859, 0.6746415, -0.17941386, 0.14532493, 0.34004697, 0.26788723, 0.36366248, -0.5685593, -0.5896424, 0.48430574, 0.12938353, 0.44330585, 0.06189689, -0.6063457, -0.19102737, 0.18071611, -0.62027764, 0.64218855, -0.07975593, 0.75138956, 1.0606694, -0.26968113, 0.31771326, 0.44746292, 0.6683062, 0.07859093, -0.021070778, 0.15385374, -0.557268, 1.1012843, 0.50181997, -0.46151796, -0.49178752, 0.21805015, -5.45606E-4, -0.17081584, 0.24879922, -0.1535325, -0.062756576, 0.7189528, -0.08664308, 0.80540997, -0.55575764, -0.2921476, -0.42111534, 0.3898147, -0.17444468, 0.27159438, 0.52317536, 0.39283198, -1.4355237, -0.08805595, -0.64744806, 0.55337584, -0.05552103, 0.9535296, 0.093128115, 1.0079324, -0.23374265, -0.045862883, -0.41530856, 0.65284026, 0.19958542, -0.10040821, 0.31787392, 0.7692864, -9.893626E-5, 0.27221262, 0.16218999, 0.21436918, 0.20731983, -0.1895581, 0.16397244, 0.2741645, -0.008521631, -0.11218265, -0.73522794, 0.53031087, -0.17504433, -0.049037293, -0.5556939, 0.8035499, -0.3230791, -0.59347296, -0.46703848, 0.25585854, 0.20950371, 0.016040072, -0.469976, -0.17557977, 0.98104876, -0.42181936, -0.2380032, 0.29158905, -0.113263175, -0.14089915, 0.1689654, 0.56741184, 0.07360329, -0.38319606, 0.01975482, 0.2319206, -0.2815678, 0.13832249, 0.26162338, -0.6363462, -0.4147495, 0.1382862, 0.4877108, -0.6400386, -0.572248, -0.46246082, -0.48009562, 0.6193081, 0.11271882, -0.436733, -0.29717797, -0.33654177, -0.7124615, -0.859045, -0.2725568, -0.046885476, -0.51263833, -0.74427974, -0.0032508671, 0.11307073, 0.5870671, -1.7834687, -0.11575978, -0.37955362, -0.99058694, -0.53966725, 0.1949615, 0.5824985, -0.14311126, -0.45946085, -0.46013474, -1.125437, -0.31946084, 0.5392221, 0.16195224, -0.22281723, -0.23123579, 0.017883021, -0.13460818, -0.28571814, 0.04304658, -0.31091213, -1.4094265, 0.9859769, -0.8703375, -0.29179192, -0.16670674, 0.11143884, -0.14856885, -0.43147716, 0.2364552, -0.095112756, 0.27753907, -0.10424478, 0.17771977, -0.62003607, -0.22604936, 0.7433273, -0.040320456, -0.46220267, 0.9925008, 0.40945926, 0.07038513, 0.2995125, -0.09756023, -0.094432056, 0.77617097, 0.080046, 0.6651168, -1.4340665, 0.4037994, 0.3438881, -0.041718714, -0.51831806, 0.7363614, -0.1020048, -0.47072297, -0.11358017, -0.7702435, -1.5435112, 0.45731336, 0.44577384, 0.92889696, 1.2384018, 0.32318038, 0.752122, -0.38220757, -0.47510055, -0.30567142, 0.1067106, 0.4836564, -1.2925057, 0.27024522, 0.5761349, 0.29287812, 0.55500376, -0.8140359, -0.94624364, -0.53018254, 0.02950558, -0.47179925, -0.6888533, 0.80685234, 0.12562096, -0.3190762, 0.09501685, -0.44015515, 0.12315582, 0.26307303, 0.61255354, -0.47710592, -0.7952651, 0.6102046, -0.54564345, 0.06606227, -0.6737796, 0.12631834, 0.20043376, -0.4487294, -0.2883538, 0.64810014, -0.10645957, -0.13277559, -0.16375406, 0.22111703, -0.5415417, 0.7553865, 0.18530989, 0.21158317, 0.20306852, -0.78281516, 0.19759484, 1.0360248, -0.551878, -0.6838956, -0.5650144, -0.043714, 0.0046287663, 1.0527363, 0.0972341, -0.24404602, -0.6493668, -0.36738768, -0.8091984, -0.2965212, 1.3915789, -0.508658, 0.54344994, -0.9007069, -0.3735857, 1.0428892, -0.18512547, -0.53230786, -0.32576144, -0.12794717, -0.05562167, -0.4786886, 0.41000775, -0.38870427, -0.073214486, -0.49295568, -0.89645046, 0.22006737, -0.027618587, 0.14588556, 0.11551064, 0.4827072, -0.51625216, 0.4501363, 0.5791326, 0.38424653, -0.6597618, -0.6938015, -0.56637806, 0.37872338, 0.94348603, 0.08120766, -0.7066114, -0.2755876, 0.57941514, 0.045374513, 0.96412534, 1.1539023, 0.35714936, 0.6867155, -0.5192897, 0.380467, 0.10863161, -0.66580075, -0.32740927, -0.35767585, 0.30565897, 1.1771009, 0.6488465, -0.107312046, -0.28883526, -0.22479683, -0.29674464, 0.6791934, -0.1260083, -0.24381468, 0.10718243, 0.7496737, -1.1152036, 0.58137566, 0.5614384, -0.042542268, 0.25591886, -0.34899768, 0.38679922, -0.6367265, -0.013931431, -0.08262204, 0.29963475, 0.4149688, 0.56217706, 0.33514085, -0.69830936, -0.16545267, -0.5746501, 0.8290315, 1.2945607, 0.0021921247, -0.44298822, -1.1715734, 0.046223532, 0.46234086, -0.7894531, -0.033188656, -0.7387559, -0.2183029, 0.6803006, -0.0025798753, 0.7249281, -0.28350872, 0.33422357, -0.65931225, -0.438457, 0.024666116, 0.18764329, -0.048535615, -0.785725, 0.10731724, 0.7526387, -0.65778005, 0.65259403, 0.4452204, -0.04282324, 0.037190985, -0.25607675, 0.21322021, -0.4313174]                                                            |\n",
            "|say         |[0.040825248, 0.79921997, 0.020270275, -0.5167818, 0.089849845, -0.54928946, -0.09102909, -0.016846247, 0.82973397, 0.5486647, 0.40986112, -0.3999027, 0.004714817, -0.029205501, -0.013871506, -0.35313693, 0.01605247, -0.7438526, -0.4889316, -0.2237017, 0.1065877, -0.4791159, -0.16698879, 0.32669294, -0.13088806, -0.3815068, 0.2091088, 0.7444622, -0.26126435, -0.23779078, 0.1041885, 0.512825, -0.22887187, 0.28787023, 0.28411415, 0.2712188, -0.31488937, 0.28837126, -1.1954072, 0.5422474, -0.27837557, 0.3318199, 0.24934302, -0.20748803, -0.1832756, -0.78438073, 0.3169986, -0.015755352, -0.4069999, -0.18680787, -0.18491939, 0.28780073, 0.3779555, 0.011220962, -0.5965196, 0.23802227, 0.059998624, -0.21227047, -0.37828678, 0.010306381, -0.22998416, -0.3425677, -0.19992779, -0.23788539, -0.28413558, -0.878231, -0.64940816, -0.39039844, 0.07312072, 0.4785291, -0.17215335, 0.43974543, 0.086442396, -0.20332047, -0.023696497, -0.12231561, 0.31042928, 0.098896414, 0.14064473, -0.18973102, 0.51536924, 0.3662846, -0.24032682, 0.20978524, 0.02089379, 0.21872362, 0.04218291, 0.15005305, -0.51878244, -0.3850784, -0.18810745, -0.6161523, 0.10830377, 0.24282792, -0.16790234, -0.16507612, 0.6281016, -0.74297583, 0.21272863, 0.2705264, -0.44836968, -0.15913521, -0.20135732, 0.6411751, -0.20992479, 0.17460157, -0.0952654, -0.3142134, -0.3850878, -0.25734428, -0.06200961, -0.021454886, -0.03712419, 0.06694812, 0.3113472, -0.25013617, 0.10079548, 0.66008055, -0.5532533, 0.19804226, 0.17124605, 0.82370365, -0.036821872, -0.07974252, -0.24293092, -0.5644448, 0.38901937, -0.3736003, -0.20029491, 0.93733406, 0.071417205, 0.510215, 0.5900365, 0.25077587, 0.18802726, 0.20230559, -0.2516055, 0.02434586, -0.22782311, -0.06892504, -0.062394425, -0.3627711, 0.08891729, -0.5083773, 0.06639743, -0.09590395, -0.08691962, -0.4535697, 0.52567524, 0.30815214, 0.17940186, 0.02891858, -0.035096414, -1.426328, 0.56137973, 0.51349056, 0.06457534, -0.008325495, -0.48069873, -0.09549963, 0.11575429, 0.24289016, -0.53964543, -0.31314635, 0.57686985, -0.31309107, 0.016494544, -0.0010542423, 0.08466232, -0.6560786, 0.027072955, 0.38314977, -0.57311976, 0.12727945, -1.2085886, -0.1074835, -0.66260254, -0.4024892, 0.47623995, -0.0898819, -0.03549482, -1.5244071, 0.89667165, 0.09232812, 0.45691782, 0.05211012, 0.037363663, 0.07237565, 0.22958857, -0.20007986, -0.10706332, 0.32479125, 0.41262954, 0.27707896, -0.13867626, 0.18357411, -0.12339494, -0.021621212, 0.3107217, 0.27931458, -0.36940235, -0.10509433, -0.19912472, 0.5733452, -0.12158411, -0.5673481, 0.46469864, -0.45640528, -0.1354443, -0.3998713, 2.026722, 0.66909826, -0.12925647, -0.122318484, 0.34161204, -0.6167064, 0.2666867, 0.3474142, -1.1250801, -0.23191212, -0.35752618, -0.5978417, -0.41377944, 0.11872396, -0.5050144, 0.24409473, -0.05147858, 0.647638, 0.08694022, -0.13369286, 0.029217482, -0.14966193, -0.94944096, -0.25623205, -0.3938555, 0.15931003, 0.03529071, 0.44510198, 0.19260678, 0.08383224, -0.21228896, 0.19579671, -0.17697726, -0.034755096, -0.0051721632, -0.12607566, 0.2949583, 0.28003716, -0.66623956, -0.13861936, -0.61911494, -0.6223498, -0.25802705, -0.8026889, 0.041285105, -0.11636393, 0.35103795, 0.19603738, 0.17596902, 0.9371233, 0.40311435, -0.3360998, -0.4506668, 0.27653438, -2.3208158, -0.3784027, 0.2558148, -0.26374832, -0.49154726, -0.018084317, -0.5099376, -0.10397507, -0.7443893, 0.16953336, 0.51549846, -0.011738837, 0.10143965, -0.110204525, -0.5234703, 0.7911136, 0.5673383, -0.13209705, -0.13552344, 0.08262851, 0.5256111, -0.4460246, -0.22067547, -0.18284276, 0.4379765, 0.22913514, -0.37267032, -0.14030136, 0.016952887, 0.4412552, -1.3577929, 0.43398148, -0.58557594, 0.18192655, 0.28803027, -0.1690183, 0.22882354, 0.005215436, -1.2035708, 0.43562356, -0.51765096, -0.18967137, -0.14741683, -0.27741176, -0.27721342, -0.23055837, -0.81723493, -0.46695846, 0.2139011, 0.18978664, -0.24355567, -0.98729444, -0.069662705, -0.19389218, 0.5637307, 0.5149459, 0.2823501, -0.38876605, 0.31152347, -0.033943623, -0.00877589, -0.057031535, -0.07765978, 0.52401394, -0.41358954, -0.47300938, 0.2686242, 0.1679853, 0.18550338, -0.283524, 0.30017525, -0.0357991, 0.0021301955, -0.0019495115, 0.20015004, -0.44854876, -0.31301823, 0.34844062, -0.3371362, -0.22604716, -0.010754421, 0.6140214, -0.0962819, 0.010054447, -0.08338178, 0.23723221, -0.03453101, -0.56829536, 0.5806826, -0.31164703, 0.4450755, -0.2830765, -0.7209684, -0.3015673, -0.19340134, -0.49278533, -0.082310356, -0.6250052, -1.2114816, 0.27990773, 0.13220519, -0.380311, 0.35642135, -0.7365722, -0.28578013, -0.41405126, 0.18520427, -0.64385355, -0.22597204, -0.29860178, 0.043695234, 0.50235766, 0.73699427, 0.14684537, -0.15498503, -0.41958085, 0.22352645, -0.3527008, 0.0803491, -0.9822879, -0.3469957, -0.9758207, -0.0536125, 0.46971712, 0.07282779, -0.25105697, 0.3732364, -1.2954848, -0.57375216, 0.44324, 0.5512675, 0.25763664, -1.0189282, -0.3915372, -0.29309687, 0.59233373, -0.45987815, 0.18259394, 2.3664534E-4, -0.37211788, 0.3260685, 0.30985284, -0.06266607, -0.020605616, -0.10253009, 0.099610195, -0.1617146, -0.2744465, -0.16703568, -0.1765553, 0.15591334, -0.5030845, 0.81234235, -0.15252012, 0.03695322, 0.2238028, -0.58105534, -0.57742393, 0.014340341, -0.3268419, -0.140894, 0.23051184, -0.046626, 0.04075233, -1.0099599, 0.5710984, -0.018063806, 0.1600298, 0.21111083, 0.40949437, -0.35330865, 0.24892497, 0.6074012, 0.29872897, 0.059353627, 0.27466464, -0.15915911, 0.83685124, -0.2470893, -0.27244607, 0.010955775, 0.18654715, -0.5275686, -0.26842594, 0.04164441, 0.22867016, 0.07752225, 0.025999881, -0.08609393, 0.13166739, 0.28921717, -0.03948301, 0.5869599, 0.054641563, 0.16917436, 0.0017832965, -0.091458924, 0.31127, 0.10094684, -0.13858432, -0.26300478, -0.31490546, -0.30260634, 0.5291319, 0.4732058, -0.46799773, 0.04574188, 0.13265894, -0.4532529, 0.3360064, -0.5897468, 0.1508616, 0.9331, -0.7573134, 0.15836892, -0.16536355, -0.1271101, 0.023267493, -0.032049432, -0.25215194, -0.44050387, 0.024399702, -0.012368061, -0.5492772, 0.61917603, -0.10402548, -0.49577704, 0.52038187, -0.16608626, -0.049905613, 0.28638417, 0.192608, 0.31774467, 0.40686896, 0.08513637, 1.0540588, -0.2918187, -0.048526004, -0.29027042, 0.4877584, -0.23631099, 0.6465391, -0.33072218, -0.084867306, 0.23742089, 0.44788954, -0.02765217, -0.06641832, 0.32391974, -0.13530019, 0.13393882, -0.11051148, 0.37186348, 0.45313704, -0.10090504, -0.18836442, 0.35367578, 0.17735007, -1.1259778, -0.49624187, 0.029763065, -0.11494849, 0.65350235, 0.2579239, -1.0487257, 0.28258368, -0.31012395, -0.3852224, -0.2596581, -0.4353209, -0.6093924, 0.43867415, -0.6135821, -0.05269103, 0.28318557, 0.3943063, -0.35559046, -0.24569124, -0.44554842, 0.29811886, 0.26927286, 0.3160677, -0.30803528, -0.88612425, -0.5120756, 0.5652934, -0.67995554, 1.1441854, -0.23424217, 0.45175064, -0.62742424, 0.05667127, 0.17942467, -0.20173246, -0.26929635, 0.5872147, -0.14555162, 0.0113851875, 0.23645759, 0.1393381, -0.10474667, 0.32751918, 0.009560887, -0.59813696, 0.17669523, 0.117816344, 0.37931794, 0.6496781, 0.34153277, 0.3329817, 0.31226063, 0.22377472, 0.013820628, -0.06581657, -0.8627502, -0.74579334, -0.07061598, 0.20075002, -0.2567718, 0.1394118, 0.060490325, -0.19516379, -0.103053555, -0.3087087, 0.36268207, 0.20872533, -0.09752763, -0.11966301, -0.19662085, -0.10026682, -0.09136799, -0.10632085, 0.25982046, 0.19622333, -0.26193672, -0.87728083, -0.6161684, -0.0775415, -0.07257207, 0.3491252, -0.28620818, 0.3181584, 0.07461064, -0.38739032, -0.29459655, 0.13408875, 0.28847754, 0.3510219, -0.24756682, 0.37395826, -0.15154852, 0.16589476, -0.4782089, -0.07673636, 0.31586632, -0.26205707, -0.563775, 0.20506947, -0.050098967, 0.30545065, 0.3404825, 0.24324277, 0.098892644, -1.0133234, 0.6498537, 0.7268757, 0.017976414, 0.48792595, -0.4624586, 0.51094383, -0.23754478, 0.056195565, -0.4997626, -0.23803473, -0.1008451, -0.33763075, 0.2345161, 0.23015249, 0.55241066, 0.0010983497, 0.02340196, -0.012877032, -0.05590622, 0.57502276, 0.03915906, -0.67661166, 0.015999235, 0.32390258, 0.4468622, 0.19796674, 0.11588079, -0.16978514, 0.18531364, 0.1933566, 0.05148316, -0.41575927, 0.29108152, 0.8186687, 0.42530364, 0.12698206, -0.26248157, -0.07045992, 0.18747157, 0.30846623, 0.007393144, 0.20133469, 0.010684997, -0.053171605, 0.14781806, -0.5111746, 0.18651722, 0.1418213, -0.37203664, 0.016435064, 0.13585116, 0.19597048, 0.2651024, 0.58731335, 0.3771926, 0.17198995, -0.42523354, 0.23041795, -0.67808497, -0.50099534, -0.056184888, -0.5018813, 0.15912269, -0.07897479, 0.41241944, -0.5664505, -0.006294295, 0.11596211, -0.20085675, -0.4041048, -0.54193157, 0.135512, 0.5044689, -0.2344179, 0.05850453, 0.15044846, 0.1747054, 0.29008412, 0.13068214, 0.16310525, 0.08665949, -0.38720134, 0.16653985, -0.11197038, 0.12955692, -0.17865062, -0.10055823, 0.1110284, 0.73507273, -1.063879, -0.4604776, 0.5140195, -1.0445867, 0.09960255, 0.2792032, 1.9936621, 0.066689536, -0.16769464, -0.27078828, -0.36938632, 0.36672124, 0.07250641, -1.1347798, -0.5467628, -0.14721023, 0.19249016, -0.35684693, 0.108949676, 0.030687734, 0.061115757, -0.053040776, 0.5824462, 0.53994685, -0.15672371, -0.25874665, 0.31974638, -0.46763402, 0.7165306, -0.46700287, 0.113454774, -0.46720833, 0.05874815, -0.01830788, 0.37609655, -0.10210693, -0.37145036, -0.9343822, -0.5863099, -0.047558796, 0.07376674, 0.085615404, -0.08342688, -0.075702116, 0.028813511, -0.08261676, -0.16251034, -0.0756305, -0.44042236, -0.19132194, -0.36443305, -0.28930607, 1.018657, 0.1360259, 0.42702556, -0.18739986, -0.33744645, -0.34639412, 0.31354848, -2.0363698, -0.1427238, -0.27190647, 0.15856755, -0.32226208, -0.5032872, -0.031837016, 0.12787116, -0.3328309, 0.8180309, 0.13726577, 0.056204967, 0.080163345, 2.78119E-4, -0.13019052, -0.19555777, 0.22372326, -0.25344643, 0.2858647, -0.6902498, -0.13963634, -1.0575184, 0.053670853, 0.6259475, 0.11623917, -0.32006985, -0.84527266, 0.6088613, -0.05250436, 0.18974599, 0.19953236, -0.22548243, -0.5363054, 0.83874184, -0.24944921, -0.79234886, -0.21990016, 0.75294584, -0.7268391, 0.50903404, 0.22851309, -0.0024639592, -1.361796, -0.23139504, 0.91409063, 0.22431451, 0.26662078, 0.4424241, 0.1997123, -0.91294014, -0.20759939, -0.62590677, -0.18492913, 0.34948725, 0.89064544, -0.29936415, 0.3863352, 0.4825619, 0.14490785, -0.08360782, 1.297395, 0.34683266, 0.24255443, -1.0895015, -0.55346525, 0.13580774, 0.92865443, -0.124361664, -0.64559495, -0.2898692, 0.06542502, -0.28327003, -0.0346857, 0.3099327, 0.03474834, -0.42542282, 0.2924685, -0.15752569, 0.3981215, 0.18268742, 0.17731334, 0.16853037, 0.41371292, -0.17136732, -0.6817027, 0.15332022, 0.12271488, -0.7791084, -0.15912265, -0.53548187, -0.47520572, -0.98522663, -0.3039503, -0.36811212, -0.3587314, 0.15504867, -2.932772E-4, -0.81155837, 0.24975194, 0.25329363, -0.18859328, -0.060038302, -0.27330452, -0.638766, 0.18654537, -0.3753044, 0.1254357, -0.04332594, -0.119416386, -0.053860515, -0.4098283, -0.17055605, -0.024008945, 0.38567978, -0.23722196, -0.14086711, 0.19979034, 0.35183, -0.40793917, -0.5057914, 0.18724714, -1.0365748, 0.26829138, 0.6763521, -0.0992481, -0.035947174, -0.2099491, 0.9391243, 0.551288, 0.2830944, 0.3613392, -0.10358749, -0.237509, 0.051070973, 0.0135676265, 0.4156551, 0.06909784, -0.44164646, -0.69895387, -0.37470227, -0.17067541, 0.22056602, -0.23463468, -0.021832695, -0.101012126, 0.5634213, -0.22491895, -0.2470487, -0.30106565, 0.242601, 0.23252805, -0.40716648, 0.4266075, 0.07210339, 0.1757177, -0.07038735, -0.3214997, -0.07947705, 0.5816842, -0.43428382, 0.14787851, -0.3164859, -0.22782561, 0.038446005, 0.10520985, 0.0122066885, 0.13225725, -0.31341916, -0.39410937, 0.11011331, -0.47237495, -0.09163745, 0.24995734, 0.21610497, -0.24489295, 0.09190583, -0.08092615, 0.8321817, 0.51731676, 0.011739269, -0.35268265, 0.15182208, -0.4091981, -0.23078053, -0.2581733, -0.06660653, -0.23485012, 0.69139415, 0.94042075, 0.6364227, 0.41655356, -0.27083594, -0.08945212, -0.18478295, -0.27212632, -0.56286895, -0.42646238, -0.1325915, -0.21325725, 0.13045333, 0.38741982, 0.41746536, -0.3649383, -0.16211155, 1.0156193, -0.16166115, 0.96092296, 0.12730426, 0.28269297, 0.658155, -0.33145314, 0.24228568, 0.48297256, -1.0878986, 0.5119165, -0.19891554, 0.3999268, -0.33922184, -0.815562, -0.043921843, -0.47880208, 0.2854764, -0.1629312, -0.58273745, 0.9290114, 0.111755356, -0.26829132, -0.1761859, -0.19836602, -0.5405646, -0.104740866, -0.24218479, -0.41522205, 0.09289648, 0.15179996, 0.2840042, -0.019919548, -0.14623809, 0.30110586, 0.08354533, -0.73166, 0.19031817, 0.17658852, 0.42745045, 0.3417854, 0.2215773, -0.007882636, -0.092360094]|\n",
            "+------------+----------------------------------------------------------------------------------------------------------------------------------------------------------------------------------------------------------------------------------------------------------------------------------------------------------------------------------------------------------------------------------------------------------------------------------------------------------------------------------------------------------------------------------------------------------------------------------------------------------------------------------------------------------------------------------------------------------------------------------------------------------------------------------------------------------------------------------------------------------------------------------------------------------------------------------------------------------------------------------------------------------------------------------------------------------------------------------------------------------------------------------------------------------------------------------------------------------------------------------------------------------------------------------------------------------------------------------------------------------------------------------------------------------------------------------------------------------------------------------------------------------------------------------------------------------------------------------------------------------------------------------------------------------------------------------------------------------------------------------------------------------------------------------------------------------------------------------------------------------------------------------------------------------------------------------------------------------------------------------------------------------------------------------------------------------------------------------------------------------------------------------------------------------------------------------------------------------------------------------------------------------------------------------------------------------------------------------------------------------------------------------------------------------------------------------------------------------------------------------------------------------------------------------------------------------------------------------------------------------------------------------------------------------------------------------------------------------------------------------------------------------------------------------------------------------------------------------------------------------------------------------------------------------------------------------------------------------------------------------------------------------------------------------------------------------------------------------------------------------------------------------------------------------------------------------------------------------------------------------------------------------------------------------------------------------------------------------------------------------------------------------------------------------------------------------------------------------------------------------------------------------------------------------------------------------------------------------------------------------------------------------------------------------------------------------------------------------------------------------------------------------------------------------------------------------------------------------------------------------------------------------------------------------------------------------------------------------------------------------------------------------------------------------------------------------------------------------------------------------------------------------------------------------------------------------------------------------------------------------------------------------------------------------------------------------------------------------------------------------------------------------------------------------------------------------------------------------------------------------------------------------------------------------------------------------------------------------------------------------------------------------------------------------------------------------------------------------------------------------------------------------------------------------------------------------------------------------------------------------------------------------------------------------------------------------------------------------------------------------------------------------------------------------------------------------------------------------------------------------------------------------------------------------------------------------------------------------------------------------------------------------------------------------------------------------------------------------------------------------------------------------------------------------------------------------------------------------------------------------------------------------------------------------------------------------------------------------------------------------------------------------------------------------------------------------------------------------------------------------------------------------------------------------------------------------------------------------------------------------------------------------------------------------------------------------------------------------------------------------------------------------------------------------------------------------------------------------------------------------------------------------------------------------------------------------------------------------------------------------------------------------------------------------------------------------------------------------------------------------------------------------------------------------------------------------------------------------------------------------------------------------------------------------------------------------------------------------------------------------------------------------------------------------------------------------------------------------------------------------------------------------------------------------------------------------------------------------------------------------------------------------------------------------------------------------------------------------------------------------------------------------------------------------------------------------------------------------------------------------------------------------------------------------------------------------------------------------------------------------------------------------------------------------------------------------------------------------------------------------------------------------------------------------------------------------------------------------------------------------------------------------------------------------------------------------------------------------------------------------------------------------------------------------------------------------------------------------------------------------------------------------------------------------------------------------------------------------------------------------------------------------------------------------------------------------------------------------------------------------------------------------------------------------------------------------------------------------------------------------------------------------------------------------------------------------------------------------------------------------------------------------------------------------------------------------------------------------------------------------------------------------------------------------------------------------------------------------------------------------------------------------------------------------------------------------------------------------------------------------------------------------------------------------------------------------------------------------------------------------------------------------------------------------------------------------------------------------------------------------------------------------------------------------------------------------------------------------------------------------------------------------------------------------------------------------------------------------------------------------------------------------------------------------------------------------------------------------------------------------------------------------------------------------------------------------------------------------------------------------------------------------------------------------------------------------------------------------------------------------------------------------------------------------------------------------------------------------------------------------------------------------------------------------------------------------------------------------------------------------------------------------------------------------------------------------------------------------------------------------------------------------------------------------------------------------------------------------------------------------------------------------------------------------------------------------------------------------------------------------------------------------------------------------------------------------------------------------------------------------------------------------------------------------------------------------------------------------------------------------------------------------------------------------------------------------------------------------------------------------------------------------------------------------------------------------------------------------------------------------------------------------------------------------------------------------------------------------------------------------------------------------------------------------------------------------------------------------------------------------------------------------------------------------------------------------------------------------------------------------------------------------------------------------------------------------------------------------------------------------------------------------------------------------------------------------------------------------------------------------------------------------------------------------------------------------------------------------------------------------------------------------------------------------------------------------------------------------------------------------------------------------------------------------------------------------------------------------------------------------------------------------------------------------------------------------------------------------------------------------------------------------------------------------------------------------------------------------------------------------------------------------------------------------------------------------------------------------------------------------------------------------------------------------------------------------------------------------------------------------------------------------------------------------------------------------------------------------------------------------------------------------------------------------------------------------------------------------------------------------------------------------------------------------------------------------------------------------------------------------------------------------------------------------------------------------------------------------------------------------------------------------------------------------------------------------------------------------------------------------------------------------------------------------------------------------------------------------------------------------------------------------------------------------------------------------------------------------------------------------------------------------------------------------------------------------------------------------------------------------------------------------------------------+\n",
            "only showing top 7 rows\n",
            "\n"
          ]
        }
      ]
    },
    {
      "cell_type": "code",
      "metadata": {
        "colab": {
          "base_uri": "https://localhost:8080/"
        },
        "id": "aR9nsnxhPfox",
        "outputId": "2d6575e5-bd00-4557-ce84-161536034589"
      },
      "source": [
        "bert_embedding= BertEmbeddings.pretrained(\"bert_base_uncased\")\\\n",
        "    .setInputCols([\"document\",\"token\"])\\\n",
        "    .setOutputCol(\"bert_embedding\")\\"
      ],
      "execution_count": null,
      "outputs": [
        {
          "output_type": "stream",
          "name": "stdout",
          "text": [
            "bert_base_uncased download started this may take some time.\n",
            "Approximate size to download 392.5 MB\n",
            "[OK!]\n"
          ]
        }
      ]
    },
    {
      "cell_type": "code",
      "metadata": {
        "colab": {
          "base_uri": "https://localhost:8080/"
        },
        "id": "UvUUVxsbQeDC",
        "outputId": "c7a9e0ba-eb51-4131-c164-70f63b57a7ed"
      },
      "source": [
        "bert_embedding.extractParamMap()"
      ],
      "execution_count": null,
      "outputs": [
        {
          "output_type": "execute_result",
          "data": {
            "text/plain": [
              "{Param(parent='BERT_EMBEDDINGS_4fbd72cbda5a', name='batchSize', doc='Size of every batch'): 8,\n",
              " Param(parent='BERT_EMBEDDINGS_4fbd72cbda5a', name='caseSensitive', doc='whether to ignore case in tokens for embeddings matching'): False,\n",
              " Param(parent='BERT_EMBEDDINGS_4fbd72cbda5a', name='dimension', doc='Number of embedding dimensions'): 768,\n",
              " Param(parent='BERT_EMBEDDINGS_4fbd72cbda5a', name='inputCols', doc='previous annotations columns, if renamed'): ['document',\n",
              "  'token'],\n",
              " Param(parent='BERT_EMBEDDINGS_4fbd72cbda5a', name='lazyAnnotator', doc='Whether this AnnotatorModel acts as lazy in RecursivePipelines'): False,\n",
              " Param(parent='BERT_EMBEDDINGS_4fbd72cbda5a', name='maxSentenceLength', doc='Max sentence length to process'): 128,\n",
              " Param(parent='BERT_EMBEDDINGS_4fbd72cbda5a', name='outputCol', doc='output annotation column. can be left default.'): 'bert_embedding',\n",
              " Param(parent='BERT_EMBEDDINGS_4fbd72cbda5a', name='storageRef', doc='unique reference name for identification'): 'bert_base_uncased'}"
            ]
          },
          "metadata": {},
          "execution_count": 28
        }
      ]
    },
    {
      "cell_type": "code",
      "metadata": {
        "id": "Xx_V3z06TWqH"
      },
      "source": [
        "pipeline= Pipeline(stages=[ \n",
        "                           documentAssembler,\n",
        "                           tokenizer,\n",
        "                           bert_embedding\n",
        "])\n",
        "\n",
        "empty_df= spark.createDataFrame([[\" \"]]).toDF(\"text\")\n",
        "pipeline_model= pipeline.fit(empty_df)\n",
        "result= pipeline_model.transform(news_df.limit(50))"
      ],
      "execution_count": null,
      "outputs": []
    },
    {
      "cell_type": "code",
      "metadata": {
        "colab": {
          "base_uri": "https://localhost:8080/"
        },
        "id": "PpYWsAZGTrpF",
        "outputId": "50d191f2-137b-4513-dfc6-b61a36a56bc3"
      },
      "source": [
        "result.select(F.explode(F.arrays_zip(\"token.result\", \"bert_embedding.embeddings\")).alias(\"col\"))\\\n",
        "    .select(F.expr(\"col['0']\").alias(\"token\"),\n",
        "            F.expr(\"col['1']\").alias(\"bert_embedding\")).show(7, truncate=False)"
      ],
      "execution_count": null,
      "outputs": [
        {
          "output_type": "stream",
          "name": "stdout",
          "text": [
            "+------------+----------------------------------------------------------------------------------------------------------------------------------------------------------------------------------------------------------------------------------------------------------------------------------------------------------------------------------------------------------------------------------------------------------------------------------------------------------------------------------------------------------------------------------------------------------------------------------------------------------------------------------------------------------------------------------------------------------------------------------------------------------------------------------------------------------------------------------------------------------------------------------------------------------------------------------------------------------------------------------------------------------------------------------------------------------------------------------------------------------------------------------------------------------------------------------------------------------------------------------------------------------------------------------------------------------------------------------------------------------------------------------------------------------------------------------------------------------------------------------------------------------------------------------------------------------------------------------------------------------------------------------------------------------------------------------------------------------------------------------------------------------------------------------------------------------------------------------------------------------------------------------------------------------------------------------------------------------------------------------------------------------------------------------------------------------------------------------------------------------------------------------------------------------------------------------------------------------------------------------------------------------------------------------------------------------------------------------------------------------------------------------------------------------------------------------------------------------------------------------------------------------------------------------------------------------------------------------------------------------------------------------------------------------------------------------------------------------------------------------------------------------------------------------------------------------------------------------------------------------------------------------------------------------------------------------------------------------------------------------------------------------------------------------------------------------------------------------------------------------------------------------------------------------------------------------------------------------------------------------------------------------------------------------------------------------------------------------------------------------------------------------------------------------------------------------------------------------------------------------------------------------------------------------------------------------------------------------------------------------------------------------------------------------------------------------------------------------------------------------------------------------------------------------------------------------------------------------------------------------------------------------------------------------------------------------------------------------------------------------------------------------------------------------------------------------------------------------------------------------------------------------------------------------------------------------------------------------------------------------------------------------------------------------------------------------------------------------------------------------------------------------------------------------------------------------------------------------------------------------------------------------------------------------------------------------------------------------------------------------------------------------------------------------------------------------------------------------------------------------------------------------------------------------------------------------------------------------------------------------------------------------------------------------------------------------------------------------------------------------------------------------------------------------------------------------------------------------------------------------------------------------------------------------------------------------------------------------------------------------------------------------------------------------------------------------------------------------------------------------------------------------------------------------------------------------------------------------------------------------------------------------------------------------------------------------------------------------------------------------------------------------------------------------------------------------------------------------------------------------------------------------------------------------------------------------------------------------------------------------------------------------------------------------------------------------------------------------------------------------------------------------------------------------------------------------------------------------------------------------------------------------------------------------------------------------------------------------------------------------------------------------------------------------------------------------------------------------------------------------------------------------------------------------------------------------------------------------------------------------------------------------------------------------------------------------------------------------------------------------------------------------------------------------------------------------------------------------------------------------------------------------------------------------------------------------------------------------------------------------------------------------------------------------------------------------------------------------------------------------------------------------------------------------------------------------------------------------------------------------------------------------------------------------------------------------------------------------------------------------------------------------------------------------------------------------------------------------------------------------------------------------------------------------------------------------------------------------------------------------------------------------------------------------------------------------------------------------------------------------------------------------------------------------------------------------------------------------------------------------------------------------------------------------------------------------------------------------------------------------------------------------------------------------------------------------------------------------------------------------------------------------------------------------------------------------------------------------------------------------------------------------------------------------------------------------------------------------------------------------------------------------------------------------------------------------------------------------------------------------------------------------------------------------------------------------------------------------------------------------------------------------------------------------------------------------------------------------------------------------------------------------------------------------------------------------------------------------------------------------------------------------------------------------------------------------------------------------------------------------------------------------------------------------------------------------------------------------------------------------------------------------------------------------------------------------------------------------------------------------------------------------------------------------------------------------------------------------------------------------------------------------------------------------------------------------------------------------------------------------------------------------------------------------------------------------------------------------------------------------------------------------------------------------------------------------------------------------------------------------------------------------------------------------------------------------------------------------------------------------------------------------------------------------------------------------------------------------------------------------------------------------------------------------------+\n",
            "|token       |bert_embedding                                                                                                                                                                                                                                                                                                                                                                                                                                                                                                                                                                                                                                                                                                                                                                                                                                                                                                                                                                                                                                                                                                                                                                                                                                                                                                                                                                                                                                                                                                                                                                                                                                                                                                                                                                                                                                                                                                                                                                                                                                                                                                                                                                                                                                                                                                                                                                                                                                                                                                                                                                                                                                                                                                                                                                                                                                                                                                                                                                                                                                                                                                                                                                                                                                                                                                                                                                                                                                                                                                                                                                                                                                                                                                                                                                                                                                                                                                                                                                                                                                                                                                                                                                                                                                                                                                                                                                                                                                                                                                                                                                                                                                                                                                                                                                                                                                                                                                                                                                                                                                                                                                                                                                                                                                                                                                                                                                                                                                                                                                                                                                                                                                                                                                                                                                                                                                                                                                                                                                                                                                                                                                                                                                                                                                                                                                                                                                                                                                                                                                                                                                                                                                                                                                                                                                                                                                                                                                                                                                                                                                                                                                                                                                                                                                                                                                                                                                                                                                                                                                                                                                                                                                                                                                                                                                                                                                                                                                                                                                                                                                                                                                                                                                                                                                                                                                                                                                                                                                                                                                                                                                                                                                                                                                                                                                                                                                                                                                                                                                                                                                                                                                                                                                                                                                                                                                                                                                                                                                                                                                                                                                                                                                                                                                                                                                                                                                                                                                  |\n",
            "+------------+----------------------------------------------------------------------------------------------------------------------------------------------------------------------------------------------------------------------------------------------------------------------------------------------------------------------------------------------------------------------------------------------------------------------------------------------------------------------------------------------------------------------------------------------------------------------------------------------------------------------------------------------------------------------------------------------------------------------------------------------------------------------------------------------------------------------------------------------------------------------------------------------------------------------------------------------------------------------------------------------------------------------------------------------------------------------------------------------------------------------------------------------------------------------------------------------------------------------------------------------------------------------------------------------------------------------------------------------------------------------------------------------------------------------------------------------------------------------------------------------------------------------------------------------------------------------------------------------------------------------------------------------------------------------------------------------------------------------------------------------------------------------------------------------------------------------------------------------------------------------------------------------------------------------------------------------------------------------------------------------------------------------------------------------------------------------------------------------------------------------------------------------------------------------------------------------------------------------------------------------------------------------------------------------------------------------------------------------------------------------------------------------------------------------------------------------------------------------------------------------------------------------------------------------------------------------------------------------------------------------------------------------------------------------------------------------------------------------------------------------------------------------------------------------------------------------------------------------------------------------------------------------------------------------------------------------------------------------------------------------------------------------------------------------------------------------------------------------------------------------------------------------------------------------------------------------------------------------------------------------------------------------------------------------------------------------------------------------------------------------------------------------------------------------------------------------------------------------------------------------------------------------------------------------------------------------------------------------------------------------------------------------------------------------------------------------------------------------------------------------------------------------------------------------------------------------------------------------------------------------------------------------------------------------------------------------------------------------------------------------------------------------------------------------------------------------------------------------------------------------------------------------------------------------------------------------------------------------------------------------------------------------------------------------------------------------------------------------------------------------------------------------------------------------------------------------------------------------------------------------------------------------------------------------------------------------------------------------------------------------------------------------------------------------------------------------------------------------------------------------------------------------------------------------------------------------------------------------------------------------------------------------------------------------------------------------------------------------------------------------------------------------------------------------------------------------------------------------------------------------------------------------------------------------------------------------------------------------------------------------------------------------------------------------------------------------------------------------------------------------------------------------------------------------------------------------------------------------------------------------------------------------------------------------------------------------------------------------------------------------------------------------------------------------------------------------------------------------------------------------------------------------------------------------------------------------------------------------------------------------------------------------------------------------------------------------------------------------------------------------------------------------------------------------------------------------------------------------------------------------------------------------------------------------------------------------------------------------------------------------------------------------------------------------------------------------------------------------------------------------------------------------------------------------------------------------------------------------------------------------------------------------------------------------------------------------------------------------------------------------------------------------------------------------------------------------------------------------------------------------------------------------------------------------------------------------------------------------------------------------------------------------------------------------------------------------------------------------------------------------------------------------------------------------------------------------------------------------------------------------------------------------------------------------------------------------------------------------------------------------------------------------------------------------------------------------------------------------------------------------------------------------------------------------------------------------------------------------------------------------------------------------------------------------------------------------------------------------------------------------------------------------------------------------------------------------------------------------------------------------------------------------------------------------------------------------------------------------------------------------------------------------------------------------------------------------------------------------------------------------------------------------------------------------------------------------------------------------------------------------------------------------------------------------------------------------------------------------------------------------------------------------------------------------------------------------------------------------------------------------------------------------------------------------------------------------------------------------------------------------------------------------------------------------------------------------------------------------------------------------------------------------------------------------------------------------------------------------------------------------------------------------------------------------------------------------------------------------------------------------------------------------------------------------------------------------------------------------------------------------------------------------------------------------------------------------------------------------------------------------------------------------------------------------------------------------------------------------------------------------------------------------------------------------------------------------------------------------------------------------------------------------------------------------------------------------------------------------------------------------------------------------------------------------------------------------------------------------------------------------------------------------------------------------------------------------------------------------------------------------------------------------------------------------------------------------------------------------------------------------------------------------------------------+\n",
            "|Unions      |[0.6670657, 0.07569191, -0.4350654, 0.1306526, 0.44819456, -0.075209245, -0.22416598, 0.18378532, -0.021119185, -0.18990862, -0.52715755, 0.009829242, 0.15113458, 0.026909424, -0.41513765, 0.17906182, -0.56515825, -0.23814459, -0.09663623, -0.12539119, 0.09845479, -0.10699933, 0.15121736, 0.18510985, 0.029809322, -0.2785847, 0.1614298, 0.20116079, -0.06656282, -0.11477121, 0.014993891, 0.21665373, -0.09337147, 0.23534146, -0.31333864, -0.3851528, -0.93864113, 0.3999284, -0.092174515, -0.0100748995, -0.06487608, -0.17758632, -0.02022587, 0.19834958, 0.75270236, -0.057659585, -0.51054186, -0.609611, -0.06393424, -0.6913781, -0.056453507, 0.16329168, 0.5952872, 0.15564637, 0.15145664, 0.1602658, -0.44466946, 0.5922311, 0.053192634, -0.19017819, -0.42144272, 0.44513568, 0.022553198, -0.41066933, 0.14058882, 0.4697152, -0.24622583, -0.4339122, 0.13510972, 0.27988246, 0.47565797, -0.17457324, -0.017821725, -0.03043744, -0.008075507, -0.07846035, -0.1776133, 0.39701003, 0.17388257, -0.06744832, 0.36594534, 0.1224647, 0.20669684, 0.068175785, 0.05789259, 0.20419821, -0.2817198, -0.30230978, 0.43949148, -0.28160045, 0.02439064, 0.113821164, -0.16373469, 0.28420722, -0.029694326, -0.21695259, 0.2928049, -0.2818476, 0.6187194, -0.42302316, -0.0625963, 0.07481271, -0.27342322, -0.053874135, -0.6364657, -0.45885187, 0.008533717, -0.012544043, -0.043972634, -3.0830858, -0.3252314, 0.21785581, 0.2249192, -0.098282404, 0.3737718, 0.5718818, 0.2146858, -0.16807625, -0.32002673, 0.07193659, -0.12335538, 1.3404754, -0.05086549, 0.30372187, -0.025616936, -0.013005011, 0.35112107, 0.058632053, -0.27298552, -0.12245918, -0.46820816, 1.0536573, -0.63527536, -0.34403116, 0.041352686, 0.18369146, 0.16835985, -0.14519756, -0.0018430501, 0.051174372, 0.28818315, 0.37703252, -2.62958, 0.2134969, 0.28684127, -0.059849843, 0.15593684, -0.027857631, -0.36871555, 0.2543491, -0.072596215, 0.18406935, -0.01267276, -0.1710122, 0.25731033, 0.46260425, -0.05931995, 0.11468777, 0.08592357, 0.28896978, 0.2602423, -0.012699045, 0.37108782, 0.31370947, -0.34633392, -0.10174921, -0.018574394, 0.19323525, -0.020844368, -0.02585955, -0.1275899, -0.5104686, 0.18123795, -0.100559175, -0.27801868, -0.30878693, -0.66259164, 0.062379476, 0.15674993, 0.34015357, -0.46103418, 0.33164012, 0.12220507, 0.24293117, 0.07610966, -0.3226762, 0.13864735, -0.45217776, 0.45863134, 0.12011517, 0.7921965, -0.49981388, 0.16695908, 0.10719031, -0.14637733, 0.08545388, 0.30118126, -0.30899388, 0.3098186, -0.19164759, -0.5012423, -0.48842072, -0.21339902, 0.12109429, -0.17109916, 2.9339914, 0.22962177, -0.22326304, 0.27071157, 0.121653885, -0.0045717414, -0.83575624, 0.29805413, -0.17037776, 0.4861859, -0.13413532, 0.23807879, -0.5224544, 0.23149061, -0.30660743, 0.46469146, 0.47339335, 0.1213017, 0.21536034, -0.07822136, 0.5545173, -0.2828977, 0.3698303, -0.21693695, -0.3253625, 0.09257354, 0.38218656, 0.22073549, 0.79286015, 0.16354108, -0.055270694, -0.30246454, -0.12818183, -0.057690397, 0.27037144, 0.34842518, -0.12020545, -0.5985195, 0.86554325, -0.49152762, 0.4543448, -0.017130092, -0.0955496, -0.1206191, 0.533562, -0.25655395, -0.4003678, -0.41392562, 0.13090418, 0.7261529, 0.15035346, 0.2412442, -0.06511326, -0.5167188, 0.33487257, -0.413646, -0.468038, 0.3515955, -0.23048371, 0.03914589, -0.7324796, -0.53635365, 0.026006594, 0.51568633, -0.26788074, 0.17595637, -0.018360859, 0.20162973, -4.1632376, 0.03781417, -0.22561154, 0.019434884, -0.28887814, 0.23505181, 0.33647215, -0.1856055, 0.30061013, 0.28126776, 0.5280263, 0.23254988, -0.29741085, 0.34914124, -0.66282237, -0.38576204, -0.101970404, -0.35843644, 0.49749985, -0.3999601, -0.39440197, 0.24186462, -0.2938397, 0.33067122, 0.0062331036, -0.031144086, -0.16635752, 0.14212433, 0.4556499, -0.32136396, -0.24193524, 0.5052079, -0.34863162, 0.022953222, -0.40909058, -2.6925375, -0.11153677, -0.09669228, 0.22620305, -0.06444642, -0.7183087, 0.18582496, 0.19164187, -0.19042385, 0.019153614, 0.22353126, -0.081654355, 0.09381839, -0.0067003663, -0.15633431, 0.39282253, 0.0152704455, -0.2881571, 0.6393978, 0.12721467, -0.32316548, 0.21952543, 0.024056083, -0.12582959, -0.005913947, 0.50824356, -0.26621887, 0.36723277, -0.3736778, 0.101469256, 0.14028233, 0.89649683, -0.04718518, 0.3129952, 0.3779034, -0.3470312, -0.70193076, 0.33092692, 7.2650146E-6, -0.2721968, -0.12909976, 0.57951444, 0.17139597, 0.29687184, 0.29330182, 0.77777165, 0.01227154, -0.11362669, 0.250292, -0.26358435, -0.269453, -0.26976213, 1.137544, 0.546987, 0.7175723, -0.2107635, -0.004192725, -0.14683515, 0.059019007, -0.072162226, -0.23867106, -0.33069718, 0.095108, -0.23961641, -0.54971856, -0.40564775, -0.1827106, 0.41158307, 0.6180664, -0.3249743, -0.18685505, -0.06526773, 0.00821458, -0.6091988, -0.45878693, 0.08016031, -0.058405936, 0.19549572, -0.19615103, -0.16876172, -0.5250437, -0.25625074, 0.26742393, 0.14082535, 0.39298362, 0.10804843, 0.53625005, 0.13253322, -0.19547926, 0.7293545, -0.21204168, 1.1627694, 0.5224734, 0.09286874, 0.3397021, -0.21745393, 0.022938369, -0.92914194, -0.09120776, 0.08011116, -0.66816795, -0.7907326, -0.09231778, 0.031073436, 0.57355654, -0.2789007, -0.17581876, 0.037153512, -0.38705188, 0.23186871, 0.20987388, -0.08299612, 0.38368008, 0.12973069, 0.29868084, 0.26742828, 0.42552722, 0.30281922, -0.12011962, 0.39776105, 0.4292687, -0.31849298, -0.22722502, -0.21988179, -0.26048627, -0.01499372, 0.035856843, -0.1836491, -0.2528841, 0.17703533, -0.09939549, -0.19568302, -0.38109475, -0.979395, -0.18723837, -0.20732811, -0.43256435, 0.04180002, -0.58730525, 0.33384746, -0.003547023, 0.24618518, 0.37449735, -0.0045669093, 0.85362166, 0.26829463, 0.4634982, 0.19945994, -0.295613, 0.666574, 0.60544825, -0.35405517, 0.2969286, 0.56165576, 0.43290147, -0.3225668, 1.0144926, 0.003793558, -0.12266273, -0.20785484, -0.45499244, 0.5040888, -0.1620467, -0.027233526, 0.39485213, 0.15059106, 0.5323748, 0.12705427, -0.059997614, 0.6270717, 0.2843691, 0.58161896, 1.0183719, -0.46663854, -0.14889531, -0.49659848, 0.061133236, 0.54243565, 0.41658175, 0.32193056, -0.31567803, 0.121176064, 0.08705373, 0.2419011, -0.540208, 0.57545125, -0.6998456, 0.1254192, 0.013295101, 0.36885044, 0.63925713, -0.17087379, 0.08467339, -0.0867975, -0.740298, -0.30212995, 0.11467397, 0.17476626, -0.444021, 0.47559702, -0.04214012, -0.18562903, -0.78178126, 0.04233473, -0.2705531, -0.74564624, 0.5726445, -0.0075506642, -0.31495318, 0.2250897, -0.98257154, -0.08390047, -0.22087121, -0.3835102, -0.034909174, -0.44451636, -0.2577957, -0.14443925, 0.5769698, -0.31182384, 0.05257354, 0.35702395, -0.17060745, 0.42312708, -0.019251764, 0.007007152, -0.4197122, -0.27293214, -0.72543854, 0.16537365, -0.13618723, -0.20073575, 0.7812167, 0.443339, 0.7308303, -0.004201174, -0.43598506, 0.116122276, 0.69489473, 0.009253051, -0.13251784, -0.12921819, 0.029516928, 0.17482205, -0.136507, 0.026629627, 0.058387708, 0.72581124, 0.05091086, 0.44991425, 0.6628654, -0.43311614, 0.058481384, -0.22294828, -0.35818404, 0.011565346, 0.19843023, -0.51769334, 0.2815779, -0.14981657, 0.2210514, 0.10161808, -0.12770125, 0.124265835, -0.38094652, 1.157069, 0.110659674, 0.20651557, -0.6114453, 0.18445422, -0.25635695, 0.3434604, -0.14255401, 0.29974315, 0.73236585, -0.27364275, 0.19128038, 0.21513039, -0.42048836, 0.075778015, 2.0384715, 0.8309155, 0.101595744, 0.13606536, -0.18565372, -0.1312438, -0.477872, 0.53959024, -0.46249482, -0.13609934, 0.7461558, -0.21269798, 0.39588886, -0.3858347, 0.30871665, -0.2607793, 0.011474997, -0.5543567, -0.4465591, -0.083088174, -0.51930493, 0.09627631, 0.37715027, -0.2674562, 0.26825586, -0.20110981, 0.11818661, -0.6505981, -0.18369281, -0.24781597, -0.06793902, -0.026904806, 0.089125775, -0.06415981, 0.15870655, -0.047408246, -0.5997362, 0.0035317019, 0.12625003, -0.24058855, -0.3012124, -0.302199, -0.22645772, -0.03733667, 0.7567321, -0.11603598, 0.12481466, 0.09907299, 0.10598561, 0.054438915, -0.3394483, 5.424619E-4, 0.08449652, -0.2937166, -0.083301604, -0.26515025, 0.020214416, -0.24389844, -0.19317979, 0.050963223, 0.42208004, -0.009703472, 0.7971086, 0.29672557, -0.26635724, -0.07521809, -0.3118643, 0.10513431, 0.5994822, 0.31280306, 0.4158615, -0.09915462, 0.63044184, -0.51172197, -0.13004684, -0.13367474, 0.43947488, 0.37649152, -0.4293294, -3.0638857, -0.19875972, 0.3210085, 0.04046219, -0.3567189, 0.2319076, -0.0973998, -0.22127496, 0.2658475, 0.2685525, -0.06913409, -0.15437385, -0.28893584, -0.5609604, 0.26678446, 0.590208, 0.1553024, 0.50563717, -0.16345541, -0.10747858, -0.09699742, 0.6945951, 0.11602372, -0.04597019, -0.27619877, -0.07244565, -0.34407374, -0.48931935, 0.096687816, 0.84166723, -0.11252318, 0.20245045, -0.121053234, -0.26017988, -0.20873654, -0.10742114, 0.058863655, -0.16631877, 0.69132763, -0.22376527, 0.3318014, 0.5334713, 0.2220934, 0.35598254, -0.45334506, 0.27331012, 0.18507673, -0.6485521, -0.042585716, -0.40674865, -0.12993793, 0.5968838, -0.041419804, -0.12175608, 0.18238993, -0.11467272, 0.23461935, 0.79574764, 0.0023574121, 0.05629532, -0.42076606, -0.42700428, -0.24223164, 0.07095823, 0.13728942, 0.15153652, -0.8169133, -0.35332215, 0.42863783, 0.5496136, -0.029629711, -0.694404, -0.08233757, 0.37545642, -0.0024738256, -0.066863656, 0.44415274, 0.86323136, 0.5051582, 0.23595187, -0.69538665, -0.164311, -0.95344394, -0.18956843, -0.44134545, -7.5633955, -0.39344355, 0.009391513, -0.32854405, -0.008923646, -0.05004803, 0.2976237, -0.8542172, 0.12107827, 0.14398097, 0.43067706, -0.32486904, -0.5922261, -0.23661536, 0.18289301, 0.40642625]|\n",
            "|representing|[0.42402276, -0.15955907, -0.17578928, -0.5392352, -0.40183192, 0.3813794, 0.12605871, -0.40928668, -0.06640923, 0.2643903, -0.51239645, 0.2181963, -0.19841573, -0.08225715, -0.53390795, 0.59535396, -1.1339693, -0.7279331, 0.061274733, -0.21453917, 0.29379392, -0.54700214, 0.7045376, 0.56382227, 0.7153962, -0.72000486, 0.11592886, 0.2823339, -0.44970495, -0.21428218, -0.035637885, 0.7791702, 0.19232191, -0.1954108, -0.3000434, -0.31423074, -0.40864822, -0.35035008, -0.18154556, -0.08328238, -0.97156054, -0.17825204, -0.3353975, 0.65837973, 0.49725765, 0.14178221, -0.02122096, -0.108972736, 1.0608213, 0.2766894, -0.6448958, 0.4461702, 0.7034125, -0.21347925, 0.5205756, 0.44849983, -0.39175978, -0.75264394, -0.9858435, -1.0071303, 0.3652645, 0.48442507, 0.34405628, -0.36957604, 0.31080803, -0.05920515, -0.56163126, 0.29590708, -0.28190586, -0.27659178, 0.6825157, 0.57897586, -0.43743727, -0.3594229, -0.10249216, 0.4463097, -0.3090966, 0.89150566, 0.37696666, -0.12920094, 0.7710419, 0.472019, 0.63010854, 0.1581031, 0.09503674, -0.22555503, 0.13946873, -0.21615285, 0.0045847334, 0.59374094, 0.19366859, 0.06495763, -0.19184014, 0.3617651, 0.35073146, 0.10560292, 0.78556323, -0.2328543, -0.4567379, -0.122212544, 0.87039626, -0.352019, 0.5418874, 1.1134809, -0.29294473, -0.29099095, -0.17090286, -0.021932364, -0.03522804, 0.22700776, 0.6082338, -0.3395051, -0.20585525, -0.11002278, 0.29181042, 0.3520838, -0.537903, -0.8033081, -1.0519506, -0.2872105, 0.1636564, 0.042308815, -0.01987286, 0.52601755, -0.3902554, 0.44400513, -0.13544053, -0.32576928, -0.4128616, -0.5798987, 0.39071223, 0.3902189, -0.2766614, -0.62434644, 0.5966142, 0.19500941, -0.02034312, -0.67731124, 0.24785328, -0.44673607, 0.1598019, 0.033103883, 0.3157864, 0.12542766, 0.53163576, -0.37590462, -0.17475799, -0.24075143, -0.9304814, 0.07393559, -0.02937333, 0.045126677, 0.26264215, -0.51728106, -0.23140176, 0.18633133, 0.0032926807, 0.13734153, -0.2920918, 0.2798509, -0.011632562, -0.8569897, 0.22815737, 0.047283113, -0.015317515, 0.24881642, -0.019392738, 0.7759989, -0.15015317, 0.09271037, -0.25091845, -0.05925394, 0.37052637, -0.66154337, 0.22940484, -0.94952744, -0.80529857, -0.24245705, 0.17604469, 0.14978883, 0.068193406, 0.28226617, 0.6587635, 0.5498281, 0.5206542, -0.12289656, -0.049268324, -0.24712448, 0.34736437, -0.41029096, 0.24221607, -0.47251564, 0.031073, -0.105193615, -0.70141035, 0.32505304, 0.6630717, -0.4214813, 0.104122415, -0.4508584, -0.16826461, 0.5410391, -0.14694288, 0.049229786, 0.3495764, 0.41955513, 0.34140515, 0.10343828, 0.22029863, 0.9200192, -0.33206546, -0.09222302, -0.015214063, 0.23748091, 0.4337566, -0.6058863, 0.14266235, -0.2733876, -0.29495192, -0.18876825, 0.41088748, 0.23244786, -0.37304196, -0.25854838, -0.006526664, 1.1216077, -0.16022259, 0.49269223, -0.36443418, 0.2754432, 0.71296734, 0.389859, 0.4469393, 0.20023271, -0.28704047, -0.34957743, -0.3363281, -0.41165677, 0.048789304, 0.0824915, -0.18836947, 0.29738694, 0.018577294, 0.2434659, 0.21284127, 0.16738898, 0.4674145, -0.103008136, -0.15776183, 0.1789288, 7.8666955E-4, -1.4873368, -0.8507326, -0.41207027, 0.41416302, 0.5024188, 0.16520377, -0.49733776, -0.13727668, 0.22109254, -0.25536603, -0.2820219, 0.3001549, 0.3082669, -0.10566303, -0.48383963, -0.35923454, 0.27292502, -0.07990371, 0.05711706, 0.3927276, -0.004581867, -0.011278942, -0.03713589, -0.46359444, 0.269713, -0.49723285, 0.09970514, 0.15318118, 0.018343244, -0.1826517, 0.0044785896, 0.29299372, 0.3734053, 0.92562973, 0.18576565, 0.33667678, -0.78743994, -0.5880998, -0.29578447, -0.13975398, 0.33286628, 0.34581417, -0.24458838, 0.3930052, 0.005195014, 0.061058708, 0.67951846, 0.2090258, -0.3724726, 0.34787855, 0.40900928, -0.013178501, -0.04238715, 0.30324513, -0.5612308, 0.36387712, -0.59587914, -4.867925, -0.029163525, 0.08204809, 0.15108141, 0.19618651, -0.255705, 0.18335962, -0.008480519, -0.6455418, -0.08517341, -0.3357989, -0.19132407, 0.07862297, -0.09096418, -0.5717723, 0.611445, -0.29973382, -1.1166323, 1.1276072, -0.30880702, 0.6779257, -0.23952584, -0.3363933, 0.36757368, 0.22153464, 1.1541483, -0.2922147, 0.3986068, 0.21209626, -0.23516853, -0.07741118, 0.99635106, -0.1881271, 0.22161795, 0.41309234, -0.33317915, 0.06389443, -1.1246437, 0.065864906, -0.75182706, -0.41875878, -0.29979298, -0.079971865, 0.091036424, 1.1547467, 0.09861467, -0.49920142, -0.3883705, 0.11977312, 0.2798351, 0.48642966, -0.14113252, 0.33046302, -0.18600057, 0.72709227, 0.23240536, 0.4531458, -0.020769171, -0.68420416, -0.052042086, -0.26929504, 9.5786154E-4, 0.19836617, 0.04948645, -1.2625719, -0.77982736, -0.035496682, -0.19006304, 0.34806618, -0.54214346, 0.13490304, 0.6670157, -0.52236784, -0.37983355, -0.009219437, 0.3410223, -0.08627644, 0.14894417, -0.20944571, -0.34900174, -0.23067278, -1.0167384, 0.21112137, -0.9523683, -0.5036654, -0.16571617, 0.48425713, 0.41578305, -0.50143945, 0.07252024, 0.045275014, 0.89745414, 0.13833266, -0.49245155, 0.14518887, -0.19583417, 0.15538272, -0.349016, -0.16391677, 0.534249, -0.22031513, -0.0561255, 0.42418668, 0.04174272, 0.7655792, 0.4080812, -0.31535658, -0.1772402, 0.11683233, 0.582036, 0.54253256, -0.5122858, 0.9789632, 0.21788855, -0.46765918, -0.33849284, 0.5191032, 0.85748774, 0.3316915, 0.75698173, 0.40540004, -0.05061811, -0.37128133, 0.14995967, 0.54189193, -0.2384119, -0.025468353, 0.15067935, 0.010328738, 0.002984637, -0.060593545, -0.25851423, 0.01838749, 0.27474302, -0.022903576, -0.3456263, 0.15577999, 0.2569356, -0.29850757, 0.43680894, -0.42470255, 0.10426122, 0.45927113, -0.5578503, 1.4336702, -0.06745942, 0.63354266, 0.40735453, -0.21381687, 0.8212021, 0.57366246, -0.109096155, 0.2386513, 0.2878363, 0.4823197, -0.5010509, 0.7998459, -0.50828195, 7.085875E-5, -0.5446558, -0.28874248, 0.77148, 0.77322525, 0.03595681, 0.14380765, 0.4398625, 0.18447214, -0.14909615, 0.13578723, 0.605947, -0.32029235, 0.49078378, 0.35355097, -0.41005042, -0.5591147, 0.24051914, 0.9709698, 0.64054495, -0.16919547, -0.099414416, 0.2926135, -0.32955396, -0.3606039, 0.7922753, 0.14621794, 0.031005643, -0.11822063, -0.05532904, 0.41205233, -0.28157267, 0.42824724, 0.26118526, -0.6353333, -0.18893625, -1.1495047, -0.40848303, 0.5403192, 0.8988273, 0.34023452, 0.58883643, 0.15420975, 0.31655228, -0.80708694, -0.37587997, -0.3585167, -0.2738206, 0.78269637, -0.22050515, -0.023384906, -0.16346528, -1.2569325, 0.6941044, 0.023699231, -0.34467256, -0.029661167, -1.0497253, 0.21398506, -0.11496702, -0.13454819, 0.26155758, -0.27792668, -0.09598522, -0.3412584, 0.4801914, -0.3087166, 0.37338126, -0.48576123, 1.0206987, -0.80733407, -0.15581606, -0.5602031, -0.7661242, 0.8096889, -0.27588212, 0.16030993, 0.29904994, -0.3556873, -0.56062984, 0.40957767, -0.35524482, -0.3455736, 0.23509681, -0.1037613, 0.2610324, 0.30983487, 0.19767806, 0.08458042, 0.44029164, -0.1628367, 0.74068475, 0.6216201, -0.11777353, -0.61873174, -0.49980578, -0.9416256, -0.725639, 0.06343364, -0.87632895, 0.2854497, -0.67349535, -0.048338197, -0.67748266, -0.5274046, 0.27615672, -0.24662176, 0.93077743, 0.059477676, 1.2954153, 0.065316156, -0.5401185, -0.3903692, 0.24328806, -0.16788307, -0.22068247, -0.10014874, 0.22069204, 0.08153636, -1.2141513, 0.037859395, -0.55575335, -0.809273, -0.70082706, -0.34238148, -0.20633635, 0.19960643, 0.32329577, -0.85525155, 1.1081779, -1.3738368, -0.56367654, 0.739572, -0.30077925, 0.117250614, -0.3924371, -0.6995423, -0.2936273, 0.06753695, -0.3064945, 0.3301096, -0.11983907, -1.3016347, 0.12622616, -0.35488135, -0.41866595, 0.35215268, 0.019671384, 0.30625242, -0.7458819, -0.13678573, 0.03182236, -0.81352264, -0.52398247, 0.46652612, 0.17552373, 0.32152247, -0.64187616, -0.70123243, -0.14720601, 0.31771898, -0.0021367883, 0.24891905, 0.5196037, 0.5612346, 0.14935228, 0.8995992, -0.043860633, -0.21218176, 0.07247922, 0.099931836, 0.5041238, -0.73838973, 0.11880692, 0.19435877, -0.67032033, -0.16585997, -0.054856982, 0.7081172, 0.22070932, -0.22301707, 0.44400433, 0.5123114, 0.46938065, -0.23940873, 0.501239, -0.28040716, -0.40799877, 0.5628595, -0.02898162, 0.92313075, 0.8064903, 0.6696327, 0.44127712, 0.12582201, -0.7064112, 0.46419382, 0.09571604, 0.17139295, 0.75102985, -0.1676591, 0.02587676, -0.638797, 0.88667375, 0.23488766, -0.7361654, 0.10950954, 0.046481602, -0.12904847, -0.20173396, 0.073978916, -0.08283555, 0.15033692, -0.7318109, -0.44144675, -0.15592247, -0.1359286, -0.60780394, 0.065447405, -0.8813897, -0.5271128, 0.22585753, 0.46791893, -0.26976493, 0.22608873, -0.68544936, -0.35596004, -0.47537142, 0.09289415, 0.55363446, 0.48543552, -0.7922821, -0.27992275, -0.19812983, -0.01907938, 0.19226225, 0.060757846, 0.054029584, -0.22861008, 0.6078893, 0.31899452, 0.7076919, -0.30023447, 0.8232422, -0.3318065, 0.22344816, 0.46583474, -0.9178642, -0.3949406, 0.2923045, -0.9791074, -0.35047132, 0.7207559, 0.17552143, -0.58001167, -0.047119346, -0.31630766, 0.7249295, 1.4355923, 0.58707833, 0.07615277, 0.21879905, -0.49631205, -0.47361037, 0.20643365, -0.21975066, -0.019292057, -0.6253807, -0.025245488, -0.13328007, -0.3515135, 1.1375515, -0.35837656, -0.5293443, -0.32033715, 0.17085497, 0.10833695, 0.5879306, -0.3804835, -0.1635659, -0.5743, -0.05675093, 0.30780277, -0.5810262, 0.7334235, -0.14998004, 0.12827298, -0.11119741, -0.088755354, 0.2158946, -0.23853615, -1.0023266, 0.12903097, -1.2310703, -0.2667787, 0.056388445, 0.62651414, -0.8073545, -0.49120158, -0.19336575, -0.25350028, 0.59953845]                                                                                              |\n",
            "|workers     |[0.7290724, 0.061318576, -0.5468209, -0.4750607, 0.33440354, 0.03293528, 0.3878469, 0.85204387, 0.31863177, -0.65851617, -0.73232955, 0.2576108, -0.13648032, 0.3273253, -1.1199136, 1.4519951, -0.36826217, -0.013760284, -1.0039673, -0.33862716, 0.30884728, 0.112319864, 0.68677694, 0.9698364, 0.40808883, -0.5058384, -0.48949113, 0.28581318, -0.16990891, -0.06147872, 0.006410078, 0.17710274, -0.48993516, -0.4215563, -0.08960659, -0.057446986, -1.1608132, -0.3889684, -0.470941, -0.4277357, -1.5917195, -0.4656812, -0.34674436, -0.014231537, 1.0351704, -0.34090626, 0.8694709, -0.35905385, -0.66240144, -1.090852, -0.07622856, 0.3400982, 1.3277965, -0.59066284, 0.22832322, 1.1247077, -1.2709852, -0.6348368, -0.45004007, 0.092165664, -0.19935967, 0.09637037, -0.53729224, -0.2919605, 0.94779575, 0.97684145, -0.25897348, 0.40092787, -0.07017857, 0.26138332, -0.12271218, -0.8762709, -0.258209, -0.4532185, -0.3372818, 0.7029726, -1.1082982, 0.67439187, 0.2424294, 0.114895, -0.251807, 0.8539519, 0.37692246, -0.09704652, 0.52830046, 0.3545013, -0.5131077, -0.26657566, 0.8654518, 0.27979305, -0.39952257, 0.18714511, -0.31902033, 0.3279299, -0.07567048, -0.14455071, 0.30220607, -0.25102586, -0.08714784, -0.15120709, 0.85918146, 0.43305492, -0.116196826, 0.49479705, -0.0068807453, -0.29303983, 0.6345979, 0.1830688, -0.14747992, -0.5264028, -0.36560965, -0.6898133, 0.6564282, -0.94402814, 0.1696451, 0.08856677, 0.11573798, -0.41955143, 0.050272226, -0.23814692, 0.99809766, -0.0091236085, -0.04245965, 1.3784581, -0.15323427, 0.041558877, 0.30526996, 0.8933638, -0.09609471, -0.1411178, 0.91819006, 1.0104232, -0.5858429, -0.74818236, -0.022326581, 0.48336726, -0.548548, -0.1255534, -0.43226275, 0.4178812, 0.28991225, -0.37868136, -0.2786917, 0.6083966, -0.05402091, -0.038789608, 0.5663218, 0.4327581, 0.07522851, 0.088257596, -0.59414935, -0.46365166, -1.2810614, -0.14221673, 0.6414457, -0.0929874, 0.017510802, 0.058373153, -0.37607303, 0.11026372, 0.09926893, 0.2573363, 0.17195879, 0.5283809, 0.61537594, 0.23857102, -0.2060671, 0.4313565, -0.55097115, -0.12421498, -0.19099633, -0.3648888, 1.0579925, -0.19412741, -0.9490335, -0.44609547, -0.53837335, 0.30828065, 0.70686007, 0.8893258, -0.8165622, -0.065518945, 0.6692653, 0.63442725, 0.25895235, -0.50791305, 1.2234948, -0.49197266, 0.7655079, -0.45684737, 0.015070584, -1.0276777, -0.55163395, -0.40901482, -1.3741997, -0.24984486, -0.07469883, -0.29401743, -0.20118518, -0.008592695, -0.26106724, -0.8046652, -0.6442831, 0.3453741, 0.2604791, 0.92328066, 0.6941462, 0.5785105, -0.4245514, 0.19265379, 0.28976747, -0.3315073, 0.657234, 0.39490885, -0.51178557, -0.2336563, 0.56213146, -0.7939666, 0.21394551, -0.03859841, 0.7647981, 0.46138978, 0.53265613, -0.14613128, -0.33820397, 1.2086061, -0.11699183, -0.7187483, -0.035002157, 0.9883455, 0.53975743, 0.5008347, 0.711489, 1.0320888, 0.20066172, -0.43803433, -0.73360074, -0.14838946, 0.9532905, -0.29649726, -0.14866325, -0.023696698, 0.12297806, 0.7099377, 0.626085, 0.13777246, -0.13400805, -0.052655164, 0.31092304, 0.34902853, -0.7981572, -0.5761463, -0.65574515, 0.2650962, 0.21700522, -0.11688978, -0.33191997, 0.039232105, -1.1222974, -0.044864897, -0.23317848, -0.9430185, 0.04096846, 0.39267644, 0.17518951, -1.1759953, -0.8560147, 0.4296369, 0.8587495, -0.5136226, 0.3098429, -0.49183387, -0.27710623, 0.36466062, -0.22005467, -0.21000895, -0.19202206, -0.084868014, -0.21782449, -0.200368, 0.76913565, 0.13332444, -0.35399806, 0.1710266, 0.18744609, 0.22834449, -0.19709882, -0.83874273, -0.3892405, -0.780033, -0.5013821, 0.16485769, -1.1238587, -0.9135079, 0.77095014, -0.06560999, 0.35537848, 0.14155063, 0.5311848, 0.432453, 0.04495568, 0.40553182, -0.18411708, -0.4963552, 0.47093397, -0.43821532, 0.037275624, -1.170985, -3.043247, 0.37868652, 0.6354927, -0.23197202, 0.64510924, -0.8617122, 0.8536162, 0.6148395, -1.0258626, 0.13711327, 0.10344325, -0.4429196, 0.81980544, 0.20440611, -0.65800136, 0.045489065, 0.6510473, -0.857319, 0.9806728, 0.4069075, -0.49238268, -0.14037375, -0.22799237, -0.30819997, 0.62184215, 0.09510504, 0.262616, 0.36528957, -0.9239759, 0.06762801, 0.2700021, -0.22515647, -0.78417486, -1.2485232, 0.47823638, -1.8673495, -0.0036816746, 0.13439421, 0.10236357, -1.2872553, -0.5007958, 0.6255729, -0.21226469, 0.033502296, 1.3398967, 0.14257708, -0.9455046, 0.10044006, 0.120053984, -0.68542796, 0.48873013, 1.256364, 0.4063084, 0.09331185, 0.5687081, -0.2652476, 0.90879667, 0.28883892, -0.074300505, -0.678488, 0.12479148, 0.32123134, -0.052498206, -0.5272321, -0.36000818, -0.2240564, -1.3723799, 0.538001, 0.35119036, -0.9619722, -0.092686564, 0.2642372, -0.43365327, -1.002018, 0.007290878, 0.09622519, 0.06640692, 0.26222262, 0.30574667, -0.08421148, -0.4703142, -0.03358272, 0.53870624, 0.019781295, -0.2838015, -0.26035583, 0.15976581, -0.08096552, -0.28741696, 0.8215936, -0.257683, 1.3728778, 0.7402776, 0.0969633, 0.35780963, 0.13063605, 0.60934705, 0.5218363, -0.029470272, -0.36282155, 0.10751222, -1.2455364, 0.4659749, 0.07029268, 1.0970821, -0.5202466, 0.37733373, 0.2647986, -0.2252493, 0.41451305, 0.64607954, -0.5378537, 0.79857564, 0.32741624, -0.46343404, 0.17168112, 0.061119296, 0.24621098, -0.23616382, 0.2775448, 0.46540242, -0.15232986, -0.118269786, -0.4088376, -0.52731353, -0.31095016, -1.1093479, -0.16933666, -0.69074124, 0.020667689, -0.53733665, -0.9410304, -0.23726466, 0.33001018, -0.2635817, -0.85100806, -0.5846753, -0.62925446, -0.13539049, 0.8667732, -0.5949898, 1.0493321, 0.9053565, -0.94133466, 1.3005038, 1.3975948, 0.46540064, 0.34724632, 0.19414942, 0.6578464, 0.17290439, -1.119298, -0.18127082, 0.30053174, 0.5922758, 0.18934676, 1.0333513, 0.6500224, -0.05625763, -1.1218771, -0.14362937, 0.23896027, -0.49120834, -0.24429975, 0.4278526, 0.62795365, 1.3241936, -0.3545417, -0.19024475, 0.58717996, 0.2342076, 0.2825316, 1.1946365, -0.6470205, -0.36666805, 0.17580484, -0.07658346, -0.16526955, -0.35654682, 0.8022115, -0.40387487, -0.17191902, -0.5652424, 0.66318285, -0.2811291, 0.49461743, 0.35086578, -0.22425048, 0.039936237, 0.10538471, 0.46438098, -0.3309508, 0.78681165, -0.2790118, -0.47134835, 0.035741, 0.73743784, 0.50734544, -0.6567771, -0.39991975, -0.19908148, -0.17935678, -0.85907924, 0.99066234, -0.07021069, -0.83986986, 0.29619113, -0.18785124, -0.6219852, 0.7843671, -1.2239978, 0.1120041, 0.128806, 0.24780981, 0.16396725, -0.64182216, 0.85207385, -1.0524052, 0.44115975, -0.039865166, -0.22684777, 0.061559465, 0.4363986, 0.94230616, 0.16054074, -0.7796952, -0.70490277, 0.30999056, -0.9103026, 0.21136686, -0.83480275, -0.9370344, 0.16110617, 0.29949665, 0.40715268, 0.4349993, -0.21496715, -0.5571109, 0.73225355, -0.6898137, -0.38667995, -0.58131105, -0.5002778, -0.5330499, 0.46384507, -0.2292512, 0.10894956, 0.86396396, 0.024097137, 0.7719008, 0.37097466, -0.16784996, -0.4177118, 0.111150965, 0.20452541, -1.0951438, 0.48804718, -0.5191523, 0.07594079, -0.39078277, -0.938061, 0.1358719, 0.37964505, 0.4255945, 0.55355066, 1.4490095, 0.31599915, 0.69338185, -0.052417964, -0.32923305, -0.18719836, 0.8265133, -0.06811055, -0.38678175, 0.44075483, -0.5662452, 0.50175923, -0.28016344, 0.49765083, -1.1541386, -0.81221735, 0.5851397, -0.12171069, 0.29660708, 0.66458815, -0.6004358, 0.15512963, 0.21746185, -0.9576992, 0.48782605, 0.6525176, -0.77086735, -0.56287587, -0.65902895, 5.7443976E-6, -0.23482062, 1.1975738, -0.84493345, 0.12837815, 0.5192297, -0.9978043, -0.40719777, 0.5191523, -0.4445225, 0.22891718, 0.5737534, -0.20462644, -1.0724822, -0.39317727, -1.2939392, -0.4538855, 0.12040812, 0.8513427, 0.10399395, -0.60274684, -0.41931424, -0.4470811, 0.18068063, 0.23247507, -0.095170155, -0.28463912, -1.1151216, -0.46810886, -0.10799401, 0.5559559, 0.44745904, 0.16078064, 0.24924313, 0.39811558, -0.24157418, -0.9944913, -0.53746533, 0.37118882, -0.22973946, -0.7347683, -0.34243935, 0.086034656, -0.10567341, 0.22029409, 0.13548464, 1.0703692, 0.18572423, 1.2032111, 0.28392047, -0.048857875, 0.027012035, -0.09791662, 0.01767682, 0.8940067, 0.77489936, 0.17017013, 0.048528228, 0.35727656, -0.5970736, 0.23228317, 0.18310651, 0.19278048, 1.0258939, -0.45415652, 0.9102622, -0.13053499, 0.3222113, 0.19274631, -0.3162148, 0.057698213, -0.5394854, -0.21677643, -0.53708017, 0.21980828, 0.27697065, 0.23982373, -0.45168266, -1.2592266, -0.24267322, 0.822121, 0.06742889, 0.70781046, 0.24642105, -0.63887054, 0.82792354, 0.6911601, 0.85557014, -0.32480338, -0.30036172, -0.62678814, 0.24866155, -1.1785525, 0.17834347, -0.04766155, 0.110578254, -0.33270517, 0.82473457, -0.28450724, -0.34121513, -0.21326837, -0.17171392, -0.41669744, 0.31624326, -0.16984254, 0.829075, 0.6010731, -0.06341124, 0.36993814, -0.11438897, -0.32876983, 0.4025956, -0.9506788, 0.22771999, 0.77991176, -0.6270776, 0.45431858, -0.027196966, -0.68891746, 0.01031301, -1.1263925, -0.1953484, 0.55478066, -0.1528962, 0.06139895, 0.7673445, -0.9438094, -0.5665036, -0.6105406, 0.7646983, 0.27634513, 0.033397783, -0.47764567, 0.29451346, 0.44159907, -0.13508773, -0.7526573, -0.097909816, -0.065306745, 0.04291572, 0.08405854, -0.5986273, -0.13683107, -0.31797892, -0.33600676, -0.90887433, 0.59480643, -1.0760818, -0.8741591, -0.20504828, 1.1136578, 0.7617022, 0.08897482, -0.99642175, 0.13939255, -0.18023168, 0.75237155, -0.024860434, -0.11689101, -0.7760029, 0.65061545, 0.044816744, -0.255856, -1.0303955, -0.009341437, 0.17585047]                                                                                                                                                               |\n",
            "|at          |[0.10098222, 0.40903702, -0.44306666, -0.17509177, 0.16822192, 0.11896088, 0.41752338, 0.2806585, 0.2720322, -0.10243885, -0.36296552, -0.3081349, 0.56389976, 0.5820246, -0.53496003, 1.3241249, -0.30588746, 0.14503694, -0.13850453, -0.14385249, -0.057712577, -0.40600818, 0.39895225, 0.74898285, 0.50816643, -0.5145189, -0.02390973, -0.5123912, -0.050347805, 0.50821644, -0.3302185, 0.19006848, -0.8977249, -1.083766, 0.2506803, 0.6605436, -0.5682221, -0.38105062, -0.6444206, -0.94625866, -1.316817, -0.03768266, -0.28973705, 0.46799034, 0.069692925, 0.25846523, 0.9171479, -0.026388373, 0.15013108, -0.522897, 0.19007698, 0.27531207, 0.23113605, -0.84047896, -0.19366404, 0.6778875, -0.80477685, -0.6185858, -0.5222202, -0.076473385, -0.010379866, 0.09409209, -0.2664526, 0.23023653, 0.5753255, 0.1366838, -0.042287372, 0.5458187, -0.36133724, 0.6363555, -0.014738824, -0.5774926, -0.321582, -0.42349136, -0.42954886, -0.07171305, -0.5112622, 0.4770086, 0.14705206, 1.4167053, -0.30195904, 1.0893589, -0.33511534, 0.29421502, 0.2795898, 0.13346834, -0.052296884, -0.21176912, 1.1190486, 0.6171276, -0.8960634, 0.23218043, -0.3453032, 0.02962856, -0.7516804, -0.08320163, 0.6877802, 0.1013331, -0.8105712, 0.99492586, 0.17979808, 0.08330801, -0.11110516, 0.6998174, 0.43435264, -0.24451138, 0.35836822, 0.6317461, -0.20197286, -0.29500517, -0.16581927, -0.33833683, 0.4537668, -0.23533566, -0.43956378, -0.12277766, -0.23394254, -0.043006543, -0.60011405, -0.037284136, 0.7909754, -0.39193135, 0.21255594, 1.2596359, -0.1807794, 0.27464378, -0.23525967, 0.7421401, -0.05619052, -1.3522019, 0.7300043, 0.6618125, 0.5317015, -1.4592495, 0.60989696, 0.54053265, 0.13858147, -0.8788108, 0.01895604, 0.39849138, 0.7831825, -0.45334226, 0.0518293, 0.2449983, 0.33077544, -0.43388426, 0.86137474, -0.064155266, -0.22299051, 0.38339832, -0.1599687, -0.43678722, -1.0782665, -0.0033720545, 0.075275764, -0.40740046, 0.3610217, 0.18392538, 0.3502718, 0.26080868, -0.6824036, -0.1097863, -0.27218097, 0.87281257, 0.24106082, 0.14363939, -0.8130886, 0.23831129, -0.644, 0.2984992, -0.6215279, -0.91865104, 0.67607725, -0.6015574, -0.1738872, -0.5749122, -0.36942968, -0.2075993, 0.7305386, 0.5805213, -0.3905064, 0.5389709, 1.014132, 0.48928502, -0.056870915, -0.4886411, 0.81199074, -1.075783, 0.2124176, 0.083609916, -0.4169412, -0.92820597, -0.54866433, 0.5427414, -0.86912024, -0.5111977, -0.3333625, 0.28688318, -0.12717551, -0.20422168, -0.47809225, -0.20619175, -0.5079513, -0.07894679, -0.11075525, -0.21672729, 0.5051564, 0.77611786, -0.37188604, 0.32699487, 0.19148545, 0.35008666, 0.51910377, 0.2121537, 0.3722629, -0.22037847, 0.59940636, -0.7831467, -0.061299287, 0.0075565893, 0.60294175, 0.22635064, 0.5113838, -0.42974442, 0.4695827, 1.1694709, -0.4062294, -0.42372748, -0.6409979, 1.3587158, 0.29924923, -0.05877642, 0.280626, 0.004681604, 0.5069234, -0.31537768, -0.85588986, -0.3282781, 1.2088227, 0.45337322, -0.13528499, -0.5747511, 0.5843457, 0.23382676, 0.6204035, -0.32722816, 0.026522823, -0.114738755, -0.25719342, 0.09636663, -0.904373, -0.90748274, -0.58027685, -0.12671266, -0.047515005, -0.9979356, -0.31821692, -0.05137827, -0.32199073, -0.11237124, -0.13250062, -0.3805864, -0.12374854, 0.7087218, -0.4642817, -0.40029335, -0.85398835, -0.040392693, 0.69256145, -0.12067867, 0.52634686, -0.8033632, 0.11484292, 0.66978276, -0.17719397, -0.71816915, 0.3314345, 0.77992463, 0.301485, -0.13378397, 0.590439, -0.14732116, -0.74303156, -0.3711438, 0.15533376, 0.2807288, 0.004217103, -0.8727028, -0.5425937, 0.22511421, -0.052684516, -0.03164742, -0.47249687, 0.01744402, 0.60976785, 0.034629792, 0.13823032, -0.3175271, 0.85615146, -0.5271814, -0.15484014, 0.40286952, 0.4200924, 0.22391517, -0.050472394, -1.0026146, -0.2018681, -1.2333524, -4.0346394, -0.47207844, 0.5339774, -0.3215148, 0.69082266, -0.5037593, -0.17361853, 0.6075784, -1.3774791, 0.26649582, -0.3564096, 0.10922971, 0.206386, 0.44799536, 0.047690243, 0.79126275, -0.012936376, -0.8540679, 0.23265933, 0.23800212, 0.22108242, -0.61134326, -0.26972732, -0.4881189, 0.5127282, -0.8000226, 0.33362177, 0.007836348, -0.80804324, -0.084585145, 0.056060858, -0.781408, -0.67173237, 0.22174521, 0.68570733, -1.4304373, -0.6528808, -0.46016636, -0.13745011, -0.5864941, -0.3930748, -0.21226831, -0.70879674, 0.10203166, 0.7750804, -0.322958, -0.505269, -0.29963627, -0.13941282, -0.19982786, 0.94353664, -0.049606364, -0.18579704, -0.06443474, -0.22903584, -0.1881119, 0.2547508, 0.0104429135, -0.43693054, -0.2759407, -0.007882797, 0.45225856, -0.53627723, -0.06662564, 0.12742811, -0.4725527, -0.096449085, -0.10564686, 0.109944865, -0.52554893, 0.2880058, -0.1960695, 0.09011295, -0.95089465, -0.010574322, -0.21726573, 0.69282424, 0.7204737, 0.2503554, 0.017256625, -0.92088985, -0.99243265, 0.20470355, -0.14184575, -0.2751928, -0.7063663, -0.6949215, -0.066159, 0.047132272, 0.5014084, 0.2537944, 0.5541441, 0.33541816, -0.019259688, -0.7594826, 0.07320148, 0.64120865, 0.056468748, 0.37995905, -0.93502206, -0.15691698, 0.3081305, 0.2742849, -0.015546701, 0.96453, 0.08876786, 0.11406076, 0.22667107, 0.31588072, 0.39091784, 0.47647655, -0.05660369, 0.6559889, -0.723887, -0.6614975, -0.16579372, -0.10115555, 0.85994, -0.01984166, 0.49393868, 0.7870065, 0.3877167, -0.010868747, -0.6842855, -0.48409775, -0.5189636, -1.5508833, 0.8932425, 0.1478349, -0.30965185, -0.61881196, -0.7137152, 0.24163482, 0.81870633, 0.14676435, -0.42929816, -0.08261733, -0.21744728, -0.024532922, 0.5981384, -0.6564164, 1.2169175, 1.0139005, -0.16725153, 1.2496036, 0.62991077, 0.685255, 0.20312527, 0.062320873, -0.6107016, -1.0123268, -1.3251965, 0.019049387, -0.5042803, -0.3320793, -0.44075793, 0.5054749, 0.7537278, -0.32663146, -0.9568991, -0.5575894, 0.2510069, 0.19997764, 0.08732043, 0.17327058, 0.2600897, 1.1905986, -0.19951874, -0.36083055, 0.8491627, -0.0737679, 0.009208027, 0.1826104, -0.06734876, -0.22566374, 0.69303304, -0.11389968, -0.44701666, -0.36951265, 0.7835101, -0.20201239, 0.2426746, -0.7958147, 0.8330537, 0.9018616, 0.3833976, 0.052742947, -0.058877014, 0.52139014, 0.3272758, 0.64701426, -0.103853285, 0.097015485, -0.28870085, -0.6555926, -0.018620221, 0.86608386, 0.42996842, -0.046675097, 0.043429375, 0.43139282, 0.58378464, -0.73835194, 0.5917766, -0.1158171, -0.54693, 0.4373286, -0.121407725, 0.13766707, 0.62348944, -1.4039053, -0.3904922, -0.38361216, -0.4426876, -0.23519893, -0.7507903, 0.5101997, -0.6959378, -0.008367246, 0.18076211, -0.35399562, -0.6354338, -0.23464292, 1.0174631, 0.5044756, 0.5632274, -0.07177481, 0.53169787, -0.2977324, -0.10084094, -0.6469617, -1.0345966, -0.07677386, 0.48588973, 0.7453494, 0.5006135, -0.02489833, -0.5613276, 0.4431951, -0.5407909, 0.031289145, -0.13325511, 0.15516238, -0.30816713, 0.36336827, -0.4932605, -0.51831114, 0.5394293, -0.3967259, 1.0839258, -0.399303, -0.008806828, -0.20957956, 0.09048775, -0.2019543, -1.3067625, 0.5752878, -0.35592332, -0.14232768, -0.5506779, -0.4703588, 0.082509264, 0.24225926, 0.06088892, 0.6518905, 1.1845447, -0.35134718, 0.19845429, 0.6408376, -0.36269718, 0.10915198, 0.14230092, -0.40553495, -0.1691056, 0.027064692, -0.100286394, 0.33892033, -0.7895419, 0.08666787, -1.0038358, -1.0730183, -0.07337296, 0.15973756, 0.26724124, 0.7345695, -0.4739709, 0.15171482, 0.7749858, -0.6710922, 0.17450412, 0.44360924, -0.5525687, 0.016134445, 0.101189494, -0.082752645, 0.05572164, 0.85937226, -0.25971547, 0.47726917, 0.58941704, -0.8509796, -0.53066134, -0.08792484, 0.058943108, -0.34438556, 0.5326036, 0.18488121, -0.82940525, -0.039690677, -0.9436124, 0.30124906, -0.43299893, 0.53804606, 0.65167785, -0.61894816, -0.67907137, -0.041748088, 0.23265111, -0.18502003, 0.24105963, -0.24836151, -0.5792067, 0.076669134, -0.21326071, 0.35507715, 1.1751573, -0.20015736, 0.21247303, 0.81718975, -0.2603916, -0.23104793, -0.60231715, 0.6890744, -0.08872211, -0.39894694, -0.13100737, 0.17260788, 0.22532523, -0.0035818294, -0.45327222, 1.0644232, 0.5913636, 0.6352066, 0.85920227, -0.23362243, 0.12150236, 0.3727978, -0.03921543, 0.42977273, 0.441176, 0.48092186, 0.090085596, -0.1752071, -0.74432963, -0.16307037, 0.09816396, 0.33680612, 1.0000875, 0.1338134, 0.6160602, 0.29606703, 0.2822365, 0.7529183, -0.48497382, -0.10097477, -0.23109598, 0.38254035, -0.72583604, 0.24449217, 0.39604327, 0.27671096, -0.32977152, -0.17282492, -0.48261797, -0.26617882, -0.20436113, -0.030949831, -0.14452352, -0.066143826, 0.6971297, 0.26032278, 0.60242784, 0.18058729, -0.058103055, -0.24341086, -0.83019507, -0.3071274, 0.6228919, -0.44443166, 0.22168586, -0.1810644, 0.3712388, -0.39419383, 0.15632854, 0.24958917, -0.5334901, 0.12528312, -0.27666184, -0.38203347, 0.098875, 0.35100326, 0.09480367, 0.13668317, 0.26691234, 0.08585724, 0.24783319, -0.3464858, 0.15793134, 0.42796943, -0.14735061, 0.6831975, 0.5396143, -0.70383483, -0.725608, -0.9673381, -0.63731617, 0.2640737, 0.26891574, -0.2037593, 1.1494586, -0.4951593, -0.40706775, 0.24040711, 1.0336579, -0.6069983, 0.60337806, -0.5093491, 0.037962005, -0.23379686, 0.83363956, 0.20080528, 0.15945575, 0.37151664, -0.24373288, -0.51361334, 0.085713536, -0.95745444, 0.2419877, -0.15171443, -0.49880934, 0.32704428, -0.011110455, 0.074783444, -0.21883401, 1.7414603, -0.44477603, -0.10846919, -0.88077176, 0.09512089, -0.49820542, 0.6951965, 0.25403312, -0.24944827, -0.18931198, 0.35135522, 0.011386573, 0.290339, -0.45214927, 0.9806946, 0.5728314]                                                                                                                                           |\n",
            "|Turner      |[0.6406129, 0.21072747, 0.0107047595, 0.06112945, 0.052615885, 0.48817554, 0.045349374, 0.36956093, 0.1839439, -0.6049656, -0.19998324, -0.48526442, 0.62907004, 0.43367764, -0.2693508, 0.51062936, -0.16773164, -0.14607567, -0.7607162, -0.30847132, 0.08786065, -0.5499358, 0.119811006, 0.0580113, 0.6789403, -0.446193, -0.31940442, 0.014424574, -0.031216502, 0.3237941, -0.4400324, 0.12479895, -0.40839243, -1.0414966, 0.526637, 1.0099033, -0.072837, 0.28074864, -0.20216265, -0.1427086, -0.5646381, -1.0991904, -0.82535475, 0.11100027, 0.39370954, 0.5581721, -0.08959301, -0.04061669, -0.30889854, -1.2615327, -0.09144229, 0.8052304, 0.22508535, -0.3278852, -0.069534525, 0.54600495, -0.06873605, -0.78731674, -0.31753704, 0.25826067, -0.19468564, -0.14311166, 0.3360029, 0.35088524, 0.24845149, -0.08864653, 0.14371939, 0.4710843, -0.07591438, 0.06588057, -0.3645522, -0.4257589, 0.021444716, 0.042595163, 0.1345419, -0.115025386, -0.5317841, 0.261846, 0.30004436, 1.036221, 0.23996305, 0.5066146, -0.18453553, -0.10657014, 0.50163615, 0.70285857, -0.61291105, 0.34008667, 0.6730754, -0.14523795, -0.41741788, -0.14612709, -0.1877434, -0.13856146, -0.39587188, -0.011008345, -0.2368467, 0.3066498, -0.26157075, 0.92219305, -0.66313434, -0.37914616, -0.12404995, 0.24628273, 0.11330281, -0.2881071, -0.580261, -0.09563746, 0.58092993, -0.13622873, -0.6413126, -0.18004307, 0.26577693, -0.21220846, -0.4989015, -0.20792857, 0.28051728, 0.16783842, 0.0899431, 0.011923088, 0.8525205, -0.021096438, -0.89149964, 0.81045115, -0.30323806, 0.41718864, 0.75454587, 0.6164009, 0.040899314, -0.3837661, 0.5153952, -0.17775838, -0.21923818, -0.7684202, 0.36305198, 0.2898236, -0.5818866, -0.14838988, -0.65866923, 0.17597876, 0.28349182, -0.6976839, 0.061301123, -0.13174175, 0.2425372, -0.068901725, 0.43315738, -0.13085994, -0.06549749, 0.04314574, 0.065943874, 0.2846998, -0.5435453, -0.14016078, -0.08213643, -0.022611834, 0.41833624, 0.4771681, 0.32061377, 0.4876621, -0.06566115, -0.26722777, -0.33523798, 0.39388943, -0.01567548, -0.06476381, 0.2219961, -0.30811232, -0.71915674, -0.15356985, -0.802935, -0.291528, 0.36107767, 0.6109846, -1.1891544, -0.038105734, -0.24148002, -0.15849002, 0.53529644, 0.36542034, -0.29382396, 0.0095357075, 0.85885775, 0.59133834, 0.996867, -0.64981997, 1.664114, -0.5284511, -0.14064261, 0.7189195, 0.22385672, 0.08947253, -0.7752469, 0.42340964, -0.33033758, -0.14310978, -0.40338337, 0.6891892, -0.96281147, 0.46763408, -0.3651858, 0.1745439, -0.7315583, -0.7146741, -0.4051768, 0.1893216, 0.19684169, 0.5013326, -0.3402995, 0.31322774, 0.9014256, -0.24441549, 0.42123452, 0.41850153, 0.58945894, -0.014723215, 0.35699737, -0.882339, 0.14236476, 0.30459392, 0.55696523, 0.2918722, 0.64459175, -0.26768398, -0.04947146, 1.5198678, 0.03170909, -0.6353987, 0.023408037, -0.33963278, 0.3517123, -0.3723111, 0.31966355, -0.5027177, -0.27072683, 0.30595636, -0.3395053, -0.27175617, 0.7079887, -0.16331731, 0.36311683, -0.36621305, 0.4823354, 0.3978473, 0.2776979, -0.317425, -0.11453304, -0.50626653, -0.12772974, 0.040563293, 0.07838046, -0.47960418, 0.084957905, -0.36146215, 0.47942948, -0.7003788, -0.08012078, -0.26564685, -0.42822137, 0.5201228, 0.4260353, 0.28212178, -0.30469367, 0.06279588, -0.38344735, -0.9471809, -0.50327134, 0.2545345, 0.43615335, 0.49937773, 0.09401623, -0.03289303, -0.6003207, 0.9596897, -0.16020423, -0.09823293, 0.10336809, -0.060114976, -0.035303928, -0.42909598, -0.21310936, 0.05003578, -0.46373403, -0.0024552383, 0.014070347, 0.21590124, -0.2520822, -0.26629543, -0.44106162, 0.050085988, 0.0783581, 0.74189395, -0.64655495, -0.32326695, 0.5954347, -0.09908185, -0.13204466, -0.169974, 0.2614997, -0.53881264, -0.7930682, 0.7335715, 0.044982053, -0.38106328, 0.35754627, -0.48500925, 0.25076103, -0.8651025, -4.978762, -0.16233541, -0.017937537, -0.15971574, 0.6725652, -0.35922787, 0.61104035, 0.2743589, -0.81489044, 0.43612555, 0.3879641, -0.5691676, 0.42063224, -0.6344874, 0.08002189, -0.078193076, 0.59103847, 0.60211515, -0.24623406, 0.22010507, 0.7001107, -0.70445114, -0.49558875, 0.052608285, 0.17634322, -0.22926514, 0.39771163, 0.23356172, -0.5822089, 0.01965405, 0.025148736, 0.3503928, 4.0146138E-4, 0.45077223, -0.040128145, -0.6507888, -0.2251013, -0.4319829, -0.90877026, -1.0508626, -0.27061278, 0.42431337, -0.33254045, -0.67426586, -0.045331184, 0.099368475, -0.8373469, 0.0019087843, -0.38303417, -0.096444376, 0.8794208, 0.24571058, -0.3943894, -0.47132576, -0.66527605, -0.17196663, 0.16723841, 0.21104176, 0.5428673, 0.4589662, -0.10518809, -0.14548424, -0.027650531, 0.1673498, -0.23444122, -0.77465427, -0.44773972, -0.2510525, 0.27454397, -0.2332373, -0.38397563, -0.66642505, 0.52526003, -0.98622036, -0.5835677, 0.20062128, 0.74301726, -0.19022095, 0.146487, 0.3237074, -0.1846365, -0.94925344, 0.57003355, 0.16811979, 0.26912367, 0.085648894, -0.5347856, 0.5290921, -0.37960333, 0.3106345, -0.58964026, 0.43254924, -0.04104933, -0.48055437, -0.4787842, -0.09884092, 0.27987587, -0.26695338, 0.30201966, -0.24497728, 0.21033448, -0.63768965, -0.025372889, -0.12270981, 0.59873843, -0.02844072, -0.70024043, 0.076888874, 0.6541, 0.30901355, 0.67408574, -0.6535149, -0.48053333, -0.89726806, -0.4251307, -0.5915214, -0.3605036, 0.5121023, -0.25312063, 0.08834136, 0.3133679, 0.38875315, -0.5254984, -0.3495022, -0.6050902, -0.41221565, 6.410144E-4, 0.36835065, -0.42375416, -0.060692206, 0.05051712, -0.235794, 0.21487108, 0.17263144, -0.39597648, 0.13524356, -0.068811566, 0.48976535, 0.10595597, 0.23127191, 0.268525, 0.9164589, 0.9443202, 0.4010044, 1.1819632, 0.655161, -0.19274367, 0.31213835, -0.45518762, -0.6070727, -0.37352884, -1.0850686, 0.3978462, -0.12084329, 0.084747046, 0.08960311, 0.2559588, 0.34754956, 0.3302171, -0.5257579, -0.21401933, 0.14252692, -0.26929086, -0.21707004, 0.12871507, -0.37084845, 0.7226124, 0.83372897, 0.15507786, -0.08962631, 0.66410077, 0.14416908, -0.44335216, -0.10896839, -0.34797925, 0.6045399, 0.33949664, -0.9658887, -0.1829437, 1.0700806, -0.10288399, 0.1058363, 0.0139104165, -0.2773834, 0.39919725, -0.1866088, 0.05936537, -0.07789378, 0.09487912, 0.022351466, 0.66917825, -0.2143295, -0.25308433, 0.4170021, -0.2242692, -0.21011123, 0.13179222, 0.8839036, 0.06756441, -0.5433028, -0.49150914, 0.84592766, -0.25293207, 0.5793947, 0.8578249, -0.4989611, 0.55766696, 0.62064815, 0.52927643, -0.050908044, -1.2270892, -0.21969728, -0.1000031, -0.26418713, 0.14386117, -0.03386764, 0.052649654, -1.1553916, -0.15788038, 0.37408212, 0.48056692, 0.034941245, 0.9694431, 0.48477444, 0.05441424, 0.6184243, 0.6297251, -0.113248974, -0.27527213, 0.47839054, 0.10191804, -0.9037581, -0.57326144, 0.4589845, 0.71280843, 0.4907636, -0.33551684, 0.07351746, 0.27405554, -0.1580064, 0.6397554, -0.58157545, 0.6489432, 0.09317906, 0.6311744, 0.0038718022, -0.18955246, 0.31891662, -0.5984, 0.71077335, -0.6018593, 0.359307, 0.11079231, -0.53102535, -0.00864172, -0.69771147, 0.5081653, -0.0458199, -0.13014421, -0.4721632, -0.25223312, -0.096264295, -0.27470586, 0.23329175, 0.196803, 0.81349254, -0.27056158, -0.095508404, 0.4201768, -0.77561283, 0.13924259, -0.3476066, -0.59744453, 0.3838936, 0.08240948, -0.4179848, 0.3166338, -0.23183276, -0.13830954, -0.64015824, -0.35867977, 0.5908804, 0.13809916, -0.7857966, 0.13696839, -0.5581344, -0.032493427, -0.0785129, -0.9435409, -0.13943753, 0.75828475, 0.35746223, -0.1242651, -0.11218331, -1.3915012, 0.23824714, 1.0835301, -0.33856985, 0.076916575, 0.35554668, -0.73502684, -0.23595652, 0.04801769, 0.2994498, -0.58466375, 0.11967685, -0.42672095, -0.4877929, -0.50220424, 0.9060755, -0.21610194, -0.6593676, 0.70997953, 0.36194658, -0.5491448, -0.6379072, 0.28355289, 0.14369288, -0.32500905, -0.1913034, -0.3400443, 0.34665865, 0.0123975985, -0.10262035, 0.0035694018, 1.1309849, 0.047708243, 0.33700448, -0.10211006, 0.3414239, 0.082738, -0.37662217, 0.0050192177, 0.18179774, 0.28152525, -0.27866384, 0.37181327, 0.3435082, -0.2466768, -0.47799394, 0.55019253, -0.115095526, 0.20453332, 0.37733313, -0.27566758, -0.13852635, 0.15268889, -0.3683712, 0.78068614, 0.12966308, -0.30031997, 0.25924495, -0.2567936, -0.11027013, 0.20090622, 0.49070624, -0.20062122, 0.14552267, -0.49524224, 0.41816783, 0.21143934, 0.22173703, 0.9344872, -1.0666918, 0.19242027, -0.37232727, 0.33342114, -0.25376302, 0.035642006, 0.5648504, 0.44932985, 0.44242665, -0.74041456, 0.09716311, 0.42770705, -0.007643737, -0.14530149, 0.18695807, -0.1814289, 0.11018346, 0.3578616, -0.31804785, -0.78432626, -0.29981822, -0.226131, -0.14195444, 0.5262101, 0.38417614, -0.29627654, -0.22454634, 0.28624982, 0.20401427, -0.07282857, 0.6512109, -0.033139884, -0.9010302, 0.45056736, -0.39130756, -0.28886664, 0.016929992, 0.43776247, -0.2779702, 0.11406848, -0.46051726, 0.41364563, 0.44809845, 0.28407246, 0.9614139, 0.032491483, -0.333162, -0.009590492, 0.63954735, -0.73821294, -0.47063184, -1.144413, -0.82011807, 0.069727644, -0.11861056, 0.6042937, 0.8371496, -0.34207892, -1.0471191, 0.5293842, 0.46801528, -0.098546356, -0.2222116, 0.19561279, 0.21317473, 0.5330039, 0.74405235, -0.72207713, 0.12828562, 0.41182765, 0.7114469, -0.8433652, -0.51463866, -0.7702216, 0.27064928, 0.015743336, -0.4698122, -0.07444384, -0.13443923, 0.78306836, -0.53894526, 0.5569493, 0.29821628, 0.06366265, -0.28539625, -0.07599507, 0.049273748, -0.4817372, 0.24990717, -0.05385568, -0.0056118118, 1.0205562, 0.34436762, -0.4715169, -0.016843967, 0.3185281, -0.19896233]                                                                                                       |\n",
            "|Newall      |[0.2347149, -0.4765903, -0.08398907, 0.05441785, 0.598168, -0.32874587, -0.3412733, 0.3301419, -0.5702019, -0.17098942, -0.14091925, -0.9059725, 1.0381284, 0.8070413, -0.4627926, 0.9212904, 0.07873216, -0.040108204, 0.11492933, -0.22619188, -0.8825532, -0.659273, -0.6364684, 1.2155038, 0.48185265, 0.25397307, -0.120050654, -1.076966, -0.5949511, 0.4780768, 0.15444988, 0.06311827, -0.11055449, -0.63590544, 0.45410797, -0.2871209, -0.25309774, 0.33590224, -0.014815489, 0.048099235, -1.672749, -0.94418186, -0.7564728, 0.15409002, -0.048371665, -0.25076437, -0.04748658, 0.23276412, -0.23892614, -0.5024752, -0.18991856, 0.60664266, -0.3624746, -0.034193665, 0.19366407, -0.06839367, -0.11211583, -0.569882, -0.1273722, 0.015381034, -0.03696184, -0.22559461, 0.35239017, 0.04013521, 0.61845416, -0.7518334, 0.59518784, 0.46821487, -0.93496567, 0.63093054, -0.40500963, 0.36183828, -0.44863522, -0.003445655, 0.2824358, -0.2523277, -0.097754136, 0.60566413, 0.62814915, 0.02257951, -0.13657585, 0.51510805, 0.14275135, -0.4002279, 0.31484056, 0.21166153, -0.073777825, -0.07426277, -0.36033693, -0.31613904, -0.46386546, -0.22188835, 0.15012142, 0.10831223, -0.5652567, -0.32752252, -0.25128654, 0.42823595, 0.44906795, 1.1397913, 0.6942879, 0.042892747, -0.026565675, 0.044881597, -0.10038703, 0.027150849, 0.29575524, -0.3277529, 0.60938, 0.3299006, 0.28744873, -0.32412857, 0.53903913, -0.45722094, -0.5202066, 0.1530605, 0.00527501, 0.1553065, -0.51816905, -0.21715231, 0.6519972, 0.12473898, -0.9170262, 0.9779742, -0.061266262, 0.41723424, 0.18827279, 0.9354241, -0.19934708, -0.008024342, 0.27956203, 0.5223317, -0.16838473, -0.24627344, 0.5077664, -0.053635243, -0.86528647, -0.24334416, 0.22468415, 0.15222794, -0.21522135, -0.75831586, 0.832055, 0.20477183, 0.42339593, -0.21841076, 0.20270845, -0.031882323, -0.07611439, 0.8247753, 0.49735752, -0.11650155, -0.57134974, 0.25107378, 0.17840609, -0.38268948, -0.3559376, 0.46131957, 0.4231919, 0.34599218, 0.21197289, -0.24762787, -0.15220073, -0.07247146, 0.04895641, -0.68542594, 0.10734818, -0.5880844, -0.1411324, 0.20913477, -0.73019934, -0.4493088, 0.5501026, 0.06398067, -0.6346065, -0.17682269, -0.5286536, -0.36973825, -0.039140332, 0.5791542, -0.16677102, 0.5664108, 1.3805783, -0.07894896, 0.021401387, -0.2598925, 0.5123258, -0.028892893, 0.33347768, 0.63828605, 0.3780616, 0.43224734, 0.0468119, 0.47188893, -0.26162848, 0.07836809, -0.46572697, 0.88116074, -0.4043444, 0.11583625, 0.20433651, 0.005561538, 0.36698774, -0.20140646, 0.31047782, -0.1251894, 0.6524658, -0.3543395, 0.22998711, 0.05954321, -0.14917074, 0.32753155, -0.12024724, 0.20277, 0.33360678, 0.064062655, 0.1458613, -0.028784635, -0.2909815, 0.86843586, -0.0062830746, 0.6720119, 0.6273668, -0.64318454, -0.3477942, 1.887621, -0.19814554, -1.1633567, -0.77435786, 0.9126906, 0.3874619, 0.25948012, 0.2560201, -0.11680007, -0.32894236, 0.047090672, -0.08151709, -0.7417598, 0.7572365, -0.101587966, -0.094287924, -0.4355562, 0.7093712, 0.8499652, 0.6446656, 0.44382557, -0.085078254, 0.13733765, 0.08667193, -0.4516859, -0.20605409, -0.30214334, 0.21500282, -0.17568395, 0.18845305, -1.3349311, -0.13702801, -0.13314557, -0.16542767, -0.579162, 0.02198102, -0.19502106, 0.33470774, 0.9096286, -0.43339574, -0.5210737, -0.55885816, -0.07394054, 0.6590212, 0.025256237, 0.32640225, 0.6299484, -0.07291935, 0.8041164, -0.019332018, 0.0629089, 0.2063711, 0.74125934, 0.25637, -0.026925204, -0.48909387, 0.48539683, 0.34862918, -0.036797456, -0.22982168, 0.2669054, -0.7139742, 0.550981, 0.2956993, -0.5747631, 0.31804538, 0.035206284, -0.5604846, 0.30356988, -0.051422182, -0.06812853, -0.10472766, -0.6677914, 0.2787595, -0.007838577, -0.2723007, 0.30585846, 0.45205373, -0.411081, 0.013510792, -0.24466565, 0.5199438, -1.5226191, -4.432646, 0.005084222, -0.20220955, 0.21878932, 0.87946993, -0.53193444, -0.14463091, 0.79274726, -0.8133044, 0.67038345, 0.15612023, -0.8034791, 1.0498886, -0.58529574, 0.7754221, 0.119481266, 0.38926506, 0.3112024, 0.09250322, 0.2377227, 0.21760082, -0.6781821, -0.083489805, 0.09707935, 0.9414437, -0.006605029, -0.41628042, 0.178228, -0.38486704, -0.6142802, 0.048119634, -1.2442176, 0.16757056, -0.010440768, -0.58462524, -0.58207774, -0.4817844, -0.54944485, -1.0248007, -0.83162826, -0.6054327, -0.37860242, -0.26338077, -0.5698274, 1.1467923, -0.23788047, -0.3363111, -0.31473148, -0.3980565, 0.021492679, 0.54340047, -0.1455716, -0.47512162, -0.32835823, -0.5805849, 0.09603126, 0.32474956, 0.38895112, -0.17554565, 0.75828916, -0.6200831, 0.47312835, -0.72758156, 0.29951948, -0.26593184, -0.39745045, -1.2120278, -0.88594556, 0.6000855, -0.35798374, 0.45890915, 0.6025383, 0.7328147, -1.0386292, -0.22083119, -0.16864496, 0.38271546, 0.48503768, -0.18178713, -0.4810356, -0.41565683, -0.8299252, 0.5846139, -0.26166123, -0.25923893, 0.25513202, -1.2463553, -0.5561114, -0.599344, -0.057447, 0.76665795, 0.27230847, 0.14575014, -0.30046415, -0.39026517, -1.0196654, 0.17078647, 0.11750301, 0.13902651, 0.24374694, -0.5953592, 0.477067, 0.56772727, 0.4161169, -0.3512089, 0.0072123436, -0.06621811, 0.25280824, 0.117633365, -0.121137366, 0.7994951, -0.077986896, -0.8914352, -0.54972273, -0.7713816, 0.10976923, -0.1238802, -0.0871299, -0.3060651, -0.60107636, 0.10874112, 0.5976146, -0.7142427, -0.8602349, -1.1274612, -0.50023365, -0.718351, 0.26044574, -0.6223258, -0.26911846, -0.05382792, -0.3439774, -0.5248826, -0.31840745, -0.3143304, 0.23532206, -0.3369085, 0.37914997, -0.6117591, 0.28761578, 0.13280825, 0.88869566, 0.48073754, 1.2116066, -0.23006618, 0.8096874, -0.07709883, -0.14091194, -0.25907424, -0.5043166, -0.72392887, -0.9328585, 0.23276399, -0.23651981, 0.0044983253, 0.45399016, 0.50191253, 0.37052965, 0.45892888, -0.84812576, -0.25864735, -0.48530897, 0.6240926, -0.1904919, -0.71654135, -0.31610715, 0.49147558, 0.27756548, -0.3018641, 0.45644075, 0.83382434, 0.056796283, -0.4226705, -0.08755174, -0.14722522, 1.03723, 0.69051206, -0.17412244, -0.31695244, 0.42151666, 0.3933343, 0.72276, -0.083604336, 0.4779323, 1.080217, 0.8013986, -0.29328033, -0.04352938, -0.41721913, -0.21619684, 0.2835017, -0.31523752, -0.45471907, 0.17857832, -0.15709582, -0.25935856, 0.03551725, 0.116112985, 0.28780964, 0.25613743, 0.18941228, -0.48927787, -0.59528804, 0.22523439, -0.04307681, -0.44978958, 0.5435355, -0.046565235, -0.1493837, -0.08491309, -0.2675408, 0.17382643, -0.20818645, -0.3804675, -0.40441257, 0.5042581, 0.49593067, -0.5044784, -0.74785745, 0.223488, 0.42789635, 0.019998847, 0.6634636, 0.13558963, 0.017880503, 0.17604953, 0.25718212, -0.30574748, -0.8110361, 0.29572052, 0.1333752, -1.4607786, -0.123006254, 0.21421222, 0.10071364, 1.3519887, -0.608769, -0.40257034, 0.27288222, 0.12246893, 0.40775105, 0.45237032, 0.31415138, -0.24274047, 0.33451676, -0.3649564, 0.034138948, 0.76581097, -0.9159248, 0.35182786, -0.48201805, -0.07160963, -0.047574185, -0.11243625, 0.77738297, -0.54511905, -0.06824365, 0.0075917784, -0.31739125, 0.048817933, -0.023833798, 0.17667252, -0.44563258, 0.45386133, 0.053319305, 0.68228596, -0.91631097, -0.13737433, -0.14655921, -0.6250805, -0.2694154, 0.06835373, -0.59887177, 0.30538198, 0.30199158, 0.3404021, -0.049658433, -0.278689, 0.39143142, -1.2151448, -0.013694026, 0.9410717, -0.24039227, -0.69009715, 0.31783, 0.015163671, -0.69535935, -0.69950986, -0.0035304688, 0.37678003, 0.08110032, 0.48334426, -0.17200862, -0.4218517, -0.5570891, 0.26526, 0.80757266, 0.22232708, 0.31867176, 0.17142795, -0.8348448, -0.2825349, 0.42236322, -0.09901895, -0.053777665, 0.36373636, -0.04990483, -0.54325986, 0.041595526, 0.51688385, -0.6123022, -1.0030035, 1.0535936, 0.7077926, -0.071728155, 0.1557446, 0.08705689, -0.120655745, 0.4069624, -0.002662431, 0.41523558, 0.27222002, 0.60361516, 0.0031753753, -0.06582929, 1.2301325, -0.29119673, 0.086445026, 0.05448703, -0.07069971, -0.27512798, 0.4280272, 0.04575471, 0.079219304, -0.027044944, -0.6386834, 0.56489044, 0.19615024, 0.09185062, -1.0687284, 0.31976035, 0.24471378, 0.13563482, 0.7782465, -0.2756276, -0.09196224, 0.752796, -0.29078907, 0.6514638, 0.8210146, 0.05357776, 0.19111149, -0.017034069, -0.5477142, -0.5485289, -0.30758783, -0.33645666, -0.1132176, -0.1442642, 0.35518306, 0.039401516, 0.73033875, 0.52992004, -0.72238994, -0.19164427, 0.1586, 0.9184572, 0.06919136, -0.41040558, 0.005061034, -0.03617595, 0.39226326, -0.1102419, -0.061548844, -0.23598608, -0.1254842, -1.0478678, 0.13269582, 0.0836087, -0.1672208, 0.8307506, 0.26559713, -0.67814934, -0.44667614, 0.03053905, -0.16590245, 0.32965434, 0.5043916, -0.8072075, 0.15131907, 0.087705955, 0.519937, -0.4342242, 0.7277721, 0.37194288, -1.1459318, 1.0209427, -0.015712623, -0.19194898, -0.011526374, 0.5148274, -0.4899514, -0.14430843, 0.49188414, -0.32411197, 0.101465, 0.021002417, 0.27722058, 0.23017839, -0.40791893, 1.5087079, 0.8526062, -0.6253838, -0.47691005, -0.6052997, 0.06385361, 0.61442107, -0.321375, 0.07617974, 0.35799986, 0.19542739, -0.3145629, 0.20880173, 0.6443498, -0.15808316, -0.23519945, 0.15796614, 0.38982388, 0.45896268, 0.38042516, 0.5909496, 0.21728125, 0.1560919, -0.13597485, -1.3146646, 0.281794, -1.0571399, 0.1394062, -0.92619085, 0.21809226, -1.2110043, 0.13194369, 0.27656072, 0.17479874, 0.7376513, 0.4336586, -0.48881412, -1.0773473, 0.04984825, -0.56614625, -0.74967194, 0.30881777, 0.13348033, -0.48453215, 0.2880495, -0.50672483, 0.31324854, 0.01817269, 0.47310415, -0.2567862]                                                                                                                                 |\n",
            "|say         |[0.30299997, 0.12390994, 0.26303482, -0.29814398, 0.61846405, 0.15924275, -0.41755477, 0.5177754, 0.17974833, 0.16001143, -0.17444211, -0.56453955, -0.83147854, 0.25004342, -1.0058218, -0.3353187, -0.64008105, -0.17060576, -0.5637628, 0.4846968, 0.7021922, -0.060922563, 0.47727588, 1.1091857, 0.1200058, -0.5204139, 0.67789865, -0.8393681, -0.23948303, 0.23361987, 0.09136978, 0.7415993, -0.4639689, -0.036572807, -0.17191413, 0.75913894, 0.46027166, -0.14820704, -0.7448644, 0.28686944, -0.53865516, -0.3616922, 0.15142974, 0.24144676, 0.5095177, -0.38666132, 1.3843818, 0.21778049, 0.6311938, 0.64497423, -1.0387764, 1.2349542, 0.5313499, 0.15537612, 0.17461783, 0.59165704, 0.1276603, -0.5762339, -0.6930012, 0.11823745, -0.015088387, -0.18125841, 0.05236256, -0.6392199, 0.1887614, -0.3155081, -1.0296844, 0.9901849, 0.066255026, -0.18053927, -0.23345768, 0.52036464, -0.77069473, -0.35264835, -0.15415508, -0.013082497, -0.79815185, 0.95500773, 0.6099294, 0.27108833, 0.6175729, 0.9084995, -0.531748, 0.74728245, 0.20457107, -0.072781906, 0.5020883, 0.10439645, -0.4357561, 1.0137471, 0.37071988, -0.26296946, 0.19071199, 0.46330643, -0.50121063, 0.24157052, 1.0036901, 0.45751196, 0.039084084, 0.27637425, 0.5087909, -0.182646, 0.15716267, 0.7183668, 0.70247746, -0.14769226, 0.25680953, -0.23527795, 0.6512306, 0.6469437, -0.15059021, -0.658749, -6.045513E-4, 0.30609626, -0.6832982, 0.67799425, -0.070105694, -0.69102424, 0.1271824, 0.049709897, -0.20618296, 0.072873436, 0.0024304008, 0.48955196, 0.29691997, 0.5707226, -0.7831196, 0.100827426, -1.2468319, -0.47471517, 0.33543935, 0.024863081, 0.20193017, -0.3189962, 0.27638894, 0.08467348, -0.22362696, -0.7857059, -0.4067869, 0.30476928, 0.22893482, 0.21801786, 0.42804533, 0.2345365, -0.15022507, -0.3959873, -0.4429738, -0.37445003, 0.40739515, -0.36093405, -0.27532715, -0.52552134, 0.5993433, -0.037685767, 0.27174246, -0.57350904, -0.814631, 0.42051592, 0.83259124, -0.14260219, 0.011703797, -0.12961815, 0.12282829, 0.41331604, 0.39735988, 0.66617775, 0.113779165, -0.10321872, -0.43112493, 0.4563398, 0.4554727, 0.059526317, 0.9564071, -0.97381824, 0.76276845, -0.12118768, -1.3049456, 0.6090902, 0.13466883, 0.2603956, -0.14026512, 0.7524873, 0.5426367, -0.7242074, -0.86531824, -0.75949264, -0.10920321, -0.88309646, 0.59854245, -0.56786853, 0.34323055, 0.12973794, 0.26291284, -0.04878512, -0.0017164946, 0.04921267, 0.033437762, 0.57616043, 1.0148221, 0.025625119, 0.9992727, 0.08919998, 0.39968067, -0.73208225, 0.022845171, 0.7226542, 0.047174204, -0.03173666, -0.027853727, 0.45600015, -0.38293573, 0.8128021, 0.88212234, 0.46940565, -0.14876135, -0.16340554, 0.30154425, -0.97404516, -0.37484837, -0.4757834, -0.55389917, -0.25937977, -0.16588372, 0.5051355, 0.00366107, 1.1727402, 0.35315996, 0.13992003, -0.33293945, 1.4435245, -0.51776004, -0.093806, 0.6216823, 0.7450521, -0.36595637, -0.07376659, -0.072654106, -0.021014584, 0.950494, -0.88900554, -0.78720427, -0.420677, 0.88015395, 0.6425291, 1.0285031, -0.8277785, 0.19017136, -0.4834242, -1.0405059, -0.12500949, -0.32525745, -0.59396106, -1.1427975, -0.7261487, -0.98382896, 0.13034688, 0.13544723, -0.892388, 0.36093417, 0.4863205, -0.2758227, 0.12923215, -0.35241517, 0.919111, -0.35615256, -0.51673764, -0.11719845, 0.39032182, 0.0933447, -0.81761503, 1.0565101, -0.18683606, 0.18965948, 0.82308453, 0.04752507, -0.7057079, -0.43670225, -0.1439584, 0.1908131, -0.55897796, 0.07918438, 0.582172, -0.064935304, -0.046748914, 0.47634017, -0.5068861, -0.34608808, -0.5918433, -0.6941438, -0.9649955, -0.9687165, -0.5234287, 0.34799558, -0.39005616, 0.13533007, -0.5809052, 0.30415985, -0.27116165, 0.24211343, -0.25934327, 0.58820105, 0.26711527, 0.26748642, 0.6244743, -0.6982078, -0.24707146, -0.18319663, -0.7780019, -4.0790524, 0.1555007, 0.85552824, -0.7478027, 0.22557618, -0.18457752, -0.14150172, -0.31063575, -0.5840494, -0.51103175, 0.12727492, -0.761121, 0.94782597, 0.14844348, 0.7234112, 0.24729584, -0.13878645, -0.7225878, 0.42170012, 0.91222686, 0.2250761, -0.13507691, -0.24707924, -0.22429445, 0.3476321, 0.6201378, 0.1859171, -0.22837988, 0.09911574, -0.6663998, -0.019923981, 0.3953462, 0.4427141, 0.16530444, 0.006335139, -0.20045891, 0.12244452, -0.52981454, -0.7662567, -0.8875437, -1.1652917, -0.050212495, -0.5036622, -0.35722637, 0.7462793, 0.58380747, -0.0825084, -0.5061223, -0.09746577, 0.118695185, 0.69707054, -0.5812497, -0.569121, 0.1314395, 0.031428725, 0.1358715, 0.10537371, -0.029540816, -0.5060429, -0.44331038, -0.6047975, -0.8407068, -0.602942, 0.40073052, 0.16400535, -1.1427264, -0.29737926, 0.57652265, 0.07893813, -0.5746246, -0.38283405, -0.35059515, 0.43054986, -0.41592556, -0.052088022, -1.0062598, 0.20044297, -0.3777134, 0.064196475, -0.84885323, -1.4585276, -0.23494053, -0.4917289, -0.80489546, 0.058143374, -1.1916454, 0.40180382, -0.2359031, 0.68729836, -0.12796172, -0.26588458, -0.030484118, -0.58757323, 0.4253955, 0.09836942, -0.087316975, 0.43715176, 0.047309786, -0.30173323, 0.19994941, 0.1782517, 0.20088851, 0.07162054, -0.4411689, 1.0314593, 0.49441794, -0.15063737, -0.025195476, -0.51676905, 0.49387762, 0.74827343, -0.7242333, 0.81920266, -0.2646049, -0.919185, -0.42480746, 0.7652817, 1.2623446, 0.17194192, 0.3015138, 0.6474523, 0.44324267, 0.30109307, -0.0028436428, -0.5523458, -0.64581203, -0.5927645, -0.42019308, -0.2704652, -0.3169141, 0.21323548, -0.7819348, -0.022120254, 0.5225408, -0.031789273, 0.19148946, 0.05475577, -0.5911839, -0.097326815, 0.4691012, 0.4953625, 0.09501517, -0.068395, 0.15161994, 0.67112666, 0.59880435, 0.4877672, -0.008321069, -0.29067302, 0.57009935, 0.3181407, -0.95956284, 0.2624057, -0.55207056, -0.09285973, -0.14902934, 1.0858474, 0.1307462, -0.28636733, -0.696576, -0.36645475, -0.040780865, 0.39882702, 0.91685355, -0.19012848, 0.7842955, 0.52451116, 0.21336506, 0.4249889, 0.5433674, -0.36356172, 0.63683367, -0.04411404, -0.20972322, 0.5908594, 0.28272814, 0.0050985217, 0.079476215, -0.84666544, 0.0024051256, -0.8018406, -0.29968137, -0.43262836, -0.23262514, 0.20593603, 1.2315575, 0.16229, -0.32087964, 0.3023097, -0.22970004, -0.56794643, -0.29013702, -1.0235894, 0.72370803, -0.5212021, 0.688774, 1.239604, -0.37503934, -0.19431545, 0.5153915, 0.58557224, -0.38521117, -0.120192714, 0.3021366, 0.6080776, 0.5233016, 0.2110803, 0.6661662, 0.39120477, -0.4208551, -0.71518385, 0.18801868, -0.375085, -0.24263777, 0.7461467, -0.87963974, -0.72944903, -0.19520482, -0.45640004, 0.3013737, -0.8762457, -0.04946712, -0.023126602, 0.6577182, -0.31238288, 0.03928475, -0.059519388, 0.24875574, -0.70572233, -0.1173161, 0.06646078, -0.3038493, 0.64221275, 0.6473988, -0.5099931, 1.4090021, -0.21444574, -0.59124696, -0.18806872, 0.079755634, -0.49993667, -0.082506575, -0.020948179, -0.10406168, -0.5002312, 0.23639837, -0.73462534, 0.900405, -0.17223027, 0.104936615, 0.74351424, 0.20845893, -0.5829671, -0.34919676, -0.46663997, -0.7512068, -0.4049115, -0.08474675, 0.06761187, 0.8248718, 0.5343756, -0.15104282, 0.9504726, 0.11884947, 0.16670956, -0.13571353, 0.23990071, 0.092976175, -0.2683977, -0.44200033, -0.4320769, -0.2822577, 0.23638035, 0.6430427, -0.75202227, 0.13725272, -0.48352265, -0.9382223, 0.47963256, 0.42284775, -0.61388505, -0.042734392, -0.48618874, -0.37628144, 0.24960113, -0.27559522, -0.17822069, 1.2271291, -0.8918479, -0.034072734, 0.85175496, -0.21901298, -0.15071988, 0.31292778, 0.33225587, 0.14260733, 0.7689338, 0.16211344, -0.08034937, 0.23738985, -0.24384287, 0.9227723, -0.33002433, 1.075639, -0.63005817, 0.05738546, -0.2915686, -0.5074958, 0.5646124, -0.06484881, -0.29093963, 0.08021469, 0.6181749, 0.26261356, -0.6317519, -0.518904, -0.37094808, -0.73762643, -0.7079117, 0.024565987, -0.081094965, -0.13568324, 0.6979695, -0.5039803, 0.43413913, -0.6820702, -0.5060622, -0.079050116, 0.31586543, 0.46454117, 0.030811239, 0.2660692, -0.100862585, -0.22538413, -0.57502294, -0.4017992, -0.13466443, -1.3931654E-5, 0.27636647, 0.24100536, 0.023852222, 0.1352382, 0.12939171, 0.9492675, -0.21943717, 0.64644754, 0.071298756, 0.29794818, 0.5649353, 0.39164838, 0.16548155, 0.34409946, 0.09610746, -0.21212064, -0.6182781, 0.3818291, -0.25804773, 0.8974442, 0.095830195, 0.81500125, -0.59617895, 0.5482895, 0.7936182, -0.3614266, 0.07934109, -0.39873803, 0.08884681, 0.23112467, -1.1937006, -0.3374857, -0.32601544, 0.4383747, 0.41101068, 0.45979765, -0.86058086, -0.49968338, -0.19770044, -0.05173648, -0.8687679, 0.14168051, 0.24240905, 0.5190437, -1.3513286, 0.16163555, -0.44451764, -1.1243182, 0.082819566, -0.1743035, 0.6046764, -0.15137295, 0.014954435, -0.49802577, 0.40655482, -0.57484365, -0.123695485, -0.09392125, 0.34522098, 0.775979, -0.28508127, -0.5392886, 0.3877195, -0.7736723, -0.292806, 0.41725048, -0.027048916, -0.5460255, -0.48811045, -0.13221031, -0.888249, 0.4797998, 1.1839463, 0.2540885, -0.9353684, 0.28788403, -0.27574438, -0.21769416, 0.09531362, 0.4320661, -0.02067773, -0.41149053, -0.3014357, -0.20658079, 0.04270378, 0.29588735, 0.081012174, -0.25218844, 0.13287048, 0.35341126, 1.0036011, -0.22212467, -0.2993092, -0.58354783, -0.13062401, -0.15330967, -0.059908286, 0.07831079, -0.07890791, -0.21475674, -1.3063071, 0.2656371, 0.6721964, 0.12983099, 0.25583997, -0.39992982, 1.0231013, -0.095160015, 0.6704766, 0.21203373, -0.49856764, -0.28384808, 0.11933887, 0.14047267, -0.008917622, -0.5075208, -0.062234502, -0.10274799, -0.48832643, -0.244848, 0.0771662, 0.08333354]                                                                                                                                |\n",
            "+------------+----------------------------------------------------------------------------------------------------------------------------------------------------------------------------------------------------------------------------------------------------------------------------------------------------------------------------------------------------------------------------------------------------------------------------------------------------------------------------------------------------------------------------------------------------------------------------------------------------------------------------------------------------------------------------------------------------------------------------------------------------------------------------------------------------------------------------------------------------------------------------------------------------------------------------------------------------------------------------------------------------------------------------------------------------------------------------------------------------------------------------------------------------------------------------------------------------------------------------------------------------------------------------------------------------------------------------------------------------------------------------------------------------------------------------------------------------------------------------------------------------------------------------------------------------------------------------------------------------------------------------------------------------------------------------------------------------------------------------------------------------------------------------------------------------------------------------------------------------------------------------------------------------------------------------------------------------------------------------------------------------------------------------------------------------------------------------------------------------------------------------------------------------------------------------------------------------------------------------------------------------------------------------------------------------------------------------------------------------------------------------------------------------------------------------------------------------------------------------------------------------------------------------------------------------------------------------------------------------------------------------------------------------------------------------------------------------------------------------------------------------------------------------------------------------------------------------------------------------------------------------------------------------------------------------------------------------------------------------------------------------------------------------------------------------------------------------------------------------------------------------------------------------------------------------------------------------------------------------------------------------------------------------------------------------------------------------------------------------------------------------------------------------------------------------------------------------------------------------------------------------------------------------------------------------------------------------------------------------------------------------------------------------------------------------------------------------------------------------------------------------------------------------------------------------------------------------------------------------------------------------------------------------------------------------------------------------------------------------------------------------------------------------------------------------------------------------------------------------------------------------------------------------------------------------------------------------------------------------------------------------------------------------------------------------------------------------------------------------------------------------------------------------------------------------------------------------------------------------------------------------------------------------------------------------------------------------------------------------------------------------------------------------------------------------------------------------------------------------------------------------------------------------------------------------------------------------------------------------------------------------------------------------------------------------------------------------------------------------------------------------------------------------------------------------------------------------------------------------------------------------------------------------------------------------------------------------------------------------------------------------------------------------------------------------------------------------------------------------------------------------------------------------------------------------------------------------------------------------------------------------------------------------------------------------------------------------------------------------------------------------------------------------------------------------------------------------------------------------------------------------------------------------------------------------------------------------------------------------------------------------------------------------------------------------------------------------------------------------------------------------------------------------------------------------------------------------------------------------------------------------------------------------------------------------------------------------------------------------------------------------------------------------------------------------------------------------------------------------------------------------------------------------------------------------------------------------------------------------------------------------------------------------------------------------------------------------------------------------------------------------------------------------------------------------------------------------------------------------------------------------------------------------------------------------------------------------------------------------------------------------------------------------------------------------------------------------------------------------------------------------------------------------------------------------------------------------------------------------------------------------------------------------------------------------------------------------------------------------------------------------------------------------------------------------------------------------------------------------------------------------------------------------------------------------------------------------------------------------------------------------------------------------------------------------------------------------------------------------------------------------------------------------------------------------------------------------------------------------------------------------------------------------------------------------------------------------------------------------------------------------------------------------------------------------------------------------------------------------------------------------------------------------------------------------------------------------------------------------------------------------------------------------------------------------------------------------------------------------------------------------------------------------------------------------------------------------------------------------------------------------------------------------------------------------------------------------------------------------------------------------------------------------------------------------------------------------------------------------------------------------------------------------------------------------------------------------------------------------------------------------------------------------------------------------------------------------------------------------------------------------------------------------------------------------------------------------------------------------------------------------------------------------------------------------------------------------------------------------------------------------------------------------------------------------------------------------------------------------------------------------------------------------------------------------------------------------------------------------------------------------------------------------------------------------------------------------------------------------------------------------------------------------------------------------------------------------------------------------------------------------------------------------------------------------------------------------------------------------------------------------------------------------------------------------------------------------------------------------------------------------------------------------------------+\n",
            "only showing top 7 rows\n",
            "\n"
          ]
        }
      ]
    },
    {
      "cell_type": "code",
      "metadata": {
        "id": "EkBDb8j_TrgK"
      },
      "source": [
        "entities = ['parent firm', 'economy', 'amino acids']\n",
        "with open(\"entities.txt\" , \"w\") as f:\n",
        "  for i in entities:\n",
        "    f.write(i+ \"\\n\")\n"
      ],
      "execution_count": null,
      "outputs": []
    },
    {
      "cell_type": "code",
      "metadata": {
        "id": "cDHyXFP2TrXm"
      },
      "source": [
        "documentAssembler= DocumentAssembler()\\\n",
        "    .setInputCol(\"text\")\\\n",
        "    .setOutputCol(\"document\")\n",
        "\n",
        "tokenizer= Tokenizer()\\\n",
        "    .setInputCols([\"document\"])\\\n",
        "    .setOutputCol(\"token\")\n",
        "\n",
        "entity_extractor= TextMatcher()\\\n",
        "    .setInputCols([\"document\", \"token\"])\\\n",
        "    .setOutputCol(\"entities\")\\\n",
        "    .setCaseSensitive(False)\\\n",
        "    .setEntities(\"entities.txt\")\\\n",
        "    .setEntityValue(\"entities\")"
      ],
      "execution_count": null,
      "outputs": []
    },
    {
      "cell_type": "code",
      "metadata": {
        "id": "UjCeprhEV83r"
      },
      "source": [
        "nlpPipeline= Pipeline(stages=[ \n",
        "                              documentAssembler,\n",
        "                              tokenizer,\n",
        "                              entity_extractor\n",
        "])\n",
        "\n",
        "empty_df= spark.createDataFrame([[\" \"]]).toDF(\"text\")\n",
        "model= nlpPipeline.fit(empty_df)\n",
        "result= model.transform(news_df.limit(10))"
      ],
      "execution_count": null,
      "outputs": []
    },
    {
      "cell_type": "code",
      "metadata": {
        "colab": {
          "base_uri": "https://localhost:8080/"
        },
        "id": "tpTCUo3UWmmB",
        "outputId": "0debf904-0b03-4674-e2f3-46718ac5908a"
      },
      "source": [
        "result.show(5, truncate=20)"
      ],
      "execution_count": null,
      "outputs": [
        {
          "output_type": "stream",
          "name": "stdout",
          "text": [
            "+--------+--------------------+--------------------+--------------------+--------------------+\n",
            "|category|                text|            document|               token|            entities|\n",
            "+--------+--------------------+--------------------+--------------------+--------------------+\n",
            "|Business|Unions representi...|[[document, 0, 12...|[[token, 0, 5, Un...|[[chunk, 101, 111...|\n",
            "|Sci/Tech| TORONTO, Canada ...|[[document, 0, 22...|[[token, 1, 7, TO...|                  []|\n",
            "|Sci/Tech| A company founde...|[[document, 0, 20...|[[token, 1, 1, A,...|[[chunk, 165, 175...|\n",
            "|Sci/Tech| It's barely dawn...|[[document, 0, 26...|[[token, 1, 4, It...|                  []|\n",
            "|Sci/Tech| Southern Califor...|[[document, 0, 17...|[[token, 1, 8, So...|                  []|\n",
            "+--------+--------------------+--------------------+--------------------+--------------------+\n",
            "only showing top 5 rows\n",
            "\n"
          ]
        }
      ]
    },
    {
      "cell_type": "code",
      "metadata": {
        "colab": {
          "base_uri": "https://localhost:8080/"
        },
        "id": "yooWgVYbXBGb",
        "outputId": "0e81afe7-716b-4bf7-c0c6-4769579d9d4a"
      },
      "source": [
        "result.select(\"text\",\"entities.result\").show(3, truncate=False)"
      ],
      "execution_count": null,
      "outputs": [
        {
          "output_type": "stream",
          "name": "stdout",
          "text": [
            "+-------------------------------------------------------------------------------------------------------------------------------------------------------------------------------------------------------------------------------+-------------+\n",
            "|text                                                                                                                                                                                                                           |result       |\n",
            "+-------------------------------------------------------------------------------------------------------------------------------------------------------------------------------------------------------------------------------+-------------+\n",
            "|Unions representing workers at Turner   Newall say they are 'disappointed' after talks with stricken parent firm Federal Mogul.                                                                                                |[parent firm]|\n",
            "| TORONTO, Canada    A second team of rocketeers competing for the  #36;10 million Ansari X Prize, a contest for privately funded suborbital space flight, has officially announced the first launch date for its manned rocket.|[]           |\n",
            "| A company founded by a chemistry researcher at the University of Louisville won a grant to develop a method of producing better peptides, which are short chains of amino acids, the building blocks of proteins.             |[amino acids]|\n",
            "+-------------------------------------------------------------------------------------------------------------------------------------------------------------------------------------------------------------------------------+-------------+\n",
            "only showing top 3 rows\n",
            "\n"
          ]
        }
      ]
    },
    {
      "cell_type": "markdown",
      "metadata": {
        "id": "_yp6ba56X8-N"
      },
      "source": [
        "### Chunk Embedding"
      ]
    },
    {
      "cell_type": "code",
      "metadata": {
        "colab": {
          "base_uri": "https://localhost:8080/"
        },
        "id": "tX7afQR_XA7y",
        "outputId": "6f09fdae-37ea-43e9-e2b6-747f2451711f"
      },
      "source": [
        "word_embedding= WordEmbeddingsModel.pretrained(\"glove_100d\")\\\n",
        "    .setInputCols([\"document\", \"token\"])\\\n",
        "    .setOutputCol(\"word_embedding\")\n",
        "\n",
        "chunk_embedding= ChunkEmbeddings()\\\n",
        "    .setInputCols([\"entities\",\"word_embedding\"])\\\n",
        "    .setOutputCol(\"chunk_embedding\")\\\n",
        "    .setPoolingStrategy(\"Average\") #other option is: sum"
      ],
      "execution_count": null,
      "outputs": [
        {
          "output_type": "stream",
          "name": "stdout",
          "text": [
            "glove_100d download started this may take some time.\n",
            "Approximate size to download 145.3 MB\n",
            "[OK!]\n"
          ]
        }
      ]
    },
    {
      "cell_type": "code",
      "metadata": {
        "id": "cC3sZoHvXAxp"
      },
      "source": [
        "pipeline= Pipeline(stages=[ \n",
        "                           documentAssembler, \n",
        "                           tokenizer,\n",
        "                           entity_extractor,\n",
        "                           word_embedding,\n",
        "                           chunk_embedding\n",
        "])\n",
        "\n",
        "pipelineModel= pipeline.fit(empty_df)\n",
        "result= pipelineModel.transform(news_df.limit(10))"
      ],
      "execution_count": null,
      "outputs": []
    },
    {
      "cell_type": "code",
      "metadata": {
        "colab": {
          "base_uri": "https://localhost:8080/"
        },
        "id": "WKbmHlRAXo8J",
        "outputId": "407d30b0-6bff-40a0-a65c-db336201f007"
      },
      "source": [
        "result.show(5, truncate=20)"
      ],
      "execution_count": null,
      "outputs": [
        {
          "output_type": "stream",
          "name": "stdout",
          "text": [
            "+--------+--------------------+--------------------+--------------------+--------------------+--------------------+--------------------+\n",
            "|category|                text|            document|               token|            entities|      word_embedding|     chunk_embedding|\n",
            "+--------+--------------------+--------------------+--------------------+--------------------+--------------------+--------------------+\n",
            "|Business|Unions representi...|[[document, 0, 12...|[[token, 0, 5, Un...|[[chunk, 101, 111...|[[word_embeddings...|[[word_embeddings...|\n",
            "|Sci/Tech| TORONTO, Canada ...|[[document, 0, 22...|[[token, 1, 7, TO...|                  []|[[word_embeddings...|                  []|\n",
            "|Sci/Tech| A company founde...|[[document, 0, 20...|[[token, 1, 1, A,...|[[chunk, 165, 175...|[[word_embeddings...|[[word_embeddings...|\n",
            "|Sci/Tech| It's barely dawn...|[[document, 0, 26...|[[token, 1, 4, It...|                  []|[[word_embeddings...|                  []|\n",
            "|Sci/Tech| Southern Califor...|[[document, 0, 17...|[[token, 1, 8, So...|                  []|[[word_embeddings...|                  []|\n",
            "+--------+--------------------+--------------------+--------------------+--------------------+--------------------+--------------------+\n",
            "only showing top 5 rows\n",
            "\n"
          ]
        }
      ]
    },
    {
      "cell_type": "code",
      "metadata": {
        "colab": {
          "base_uri": "https://localhost:8080/"
        },
        "id": "Hvm2Br3tXox2",
        "outputId": "460515ee-a029-40ac-d9bc-c71f26a04e85"
      },
      "source": [
        "result.select(F.explode(F.arrays_zip(\"entities.result\" ,\"chunk_embedding.embeddings\")).alias(\"col\"))\\\n",
        "    .select(F.expr(\"col['0']\").alias(\"entities\"),\n",
        "            F.expr(\"col['1']\").alias(\"chunk_embeddings\")).show()"
      ],
      "execution_count": null,
      "outputs": [
        {
          "output_type": "stream",
          "name": "stdout",
          "text": [
            "+-----------+--------------------+\n",
            "|   entities|    chunk_embeddings|\n",
            "+-----------+--------------------+\n",
            "|parent firm|[0.45683652, -0.1...|\n",
            "|amino acids|[-0.3861, 0.05440...|\n",
            "+-----------+--------------------+\n",
            "\n"
          ]
        }
      ]
    },
    {
      "cell_type": "code",
      "metadata": {
        "colab": {
          "base_uri": "https://localhost:8080/"
        },
        "id": "d8Fe2BJ4dtXX",
        "outputId": "938760c3-c2bd-41b6-eaec-8588f371d254"
      },
      "source": [
        "!cd ~/cache_pretrained && pwd"
      ],
      "execution_count": null,
      "outputs": [
        {
          "output_type": "stream",
          "name": "stdout",
          "text": [
            "/root/cache_pretrained\n"
          ]
        }
      ]
    },
    {
      "cell_type": "code",
      "metadata": {
        "colab": {
          "base_uri": "https://localhost:8080/"
        },
        "id": "uBFpgUDLdzeM",
        "outputId": "2637bd11-61d0-41e8-b137-54a4ab7b5658"
      },
      "source": [
        "!cd ~/cache_pretrained && ls -1"
      ],
      "execution_count": null,
      "outputs": [
        {
          "output_type": "stream",
          "name": "stdout",
          "text": [
            "glove_100d_en_2.4.0_2.4_1579690104032\n",
            "lemma_antbnc_en_2.0.2_2.4_1556480454569\n"
          ]
        }
      ]
    },
    {
      "cell_type": "markdown",
      "metadata": {
        "id": "18LxD_dmd607"
      },
      "source": [
        "## Loading Models From Local"
      ]
    },
    {
      "cell_type": "code",
      "metadata": {
        "id": "t5_e-FWud38l"
      },
      "source": [
        "word_embedding= WordEmbeddingsModel.load(\"/root/cache_pretrained/glove_100d_en_2.4.0_2.4_1579690104032\")\\\n",
        "    .setInputCols([\"document\", \"token\"])\\\n",
        "    .setOutputCol(\"glove_embedding\")"
      ],
      "execution_count": null,
      "outputs": []
    },
    {
      "cell_type": "code",
      "metadata": {
        "colab": {
          "base_uri": "https://localhost:8080/"
        },
        "id": "PyMOIc6bd-91",
        "outputId": "cad0ad81-2b8e-4e6b-8432-81d05a436013"
      },
      "source": [
        "use= UniversalSentenceEncoder.pretrained(\"tfhub_use\", \"en\")\\\n",
        "    .setInputCols([\"document\"])\\\n",
        "    .setOutputCol(\"sentence_embeddings\")"
      ],
      "execution_count": null,
      "outputs": [
        {
          "output_type": "stream",
          "name": "stdout",
          "text": [
            "tfhub_use download started this may take some time.\n",
            "Approximate size to download 923.7 MB\n",
            "[OK!]\n"
          ]
        }
      ]
    },
    {
      "cell_type": "code",
      "metadata": {
        "id": "g2HmoL5Yd-zd"
      },
      "source": [
        "pipeline= Pipeline(stages=[ \n",
        "                           documentAssembler,\n",
        "                           use\n",
        "])\n",
        "model= pipeline.fit(empty_df)\n",
        "result= model.transform(news_df.limit(10))"
      ],
      "execution_count": null,
      "outputs": []
    },
    {
      "cell_type": "code",
      "metadata": {
        "colab": {
          "base_uri": "https://localhost:8080/"
        },
        "id": "rLyWQVjDd-pW",
        "outputId": "266ead68-fadc-4343-ac65-d60fcf493585"
      },
      "source": [
        "result.show(truncate=50)"
      ],
      "execution_count": null,
      "outputs": [
        {
          "output_type": "stream",
          "name": "stdout",
          "text": [
            "+--------+--------------------------------------------------+--------------------------------------------------+--------------------------------------------------+\n",
            "|category|                                              text|                                          document|                               sentence_embeddings|\n",
            "+--------+--------------------------------------------------+--------------------------------------------------+--------------------------------------------------+\n",
            "|Business|Unions representing workers at Turner   Newall ...|[[document, 0, 126, Unions representing workers...|[[sentence_embeddings, 0, 126, Unions represent...|\n",
            "|Sci/Tech| TORONTO, Canada    A second team of rocketeers...|[[document, 0, 222,  TORONTO, Canada    A secon...|[[sentence_embeddings, 0, 222,  TORONTO, Canada...|\n",
            "|Sci/Tech| A company founded by a chemistry researcher at...|[[document, 0, 209,  A company founded by a che...|[[sentence_embeddings, 0, 209,  A company found...|\n",
            "|Sci/Tech| It's barely dawn when Mike Fitzpatrick starts ...|[[document, 0, 267,  It's barely dawn when Mike...|[[sentence_embeddings, 0, 267,  It's barely daw...|\n",
            "|Sci/Tech| Southern California's smog fighting agency wen...|[[document, 0, 174,  Southern California's smog...|[[sentence_embeddings, 0, 174,  Southern Califo...|\n",
            "|Sci/Tech|\"The British Department for Education and Skill...|[[document, 0, 103, \"The British Department for...|[[sentence_embeddings, 0, 103, \"The British Dep...|\n",
            "|Sci/Tech|\"confessed author of the Netsky and Sasser viru...|[[document, 0, 347, \"confessed author of the Ne...|[[sentence_embeddings, 0, 347, \"confessed autho...|\n",
            "|Sci/Tech|\\\\FOAF/LOAF  and bloom filters have a lot of in...|[[document, 0, 707, \\\\FOAF/LOAF  and bloom filt...|[[sentence_embeddings, 0, 707, \\\\FOAF/LOAF  and...|\n",
            "|Sci/Tech|\"Wiltshire Police warns about \"\"phishing\"\" afte...|[[document, 0, 84, \"Wiltshire Police warns abou...|[[sentence_embeddings, 0, 84, \"Wiltshire Police...|\n",
            "|Sci/Tech|In its first two years, the UK's dedicated card...|[[document, 0, 138, In its first two years, the...|[[sentence_embeddings, 0, 138, In its first two...|\n",
            "+--------+--------------------------------------------------+--------------------------------------------------+--------------------------------------------------+\n",
            "\n"
          ]
        }
      ]
    },
    {
      "cell_type": "code",
      "metadata": {
        "colab": {
          "base_uri": "https://localhost:8080/"
        },
        "id": "xGTg5V8gd-fM",
        "outputId": "ec433227-6d22-4972-be0c-6f94a8383183"
      },
      "source": [
        "result.select(F.explode(F.arrays_zip(\"document.result\",\"sentence_embeddings.embeddings\")).alias(\"col\"))\\\n",
        "      .select(F.expr(\"col['0']\").alias(\"document\"),\n",
        "              F.expr(\"col['1']\").alias(\"use_embedding\")).show(2,truncate=180)"
      ],
      "execution_count": null,
      "outputs": [
        {
          "output_type": "stream",
          "name": "stdout",
          "text": [
            "+------------------------------------------------------------------------------------------------------------------------------------------------------------------------------------+------------------------------------------------------------------------------------------------------------------------------------------------------------------------------------+\n",
            "|                                                                                                                                                                            document|                                                                                                                                                                       use_embedding|\n",
            "+------------------------------------------------------------------------------------------------------------------------------------------------------------------------------------+------------------------------------------------------------------------------------------------------------------------------------------------------------------------------------+\n",
            "|                                                     Unions representing workers at Turner   Newall say they are 'disappointed' after talks with stricken parent firm Federal Mogul.|[0.012997539, 0.019844761, -0.024626467, 0.03975907, -0.044246465, 0.013197569, 0.07867439, -0.053629737, -0.07394181, -0.07448389, -0.008125173, 0.06666046, 0.031745687, -0.066...|\n",
            "| TORONTO, Canada    A second team of rocketeers competing for the  #36;10 million Ansari X Prize, a contest for privately funded suborbital space flight, has officially announce...|[0.0019999046, 0.051844068, -0.044029105, -5.9327687E-4, -0.038506, -0.027279453, 0.06940469, -0.03944839, -0.03815276, 0.06209132, 0.016897079, 0.071814306, -0.04972119, -0.054...|\n",
            "+------------------------------------------------------------------------------------------------------------------------------------------------------------------------------------+------------------------------------------------------------------------------------------------------------------------------------------------------------------------------------+\n",
            "only showing top 2 rows\n",
            "\n"
          ]
        }
      ]
    },
    {
      "cell_type": "code",
      "metadata": {
        "colab": {
          "base_uri": "https://localhost:8080/"
        },
        "id": "q59qtL4lgDXA",
        "outputId": "5db8a9bf-7971-4eeb-bf49-c6d853f3cf16"
      },
      "source": [
        "spark_df= spark.read.text(\"/content/example_text.txt\").toDF(\"text\")\n",
        "spark_df.show(truncate=False)"
      ],
      "execution_count": null,
      "outputs": [
        {
          "output_type": "stream",
          "name": "stdout",
          "text": [
            "+-------------------------------------------------------+\n",
            "|text                                                   |\n",
            "+-------------------------------------------------------+\n",
            "|YASAMAK SAKAYA GELMEZ,                                 |\n",
            "|BÜYÜK BİR CİDDİYETLE YASAYACAKSIN.                     |\n",
            "|BİR SİNCAP GİBİ MESELA,                                |\n",
            "|YANI, YASAMIN DIŞINDA VE ÖTESİNDE HİÇBİR ŞEY BEKLEMEDEN|\n",
            "|YANI, BÜTÜN İŞİN GÜCÜN YASAMAK OLACAK.                 |\n",
            "+-------------------------------------------------------+\n",
            "\n"
          ]
        }
      ]
    },
    {
      "cell_type": "code",
      "metadata": {
        "colab": {
          "base_uri": "https://localhost:8080/"
        },
        "id": "KhM_y75BgDMe",
        "outputId": "93bfff99-10d0-461f-e82e-d9bc4192f3c3"
      },
      "source": [
        "result_1= model.transform(spark_df)\n",
        "result_1.show()"
      ],
      "execution_count": null,
      "outputs": [
        {
          "output_type": "stream",
          "name": "stdout",
          "text": [
            "+--------------------+--------------------+--------------------+\n",
            "|                text|            document| sentence_embeddings|\n",
            "+--------------------+--------------------+--------------------+\n",
            "|YASAMAK SAKAYA GE...|[[document, 0, 21...|[[sentence_embedd...|\n",
            "|BÜYÜK BİR CİDDİYE...|[[document, 0, 33...|[[sentence_embedd...|\n",
            "|BİR SİNCAP GİBİ M...|[[document, 0, 22...|[[sentence_embedd...|\n",
            "|YANI, YASAMIN DIŞ...|[[document, 0, 54...|[[sentence_embedd...|\n",
            "|YANI, BÜTÜN İŞİN ...|[[document, 0, 37...|[[sentence_embedd...|\n",
            "+--------------------+--------------------+--------------------+\n",
            "\n"
          ]
        }
      ]
    },
    {
      "cell_type": "code",
      "metadata": {
        "colab": {
          "base_uri": "https://localhost:8080/"
        },
        "id": "AX3MrOvkgDA8",
        "outputId": "7981f686-c58a-453f-8409-47c7b6035d28"
      },
      "source": [
        "result_1.select(F.explode(F.arrays_zip(\"document.result\" ,\"sentence_embeddings.embeddings\")).alias())\\\n",
        "    .select(F.expr(\"col['0']\").alias(\"document\"),\n",
        "            F.expr(\"col['1']\").alias(\"sentence_embedding\")).show(truncate=False)"
      ],
      "execution_count": null,
      "outputs": [
        {
          "output_type": "stream",
          "name": "stdout",
          "text": [
            "+-------------------------------------------------------+--------------------------------------------------------------------------------------------------------------------------------------------------------------------------------------------------------------------------------------------------------------------------------------------------------------------------------------------------------------------------------------------------------------------------------------------------------------------------------------------------------------------------------------------------------------------------------------------------------------------------------------------------------------------------------------------------------------------------------------------------------------------------------------------------------------------------------------------------------------------------------------------------------------------------------------------------------------------------------------------------------------------------------------------------------------------------------------------------------------------------------------------------------------------------------------------------------------------------------------------------------------------------------------------------------------------------------------------------------------------------------------------------------------------------------------------------------------------------------------------------------------------------------------------------------------------------------------------------------------------------------------------------------------------------------------------------------------------------------------------------------------------------------------------------------------------------------------------------------------------------------------------------------------------------------------------------------------------------------------------------------------------------------------------------------------------------------------------------------------------------------------------------------------------------------------------------------------------------------------------------------------------------------------------------------------------------------------------------------------------------------------------------------------------------------------------------------------------------------------------------------------------------------------------------------------------------------------------------------------------------------------------------------------------------------------------------------------------------------------------------------------------------------------------------------------------------------------------------------------------------------------------------------------------------------------------------------------------------------------------------------------------------------------------------------------------------------------------------------------------------------------------------------------------------------------------------------------------------------------------------------------------------------------------------------------------------------------------------------------------------------------------------------------------------------------------------------------------------------------------------------------------------------------------------------------------------------------------------------------------------------------------------------------------------------------------------------------------------------------------------------------------------------------------------------------------------------------------------------------------------------------------------------------------------------------------------------------------------------------------------------------------------------------------------------------------------------------------------------------------------------------------------------------------------------------------------------------------------------------------------------------------------------------------------------------------------------------------------------------------------------------------------------------------------------------------------------------------------------------------------------------------------------------------------------------------------------------------------------------------------------------------------------------------------------------------------------------------------------------------------------------------------------------------------------------------------------------------------------------------------------------------------------------------------------------------------------------------------------------------------------------------------------------------------------------------------------------------------------------------------------------------------------------------------------------------------------------------------------------------------------------------------------------------------------------------------------------------------------------------------------------------------------------------------------------------------------------------------------------------------------------------------------------------------------------------------------------------------------------------------------------------------------------------------------------------------------------------------------------------------------------------------------------------------------------------------------------------------------------------------------------------------------------------------------------------------------------------------------------------------------------------------------------------------------------------------------------------------------------------------------------------------------------------------------------------------------------------------------------------------------------------------------------------------------------------------------------------------------------------------------------------------------------------------------------------------------------------------------------------------------------------------------------------------------------------------------------------------------------------------------------------------------------------------------------------------------------------------------------------------------------------------------------------------------------------------------------------------------------------------------------------------------------------------------------------------------------------------------------------------------------------------------------------------------------------------------------+\n",
            "|document                                               |sentence_embedding                                                                                                                                                                                                                                                                                                                                                                                                                                                                                                                                                                                                                                                                                                                                                                                                                                                                                                                                                                                                                                                                                                                                                                                                                                                                                                                                                                                                                                                                                                                                                                                                                                                                                                                                                                                                                                                                                                                                                                                                                                                                                                                                                                                                                                                                                                                                                                                                                                                                                                                                                                                                                                                                                                                                                                                                                                                                                                                                                                                                                                                                                                                                                                                                                                                                                                                                                                                                                                                                                                                                                                                                                                                                                                                                                                                                                                                                                                                                                                                                                                                                                                                                                                                                                                                                                                                                                                                                                                                                                                                                                                                                                                                                                                                                                                                                                                                                                                                                                                                                                                                                                                                                                                                                                                                                                                                                                                                                                                                                                                                                                                                                                                                                                                                                                                                                                                                                                                                                                                                                                                                                                                                                                                                                                                                                                                                                                                                                                                                                                                                                                                                                                                                                                                                                                                                                                                                                                                                                                                                                                                                                    |\n",
            "+-------------------------------------------------------+--------------------------------------------------------------------------------------------------------------------------------------------------------------------------------------------------------------------------------------------------------------------------------------------------------------------------------------------------------------------------------------------------------------------------------------------------------------------------------------------------------------------------------------------------------------------------------------------------------------------------------------------------------------------------------------------------------------------------------------------------------------------------------------------------------------------------------------------------------------------------------------------------------------------------------------------------------------------------------------------------------------------------------------------------------------------------------------------------------------------------------------------------------------------------------------------------------------------------------------------------------------------------------------------------------------------------------------------------------------------------------------------------------------------------------------------------------------------------------------------------------------------------------------------------------------------------------------------------------------------------------------------------------------------------------------------------------------------------------------------------------------------------------------------------------------------------------------------------------------------------------------------------------------------------------------------------------------------------------------------------------------------------------------------------------------------------------------------------------------------------------------------------------------------------------------------------------------------------------------------------------------------------------------------------------------------------------------------------------------------------------------------------------------------------------------------------------------------------------------------------------------------------------------------------------------------------------------------------------------------------------------------------------------------------------------------------------------------------------------------------------------------------------------------------------------------------------------------------------------------------------------------------------------------------------------------------------------------------------------------------------------------------------------------------------------------------------------------------------------------------------------------------------------------------------------------------------------------------------------------------------------------------------------------------------------------------------------------------------------------------------------------------------------------------------------------------------------------------------------------------------------------------------------------------------------------------------------------------------------------------------------------------------------------------------------------------------------------------------------------------------------------------------------------------------------------------------------------------------------------------------------------------------------------------------------------------------------------------------------------------------------------------------------------------------------------------------------------------------------------------------------------------------------------------------------------------------------------------------------------------------------------------------------------------------------------------------------------------------------------------------------------------------------------------------------------------------------------------------------------------------------------------------------------------------------------------------------------------------------------------------------------------------------------------------------------------------------------------------------------------------------------------------------------------------------------------------------------------------------------------------------------------------------------------------------------------------------------------------------------------------------------------------------------------------------------------------------------------------------------------------------------------------------------------------------------------------------------------------------------------------------------------------------------------------------------------------------------------------------------------------------------------------------------------------------------------------------------------------------------------------------------------------------------------------------------------------------------------------------------------------------------------------------------------------------------------------------------------------------------------------------------------------------------------------------------------------------------------------------------------------------------------------------------------------------------------------------------------------------------------------------------------------------------------------------------------------------------------------------------------------------------------------------------------------------------------------------------------------------------------------------------------------------------------------------------------------------------------------------------------------------------------------------------------------------------------------------------------------------------------------------------------------------------------------------------------------------------------------------------------------------------------------------------------------------------------------------------------------------------------------------------------------------------------------------------------------------------------------------------------------------------------------------------------------------------------------------------------------------------------------------------------------------------------------------------------------------+\n",
            "|YASAMAK SAKAYA GELMEZ,                                 |[0.045061603, 0.030038202, -0.051180936, 0.08756814, 0.03776603, 0.057298794, -0.051245693, -0.06171012, -0.07978126, 0.029424872, -0.018209428, -0.04730352, -0.017614618, -0.028171476, -0.04654185, 0.011955519, 0.021523634, 0.018405844, -0.01984131, -0.041775767, -0.066456065, 0.054877724, -0.07848345, -0.060870476, -0.047759026, 0.0311955, -0.05432128, -0.07559708, -0.04864831, 0.04136544, -0.03747715, 0.036157954, -0.06438243, 0.0300512, -0.0019961358, 0.01642445, 0.005543266, 0.066620015, 0.07368763, -0.02320745, 0.04099938, 3.104788E-4, 0.03174777, 0.04429253, 0.011295711, 0.028290888, -0.060573902, 0.006978366, 0.015184045, 0.009910441, 0.027281942, 0.012619627, -0.006947958, -0.06555049, 0.08662512, -0.049989697, 0.017492201, -0.07055624, -0.048301317, -0.001630719, 0.028839685, -0.08197907, 0.03874772, 0.00961795, 0.057645604, -0.054826263, 0.0483197, 0.078409225, 0.0024452123, 0.02603085, 0.058791224, -0.023887508, -0.06980408, -0.04790687, 0.011676162, 0.024108516, -0.024347043, 0.057990078, -0.03492757, -0.05525283, 0.0124714, -0.05823245, 0.0077169086, -0.0663731, 0.013590996, 0.049414326, 0.0011571826, -0.003413505, 0.04417957, -0.112268604, 0.07079415, 0.032979365, 0.015939431, -0.03379745, -0.010876305, 0.0053566378, -0.0789174, -0.015591545, 0.05371075, -0.007850031, 0.07099177, -0.005824172, -0.043755166, 0.020448437, 0.042194847, 0.0132998945, 0.033074815, -0.031472087, -0.024669081, -0.034368347, -0.035955437, 0.055108763, 0.06595279, -0.009383872, -0.033772048, -0.021750707, -0.02203228, -0.12017935, 0.01944059, -0.02793449, 0.0039900905, 0.008450992, -0.04714479, 0.008889745, 0.05393644, -0.03132529, -0.018804511, -0.021153383, 0.030636998, -0.069715686, 0.027178803, 0.007337861, 0.012736181, 0.012694084, -0.033476204, -0.007882421, -0.0011353561, 0.010376725, 0.10026915, -0.002809452, -0.018956697, 0.013657523, -0.07064398, 0.038164176, -0.029144153, 0.012736228, -0.048259187, -0.021662315, -0.018075908, -0.05598693, 0.019783733, -0.070949145, 0.04136033, -0.06340322, 0.0017700027, 0.03553059, -0.011406246, -0.049191546, 0.022734461, -0.050283574, -0.10816519, -0.022936547, -0.011875563, 0.00238104, -0.029479252, -0.06681773, -0.08093847, -0.0054645715, -0.011047839, -0.038940754, 0.0031402505, 0.036897264, -0.051168963, 0.058293633, 0.0782166, 0.013730225, 0.035585955, 0.042983647, -0.062101565, 0.013767228, -0.046443872, 0.007428284, 0.050969828, -0.037926346, 0.057314023, 0.01560761, -0.031667933, 0.010273718, 0.0022220735, 0.040263962, 0.04897632, 0.018239543, 0.06318639, -0.08299094, 0.024973508, -0.104886465, 0.025355157, -0.04693193, -0.0288197, -0.035697684, 0.012901319, -0.01216511, 0.030117149, 0.03241183, -0.03548575, -0.027822986, 0.009937375, 0.0448048, -0.061675068, 0.031544097, 0.078047685, 0.046467613, 0.01017851, 0.022388453, -0.051240314, -0.034630377, 0.012437519, 0.0075664422, -0.04310726, 0.076630585, 0.044722203, -0.0065117646, -0.009203588, -0.013937313, -0.021493949, 0.03563735, 0.056111317, -0.05017969, -0.023174124, 0.028809119, -0.022581968, 0.04684423, -0.017132152, 0.049474813, 0.04057762, 0.062811576, 0.0048305714, -0.007426846, 0.041598223, -0.061238073, 0.056893114, -0.022678439, -0.022466129, -0.030195888, 0.05032787, -0.053426567, -0.04597558, 0.0451702, -0.030840578, -0.0053375126, -0.0028663485, 0.030572642, 0.029237043, -0.022689722, 0.021960529, 0.014306828, 0.058980484, 0.026512263, -0.028941806, 0.047351718, -0.036464885, -2.775097E-4, -0.056690272, 0.019407455, -0.018501366, 0.006984574, 0.0061167283, -0.027340118, -0.026870688, -0.003795572, 0.044426564, 0.04570875, -0.0766066, 9.683076E-4, -0.064405285, -0.016409297, 0.06671964, 0.017297387, -0.009108746, -0.059212882, -0.0033968925, 0.0053280788, -0.039600883, -0.031696852, -0.04783243, 0.01833761, 0.009686843, 0.02484386, 0.061028864, 0.037178356, 0.00971415, -0.069194324, 0.07566643, -0.05261013, 0.009265561, 0.017637955, 0.039143033, 0.027319025, -0.02420824, -0.06550201, -0.00966804, -0.03947302, -0.004747118, 0.037857138, 0.090596385, 0.02396172, 0.08628767, 0.041156325, 0.015799124, 0.033726286, 0.07492403, -0.0055651027, 0.047355555, -0.066727616, -0.018109336, 0.033924177, 0.041043602, 0.05648843, -0.058349144, -0.0692349, 0.006853207, -0.022757227, 0.0565399, 0.012811022, 0.0058823745, 0.07126072, -0.030500695, -0.04920713, 0.076040275, -0.009534601, -0.029271834, -0.022284117, 0.0051326035, 0.013420695, -0.02522703, 0.05329745, 0.053606555, 0.043145888, 0.0013666443, -0.102078356, -0.07318191, 0.030049382, -0.031237645, 0.039652545, -0.005260191, 0.06925927, -0.060618676, 0.098972686, 0.030589776, 0.036883026, -0.05675246, 0.015386326, 0.08502668, 0.06874727, -0.004096018, -0.0046791234, 0.034416903, 0.008879221, 0.0013175305, -0.05020307, -0.013333962, 0.027815897, -0.035032112, -0.0047360756, 0.025456812, 0.024684735, -0.023545638, 0.10733588, -0.04513611, 0.046288963, 0.023865528, -0.017962765, -0.007632176, -0.0051293327, 0.021333963, 0.05982148, 0.0010737852, -0.014129256, 0.03881636, 0.006147061, 9.7002985E-4, -0.044416364, 0.013503787, 0.031064808, -0.030152291, 0.0035992404, -0.0035238664, -0.01778379, -0.08495314, -0.048893552, -0.023813546, 0.050189517, 0.01078579, 2.78581E-4, 0.007259563, -0.019070886, -0.013437417, 0.0029968524, -0.014648334, 0.04087407, -0.026967468, -0.010003663, -0.07073035, -0.048264015, 0.06767862, 0.021307973, -0.03599551, -0.07435865, -0.0332151, 0.0024739075, -0.028501227, -0.022180457, -0.06658498, -0.0041847355, 0.047679625, -0.013005783, 0.042986643, -0.035287537, -3.9718568E-4, -0.04830709, -0.049801297, 0.003898255, 0.040749647, -0.06975031, 0.0125744315, 0.0012940805, 2.710838E-5, 1.1353992E-4, 0.088857144, -0.053976018, 0.071278185, 0.042169683, 0.07609971, 0.050168023, -0.049185034, 0.016598793, 0.029930623, -0.040894724, -0.027771153, -0.036394283, 0.023678336, -0.014793832, 0.0117175765, -0.018374264, -0.07343973, -0.012408416, 0.013331541, 0.024821684, 0.08815738, 0.0521118, 0.049799953, -0.04672199, -0.005375792, 0.062325407, 0.0653627, 0.016480474, 0.1025514, 0.08405182, -0.09471274, -0.046981707, -0.01304526, -0.0038611037, -0.013465633, -0.015382218, 0.06306224, -0.057863947, 0.0070423856, 0.003671876, 0.019799868, 0.08026518, 0.004716324, -0.05816164, -3.9887955E-4, 0.057731606, -0.021027906, 0.08498908, -0.09323108, 0.036698576, -0.0053127054, -0.036468413, -0.02369425, 0.02808918, -0.036669068, 0.044720996, -0.011988595, 0.04160913, 3.1232464E-4, -0.005696933, -0.09496619, 0.027096815, -0.043961823, -0.054020856, 0.053588334, -0.007004091, 0.05705426, -0.020382032, 0.09795809, -0.02621839, 0.04046444, 0.0079478165, 0.08869553, -0.11268227, -0.05380386, -0.03470776, 0.019667322, -0.0140003925, 0.026474023, -0.084410794, 0.086652085, -0.014429083, -0.11042828, -0.035003413]                            |\n",
            "|BÜYÜK BİR CİDDİYETLE YASAYACAKSIN.                     |[0.03944485, 0.04239422, -0.044493556, 0.057891373, 0.05229445, 0.0690126, -0.040099386, -0.04004262, -0.051130816, 0.024791395, -0.021278037, -0.0054452596, -0.048074797, 0.0598829, 0.01497879, -0.010104766, -0.052289885, 0.008853308, -0.004132115, -0.060983874, -0.038738873, 0.05277068, -0.06448524, -0.04326724, -0.06625954, -0.019642066, 0.0028798305, -0.08365794, -0.06313677, 0.023045912, 0.023336316, 0.036387734, -0.08956607, 0.006240993, 0.031333007, -0.0031858778, 0.025506034, -0.02739587, 0.013224507, -0.05806267, 0.0221449, 0.030350516, 0.029947938, 0.018940713, 0.017615454, 0.047869798, -0.07253779, 0.017409256, -0.049446, -3.9426744E-5, 0.045728896, 0.051892713, 0.0038606327, -0.057692807, 0.0738705, -0.039426856, -0.0063006594, -0.06997579, -0.0011203606, 0.0023684977, -0.0014046293, -0.028473787, -7.0245564E-4, -0.0077987243, -0.010110714, -0.03964994, 0.009729631, 0.075542755, 0.0036688265, -0.04734179, -0.06132931, 0.027189644, -0.01768838, -0.009713018, -0.017976042, -0.01640384, -0.017122727, -0.013338892, -0.0063827457, -0.035356253, -0.010966512, -0.047372047, 0.057469726, -0.0045906412, 0.022513013, 0.036992528, 0.07053391, -0.032490622, 0.044335745, -0.07310512, 0.08060339, 0.018063713, -0.06954077, -0.073763266, -0.026282787, -0.0055321017, -0.027022466, -0.017075222, 0.0192668, 0.047275834, -0.0031534776, -0.0037932661, -0.01986832, 0.03431299, 0.0066983723, 0.020234965, -0.019811358, -0.0028132782, 0.0014342034, -0.0110404305, -0.061721653, 0.04275829, 0.05310916, 0.015727779, -0.012578482, 0.03207348, 0.045979045, -0.10309708, 0.07070582, 0.04728931, -0.011151857, -0.05484203, -0.017076291, 0.017426075, 0.025173515, -0.03639232, -0.042279445, 0.024912007, 0.00797238, -0.019025533, -0.0073389993, -0.029999882, 0.04368727, -0.035429355, -0.023235645, -0.046936087, 0.041092068, -0.049865525, 0.09045855, 0.007336329, -0.076548316, 0.02649796, -0.07415063, 0.012000925, -0.012047924, 0.01413926, -0.003919582, -0.0011249519, 0.022254054, -0.01985752, 0.024750227, -0.08914464, 0.061423894, -0.011841087, -0.06949245, 0.056520514, 0.025776295, -0.060564876, 0.006932869, -0.019347478, -0.094837196, -0.02302336, -0.001295875, -0.04279666, 0.04504893, -0.046310324, -0.014651109, -0.08479061, 0.008442108, 0.042479273, 0.04272531, -0.025116354, -0.05835249, 0.031308237, 0.041158542, -0.009150677, -0.02371522, 2.3330229E-4, -0.03334564, 0.052173767, -0.0734755, -0.019922202, 0.094523825, -0.0010638181, 0.027786817, 0.052965064, 0.004120238, 0.04825527, 0.056250792, 0.065931164, 0.019801948, 0.034890328, -0.017632315, -0.06787147, 0.045560762, -0.09901673, 0.006527771, -0.0049982257, 0.03896035, -0.027776223, 0.031789664, -0.030815547, 0.002154316, 0.08075533, -0.019474233, -0.034858238, 0.012268278, 0.003744666, 0.00984899, 0.045613512, 0.06344411, 0.063861564, 0.022857882, 0.028268827, -0.04141839, -0.0513903, 0.04409715, -0.025493355, -0.007331051, 0.08118865, 0.015320656, -0.040403627, 0.0023906576, 5.2994315E-4, -0.09477212, 0.03169841, 0.02493065, -0.07636768, -0.068885304, 0.0665246, 0.0010512457, 0.033978324, -0.01057642, 0.038956072, 0.030262064, 0.023881925, 0.046644688, 0.010598193, -0.022291958, 0.03567967, 0.0794169, -0.07613385, 0.027401697, 0.04171794, 0.006313622, 0.05824471, -0.048464615, 0.068711475, -0.036817256, 0.031248316, -0.018841049, -0.02163557, 0.038579404, -0.0035124533, 0.032447156, -0.026209773, 0.06724197, 0.039091505, 0.046597946, -0.054126844, -0.04493951, -0.053691406, -0.017944412, 0.01862357, -0.006691439, -0.04589915, 0.041332833, 0.043962676, -0.0063187736, 0.038815726, 0.03236082, 0.03218252, -0.06981512, 0.052175578, -0.05227429, 0.031698067, 0.025178736, -0.029679764, 0.028749252, -0.04107552, -0.0040509463, 0.021139344, 0.0012008199, -0.061508574, -0.04244502, -0.006408227, -0.036570873, 0.060192622, 0.06745397, 0.02481106, 0.04555014, -0.037285723, 0.01893588, -0.049184915, -0.008266867, -0.023478689, 0.021262188, -0.03420359, -0.03706296, 0.03043788, 0.011514288, 0.015283382, 0.033614155, 0.094286, 0.09210612, 0.028342312, 0.004542807, 0.03968196, 0.014589131, 0.00702205, 0.0071777436, -0.013876451, 0.02550964, 0.032127216, 0.04545097, 0.052525196, -0.025458451, -0.02112217, -0.055035155, -0.019611139, 0.003823645, -0.022467425, 0.012453873, -0.021100225, 0.0072615338, 0.068798006, 0.0293525, -0.03006629, -0.0029509452, 0.016822888, -0.041369557, 0.0241464, 0.055997785, -0.087520584, -0.0064482163, 0.039243348, -0.02795194, 0.05960353, -0.027100716, -0.096145175, -0.06933297, -0.017312901, 0.021119155, 0.07534325, 0.0902305, 0.079187326, -0.016195342, 0.07563142, 0.058459233, 0.034523573, -0.023922773, 0.007346475, 0.002830384, 0.06990904, 0.027042117, 0.0641096, 0.0031550943, 0.055267125, 0.07420405, -0.07654039, -0.06975126, -0.030941145, 1.4663198E-4, -0.031691097, 0.020091683, 0.047643613, -0.009232247, 0.09488083, -0.017858563, 0.05390642, -0.020475972, -0.014543116, 0.016582659, -0.04197572, -0.05210962, -0.011630962, 0.008727093, -0.062319186, 0.055470094, 0.04251602, -0.018379694, -0.053719956, -0.032752924, 0.0342845, -0.005880847, -0.081630565, 0.041748516, -0.015804494, -0.058835573, 0.0016312107, -0.042405084, 0.04216575, 0.03665832, 0.04356811, -0.03776772, -0.03321363, -0.010701444, 0.05500654, 0.036922775, 0.0019241432, -0.031016832, 0.048627526, -0.0783593, -0.009928281, 0.003203611, 0.052701224, -0.06012536, -0.014289993, -0.04242773, 0.06808576, -0.036906607, -0.0051721805, -0.076765575, -0.0048726313, 8.263147E-4, -0.009942981, 0.0014189796, 0.035505775, -0.01546057, -0.01844663, -5.224763E-4, -0.029431596, 0.048511896, -0.08033812, 0.06872588, 4.9786875E-4, -0.05551194, -0.012665135, 0.057941996, -0.005599902, 0.04493705, 0.05630546, 0.046262924, -0.02677681, -0.056488078, 0.010940733, -0.018200608, 0.013741184, -0.006252516, 0.013384597, 0.03144808, -0.030549394, -0.049150247, -0.020178098, -0.061912715, 0.002280422, 0.021528704, -0.03331809, 0.0892164, 0.048577137, 0.04427853, -0.01600196, -0.04577599, 0.05564979, 0.079856046, 0.030752081, 0.09776552, 0.087268144, -0.05551173, -0.06722138, 0.0024981857, -0.062016457, -0.018722225, 0.039679486, 0.082239866, -0.050170317, 0.041934278, 0.007116301, 0.025092725, -0.031534746, 0.06098765, -0.10215864, 0.037425134, -0.008291373, 0.03381114, 0.075892754, -0.08004037, 0.078056544, -0.025781825, -0.013301215, 0.01035524, 0.047828183, -0.07417221, 0.036781814, -0.08057184, -0.026899401, 0.0022141591, -0.010019101, -0.09920736, 0.040454272, -0.043031957, -0.022357669, 0.069238976, 0.005933898, -0.0133986855, -0.058619387, 0.0699387, -0.05358086, 0.0369498, 0.029095888, 0.039617382, -0.09489392, -0.027898153, -0.012161848, 0.013640851, 0.016853964, 0.079695694, -0.08989078, 0.08241106, -0.011032926, -0.105755374, -0.0062294905]                                        |\n",
            "|BİR SİNCAP GİBİ MESELA,                                |[0.057291828, -0.030431785, -0.03394587, 0.068231486, 0.055913486, 0.076613545, -0.06525859, -0.055258498, -0.02399839, -0.016819911, 0.0076504503, -0.0697332, -0.052267794, -0.0017968041, -0.038098253, 0.027896946, -0.032437697, 0.018353628, 0.056651212, -0.022115832, -0.026392587, 0.045859758, -0.07157737, -0.047383364, -0.0214397, 0.01719337, -0.045439053, -0.08984521, -0.08475442, -0.04420522, -0.056431003, -0.027144201, -0.08093337, -0.0015807264, 0.047245774, 0.03799126, 0.0574346, -0.03564549, 0.064197615, 0.025396712, 0.037019018, -0.0059635406, 0.03400737, 0.0458232, -3.728526E-4, 0.023066588, -0.037251722, 0.032033473, 0.03501194, 0.027014807, 0.053793058, 0.0038639938, 0.068261735, -0.07090239, 0.08313112, -0.07732551, -0.037084255, 0.041481882, -0.024336005, 0.042844757, 0.00797436, 0.0067619737, -0.014328127, -0.07341884, 0.007159259, -0.035248168, 0.026590265, 0.051631216, -0.003826136, -0.045017026, -0.03184342, 0.03155752, -0.014088173, 0.01951059, 0.0010983992, -0.05098978, -0.008511451, 0.035784293, -0.04178576, -0.051702183, -0.05251509, -0.059838053, -0.023874555, -0.05370365, 0.0035170082, 0.030374631, 0.053813674, -0.018575076, 0.028946023, -0.08391567, 0.079609305, -0.003267554, -0.042323068, -0.064796954, -0.051082764, -0.0015692343, -0.061553203, 0.03232442, 0.02994137, 0.029207092, 0.021868668, -0.018656401, -0.018520556, 0.025115449, 0.03476446, 0.014773183, 0.07518228, 0.009975903, 0.0117160985, -0.001977529, -0.016278682, 0.0049388087, 0.061519936, 0.043279655, -0.003954356, 0.050613195, 0.05374812, -0.09550628, 0.070938155, -0.06278625, -0.054327276, -0.063305855, -0.038544077, 0.03386466, 0.0062070796, -0.055056, 0.010184458, -0.0137128495, 0.019799832, 0.02768283, -0.043266952, -0.0041301516, -0.005150539, -0.010512072, -0.004978751, -0.03615189, 0.009857245, 0.004535488, 0.083722085, -0.021823214, -0.052390575, 0.006247912, -0.06945384, -0.004049357, -0.014110508, 0.038557567, -0.0018927102, 0.025336457, 0.0329374, 0.008567934, -0.009304154, -0.08201316, 0.04915091, -0.034541406, -0.050014563, 0.016924098, 0.004332751, -0.072659545, 0.0021014872, -0.036361083, -0.093149416, -0.001868509, -0.0066916365, 0.0015697156, 0.07461334, -0.051983263, -0.027083805, -0.044658348, -0.031767108, -0.025746612, -0.05744063, 0.025504932, -0.07677862, 0.020006387, 0.036488894, 0.01268129, -0.031144667, 0.01688118, -0.05329607, 0.042776003, -0.018079204, -0.016392428, 0.06107927, -0.01996788, 0.015961956, 0.051270958, 0.011132742, 0.03700056, -0.015928091, 0.043138407, 0.008434075, 0.017682983, 0.050841533, -0.083466455, 0.059458382, -0.09770897, -0.024300182, 0.0064590783, 0.01639392, -0.053668816, 0.07135336, 0.022615664, 0.011582274, 0.055054042, -0.029405888, -0.02061284, 0.058015686, 0.050065763, -0.01129958, 0.0044872877, 0.064618625, 0.07020051, -0.014798766, 0.0014191694, -0.0467783, -0.04944847, -0.009951225, 0.04817723, -0.019581731, 0.037110258, 0.05846055, -0.017204339, 0.0053047105, 0.05060535, -0.08352058, -0.0013526056, -0.011629825, -0.06879373, -0.02768804, 0.07012901, -0.030938335, 0.028754994, -0.04167437, 0.02999255, 0.06516642, 0.0563821, 0.033240438, 0.048752066, -0.036029804, 0.031974535, 0.04016687, 0.013922075, 0.049200132, 0.051571254, -0.012772723, 0.048046887, -0.034859117, 0.0068693566, -0.038710702, -0.054672334, 0.007190933, 0.026688516, -0.020952206, -0.005414162, 0.07001128, -0.013810898, 0.0076017883, 0.013830495, -0.0036228271, 0.019914504, -0.065913916, -0.011231812, -0.041210294, 0.042375494, -0.027279176, 0.0037910047, 0.05109852, 0.05061566, -0.0529631, 0.03916005, 0.017747255, 0.052953117, -0.09125928, 0.04426351, -0.0865606, -0.018102651, 0.062305048, -0.04082413, 0.023065962, -0.0223058, -0.021673845, -0.0060136467, 0.0066758324, 0.059066556, -0.082558624, -0.03211733, -0.051998246, 0.017418895, 0.039494324, 0.053311866, 0.055594902, -0.042237286, 0.02107392, -0.026163565, -0.011722752, -0.06570157, 0.023292536, -0.015882608, -0.0062521338, 0.051187765, -0.03259075, -0.021240566, 0.007490105, 0.07113056, 0.09074569, -0.009703052, -0.010205143, 0.048429642, 0.016644133, -0.02877266, 0.046310842, -0.020250883, -0.017651295, 0.0039029208, -0.028718963, -0.024153713, -0.05388563, -0.006983626, -0.03502352, -0.019359102, 0.00689659, -0.06354665, 0.06247203, -0.007149281, 0.07194873, 0.076595746, -0.042979736, -0.066830136, 0.06283666, -0.030609425, -0.05404627, -0.014485613, 0.05811599, -0.07856156, -0.010105417, 0.044015557, 0.020765841, 0.07987658, 0.0271432, -0.089517, -0.03778103, 0.017022708, -0.040571194, 0.058989733, 0.06776545, 0.031503864, 0.029468553, 0.079124525, 0.056392875, 0.045171376, -0.033592843, -0.01723708, 0.01838333, 0.039431557, -0.03537403, 0.09504101, -0.02155441, 0.010840231, -0.0059971553, -0.069630146, -0.061451305, -0.004943067, -0.018819157, -0.025103541, 0.0012057915, 0.031560786, -0.010776371, 0.09829043, -0.024548857, 0.042329047, -0.007844824, -0.029392594, 0.03925641, -0.024252778, -0.032917738, 0.044923924, -0.037021983, -0.07527466, -0.0032045215, 0.03947006, -0.027131405, 0.0032940938, 0.024977876, 0.058064085, -0.016416868, -0.012854127, 0.073954694, 0.025811078, -0.07776623, -0.081737794, -0.040507354, 0.05143993, 0.03269191, -0.013694506, 0.01978605, -0.0017361706, -0.0053558117, 0.068923354, 0.024266656, 0.02962277, -3.96424E-4, 0.045011047, -0.06350554, 0.0015083116, 0.02815028, -0.022454062, -0.06390278, -0.044545423, -0.080546655, 0.028648376, -0.037582442, -0.029375546, -0.060138512, 0.023300817, -0.014583352, 0.011265862, 0.078101896, 0.003244141, -0.008369572, 1.8912838E-4, -0.04583179, -0.019345433, 0.06532687, -0.06691074, 0.058051568, -0.043087404, -0.044110402, 0.008018852, 0.023425499, -0.05167749, 0.04393917, 0.057722736, 0.004615028, 0.034087583, -3.4569248E-4, 0.003949905, -0.016407056, -0.030496217, -0.032222256, -0.009624181, 0.01200753, -0.07635135, -0.04989102, 0.02531877, -0.083752856, -0.043574266, -0.05930464, -0.018357262, 0.08954285, 0.048114497, 0.037373375, -0.06591238, -0.054926146, -0.0050610676, 0.061329693, 0.021864133, 0.092568845, 0.08048257, -0.047220107, -0.021716775, 0.025384743, -0.06729435, 0.018869178, 0.04489202, 0.019289564, 0.033893216, 0.009142702, -0.019351527, 0.08239466, 0.05800263, 0.0084988205, -0.07227972, -0.006253069, 0.06604845, 0.026213504, 0.07615854, -0.08851079, 0.012220178, 0.032893963, -0.008771978, 0.036124174, 0.0059011, -0.07682018, 0.06762937, -0.032459065, -0.010745904, 0.0071740965, -0.027047357, -0.094249114, 0.028851606, -0.046105646, -0.03912202, 0.052372318, -0.003882733, 0.027059557, 0.004306788, 0.068862624, -0.01887336, 0.05619385, -4.920969E-4, 0.020435791, -0.08353177, -0.053442594, 0.013248845, -0.017525328, -0.0042527663, 0.03082255, -0.06995725, 0.07887421, 0.016307717, -0.095555365, -0.06411165]                  |\n",
            "|YANI, YASAMIN DIŞINDA VE ÖTESİNDE HİÇBİR ŞEY BEKLEMEDEN|[-0.010751717, 0.05197645, -0.016918281, 0.07082435, 0.07186784, 0.05948223, 0.0010997558, -0.005208665, -0.037978947, 0.032910395, -0.01107736, -0.029872525, -0.0121958805, 0.057336908, -0.09900829, 0.07496506, -0.025540672, -0.044469148, -0.037211057, -0.06511061, -0.024870528, -0.0059672417, -0.063710734, -0.06843102, 0.0045351395, -0.004725301, 0.00854293, -0.08097502, -0.032298725, -0.054759096, 0.031272534, 0.003714041, -0.062386088, 0.052368656, -0.026676066, -0.0051345453, 0.008090736, -0.04049252, 0.03083156, -5.03501E-4, 0.0035505136, 0.039095785, 0.071314424, 0.07806113, 0.044116035, 0.038104337, -0.07543913, -0.009810227, -0.045266, -0.009244332, 0.0481824, 0.0755601, 0.0023995743, -0.053340275, 0.06898583, -0.047120333, -0.0039041615, -0.009731251, 0.033907704, -0.043083724, -0.023886004, -0.07404134, -0.03101735, -0.04412993, -0.016449274, -0.039829314, -0.008402045, 0.030434687, 0.07444006, 0.031447504, -0.016693885, 0.008426375, -0.012018901, -0.0010615294, -0.01986603, -0.019764014, 0.010522558, 0.062590644, -0.04499749, -0.07247328, -0.027920175, -0.056067098, -0.0060742656, -0.010142701, 0.05135134, 0.065135024, 0.061949544, -0.0022946794, 0.021438202, -0.06493351, 0.09380811, 0.010856815, -0.08477162, -0.051663052, -0.01880086, -0.01726089, -0.07503696, -0.07816297, 0.06880942, 0.019682487, -0.04086729, -0.011703146, -0.037035834, 0.044174124, 0.020855362, -0.0146556655, -0.0073461146, -0.016817022, -0.038538203, -0.023039635, -0.0029873648, 0.037880767, 0.062826715, -0.006066392, -0.07255302, -0.04580921, 0.019267682, -0.09634061, 0.009310053, 0.0446105, -0.0013213067, -0.035569277, 0.042767126, 0.03649012, 0.02126297, -0.060557432, -0.0626618, 0.0062094694, 0.02959714, -0.026107911, -0.024693713, -0.03340858, -0.020509915, 0.021832919, -0.018695353, -0.018459575, 0.027677577, -0.040109623, 0.089094795, 0.060242195, -0.074319854, 0.017230397, -0.075622015, -0.0092246765, -0.021926356, -0.027797064, -0.030722246, 0.015217811, -0.0027541644, -0.0018082494, -0.034991823, -0.0822281, 0.065147854, -0.049312335, -0.057802986, 0.049594916, 0.043490127, -0.01394431, 0.03931223, -0.0071774493, -0.0837464, -0.02412206, 0.0020773928, -0.021589465, 0.014112541, 0.0366616, -0.02839908, -0.04874764, -0.005208603, -0.032944065, 0.073091105, -0.017494874, -0.008809865, 0.025593385, 0.06056438, -0.007325238, 0.014974177, -0.017395807, -0.068868876, 0.071908824, -0.042517032, -0.05562579, 0.079742216, -0.021944525, 0.067868255, 0.04112951, -0.025898175, 0.054449875, 0.051748767, 0.043294396, -0.018683719, 0.023085738, -0.015394743, -0.09993049, 0.023361905, -0.09274355, 0.03514461, -0.012930989, 0.059380077, 0.003402521, -0.0037914275, -0.04787577, 0.0010044826, 0.0604496, -0.06443487, -0.033944007, 0.0594428, 0.06345209, 0.021213373, 0.026045838, 0.06815945, 0.07646338, 0.0425767, 0.010572796, -0.040899463, -0.034529693, 0.024090277, 0.021247813, -0.013599768, 0.045079138, 0.04339014, 0.0072728805, -0.051680125, 0.04440056, -0.030626116, 0.075457, 0.01073342, -0.048783414, -0.029574234, 0.038534787, 8.356093E-4, 0.039812267, 0.021308193, 0.061382648, 0.017345447, 0.006525208, 0.06472332, 0.051885642, 0.02633539, -0.06572998, 0.045952637, -0.042184766, -0.037868775, 0.04857745, -0.0066489917, 0.057520468, -0.020431025, 0.032291196, -0.030929333, -0.026304036, 0.055362977, -0.018199218, 0.017336832, -0.049042616, 0.03366621, 0.0037433456, 0.014554621, 0.010532474, 0.019881569, 0.018876897, -0.067166574, -0.0057057943, -0.05739348, 0.038907174, 0.040822197, -0.0077813566, 4.907939E-6, -0.05245774, -0.035061277, 0.011638629, 0.020089244, 0.060645375, -0.017057383, 0.015965493, -0.060614143, 0.005882476, 0.006515471, 0.014815202, -0.001456216, -0.021750674, 0.012654708, -0.023675984, 0.029177178, -0.029930342, -0.011060468, 0.024131145, -0.0076663527, -0.016409395, 2.505471E-4, -0.022435276, -0.0028518857, 0.005523777, 0.039091073, -0.08491793, -0.04624506, 0.046403103, -0.037728857, -0.05802716, 0.0017634045, -0.041115128, -0.011180862, 0.012258168, -0.012833937, 0.057858963, 0.095532686, -0.025469625, 0.06283778, 0.028189518, -5.5946916E-4, -0.0069212355, 0.026130816, 0.008597675, -0.016421821, -0.038741346, 0.043779127, 0.013035548, -0.008307956, -0.010938869, -0.030219814, -6.6365734E-5, -0.043886118, -0.06867366, 0.09368378, -0.012848472, 0.005933392, 0.06982028, 5.6895305E-4, -0.018857516, -0.00321093, -0.0030497361, -0.074813664, -0.05306022, 0.05209416, 0.03516741, -0.045247335, 0.020928921, -0.019978786, 0.061687957, 0.04070362, -0.084741846, -0.077518634, 0.008255012, 0.048416633, 0.08387567, 0.05226746, 0.0699321, -0.035609752, 0.013798358, 0.027514197, 0.06012944, -0.005749385, -0.040787607, 0.011844094, 0.06166923, -0.056167874, 0.026526704, 0.03406016, 0.012674547, -0.012846313, -0.0734089, -0.06742203, 0.032022934, -0.0046328325, -0.011843809, -0.012518899, 0.038907297, 0.030082552, 0.08583707, 0.032614812, 0.063207656, -0.04274627, -0.02346553, 0.007904492, 0.013448859, -0.0447708, 0.04954071, -0.051301528, 0.0030176155, 0.011880966, -0.0321455, 0.0076914034, -0.05600134, -0.071631126, 0.03938373, -0.07881418, -0.07401756, 0.032414917, -0.033890955, -0.061594278, -0.04772644, -0.017622592, 0.058384888, 0.012560705, 0.0332519, -0.004461238, 0.039828777, -0.020470535, 0.0076975636, 0.014575581, 0.06298458, 0.0109752575, 0.026927, -0.06302663, 0.005175196, 0.01959908, -0.0017876818, -0.04497249, -0.05558727, -0.030585367, 0.011155945, -0.021249207, -0.033088885, 0.0023737445, -0.009120317, -0.06908536, 0.009618133, 0.061174586, 0.026803711, 0.0039183637, -0.08816034, 0.037972018, -0.029977564, 0.07840741, -0.049909044, -0.08884027, 0.012373169, 0.022806685, -0.056038063, 0.047661696, -0.04336881, 0.055227183, -0.02341054, 0.067524426, -0.009936109, 0.024389712, 0.037270647, 0.013941114, -0.00467515, -0.038310505, -0.005862357, 0.030132804, -0.055588696, -0.0021863144, -0.06571444, -0.08784573, 0.029905394, 0.03652631, -0.0031853167, 0.08606829, 0.047457166, 0.07126, -0.050928567, -0.021032792, -0.027119212, 0.076331064, -0.0031095345, 0.08950395, 0.047891628, -0.061866093, -0.030177604, -0.0021428447, -0.028706098, 0.012748091, 0.01126164, 0.069901034, -0.043298177, -0.0061799027, 0.049618304, 8.6539105E-4, -0.042385165, 0.074661486, -0.09459777, 0.07574371, -0.04692669, -8.60111E-4, 0.062357817, -0.07934169, 0.075942144, 0.032629818, -0.050811853, -0.055435065, -0.014620744, -0.054243956, -1.9313734E-4, -0.0034015675, -0.014411203, -0.024642017, 0.026311656, -0.09527274, 0.01959954, -0.032820415, -0.0074478188, 0.06250732, -0.03065613, 0.042598646, -0.024100967, 0.08312511, -0.06403324, 0.04581273, 0.041170496, 0.014994825, -0.07727051, 0.004728553, -0.042701915, 1.9563691E-4, -0.07785621, 0.08701542, -0.07829851, 0.06764358, -0.03573309, -0.09600403, -0.042167235]|\n",
            "|YANI, BÜTÜN İŞİN GÜCÜN YASAMAK OLACAK.                 |[0.045392692, 0.0025412547, -0.033015165, 0.08190177, 0.0061233058, 0.03650291, 0.008258107, -0.058359064, -0.054621205, -0.005686767, 0.01434596, -0.023776492, 0.03808179, 0.024512375, -0.096253544, 0.074434094, -0.004633442, -0.0352791, -0.026080117, -0.03245545, 0.03814595, 0.01394946, -0.082076184, -0.04208876, -0.067790896, -0.02877877, -0.056295168, -0.057441782, -0.06729633, -0.008761626, -0.032678306, 0.01833649, -0.08050329, 0.055316478, 0.06611526, 0.021098746, 0.057851966, 0.002477324, 0.046617538, -0.05486639, 0.002135062, 4.0722647E-5, 0.059802603, 0.035998713, 0.03825824, 0.045167502, -0.07392304, 0.024072697, -0.027718883, 0.013191734, -0.022247218, 0.086029634, -0.022108043, -0.04173287, 0.06469163, -0.008153774, -0.0150589105, -0.02057552, 0.060972005, 0.03394627, 0.02122105, -0.070030496, -0.017571734, -0.027253583, 0.009363938, -0.06867604, 0.050274406, 0.06887326, 0.051447652, 0.027707942, -0.02976102, 0.03088609, -0.05757799, -0.009299336, 0.036774825, -0.012235368, 0.019572916, 0.072283834, -0.05515166, -0.026674975, 0.04037982, -0.038687874, 0.008563073, -0.052387208, 0.0068257865, 0.040031526, 0.03477387, -0.026096335, -0.0078816945, -0.060860258, 0.084346525, 0.0064927647, -0.03275211, -0.015705593, 0.010088823, 0.004657405, -0.05697002, 0.0040823743, 0.040872034, 0.026117168, -0.0011477963, 0.008922101, -0.020318124, 0.02348639, 0.018543385, 0.006368968, 0.07170872, -0.057322904, -0.037975404, -0.07965515, -0.008959015, 0.0308365, 0.04155274, 0.015454404, -0.058558397, -0.0048312764, -0.0022030713, -0.091676965, -0.009060465, 0.026189888, -0.017101515, -0.05699334, -0.02600492, 0.04462716, 0.04066443, -0.04977888, -0.052363522, -0.021431666, 0.004124372, -0.06583154, -0.03777786, -0.024092287, -0.012800441, 0.02928996, -0.038390256, -0.05151132, 0.008962566, -0.011603008, 0.06494378, 0.08553526, -0.06925383, -0.025273321, -0.059307244, 0.014397542, 0.011037862, -0.0011689352, 0.02671472, -0.04747392, -0.008949762, -0.033189088, 0.032491814, -0.047049977, 0.043295633, -0.067797735, -0.060388517, 0.0057341247, -0.022507682, -0.042319324, -0.015281971, 0.01511246, -0.06854604, -0.0397119, -0.02401704, -0.016106261, 0.00812784, -0.0067679808, -0.05625391, -0.00811148, -0.008680169, -0.049229734, 0.028695285, -0.038347434, -0.015463876, 0.03057287, 0.06565304, 0.027463125, 0.04082726, 0.034589153, -0.019404877, 0.06363052, -0.07703841, -0.030489096, 0.0915905, -0.012612698, 0.03321792, 0.04570659, -0.015719045, 0.073750675, 0.013559605, -0.009497812, -0.025258439, 0.05110388, 0.006217823, -0.10094797, 0.010018979, -0.08453955, 0.040125534, -0.064314574, 0.05517146, 0.016398817, -0.013712868, -0.0016020603, 0.042204566, 0.07875031, -0.026877109, 0.01855031, 0.071030505, 0.07211808, 0.03281068, 0.015058033, 0.04049162, 0.03904191, -0.03447458, -0.019935178, -0.054045778, -0.060423255, -0.015491353, 0.04988755, 0.0034107156, 0.0595499, 0.0203397, 0.037139527, -0.07329805, 0.040955022, -0.045942396, 0.08049615, 0.062376443, -0.045089517, -0.055345997, 0.038820975, -0.021048779, 0.038687486, -0.06812118, 0.0639113, 0.062075585, -0.013396052, 0.05551163, 0.0851098, -0.02120514, -0.05381336, 0.015535921, -0.08193952, -0.07125159, 0.03250386, 0.004819078, 0.012786219, -0.04579496, 0.04062383, -0.030646613, -0.034550548, 0.06943302, -0.030415867, 0.025813218, -0.04461816, 0.05233113, -0.017576296, 0.032712307, -0.017963203, 0.0065845577, -0.03549746, -0.055600233, -0.0028274744, -0.06252764, 0.013843256, -0.006848864, -0.057327144, 0.011470886, -0.015665628, -0.0046738503, 0.027585821, 0.019277694, 0.047946632, -0.04120653, 0.017367505, -0.04467038, 0.009323608, 0.047195762, -0.029181952, 0.044360198, -0.0069117146, 0.042385034, -0.029674381, 0.030849181, -0.013525128, -0.08165713, 0.010478076, -0.011246183, 0.008157061, 0.03220085, 7.5522507E-6, -0.0036201847, 0.007951055, 0.03172594, -0.082561, -0.002460055, 0.022276515, 0.023181695, -8.903754E-4, -0.01908351, -0.061544046, -0.010705429, -0.010325647, -0.029914146, 0.07783482, 0.08950583, 0.040273882, 0.025800472, 0.00759082, -0.023638846, -0.004534985, 0.060752243, 0.012273052, 0.015641287, -0.040756103, -0.008259387, 0.017893681, -0.035097748, 0.006835338, -0.022252528, -0.0468211, -8.1721845E-4, -0.05000376, 0.093382575, -0.03076608, -0.006720129, 0.056246504, -0.03317294, 0.0020930024, 0.009354172, -0.008896763, -0.076250985, -0.056278236, 0.056800336, -0.026370902, -0.018561669, 0.027613793, -0.009031396, 0.039811227, 0.06653089, -0.080366, -0.05084043, 0.029225636, 0.006033115, 0.067139044, 0.04353289, 0.06288068, 0.0048882095, 0.08090801, 0.044193707, -0.0044788644, 0.0050450834, 0.020629205, 0.052446086, 0.06892968, -0.05678117, 0.035801873, 0.01861048, 0.071328305, 0.031050004, -0.056032516, -0.041392125, -0.016194982, -0.045931004, -0.043863192, -0.034619223, 0.022579275, 0.053230807, 0.08830249, 0.045706507, 0.05123065, 0.006311961, 0.008608394, -0.0049207895, 0.008524343, -0.027413217, 0.04105885, -0.026786035, -0.060011625, -0.0016812762, -0.01655839, -0.029551243, -0.057831123, -0.050103012, 0.038905825, -0.08186116, -0.030682815, 0.044209518, -0.038637742, -0.07074519, -0.057666823, -0.01729247, 0.071753144, 0.032985024, 0.014426206, -0.029769523, -0.051981818, -0.01500433, 0.017405333, -0.015151582, 0.05465352, 0.020139731, 0.06727738, -0.076172106, -0.023600943, -0.017743504, -0.08223002, -0.041328203, -0.023235062, -0.05447002, 0.034882363, -0.02399572, -0.04393858, -0.020689473, 0.01662575, 0.015077016, -0.0036087288, 0.046132237, -0.018196773, -0.025677387, 0.00663724, 0.0338995, -0.027112976, 0.08267539, -0.08305054, -0.09421989, -0.0031938304, -1.0777581E-4, -0.050567236, 0.045716718, -0.059692338, 0.034486894, -0.003061689, 0.050368894, 0.018295815, 0.016253324, 0.026315868, 0.050048564, -0.043769985, -0.023814442, -0.040034413, 0.05564663, -0.019465294, 0.064455025, -0.06382773, -0.09267741, 1.3742263E-4, 0.018088587, 0.030269068, 0.0761143, 0.02297112, 0.07434334, -0.023392012, 0.0052700816, -0.0120285535, 0.08876843, 0.019497, 0.079465985, 0.04951356, -0.08156428, -0.0366366, -0.018164286, -0.067111604, 0.022876339, 0.029968645, 0.07443556, -0.05919044, 0.017319078, 0.014936996, -0.026579497, -0.001480021, 0.043608777, -0.08958707, 0.04013348, 0.047784112, 0.026935413, 0.0697689, -0.06499789, 0.058152184, 0.0065859826, -0.052055217, -0.02271227, -0.012403149, -0.049435973, 0.039606806, -0.007659007, -0.024413573, -0.038772628, 0.0677246, -0.072132535, 0.0014686142, -0.050554432, -0.06095191, 0.01091073, -0.04081886, 0.052887566, 0.015089267, 0.08225622, -0.0026446711, 0.03717903, 0.049439773, 0.027987381, -0.09681602, 0.010851549, -0.037904296, 0.016170999, -0.0628869, 0.07454117, -0.082887515, 0.05976262, 0.015390213, -0.091860674, -0.052752882]                                           |\n",
            "+-------------------------------------------------------+--------------------------------------------------------------------------------------------------------------------------------------------------------------------------------------------------------------------------------------------------------------------------------------------------------------------------------------------------------------------------------------------------------------------------------------------------------------------------------------------------------------------------------------------------------------------------------------------------------------------------------------------------------------------------------------------------------------------------------------------------------------------------------------------------------------------------------------------------------------------------------------------------------------------------------------------------------------------------------------------------------------------------------------------------------------------------------------------------------------------------------------------------------------------------------------------------------------------------------------------------------------------------------------------------------------------------------------------------------------------------------------------------------------------------------------------------------------------------------------------------------------------------------------------------------------------------------------------------------------------------------------------------------------------------------------------------------------------------------------------------------------------------------------------------------------------------------------------------------------------------------------------------------------------------------------------------------------------------------------------------------------------------------------------------------------------------------------------------------------------------------------------------------------------------------------------------------------------------------------------------------------------------------------------------------------------------------------------------------------------------------------------------------------------------------------------------------------------------------------------------------------------------------------------------------------------------------------------------------------------------------------------------------------------------------------------------------------------------------------------------------------------------------------------------------------------------------------------------------------------------------------------------------------------------------------------------------------------------------------------------------------------------------------------------------------------------------------------------------------------------------------------------------------------------------------------------------------------------------------------------------------------------------------------------------------------------------------------------------------------------------------------------------------------------------------------------------------------------------------------------------------------------------------------------------------------------------------------------------------------------------------------------------------------------------------------------------------------------------------------------------------------------------------------------------------------------------------------------------------------------------------------------------------------------------------------------------------------------------------------------------------------------------------------------------------------------------------------------------------------------------------------------------------------------------------------------------------------------------------------------------------------------------------------------------------------------------------------------------------------------------------------------------------------------------------------------------------------------------------------------------------------------------------------------------------------------------------------------------------------------------------------------------------------------------------------------------------------------------------------------------------------------------------------------------------------------------------------------------------------------------------------------------------------------------------------------------------------------------------------------------------------------------------------------------------------------------------------------------------------------------------------------------------------------------------------------------------------------------------------------------------------------------------------------------------------------------------------------------------------------------------------------------------------------------------------------------------------------------------------------------------------------------------------------------------------------------------------------------------------------------------------------------------------------------------------------------------------------------------------------------------------------------------------------------------------------------------------------------------------------------------------------------------------------------------------------------------------------------------------------------------------------------------------------------------------------------------------------------------------------------------------------------------------------------------------------------------------------------------------------------------------------------------------------------------------------------------------------------------------------------------------------------------------------------------------------------------------------------------------------------------------------------------------------------------------------------------------------------------------------------------------------------------------------------------------------------------------------------------------------------------------------------------------------------------------------------------------------------------------------------------------------------------------------------------------------------------------------------------------------------------------------------------------------------------------------------------+\n",
            "\n"
          ]
        }
      ]
    },
    {
      "cell_type": "markdown",
      "metadata": {
        "id": "DD9OCvYqifaF"
      },
      "source": [
        "### Getting Sentence Embeddings From Word Embeddings"
      ]
    },
    {
      "cell_type": "code",
      "metadata": {
        "colab": {
          "base_uri": "https://localhost:8080/"
        },
        "id": "fV7MphrGiO8k",
        "outputId": "3a48600b-ddc6-4f08-abcc-42f0f14824a6"
      },
      "source": [
        "!cd ~/cache_pretrained && pwd"
      ],
      "execution_count": null,
      "outputs": [
        {
          "output_type": "stream",
          "name": "stdout",
          "text": [
            "/root/cache_pretrained\n"
          ]
        }
      ]
    },
    {
      "cell_type": "code",
      "metadata": {
        "colab": {
          "base_uri": "https://localhost:8080/"
        },
        "id": "DZ_oF7GtijJq",
        "outputId": "1fe2af2b-a847-417a-b8be-6586ea3ef7e3"
      },
      "source": [
        "!cd ~/cache_pretrained && ls -1"
      ],
      "execution_count": null,
      "outputs": [
        {
          "output_type": "stream",
          "name": "stdout",
          "text": [
            "glove_100d_en_2.4.0_2.4_1579690104032\n",
            "lemma_antbnc_en_2.0.2_2.4_1556480454569\n",
            "tfhub_use_en_2.4.0_2.4_1587136330099\n"
          ]
        }
      ]
    },
    {
      "cell_type": "code",
      "metadata": {
        "id": "q86otvEUii8n"
      },
      "source": [
        "word_embedding= WordEmbeddingsModel.load(\"/root/cache_pretrained/glove_100d_en_2.4.0_2.4_1579690104032\")\\\n",
        "    .setInputCols([\"document\", \"token\"])\\\n",
        "    .setOutputCol(\"word_embedding\")\n",
        "\n",
        "sentence_embedding= SentenceEmbeddings()\\\n",
        "    .setInputCols([\"document\", \"word_embedding\"])\\\n",
        "    .setOutputCol(\"sentence_embedding\")\\\n",
        "    .setPoolingStrategy(\"AVERAGE\") # or SUM\n",
        "\n",
        "pipeline= Pipeline(stages=[\n",
        "                           documentAssembler,\n",
        "                           tokenizer,\n",
        "                           word_embedding,\n",
        "                           sentence_embedding\n",
        " ])\n",
        "\n",
        "model= pipeline.fit(empty_df)\n",
        "result= model.transform(spark_df)"
      ],
      "execution_count": null,
      "outputs": []
    },
    {
      "cell_type": "code",
      "metadata": {
        "colab": {
          "base_uri": "https://localhost:8080/"
        },
        "id": "qnCWb61BkO0u",
        "outputId": "b3fe899a-52dd-4061-d779-3dd9ef05d676"
      },
      "source": [
        "result.show(truncate=20)"
      ],
      "execution_count": null,
      "outputs": [
        {
          "output_type": "stream",
          "name": "stdout",
          "text": [
            "+--------------------+--------------------+--------------------+--------------------+--------------------+\n",
            "|                text|            document|               token|      word_embedding|  sentence_embedding|\n",
            "+--------------------+--------------------+--------------------+--------------------+--------------------+\n",
            "|YASAMAK SAKAYA GE...|[[document, 0, 21...|[[token, 0, 6, YA...|[[word_embeddings...|[[sentence_embedd...|\n",
            "|BÜYÜK BİR CİDDİYE...|[[document, 0, 33...|[[token, 0, 4, BÜ...|[[word_embeddings...|[[sentence_embedd...|\n",
            "|BİR SİNCAP GİBİ M...|[[document, 0, 22...|[[token, 0, 2, Bİ...|[[word_embeddings...|[[sentence_embedd...|\n",
            "|YANI, YASAMIN DIŞ...|[[document, 0, 54...|[[token, 0, 3, YA...|[[word_embeddings...|[[sentence_embedd...|\n",
            "|YANI, BÜTÜN İŞİN ...|[[document, 0, 37...|[[token, 0, 3, YA...|[[word_embeddings...|[[sentence_embedd...|\n",
            "+--------------------+--------------------+--------------------+--------------------+--------------------+\n",
            "\n"
          ]
        }
      ]
    },
    {
      "cell_type": "code",
      "metadata": {
        "colab": {
          "base_uri": "https://localhost:8080/"
        },
        "id": "uB8xh_8YiivP",
        "outputId": "3042a6cd-a305-493e-a729-f39e3f5de2da"
      },
      "source": [
        "result.select(F.explode(F.arrays_zip(\"document.result\", \"sentence_embedding.embeddings\")).alias(\"col\"))\\\n",
        "    .select(F.expr(\"col['0']\").alias(\"document\"),\n",
        "            F.expr(\"col['1']\").alias(\"sentence_embedding\")).show(truncate=40)"
      ],
      "execution_count": null,
      "outputs": [
        {
          "output_type": "stream",
          "name": "stdout",
          "text": [
            "+----------------------------------------+----------------------------------------+\n",
            "|                                document|                      sentence_embedding|\n",
            "+----------------------------------------+----------------------------------------+\n",
            "|                  YASAMAK SAKAYA GELMEZ,|[0.043702498, 0.11233, 0.012634993, -...|\n",
            "|      BÜYÜK BİR CİDDİYETLE YASAYACAKSIN.|[-0.033145998, -0.124207996, 0.04482,...|\n",
            "|                 BİR SİNCAP GİBİ MESELA,|[-0.021534, 0.022106, 0.119624, -0.10...|\n",
            "|YANI, YASAMIN DIŞINDA VE ÖTESİNDE HİÇ...|[-0.23753555, -0.018644445, -0.055696...|\n",
            "|  YANI, BÜTÜN İŞİN GÜCÜN YASAMAK OLACAK.|[-0.25997, -0.018052502, 0.07244125, ...|\n",
            "+----------------------------------------+----------------------------------------+\n",
            "\n"
          ]
        }
      ]
    },
    {
      "cell_type": "markdown",
      "metadata": {
        "id": "u89IzuJnk2cP"
      },
      "source": [
        "## NERDL Model"
      ]
    },
    {
      "cell_type": "code",
      "metadata": {
        "id": "sXvIvAjwiijX",
        "colab": {
          "base_uri": "https://localhost:8080/"
        },
        "outputId": "8c124411-7417-4310-97d8-ff9f6001750d"
      },
      "source": [
        "documentAssembler= DocumentAssembler()\\\n",
        "    .setInputCol(\"text\")\\\n",
        "    .setOutputCol(\"document\")\n",
        "\n",
        "tokenizer= Tokenizer()\\\n",
        "    .setInputCols([\"document\"])\\\n",
        "    .setOutputCol(\"token\")\n",
        "\n",
        "word_embedding= WordEmbeddingsModel.pretrained(\"glove_100d\")\\\n",
        "    .setInputCols([\"document\", \"token\"])\\\n",
        "    .setOutputCol(\"embedding\")\n",
        "\n",
        "public_ner= NerDLModel.pretrained(\"ner_dl\", \"en\")\\\n",
        "    .setInputCols([\"document\", \"token\", \"embedding\"])\\\n",
        "    .setOutputCol(\"ner\")"
      ],
      "execution_count": null,
      "outputs": [
        {
          "output_type": "stream",
          "name": "stdout",
          "text": [
            "glove_100d download started this may take some time.\n",
            "Approximate size to download 145.3 MB\n",
            "[OK!]\n",
            "ner_dl download started this may take some time.\n",
            "Approximate size to download 13.6 MB\n",
            "[OK!]\n"
          ]
        }
      ]
    },
    {
      "cell_type": "code",
      "metadata": {
        "colab": {
          "base_uri": "https://localhost:8080/"
        },
        "id": "IykR6S8aptnN",
        "outputId": "ae52a7f1-0441-425a-f1d7-60da63bcd5f5"
      },
      "source": [
        "public_ner.extractParamMap()"
      ],
      "execution_count": null,
      "outputs": [
        {
          "output_type": "execute_result",
          "data": {
            "text/plain": [
              "{Param(parent='NerDLModel_d4424c9af5f4', name='batchSize', doc='Size of every batch'): 32,\n",
              " Param(parent='NerDLModel_d4424c9af5f4', name='classes', doc='get the tags used to trained this NerDLModel'): ['O',\n",
              "  'B-ORG',\n",
              "  'B-LOC',\n",
              "  'B-PER',\n",
              "  'I-PER',\n",
              "  'I-ORG',\n",
              "  'B-MISC',\n",
              "  'I-LOC',\n",
              "  'I-MISC'],\n",
              " Param(parent='NerDLModel_d4424c9af5f4', name='includeConfidence', doc='whether to include confidence scores in annotation metadata'): False,\n",
              " Param(parent='NerDLModel_d4424c9af5f4', name='inputCols', doc='previous annotations columns, if renamed'): ['document',\n",
              "  'token',\n",
              "  'embedding'],\n",
              " Param(parent='NerDLModel_d4424c9af5f4', name='lazyAnnotator', doc='Whether this AnnotatorModel acts as lazy in RecursivePipelines'): False,\n",
              " Param(parent='NerDLModel_d4424c9af5f4', name='outputCol', doc='output annotation column. can be left default.'): 'ner',\n",
              " Param(parent='NerDLModel_d4424c9af5f4', name='storageRef', doc='unique reference name for identification'): 'glove_100d'}"
            ]
          },
          "metadata": {},
          "execution_count": 9
        }
      ]
    },
    {
      "cell_type": "code",
      "metadata": {
        "id": "LEsA3YR1k462"
      },
      "source": [
        "empty_df= spark.createDataFrame([[\" \"]]).toDF(\"text\")\n",
        "pipeline= Pipeline(stages=[ \n",
        "                           documentAssembler,\n",
        "                           tokenizer,\n",
        "                           word_embedding,\n",
        "                           public_ner\n",
        "])\n",
        "\n",
        "pipelineModel= pipeline.fit(empty_df)\n",
        "result= pipelineModel.transform(news_df.limit(100))"
      ],
      "execution_count": null,
      "outputs": []
    },
    {
      "cell_type": "code",
      "metadata": {
        "colab": {
          "base_uri": "https://localhost:8080/"
        },
        "id": "dGdHbe8Rn5Vp",
        "outputId": "90c3a78b-1b3c-48bf-ff92-c24e1cebcf41"
      },
      "source": [
        "result.show(5, truncate=30)"
      ],
      "execution_count": null,
      "outputs": [
        {
          "output_type": "stream",
          "name": "stdout",
          "text": [
            "+--------+------------------------------+------------------------------+------------------------------+------------------------------+------------------------------+\n",
            "|category|                          text|                      document|                         token|                     embedding|                           ner|\n",
            "+--------+------------------------------+------------------------------+------------------------------+------------------------------+------------------------------+\n",
            "|Business|Unions representing workers...|[[document, 0, 126, Unions ...|[[token, 0, 5, Unions, [sen...|[[word_embeddings, 0, 5, Un...|[[named_entity, 0, 5, O, [w...|\n",
            "|Sci/Tech| TORONTO, Canada    A secon...|[[document, 0, 222,  TORONT...|[[token, 1, 7, TORONTO, [se...|[[word_embeddings, 1, 7, TO...|[[named_entity, 1, 7, B-LOC...|\n",
            "|Sci/Tech| A company founded by a che...|[[document, 0, 209,  A comp...|[[token, 1, 1, A, [sentence...|[[word_embeddings, 1, 1, A,...|[[named_entity, 1, 1, O, [w...|\n",
            "|Sci/Tech| It's barely dawn when Mike...|[[document, 0, 267,  It's b...|[[token, 1, 4, It's, [sente...|[[word_embeddings, 1, 4, It...|[[named_entity, 1, 4, B-PER...|\n",
            "|Sci/Tech| Southern California's smog...|[[document, 0, 174,  Southe...|[[token, 1, 8, Southern, [s...|[[word_embeddings, 1, 8, So...|[[named_entity, 1, 8, B-ORG...|\n",
            "+--------+------------------------------+------------------------------+------------------------------+------------------------------+------------------------------+\n",
            "only showing top 5 rows\n",
            "\n"
          ]
        }
      ]
    },
    {
      "cell_type": "code",
      "metadata": {
        "id": "aQmKf4COpYXG"
      },
      "source": [
        "result_df= result.select(F.explode(F.arrays_zip(\"token.result\", \"ner.result\")).alias(\"col\"))\\\n",
        "                 .select(F.expr(\"col['0']\").alias(\"token\"),\n",
        "                         F.expr(\"col['1']\").alias(\"ner\")).toPandas()\n",
        "result_df.head(50)"
      ],
      "execution_count": null,
      "outputs": []
    },
    {
      "cell_type": "markdown",
      "metadata": {
        "id": "tNOQEgqLuXdy"
      },
      "source": [
        "### Onto Ner"
      ]
    },
    {
      "cell_type": "code",
      "metadata": {
        "colab": {
          "base_uri": "https://localhost:8080/"
        },
        "id": "tXhL8MwGpYLm",
        "outputId": "c6300a6f-9316-4857-88ba-3e9c22a7eac7"
      },
      "source": [
        "onto_ner= NerDLModel.pretrained(\"onto_100\", \"en\")\\\n",
        "    .setInputCols([\"document\", \"token\", \"embedding\"])\\\n",
        "    .setOutputCol(\"onto_ner\")\n",
        "\n",
        "pipeline= Pipeline(stages=[ \n",
        "                           documentAssembler,\n",
        "                           tokenizer,\n",
        "                           word_embedding,\n",
        "                           onto_ner\n",
        "])\n",
        "\n",
        "model= pipeline.fit(empty_df)\n",
        "result= model.transform(news_df.limit(100))"
      ],
      "execution_count": null,
      "outputs": [
        {
          "output_type": "stream",
          "name": "stdout",
          "text": [
            "onto_100 download started this may take some time.\n",
            "Approximate size to download 13.5 MB\n",
            "[OK!]\n"
          ]
        }
      ]
    },
    {
      "cell_type": "code",
      "metadata": {
        "id": "9GShKwi1n5I-"
      },
      "source": [
        "result_df= result.select(F.explode(F.arrays_zip(\"token.result\" ,\"onto_ner.result\")).alias(\"col\"))\\\n",
        "    .select(F.expr(\"col['0']\").alias(\"token\"),\n",
        "            F.expr(\"col['1']\").alias(\"onto_ner\")).toPandas()\n",
        "result_df.head(50)"
      ],
      "execution_count": null,
      "outputs": []
    },
    {
      "cell_type": "code",
      "metadata": {
        "id": "mYQydaB_n487"
      },
      "source": [
        "lp_model= LightPipeline(model)\n",
        "lp_result= lp_model.annotate(\"Ahmet Emin is a good person. He lives in Bursa and I saw him at the Walmart yesterday, when we come across today it was too late to say him that buy me a orange juice.\")"
      ],
      "execution_count": null,
      "outputs": []
    },
    {
      "cell_type": "code",
      "metadata": {
        "colab": {
          "base_uri": "https://localhost:8080/"
        },
        "id": "_rbwB5TZotdL",
        "outputId": "f8421f54-b840-4760-b452-42dd60f9dd06"
      },
      "source": [
        "list(zip(lp_result[\"token\"], lp_result[\"onto_ner\"]))"
      ],
      "execution_count": null,
      "outputs": [
        {
          "output_type": "execute_result",
          "data": {
            "text/plain": [
              "[('Ahmet', 'B-PERSON'),\n",
              " ('Emin', 'I-PERSON'),\n",
              " ('is', 'O'),\n",
              " ('a', 'O'),\n",
              " ('good', 'O'),\n",
              " ('person', 'O'),\n",
              " ('.', 'O'),\n",
              " ('He', 'O'),\n",
              " ('lives', 'O'),\n",
              " ('in', 'O'),\n",
              " ('Bursa', 'B-GPE'),\n",
              " ('and', 'O'),\n",
              " ('I', 'O'),\n",
              " ('saw', 'O'),\n",
              " ('him', 'O'),\n",
              " ('at', 'O'),\n",
              " ('the', 'O'),\n",
              " ('Walmart', 'B-ORG'),\n",
              " ('yesterday', 'B-DATE'),\n",
              " (',', 'O'),\n",
              " ('when', 'O'),\n",
              " ('we', 'O'),\n",
              " ('come', 'O'),\n",
              " ('across', 'O'),\n",
              " ('today', 'B-DATE'),\n",
              " ('it', 'O'),\n",
              " ('was', 'O'),\n",
              " ('too', 'O'),\n",
              " ('late', 'O'),\n",
              " ('to', 'O'),\n",
              " ('say', 'O'),\n",
              " ('him', 'O'),\n",
              " ('that', 'O'),\n",
              " ('buy', 'O'),\n",
              " ('me', 'O'),\n",
              " ('a', 'O'),\n",
              " ('orange', 'O'),\n",
              " ('juice', 'O'),\n",
              " ('.', 'O')]"
            ]
          },
          "metadata": {},
          "execution_count": 32
        }
      ]
    },
    {
      "cell_type": "code",
      "metadata": {
        "colab": {
          "base_uri": "https://localhost:8080/"
        },
        "id": "K6UH2PsNotSf",
        "outputId": "9b0a10ff-6584-4d4c-88e4-66f0a10926be"
      },
      "source": [
        "# ner with Bert\n",
        "bert_embedding= BertEmbeddings.pretrained(\"bert_base_cased\")\\\n",
        "    .setInputCols([\"document\", \"token\"])\\\n",
        "    .setOutputCol(\"bert\")\n",
        "\n",
        "ner_bert= NerDLModel.pretrained(\"ner_dl_bert\", \"en\")\\\n",
        "    .setInputCols([\"document\", \"token\", \"bert\"])\\\n",
        "    .setOutputCol(\"ner_bert\")\n",
        "\n",
        "pipeline= Pipeline(stages=[ \n",
        "                           documentAssembler,\n",
        "                           tokenizer,\n",
        "                           bert_embedding,\n",
        "                           ner_bert\n",
        "])\n",
        "\n",
        "model= pipeline.fit(empty_df)\n",
        "light_model= LightPipeline(model)\n",
        "light_result= light_model.annotate(\"Ahmet Emin is a good person. He lives in Bursa and I saw him at the Walmart yesterday, when we come across today it was too late to say him that buy me a orange juice.\")"
      ],
      "execution_count": null,
      "outputs": [
        {
          "output_type": "stream",
          "name": "stdout",
          "text": [
            "bert_base_cased download started this may take some time.\n",
            "Approximate size to download 389.1 MB\n",
            "[OK!]\n",
            "ner_dl_bert download started this may take some time.\n",
            "Approximate size to download 15.4 MB\n",
            "[OK!]\n"
          ]
        }
      ]
    },
    {
      "cell_type": "code",
      "metadata": {
        "id": "G6ZiZSZ4otHL"
      },
      "source": [
        "list(zip(light_result[\"token\"], light_result[\"ner_bert\"]))"
      ],
      "execution_count": null,
      "outputs": []
    },
    {
      "cell_type": "markdown",
      "metadata": {
        "id": "hbPaDPgllJnG"
      },
      "source": [
        "## Getting the NER Chunks with NER Converter"
      ]
    },
    {
      "cell_type": "code",
      "metadata": {
        "colab": {
          "base_uri": "https://localhost:8080/"
        },
        "id": "qPGRkb9uqUGZ",
        "outputId": "d1b93a1e-b58e-4a94-9027-743b52f75394"
      },
      "source": [
        "documentAssembler = DocumentAssembler()\\\n",
        "    .setInputCol(\"text\")\\\n",
        "    .setOutputCol(\"document\")\n",
        "\n",
        "tokenizer= Tokenizer()\\\n",
        "    .setInputCols([\"document\"])\\\n",
        "    .setOutputCol(\"token\")\n",
        "\n",
        "embedding= WordEmbeddingsModel.pretrained(\"glove_100d\")\\\n",
        "    .setInputCols([\"document\", \"token\"])\\\n",
        "    .setOutputCol(\"embedding\")\n",
        "\n",
        "ner= NerDLModel.pretrained(\"onto_100\", \"en\")\\\n",
        "    .setInputCols([\"document\", \"token\", \"embedding\"])\\\n",
        "    .setOutputCol(\"ner\")\n",
        "\n",
        "ner_chunk= NerConverter()\\\n",
        "    .setInputCols([\"document\", \"token\", \"ner\"])\\\n",
        "    .setOutputCol(\"ner_chunk\")\n",
        "\n",
        "pipeline= Pipeline(stages=[ \n",
        "                           documentAssembler,\n",
        "                           tokenizer,\n",
        "                           embedding,\n",
        "                           ner,\n",
        "                           ner_chunk\n",
        "])\n",
        "\n",
        "empty_df= spark.createDataFrame([[\" \"]]).toDF(\"text\")\n",
        "model= pipeline.fit(empty_df)\n",
        "result= model.transform(news_df.limit(100))"
      ],
      "execution_count": null,
      "outputs": [
        {
          "output_type": "stream",
          "name": "stdout",
          "text": [
            "glove_100d download started this may take some time.\n",
            "Approximate size to download 145.3 MB\n",
            "[OK!]\n",
            "onto_100 download started this may take some time.\n",
            "Approximate size to download 13.5 MB\n",
            "[OK!]\n"
          ]
        }
      ]
    },
    {
      "cell_type": "code",
      "metadata": {
        "colab": {
          "base_uri": "https://localhost:8080/"
        },
        "id": "96wevfxJqT64",
        "outputId": "cd353f58-d227-4d9a-8cd6-2967e5c118f5"
      },
      "source": [
        "result.show(5, truncate=20)"
      ],
      "execution_count": null,
      "outputs": [
        {
          "output_type": "stream",
          "name": "stdout",
          "text": [
            "+--------+--------------------+--------------------+--------------------+--------------------+--------------------+--------------------+\n",
            "|category|                text|            document|               token|           embedding|                 ner|           ner_chunk|\n",
            "+--------+--------------------+--------------------+--------------------+--------------------+--------------------+--------------------+\n",
            "|Business|Unions representi...|[[document, 0, 12...|[[token, 0, 5, Un...|[[word_embeddings...|[[named_entity, 0...|[[chunk, 31, 45, ...|\n",
            "|Sci/Tech| TORONTO, Canada ...|[[document, 0, 22...|[[token, 1, 7, TO...|[[word_embeddings...|[[named_entity, 1...|[[chunk, 1, 7, TO...|\n",
            "|Sci/Tech| A company founde...|[[document, 0, 20...|[[token, 1, 1, A,...|[[word_embeddings...|[[named_entity, 1...|[[chunk, 48, 75, ...|\n",
            "|Sci/Tech| It's barely dawn...|[[document, 0, 26...|[[token, 1, 4, It...|[[word_embeddings...|[[named_entity, 1...|[[chunk, 23, 38, ...|\n",
            "|Sci/Tech| Southern Califor...|[[document, 0, 17...|[[token, 1, 8, So...|[[word_embeddings...|[[named_entity, 1...|[[chunk, 1, 21, S...|\n",
            "+--------+--------------------+--------------------+--------------------+--------------------+--------------------+--------------------+\n",
            "only showing top 5 rows\n",
            "\n"
          ]
        }
      ]
    },
    {
      "cell_type": "code",
      "metadata": {
        "colab": {
          "base_uri": "https://localhost:8080/"
        },
        "id": "JfpDvuolqTvG",
        "outputId": "ee84bdaa-da61-452c-ff56-08d6024fdb2c"
      },
      "source": [
        "result.select(F.explode(F.arrays_zip(\"ner_chunk.result\", \"ner_chunk.metadata\")).alias(\"col\"))\\\n",
        "    .select(F.expr(\"col['0']\").alias(\"ner_chunk\"),\n",
        "            F.expr(\"col['1']['entity']\").alias(\"ner_label\")).show(20, truncate=False)"
      ],
      "execution_count": null,
      "outputs": [
        {
          "output_type": "stream",
          "name": "stdout",
          "text": [
            "+-----------------------------------+-----------+\n",
            "|ner_chunk                          |ner_label  |\n",
            "+-----------------------------------+-----------+\n",
            "|Turner   Newall                    |ORG        |\n",
            "|Federal Mogul                      |ORG        |\n",
            "|TORONTO                            |GPE        |\n",
            "|Canada                             |GPE        |\n",
            "|second                             |ORDINAL    |\n",
            "|#36;10 million                     |CARDINAL   |\n",
            "|Ansari X Prize                     |WORK_OF_ART|\n",
            "|first                              |ORDINAL    |\n",
            "|the University of Louisville       |ORG        |\n",
            "|Mike Fitzpatrick                   |PERSON     |\n",
            "|the day                            |DATE       |\n",
            "|Southern California's              |LOC        |\n",
            "|Friday                             |DATE       |\n",
            "|first                              |ORDINAL    |\n",
            "|British                            |NORP       |\n",
            "|Department for Education and Skills|ORG        |\n",
            "|\"\"Music Manifesto\"\"                |WORK_OF_ART|\n",
            "|Netsky                             |PERSON     |\n",
            "|Sasser                             |PERSON     |\n",
            "|70 percent                         |PERCENT    |\n",
            "+-----------------------------------+-----------+\n",
            "only showing top 20 rows\n",
            "\n"
          ]
        }
      ]
    },
    {
      "cell_type": "code",
      "metadata": {
        "colab": {
          "base_uri": "https://localhost:8080/"
        },
        "id": "-fOzcwQ7xsfW",
        "outputId": "55cb0d4f-b15e-432e-a93e-db21cf4be794"
      },
      "source": [
        "!cd ~/cache_pretrained && ls -1"
      ],
      "execution_count": null,
      "outputs": [
        {
          "output_type": "stream",
          "name": "stdout",
          "text": [
            "glove_100d_en_2.4.0_2.4_1579690104032\n",
            "onto_100_en_2.4.0_2.4_1579729071672\n"
          ]
        }
      ]
    },
    {
      "cell_type": "code",
      "metadata": {
        "colab": {
          "base_uri": "https://localhost:8080/"
        },
        "id": "mLbOOvKXxsSC",
        "outputId": "f553470e-9a01-49ff-d3c2-89c043a52c2b"
      },
      "source": [
        "!cd ~/cache_pretrained && pwd"
      ],
      "execution_count": null,
      "outputs": [
        {
          "output_type": "stream",
          "name": "stdout",
          "text": [
            "/root/cache_pretrained\n"
          ]
        }
      ]
    },
    {
      "cell_type": "markdown",
      "metadata": {
        "id": "ElImADokqzte"
      },
      "source": [
        "## Sparknlp Visualizer"
      ]
    },
    {
      "cell_type": "code",
      "metadata": {
        "id": "D-RTE3dKxsF0"
      },
      "source": [
        "%%capture\n",
        "! pip install spark-nlp-display"
      ],
      "execution_count": null,
      "outputs": []
    },
    {
      "cell_type": "code",
      "metadata": {
        "id": "pOSlSeOqppVa"
      },
      "source": [
        "from sparknlp.pretrained import PretrainedPipeline"
      ],
      "execution_count": null,
      "outputs": []
    },
    {
      "cell_type": "code",
      "metadata": {
        "colab": {
          "base_uri": "https://localhost:8080/"
        },
        "id": "o5-m_ELappGp",
        "outputId": "3c034873-3b46-43eb-d730-da9ddce4cb5a"
      },
      "source": [
        "pipeline= PretrainedPipeline(\"recognize_entities_dl\", lang=\"en\")"
      ],
      "execution_count": null,
      "outputs": [
        {
          "output_type": "stream",
          "name": "stdout",
          "text": [
            "recognize_entities_dl download started this may take some time.\n",
            "Approx size to download 160.1 MB\n",
            "[OK!]\n"
          ]
        }
      ]
    },
    {
      "cell_type": "code",
      "metadata": {
        "colab": {
          "base_uri": "https://localhost:8080/"
        },
        "id": "cYtmH9kOq6Kz",
        "outputId": "94fda083-51e3-485f-b56f-e681bd36caa4"
      },
      "source": [
        "model= pipeline.fullAnnotate(\"Ahmet Emin is a good person. He lives in Bursa and I saw him at the Walmart yesterday, when we come across today it was too late to say him that buy me a orange juice.\")[0]\n",
        "model.keys()"
      ],
      "execution_count": null,
      "outputs": [
        {
          "output_type": "execute_result",
          "data": {
            "text/plain": [
              "dict_keys(['entities', 'document', 'token', 'ner', 'embeddings', 'sentence'])"
            ]
          },
          "metadata": {},
          "execution_count": 23
        }
      ]
    },
    {
      "cell_type": "code",
      "metadata": {
        "id": "FhjW6_Z7po6Q"
      },
      "source": [
        "from sparknlp_display import NerVisualizer"
      ],
      "execution_count": null,
      "outputs": []
    },
    {
      "cell_type": "code",
      "metadata": {
        "colab": {
          "base_uri": "https://localhost:8080/",
          "height": 298
        },
        "id": "hyTh9FTSquu3",
        "outputId": "8f3a9cb1-54ee-4ffb-b603-63f2474bd8f8"
      },
      "source": [
        "visualiser = NerVisualizer()\n",
        "visualiser.display(model, label_col='entities', document_col='document')\n",
        "\n",
        "# Change color of an entity label\n",
        "visualiser.set_label_colors({'LOC':'#008080', 'PER':'#800080'})\n",
        "visualiser.display(model, label_col='entities')\n",
        "\n",
        "# Set label filter\n",
        "visualiser.display(model, label_col='entities', document_col='document',\n",
        "                   labels=['PER'])\n",
        "\n",
        "print ('\\nColor code for label: \\n\"LOC\": {}\\n\"PER\": {}' .format(visualiser.get_label_color('LOC'),visualiser.get_label_color('PER')) )"
      ],
      "execution_count": null,
      "outputs": [
        {
          "output_type": "display_data",
          "data": {
            "text/html": [
              "\n",
              "<style>\n",
              "    @import url('https://fonts.googleapis.com/css2?family=Montserrat:wght@300;400;500;600;700&display=swap');\n",
              "    @import url('https://fonts.googleapis.com/css2?family=Vistol Regular:wght@300;400;500;600;700&display=swap');\n",
              "    \n",
              "    .spark-nlp-display-scroll-entities {\n",
              "        border: 1px solid #E7EDF0;\n",
              "        border-radius: 3px;\n",
              "        text-align: justify;\n",
              "        \n",
              "    }\n",
              "    .spark-nlp-display-scroll-entities span {  \n",
              "        font-size: 14px;\n",
              "        line-height: 24px;\n",
              "        color: #536B76;\n",
              "        font-family: 'Montserrat', sans-serif !important;\n",
              "    }\n",
              "    \n",
              "    .spark-nlp-display-entity-wrapper{\n",
              "    \n",
              "        display: inline-grid;\n",
              "        text-align: center;\n",
              "        border-radius: 4px;\n",
              "        margin: 0 2px 5px 2px;\n",
              "        padding: 1px\n",
              "    }\n",
              "    .spark-nlp-display-entity-name{\n",
              "        font-size: 14px;\n",
              "        line-height: 24px;\n",
              "        font-family: 'Montserrat', sans-serif !important;\n",
              "        \n",
              "        background: #f1f2f3;\n",
              "        border-width: medium;\n",
              "        text-align: center;\n",
              "        \n",
              "        font-weight: 400;\n",
              "        \n",
              "        border-radius: 5px;\n",
              "        padding: 2px 5px;\n",
              "        display: block;\n",
              "        margin: 3px 2px;\n",
              "    \n",
              "    }\n",
              "    .spark-nlp-display-entity-type{\n",
              "        font-size: 14px;\n",
              "        line-height: 24px;\n",
              "        color: #ffffff;\n",
              "        font-family: 'Montserrat', sans-serif !important;\n",
              "        \n",
              "        text-transform: uppercase;\n",
              "        \n",
              "        font-weight: 500;\n",
              "\n",
              "        display: block;\n",
              "        padding: 3px 5px;\n",
              "    }\n",
              "    \n",
              "    .spark-nlp-display-entity-resolution{\n",
              "        font-size: 14px;\n",
              "        line-height: 24px;\n",
              "        color: #ffffff;\n",
              "        font-family: 'Vistol Regular', sans-serif !important;\n",
              "        \n",
              "        text-transform: uppercase;\n",
              "        \n",
              "        font-weight: 500;\n",
              "\n",
              "        display: block;\n",
              "        padding: 3px 5px;\n",
              "    }\n",
              "    \n",
              "    .spark-nlp-display-others{\n",
              "        font-size: 14px;\n",
              "        line-height: 24px;\n",
              "        font-family: 'Montserrat', sans-serif !important;\n",
              "        \n",
              "        font-weight: 400;\n",
              "    }\n",
              "\n",
              "</style>\n",
              " <span class=\"spark-nlp-display-entity-wrapper\" style=\"background-color: #4552C1\"><span class=\"spark-nlp-display-entity-name\">Ahmet Emin </span><span class=\"spark-nlp-display-entity-type\">PER</span></span><span class=\"spark-nlp-display-others\" style=\"background-color: white\"> is a good person. He lives in </span><span class=\"spark-nlp-display-entity-wrapper\" style=\"background-color: #0F3458\"><span class=\"spark-nlp-display-entity-name\">Bursa </span><span class=\"spark-nlp-display-entity-type\">LOC</span></span><span class=\"spark-nlp-display-others\" style=\"background-color: white\"> and I saw him at the </span><span class=\"spark-nlp-display-entity-wrapper\" style=\"background-color: #0CBEB2\"><span class=\"spark-nlp-display-entity-name\">Walmart </span><span class=\"spark-nlp-display-entity-type\">ORG</span></span><span class=\"spark-nlp-display-others\" style=\"background-color: white\"> yesterday, when we come across today it was too late to say him that buy me a orange juice.</span></div>"
            ],
            "text/plain": [
              "<IPython.core.display.HTML object>"
            ]
          },
          "metadata": {}
        },
        {
          "output_type": "display_data",
          "data": {
            "text/html": [
              "\n",
              "<style>\n",
              "    @import url('https://fonts.googleapis.com/css2?family=Montserrat:wght@300;400;500;600;700&display=swap');\n",
              "    @import url('https://fonts.googleapis.com/css2?family=Vistol Regular:wght@300;400;500;600;700&display=swap');\n",
              "    \n",
              "    .spark-nlp-display-scroll-entities {\n",
              "        border: 1px solid #E7EDF0;\n",
              "        border-radius: 3px;\n",
              "        text-align: justify;\n",
              "        \n",
              "    }\n",
              "    .spark-nlp-display-scroll-entities span {  \n",
              "        font-size: 14px;\n",
              "        line-height: 24px;\n",
              "        color: #536B76;\n",
              "        font-family: 'Montserrat', sans-serif !important;\n",
              "    }\n",
              "    \n",
              "    .spark-nlp-display-entity-wrapper{\n",
              "    \n",
              "        display: inline-grid;\n",
              "        text-align: center;\n",
              "        border-radius: 4px;\n",
              "        margin: 0 2px 5px 2px;\n",
              "        padding: 1px\n",
              "    }\n",
              "    .spark-nlp-display-entity-name{\n",
              "        font-size: 14px;\n",
              "        line-height: 24px;\n",
              "        font-family: 'Montserrat', sans-serif !important;\n",
              "        \n",
              "        background: #f1f2f3;\n",
              "        border-width: medium;\n",
              "        text-align: center;\n",
              "        \n",
              "        font-weight: 400;\n",
              "        \n",
              "        border-radius: 5px;\n",
              "        padding: 2px 5px;\n",
              "        display: block;\n",
              "        margin: 3px 2px;\n",
              "    \n",
              "    }\n",
              "    .spark-nlp-display-entity-type{\n",
              "        font-size: 14px;\n",
              "        line-height: 24px;\n",
              "        color: #ffffff;\n",
              "        font-family: 'Montserrat', sans-serif !important;\n",
              "        \n",
              "        text-transform: uppercase;\n",
              "        \n",
              "        font-weight: 500;\n",
              "\n",
              "        display: block;\n",
              "        padding: 3px 5px;\n",
              "    }\n",
              "    \n",
              "    .spark-nlp-display-entity-resolution{\n",
              "        font-size: 14px;\n",
              "        line-height: 24px;\n",
              "        color: #ffffff;\n",
              "        font-family: 'Vistol Regular', sans-serif !important;\n",
              "        \n",
              "        text-transform: uppercase;\n",
              "        \n",
              "        font-weight: 500;\n",
              "\n",
              "        display: block;\n",
              "        padding: 3px 5px;\n",
              "    }\n",
              "    \n",
              "    .spark-nlp-display-others{\n",
              "        font-size: 14px;\n",
              "        line-height: 24px;\n",
              "        font-family: 'Montserrat', sans-serif !important;\n",
              "        \n",
              "        font-weight: 400;\n",
              "    }\n",
              "\n",
              "</style>\n",
              " <span class=\"spark-nlp-display-entity-wrapper\" style=\"background-color: #800080\"><span class=\"spark-nlp-display-entity-name\">Ahmet Emin </span><span class=\"spark-nlp-display-entity-type\">PER</span></span><span class=\"spark-nlp-display-others\" style=\"background-color: white\"> is a good person. He lives in </span><span class=\"spark-nlp-display-entity-wrapper\" style=\"background-color: #008080\"><span class=\"spark-nlp-display-entity-name\">Bursa </span><span class=\"spark-nlp-display-entity-type\">LOC</span></span><span class=\"spark-nlp-display-others\" style=\"background-color: white\"> and I saw him at the </span><span class=\"spark-nlp-display-entity-wrapper\" style=\"background-color: #41BE2E\"><span class=\"spark-nlp-display-entity-name\">Walmart </span><span class=\"spark-nlp-display-entity-type\">ORG</span></span><span class=\"spark-nlp-display-others\" style=\"background-color: white\"> yesterday, when we come across today it was too late to say him that buy me a orange juice.</span></div>"
            ],
            "text/plain": [
              "<IPython.core.display.HTML object>"
            ]
          },
          "metadata": {}
        },
        {
          "output_type": "display_data",
          "data": {
            "text/html": [
              "\n",
              "<style>\n",
              "    @import url('https://fonts.googleapis.com/css2?family=Montserrat:wght@300;400;500;600;700&display=swap');\n",
              "    @import url('https://fonts.googleapis.com/css2?family=Vistol Regular:wght@300;400;500;600;700&display=swap');\n",
              "    \n",
              "    .spark-nlp-display-scroll-entities {\n",
              "        border: 1px solid #E7EDF0;\n",
              "        border-radius: 3px;\n",
              "        text-align: justify;\n",
              "        \n",
              "    }\n",
              "    .spark-nlp-display-scroll-entities span {  \n",
              "        font-size: 14px;\n",
              "        line-height: 24px;\n",
              "        color: #536B76;\n",
              "        font-family: 'Montserrat', sans-serif !important;\n",
              "    }\n",
              "    \n",
              "    .spark-nlp-display-entity-wrapper{\n",
              "    \n",
              "        display: inline-grid;\n",
              "        text-align: center;\n",
              "        border-radius: 4px;\n",
              "        margin: 0 2px 5px 2px;\n",
              "        padding: 1px\n",
              "    }\n",
              "    .spark-nlp-display-entity-name{\n",
              "        font-size: 14px;\n",
              "        line-height: 24px;\n",
              "        font-family: 'Montserrat', sans-serif !important;\n",
              "        \n",
              "        background: #f1f2f3;\n",
              "        border-width: medium;\n",
              "        text-align: center;\n",
              "        \n",
              "        font-weight: 400;\n",
              "        \n",
              "        border-radius: 5px;\n",
              "        padding: 2px 5px;\n",
              "        display: block;\n",
              "        margin: 3px 2px;\n",
              "    \n",
              "    }\n",
              "    .spark-nlp-display-entity-type{\n",
              "        font-size: 14px;\n",
              "        line-height: 24px;\n",
              "        color: #ffffff;\n",
              "        font-family: 'Montserrat', sans-serif !important;\n",
              "        \n",
              "        text-transform: uppercase;\n",
              "        \n",
              "        font-weight: 500;\n",
              "\n",
              "        display: block;\n",
              "        padding: 3px 5px;\n",
              "    }\n",
              "    \n",
              "    .spark-nlp-display-entity-resolution{\n",
              "        font-size: 14px;\n",
              "        line-height: 24px;\n",
              "        color: #ffffff;\n",
              "        font-family: 'Vistol Regular', sans-serif !important;\n",
              "        \n",
              "        text-transform: uppercase;\n",
              "        \n",
              "        font-weight: 500;\n",
              "\n",
              "        display: block;\n",
              "        padding: 3px 5px;\n",
              "    }\n",
              "    \n",
              "    .spark-nlp-display-others{\n",
              "        font-size: 14px;\n",
              "        line-height: 24px;\n",
              "        font-family: 'Montserrat', sans-serif !important;\n",
              "        \n",
              "        font-weight: 400;\n",
              "    }\n",
              "\n",
              "</style>\n",
              " <span class=\"spark-nlp-display-entity-wrapper\" style=\"background-color: #800080\"><span class=\"spark-nlp-display-entity-name\">Ahmet Emin </span><span class=\"spark-nlp-display-entity-type\">PER</span></span><span class=\"spark-nlp-display-others\" style=\"background-color: white\"> is a good person. He lives in </span><span class=\"spark-nlp-display-others\" style=\"background-color: white\">Bursa</span><span class=\"spark-nlp-display-others\" style=\"background-color: white\"> and I saw him at the </span><span class=\"spark-nlp-display-others\" style=\"background-color: white\">Walmart</span><span class=\"spark-nlp-display-others\" style=\"background-color: white\"> yesterday, when we come across today it was too late to say him that buy me a orange juice.</span></div>"
            ],
            "text/plain": [
              "<IPython.core.display.HTML object>"
            ]
          },
          "metadata": {}
        },
        {
          "output_type": "stream",
          "name": "stdout",
          "text": [
            "\n",
            "Color code for label: \n",
            "\"LOC\": #008080\n",
            "\"PER\": #800080\n"
          ]
        }
      ]
    },
    {
      "cell_type": "code",
      "metadata": {
        "colab": {
          "base_uri": "https://localhost:8080/",
          "height": 88
        },
        "id": "4nr6suR9rZaI",
        "outputId": "ef280e90-a7d0-4f75-aaad-9b789e31bdb4"
      },
      "source": [
        "visualiser = NerVisualizer()\n",
        "visualiser.display(model, label_col='entities', document_col='document')"
      ],
      "execution_count": null,
      "outputs": [
        {
          "output_type": "display_data",
          "data": {
            "text/html": [
              "\n",
              "<style>\n",
              "    @import url('https://fonts.googleapis.com/css2?family=Montserrat:wght@300;400;500;600;700&display=swap');\n",
              "    @import url('https://fonts.googleapis.com/css2?family=Vistol Regular:wght@300;400;500;600;700&display=swap');\n",
              "    \n",
              "    .spark-nlp-display-scroll-entities {\n",
              "        border: 1px solid #E7EDF0;\n",
              "        border-radius: 3px;\n",
              "        text-align: justify;\n",
              "        \n",
              "    }\n",
              "    .spark-nlp-display-scroll-entities span {  \n",
              "        font-size: 14px;\n",
              "        line-height: 24px;\n",
              "        color: #536B76;\n",
              "        font-family: 'Montserrat', sans-serif !important;\n",
              "    }\n",
              "    \n",
              "    .spark-nlp-display-entity-wrapper{\n",
              "    \n",
              "        display: inline-grid;\n",
              "        text-align: center;\n",
              "        border-radius: 4px;\n",
              "        margin: 0 2px 5px 2px;\n",
              "        padding: 1px\n",
              "    }\n",
              "    .spark-nlp-display-entity-name{\n",
              "        font-size: 14px;\n",
              "        line-height: 24px;\n",
              "        font-family: 'Montserrat', sans-serif !important;\n",
              "        \n",
              "        background: #f1f2f3;\n",
              "        border-width: medium;\n",
              "        text-align: center;\n",
              "        \n",
              "        font-weight: 400;\n",
              "        \n",
              "        border-radius: 5px;\n",
              "        padding: 2px 5px;\n",
              "        display: block;\n",
              "        margin: 3px 2px;\n",
              "    \n",
              "    }\n",
              "    .spark-nlp-display-entity-type{\n",
              "        font-size: 14px;\n",
              "        line-height: 24px;\n",
              "        color: #ffffff;\n",
              "        font-family: 'Montserrat', sans-serif !important;\n",
              "        \n",
              "        text-transform: uppercase;\n",
              "        \n",
              "        font-weight: 500;\n",
              "\n",
              "        display: block;\n",
              "        padding: 3px 5px;\n",
              "    }\n",
              "    \n",
              "    .spark-nlp-display-entity-resolution{\n",
              "        font-size: 14px;\n",
              "        line-height: 24px;\n",
              "        color: #ffffff;\n",
              "        font-family: 'Vistol Regular', sans-serif !important;\n",
              "        \n",
              "        text-transform: uppercase;\n",
              "        \n",
              "        font-weight: 500;\n",
              "\n",
              "        display: block;\n",
              "        padding: 3px 5px;\n",
              "    }\n",
              "    \n",
              "    .spark-nlp-display-others{\n",
              "        font-size: 14px;\n",
              "        line-height: 24px;\n",
              "        font-family: 'Montserrat', sans-serif !important;\n",
              "        \n",
              "        font-weight: 400;\n",
              "    }\n",
              "\n",
              "</style>\n",
              " <span class=\"spark-nlp-display-entity-wrapper\" style=\"background-color: #C22867\"><span class=\"spark-nlp-display-entity-name\">Ahmet Emin </span><span class=\"spark-nlp-display-entity-type\">PER</span></span><span class=\"spark-nlp-display-others\" style=\"background-color: white\"> is a good person. He lives in </span><span class=\"spark-nlp-display-entity-wrapper\" style=\"background-color: #710B2C\"><span class=\"spark-nlp-display-entity-name\">Bursa </span><span class=\"spark-nlp-display-entity-type\">LOC</span></span><span class=\"spark-nlp-display-others\" style=\"background-color: white\"> and I saw him at the </span><span class=\"spark-nlp-display-entity-wrapper\" style=\"background-color: #155192\"><span class=\"spark-nlp-display-entity-name\">Walmart </span><span class=\"spark-nlp-display-entity-type\">ORG</span></span><span class=\"spark-nlp-display-others\" style=\"background-color: white\"> yesterday, when we come across today it was too late to say him that buy me a orange juice.</span></div>"
            ],
            "text/plain": [
              "<IPython.core.display.HTML object>"
            ]
          },
          "metadata": {}
        }
      ]
    },
    {
      "cell_type": "markdown",
      "metadata": {
        "id": "exgXO0GTy9F8"
      },
      "source": [
        "## Using Pretrained ClassifierDL and SentimentDL models¶\n"
      ]
    },
    {
      "cell_type": "code",
      "metadata": {
        "colab": {
          "base_uri": "https://localhost:8080/"
        },
        "id": "Kiqy26kPrZNc",
        "outputId": "9c2991b9-6e66-4f0e-a99d-b020d16020d9"
      },
      "source": [
        "fake_classifier= ClassifierDLModel.pretrained(\"classifierdl_use_fakenews\", \"en\")\\\n",
        "    .setInputCols([\"document\", \"sentence_embedding\"])\\\n",
        "    .setOutputCol(\"clasifier\")\n",
        "  "
      ],
      "execution_count": null,
      "outputs": [
        {
          "output_type": "stream",
          "name": "stdout",
          "text": [
            "classifierdl_use_fakenews download started this may take some time.\n",
            "Approximate size to download 21.4 MB\n",
            "[OK!]\n"
          ]
        }
      ]
    },
    {
      "cell_type": "code",
      "metadata": {
        "colab": {
          "base_uri": "https://localhost:8080/"
        },
        "id": "b8jggtB0rZAb",
        "outputId": "37bead6d-4f65-4dc7-f620-508820147fd0"
      },
      "source": [
        "fake_classifier.getClasses()"
      ],
      "execution_count": null,
      "outputs": [
        {
          "output_type": "execute_result",
          "data": {
            "text/plain": [
              "['FAKE', 'REAL']"
            ]
          },
          "metadata": {},
          "execution_count": 28
        }
      ]
    },
    {
      "cell_type": "code",
      "metadata": {
        "colab": {
          "base_uri": "https://localhost:8080/"
        },
        "id": "YCCp0ML6y_Fi",
        "outputId": "8c66cf65-0f55-43d1-9fbb-d07c0fa0efa8"
      },
      "source": [
        "documentAssembler = DocumentAssembler()\\\n",
        "    .setInputCol(\"text\")\\\n",
        "    .setOutputCol(\"document\")\n",
        "\n",
        "use= UniversalSentenceEncoder.pretrained(lang=\"en\")\\\n",
        "    .setInputCols([\"document\"])\\\n",
        "    .setOutputCol(\"sentence_embedding\")\n",
        "\n",
        "pipeline= Pipeline(stages=[ \n",
        "                           documentAssembler,\n",
        "                           use,\n",
        "                           fake_classifier\n",
        "])\n",
        "\n",
        "model= pipeline.fit(empty_df)\n"
      ],
      "execution_count": null,
      "outputs": [
        {
          "output_type": "stream",
          "name": "stdout",
          "text": [
            "tfhub_use download started this may take some time.\n",
            "Approximate size to download 923.7 MB\n",
            "[OK!]\n"
          ]
        }
      ]
    },
    {
      "cell_type": "code",
      "metadata": {
        "id": "9NRaES70y-35"
      },
      "source": [
        "text = 'BREAKING: Leaked Picture Of Obama Being Dragged Before A Judge In Handcuffs For Wiretapping Trump'\n",
        "spark_df= spark.createDataFrame([[text]]).toDF(\"text\")\n",
        "result= model.transform(spark_df)"
      ],
      "execution_count": null,
      "outputs": []
    },
    {
      "cell_type": "code",
      "metadata": {
        "colab": {
          "base_uri": "https://localhost:8080/"
        },
        "id": "j9uaLNrK2rsw",
        "outputId": "a8f1fef5-8411-486d-ec15-1800ceac50b5"
      },
      "source": [
        "result.show(5, truncate=30)"
      ],
      "execution_count": null,
      "outputs": [
        {
          "output_type": "stream",
          "name": "stdout",
          "text": [
            "+------------------------------+------------------------------+------------------------------+------------------------------+\n",
            "|                          text|                      document|            sentence_embedding|                     clasifier|\n",
            "+------------------------------+------------------------------+------------------------------+------------------------------+\n",
            "|BREAKING: Leaked Picture Of...|[[document, 0, 96, BREAKING...|[[sentence_embeddings, 0, 9...|[[category, 0, 96, FAKE, [s...|\n",
            "+------------------------------+------------------------------+------------------------------+------------------------------+\n",
            "\n"
          ]
        }
      ]
    },
    {
      "cell_type": "code",
      "metadata": {
        "colab": {
          "base_uri": "https://localhost:8080/"
        },
        "id": "DYfXaOGz2uCE",
        "outputId": "b8148479-f56d-4590-8997-2cee48b72abf"
      },
      "source": [
        "result.select(\"text\", \"clasifier.result\").show(truncate=False)"
      ],
      "execution_count": null,
      "outputs": [
        {
          "output_type": "stream",
          "name": "stdout",
          "text": [
            "+-------------------------------------------------------------------------------------------------+------+\n",
            "|text                                                                                             |result|\n",
            "+-------------------------------------------------------------------------------------------------+------+\n",
            "|BREAKING: Leaked Picture Of Obama Being Dragged Before A Judge In Handcuffs For Wiretapping Trump|[FAKE]|\n",
            "+-------------------------------------------------------------------------------------------------+------+\n",
            "\n"
          ]
        }
      ]
    },
    {
      "cell_type": "code",
      "metadata": {
        "id": "caVuIi9o3DEr"
      },
      "source": [
        "def get_clf_lp(model_name, sentiment_dl=False, pretrained=True):\n",
        "\n",
        "  documentAssembler = DocumentAssembler()\\\n",
        "      .setInputCol(\"text\")\\\n",
        "      .setOutputCol(\"document\")\n",
        "\n",
        "  use = UniversalSentenceEncoder.pretrained(lang=\"en\") \\\n",
        "      .setInputCols([\"document\"])\\\n",
        "      .setOutputCol(\"sentence_embeddings\")\n",
        "\n",
        "\n",
        "  if pretrained:\n",
        "\n",
        "    if sentiment_dl:\n",
        "\n",
        "      document_classifier = SentimentDLModel.pretrained(model_name, 'en') \\\n",
        "                .setInputCols([\"document\", \"sentence_embeddings\"]) \\\n",
        "                .setOutputCol(\"class\")\n",
        "    else:\n",
        "      document_classifier = ClassifierDLModel.pretrained(model_name, 'en') \\\n",
        "                .setInputCols([\"document\", \"sentence_embeddings\"]) \\\n",
        "                .setOutputCol(\"class\")\n",
        "\n",
        "  else:\n",
        "\n",
        "    if sentiment_dl:\n",
        "\n",
        "      document_classifier = SentimentDLModel.load(model_name) \\\n",
        "                .setInputCols([\"document\", \"sentence_embeddings\"]) \\\n",
        "                .setOutputCol(\"class\")\n",
        "    else:\n",
        "      document_classifier = ClassifierDLModel.load(model_name) \\\n",
        "                .setInputCols([\"document\", \"sentence_embeddings\"]) \\\n",
        "                .setOutputCol(\"class\")\n",
        "\n",
        "  print ('classes:',document_classifier.getClasses())\n",
        "\n",
        "  nlpPipeline = Pipeline(stages=[\n",
        "      documentAssembler, \n",
        "      use,\n",
        "      document_classifier\n",
        "  ])\n",
        "\n",
        "  empty_data = spark.createDataFrame([[\"\"]]).toDF(\"text\")\n",
        "\n",
        "  clf_pipelineFit = nlpPipeline.fit(empty_data)\n",
        "\n",
        "  clf_lp_pipeline = LightPipeline(clf_pipelineFit)\n",
        "\n",
        "  return clf_lp_pipeline\n"
      ],
      "execution_count": null,
      "outputs": []
    },
    {
      "cell_type": "code",
      "metadata": {
        "colab": {
          "base_uri": "https://localhost:8080/"
        },
        "id": "3ktG96j-3C1u",
        "outputId": "670550c9-ddf1-4055-e51f-a26e504daeb8"
      },
      "source": [
        "clf_lp_pipeline= get_clf_lp(\"classifierdl_use_fakenews\")"
      ],
      "execution_count": null,
      "outputs": [
        {
          "output_type": "stream",
          "name": "stdout",
          "text": [
            "tfhub_use download started this may take some time.\n",
            "Approximate size to download 923.7 MB\n",
            "[OK!]\n",
            "classifierdl_use_fakenews download started this may take some time.\n",
            "Approximate size to download 21.4 MB\n",
            "[OK!]\n",
            "classes: ['FAKE', 'REAL']\n"
          ]
        }
      ]
    },
    {
      "cell_type": "code",
      "metadata": {
        "colab": {
          "base_uri": "https://localhost:8080/"
        },
        "id": "9KoBoBpX3CnI",
        "outputId": "8fad3dc4-888c-44cf-fbd4-3b350cc5d998"
      },
      "source": [
        "clf_lp_pipeline.annotate(\"Italy has won the 2021 European Cup\")"
      ],
      "execution_count": null,
      "outputs": [
        {
          "output_type": "execute_result",
          "data": {
            "text/plain": [
              "{'class': ['FAKE'],\n",
              " 'document': ['Italy has won the 2021 European Cup'],\n",
              " 'sentence_embeddings': ['Italy has won the 2021 European Cup']}"
            ]
          },
          "metadata": {},
          "execution_count": 70
        }
      ]
    },
    {
      "cell_type": "code",
      "metadata": {
        "colab": {
          "base_uri": "https://localhost:8080/"
        },
        "id": "3kH8wWFvPVMy",
        "outputId": "79ff6334-37a7-4feb-db85-5777a5a8b9a4"
      },
      "source": [
        "!cd ~/cache_pretrained && ls -1"
      ],
      "execution_count": null,
      "outputs": [
        {
          "output_type": "stream",
          "name": "stdout",
          "text": [
            "classifierdl_use_emotion_en_2.7.1_2.4_1610190563302\n",
            "classifierdl_use_fakenews_en_2.7.1_2.4_1610187399147\n",
            "classifierdl_use_trec50_en_2.7.1_2.4_1610118328412\n",
            "glove_100d_en_2.4.0_2.4_1579690104032\n",
            "onto_100_en_2.4.0_2.4_1579729071672\n",
            "recognize_entities_dl_en_3.0.0_3.0_1616473647254\n",
            "tfhub_use_en_2.4.0_2.4_1587136330099\n"
          ]
        }
      ]
    },
    {
      "cell_type": "code",
      "metadata": {
        "id": "32Y3C_kRQ3S6"
      },
      "source": [
        ""
      ],
      "execution_count": null,
      "outputs": []
    }
  ]
}