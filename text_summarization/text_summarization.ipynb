{
  "nbformat": 4,
  "nbformat_minor": 0,
  "metadata": {
    "colab": {
      "name": "text_summarization.ipynb",
      "provenance": [],
      "collapsed_sections": []
    },
    "kernelspec": {
      "name": "python3",
      "display_name": "Python 3"
    },
    "language_info": {
      "name": "python"
    }
  },
  "cells": [
    {
      "cell_type": "markdown",
      "metadata": {
        "id": "NE5HbSymJd69"
      },
      "source": [
        "# Text Summarization with T5 Text-to-Text Transformer\n"
      ]
    },
    {
      "cell_type": "code",
      "metadata": {
        "colab": {
          "base_uri": "https://localhost:8080/"
        },
        "id": "XspoIT9yIJn0",
        "outputId": "dd2b598f-ba21-43fd-ade9-4aaf6ebba587"
      },
      "source": [
        "!wget https://raw.githubusercontent.com/JohnSnowLabs/spark-nlp-workshop/master/colab_setup.sh -O - | bash"
      ],
      "execution_count": 1,
      "outputs": [
        {
          "output_type": "stream",
          "name": "stdout",
          "text": [
            "--2021-10-20 10:58:01--  https://raw.githubusercontent.com/JohnSnowLabs/spark-nlp-workshop/master/colab_setup.sh\n",
            "Resolving raw.githubusercontent.com (raw.githubusercontent.com)... 185.199.108.133, 185.199.109.133, 185.199.110.133, ...\n",
            "Connecting to raw.githubusercontent.com (raw.githubusercontent.com)|185.199.108.133|:443... connected.\n",
            "HTTP request sent, awaiting response... 200 OK\n",
            "Length: 1608 (1.6K) [text/plain]\n",
            "Saving to: ‘STDOUT’\n",
            "\n",
            "-                     0%[                    ]       0  --.-KB/s               setup Colab for PySpark 3.0.2 and Spark NLP 3.1.0\n",
            "-                   100%[===================>]   1.57K  --.-KB/s    in 0.001s  \n",
            "\n",
            "2021-10-20 10:58:02 (1.67 MB/s) - written to stdout [1608/1608]\n",
            "\n",
            "Get:1 http://security.ubuntu.com/ubuntu bionic-security InRelease [88.7 kB]\n",
            "Get:2 https://cloud.r-project.org/bin/linux/ubuntu bionic-cran40/ InRelease [3,626 B]\n",
            "Ign:3 https://developer.download.nvidia.com/compute/cuda/repos/ubuntu1804/x86_64  InRelease\n",
            "Get:4 http://ppa.launchpad.net/c2d4u.team/c2d4u4.0+/ubuntu bionic InRelease [15.9 kB]\n",
            "Ign:5 https://developer.download.nvidia.com/compute/machine-learning/repos/ubuntu1804/x86_64  InRelease\n",
            "Hit:6 http://archive.ubuntu.com/ubuntu bionic InRelease\n",
            "Hit:7 https://developer.download.nvidia.com/compute/cuda/repos/ubuntu1804/x86_64  Release\n",
            "Hit:8 https://developer.download.nvidia.com/compute/machine-learning/repos/ubuntu1804/x86_64  Release\n",
            "Get:9 http://archive.ubuntu.com/ubuntu bionic-updates InRelease [88.7 kB]\n",
            "Get:10 https://cloud.r-project.org/bin/linux/ubuntu bionic-cran40/ Packages [69.5 kB]\n",
            "Hit:11 http://ppa.launchpad.net/cran/libgit2/ubuntu bionic InRelease\n",
            "Get:12 http://archive.ubuntu.com/ubuntu bionic-backports InRelease [74.6 kB]\n",
            "Get:13 http://security.ubuntu.com/ubuntu bionic-security/universe amd64 Packages [1,433 kB]\n",
            "Hit:14 http://ppa.launchpad.net/deadsnakes/ppa/ubuntu bionic InRelease\n",
            "Get:15 http://security.ubuntu.com/ubuntu bionic-security/main amd64 Packages [2,372 kB]\n",
            "Hit:16 http://ppa.launchpad.net/graphics-drivers/ppa/ubuntu bionic InRelease\n",
            "Get:17 http://security.ubuntu.com/ubuntu bionic-security/restricted amd64 Packages [614 kB]\n",
            "Get:20 http://ppa.launchpad.net/c2d4u.team/c2d4u4.0+/ubuntu bionic/main Sources [1,809 kB]\n",
            "Get:21 http://archive.ubuntu.com/ubuntu bionic-updates/restricted amd64 Packages [659 kB]\n",
            "Get:22 http://archive.ubuntu.com/ubuntu bionic-updates/universe amd64 Packages [2,213 kB]\n",
            "Get:23 http://ppa.launchpad.net/c2d4u.team/c2d4u4.0+/ubuntu bionic/main amd64 Packages [926 kB]\n",
            "Get:24 http://archive.ubuntu.com/ubuntu bionic-updates/main amd64 Packages [2,821 kB]\n",
            "Fetched 13.2 MB in 3s (3,915 kB/s)\n",
            "Reading package lists... Done\n",
            "tar: spark-3.0.2-bin-hadoop2.7.tgz: Cannot open: No such file or directory\n",
            "tar: Error is not recoverable: exiting now\n",
            "\u001b[K     |████████████████████████████████| 204.8 MB 51 kB/s \n",
            "\u001b[K     |████████████████████████████████| 44 kB 2.1 MB/s \n",
            "\u001b[K     |████████████████████████████████| 198 kB 53.7 MB/s \n",
            "\u001b[?25h  Building wheel for pyspark (setup.py) ... \u001b[?25l\u001b[?25hdone\n"
          ]
        }
      ]
    },
    {
      "cell_type": "code",
      "metadata": {
        "id": "qfpmb2kxJ555"
      },
      "source": [
        "import sparknlp \n",
        "spark= sparknlp.start()"
      ],
      "execution_count": 2,
      "outputs": []
    },
    {
      "cell_type": "code",
      "metadata": {
        "id": "aOnMAPaaNqCI"
      },
      "source": [
        "from sparknlp.annotator import * \n",
        "from sparknlp.base import *\n",
        "from pyspark.ml import Pipeline"
      ],
      "execution_count": 3,
      "outputs": []
    },
    {
      "cell_type": "code",
      "metadata": {
        "id": "83eEAhMXJ53a"
      },
      "source": [
        "text= ''' Atletico Madrid manager Diego Simeone's decision to head down the tunnel without shaking the hand of Liverpool counterpart Jurgen Klopp was perhaps not the most dignified ending to Tuesday's match, but it took nothing away from what was a frantic and ferocious Champions League encounter.\n",
        "\n",
        "In the BT studio, former Liverpool striker Peter Crouch said Simeone had \"let himself down\" and ex-Manchester City defender Joleon Lescott called it \"cowardly\".\n",
        "\n",
        "But both managers were quick to play down the absence of the traditional post-match show of respect before anything more could be made of it.\n",
        "\n",
        "Klopp described it as \"nothing\", adding to BT Sport: \"His reaction was like mine (when Atletico knocked Liverpool out at Anfield in 2020) not too good. He was obviously angry, not with me but the game, the world.\"\n",
        "\n",
        "Simeone concurred. \"I don't normally greet after the game,\" he said. \"I do not like it and I think it is not healthy because there will always be someone who is not satisfied with the game. They have a different culture, which I do not share.\"\n",
        "\n",
        "Both said they would shake hands at the return leg at Anfield in two weeks' time.\n",
        " '''\n"
      ],
      "execution_count": 22,
      "outputs": []
    },
    {
      "cell_type": "code",
      "metadata": {
        "id": "doNxhHjQJ503"
      },
      "source": [
        "df= spark.createDataFrame([[text]]).toDF(\"text\")"
      ],
      "execution_count": 23,
      "outputs": []
    },
    {
      "cell_type": "markdown",
      "metadata": {
        "id": "XLVNZKu7eT8g"
      },
      "source": [
        "Creating pipeline for summarize the given data. "
      ]
    },
    {
      "cell_type": "code",
      "metadata": {
        "colab": {
          "base_uri": "https://localhost:8080/"
        },
        "id": "AuDJaOMxTC0Q",
        "outputId": "572609cf-9770-4158-9c25-1b372a8361a0"
      },
      "source": [
        "documentAssembler= DocumentAssembler()\\\n",
        "    .setInputCol(\"text\")\\\n",
        "    .setOutputCol(\"document\")\n",
        "\n",
        "t5_summary= T5Transformer.pretrained(name=\"t5_base\", lang=\"en\")\\\n",
        "    .setInputCols([\"document\"])\\\n",
        "    .setTask(\"summarize:\")\\\n",
        "    .setMaxOutputLength(150)\\\n",
        "    .setOutputCol(\"summary\")\n",
        "\n",
        "pipeline= Pipeline(stages=[ \n",
        "                           documentAssembler,\n",
        "                           t5_summary\n",
        "])\n",
        "\n"
      ],
      "execution_count": 26,
      "outputs": [
        {
          "output_type": "stream",
          "name": "stdout",
          "text": [
            "t5_base download started this may take some time.\n",
            "Approximate size to download 446 MB\n",
            "[OK!]\n"
          ]
        }
      ]
    },
    {
      "cell_type": "markdown",
      "metadata": {
        "id": "ZT3IsKLLekOQ"
      },
      "source": [
        "Fitting and transforming the pipeline with data and displaying the result."
      ]
    },
    {
      "cell_type": "code",
      "metadata": {
        "id": "qT-_Go1TXdzG"
      },
      "source": [
        "model= pipeline.fit(df)\n",
        "result= model.transform(df)"
      ],
      "execution_count": 27,
      "outputs": []
    },
    {
      "cell_type": "code",
      "metadata": {
        "colab": {
          "base_uri": "https://localhost:8080/"
        },
        "id": "iABiWHElVMeG",
        "outputId": "55f085db-7a63-4650-a8f0-3a9c1fbc04fa"
      },
      "source": [
        "result.select(\"summary.result\").show(truncate=False)"
      ],
      "execution_count": 28,
      "outputs": [
        {
          "output_type": "stream",
          "name": "stdout",
          "text": [
            "+--------------------------------------------------------------------------------------------------------------------------------------------------------------------------------------------------------------------------------------------------------------------------------------------------+\n",
            "|result                                                                                                                                                                                                                                                                                            |\n",
            "+--------------------------------------------------------------------------------------------------------------------------------------------------------------------------------------------------------------------------------------------------------------------------------------------------+\n",
            "|[atletico madrid manager Diego Simeone opted to head down the tunnel without shaking the hand of Jurgen Klopp . the decision was taken in the aftermath of the frantic and ferocious champions league match . both managers play down the absence of the traditional post-match show of respect .]|\n",
            "+--------------------------------------------------------------------------------------------------------------------------------------------------------------------------------------------------------------------------------------------------------------------------------------------------+\n",
            "\n"
          ]
        }
      ]
    },
    {
      "cell_type": "markdown",
      "metadata": {
        "id": "1GbdLb1zdXny"
      },
      "source": [
        "Another example:"
      ]
    },
    {
      "cell_type": "code",
      "metadata": {
        "id": "DmgoBbn_ZSus"
      },
      "source": [
        "text= ''' It's official. Newcastle United are hunting for a new manager.\n",
        "\n",
        "In what has to be one of the most inevitable partings of the Premier League era, Steve Bruce lasted just 13 days after the Saudi Arabian-backed £305m takeover of the club.\n",
        "\n",
        "With the club 19th in the table and without a win after seven games this season, fans had continued to call for Bruce's head.\n",
        "\n",
        "But who might replace him?\n",
        "\n",
        "Financier Amanda Staveley, who fronted the consortium, says the new owners are making a \"long-term investment\" to ensure Newcastle are \"regularly competing for major trophies\".\n",
        "\n",
        "And former Magpies winger Chris Waddle has warned the next manager appointment will prove crucial in achieving these aims.\n",
        "\n",
        "He told BBC Radio 5 Live: \"I think Steve Bruce has done a good job - that may be unpopular, but I think he has.\n",
        "\n",
        "\"Manchester City made a real statement when this happened to them, and eventually got a high-profile manager in Pep Guardiola, who is the best.\n",
        "\n",
        "\"That's what Newcastle need to do if they're going to take this club to the next level. They've got to have somebody at the top who is running the team who is a top, top manager from Europe. It needs to be someone who makes you go: 'Wow, what a manager he is.'\"\n",
        "\n",
        "Spanish football expert Guillem Balague, speaking on BBC Radio 5 Live's Euro Leagues podcast, said: \"Right now everyone wants to come to the Premier League and the top four manager-wise are sorted, so here is an opportunity for managers to come to the Premier League to a club with a lot of money.\n",
        "\n",
        "\"It's public knowledge they wanted Rafa Benitez to take over, and if that is the profile then well done to them. They are looking for that type of manager.\n",
        "\n",
        "\"You look around for someone to create the foundations for a team who can win the league in five, six, seven years. You have to start now with elite decisions and an elite manager.\"\n",
        "\n",
        "BBC Sport takes a look at some of the names being discussed by fans, pundits and bookmakers.\n",
        "\n",
        "'''"
      ],
      "execution_count": 29,
      "outputs": []
    },
    {
      "cell_type": "code",
      "metadata": {
        "id": "2Z5NKju9VMbN"
      },
      "source": [
        "df_1= spark.createDataFrame([[text]]).toDF(\"text\")\n",
        "model= pipeline.fit(df_1)\n",
        "result= model.transform(df_1)"
      ],
      "execution_count": 30,
      "outputs": []
    },
    {
      "cell_type": "code",
      "metadata": {
        "colab": {
          "base_uri": "https://localhost:8080/"
        },
        "id": "X6ukT2FiZrf-",
        "outputId": "0b7121f4-960c-4b2b-c8d4-10bb3c2b9e17"
      },
      "source": [
        "result.select(\"summary.result\").show(truncate=False)"
      ],
      "execution_count": 31,
      "outputs": [
        {
          "output_type": "stream",
          "name": "stdout",
          "text": [
            "+----------------------------------------------------------------------------------------------------------------------------------------------------------------------+\n",
            "|result                                                                                                                                                                |\n",
            "+----------------------------------------------------------------------------------------------------------------------------------------------------------------------+\n",
            "|[the new owners of the club are making a \"long-term investment\" in the club . former winger Chris Waddle has warned the next manager appointment will prove crucial .]|\n",
            "+----------------------------------------------------------------------------------------------------------------------------------------------------------------------+\n",
            "\n"
          ]
        }
      ]
    },
    {
      "cell_type": "code",
      "metadata": {
        "id": "ErEVPJoOZvnx"
      },
      "source": [
        ""
      ],
      "execution_count": null,
      "outputs": []
    }
  ]
}